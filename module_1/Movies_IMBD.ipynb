{
 "cells": [
  {
   "cell_type": "code",
   "execution_count": 1,
   "metadata": {
    "_cell_guid": "b1076dfc-b9ad-4769-8c92-a6c4dae69d19",
    "_uuid": "8f2839f25d086af736a60e9eeb907d3b93b6e0e5",
    "colab": {},
    "colab_type": "code",
    "id": "U2D2gTdJVp90"
   },
   "outputs": [],
   "source": [
    "import numpy as np\n",
    "import pandas as pd\n",
    "import seaborn as sns\n",
    "import matplotlib.pyplot as plt\n",
    "from collections import Counter\n",
    "from itertools import combinations"
   ]
  },
  {
   "cell_type": "code",
   "execution_count": 2,
   "metadata": {
    "_cell_guid": "79c7e3d0-c299-4dcb-8224-4455121ee9b0",
    "_uuid": "d629ff2d2480ee46fbb7e2d37f6b5fab8052498a",
    "colab": {},
    "colab_type": "code",
    "id": "oyGfxL3eVp9-"
   },
   "outputs": [
    {
     "data": {
      "text/html": [
       "<div>\n",
       "<style scoped>\n",
       "    .dataframe tbody tr th:only-of-type {\n",
       "        vertical-align: middle;\n",
       "    }\n",
       "\n",
       "    .dataframe tbody tr th {\n",
       "        vertical-align: top;\n",
       "    }\n",
       "\n",
       "    .dataframe thead th {\n",
       "        text-align: right;\n",
       "    }\n",
       "</style>\n",
       "<table border=\"1\" class=\"dataframe\">\n",
       "  <thead>\n",
       "    <tr style=\"text-align: right;\">\n",
       "      <th></th>\n",
       "      <th>imdb_id</th>\n",
       "      <th>budget</th>\n",
       "      <th>revenue</th>\n",
       "      <th>original_title</th>\n",
       "      <th>cast</th>\n",
       "      <th>director</th>\n",
       "      <th>tagline</th>\n",
       "      <th>overview</th>\n",
       "      <th>runtime</th>\n",
       "      <th>genres</th>\n",
       "      <th>production_companies</th>\n",
       "      <th>release_date</th>\n",
       "      <th>vote_average</th>\n",
       "      <th>release_year</th>\n",
       "    </tr>\n",
       "  </thead>\n",
       "  <tbody>\n",
       "    <tr>\n",
       "      <th>493</th>\n",
       "      <td>tt1220634</td>\n",
       "      <td>60000000</td>\n",
       "      <td>296221663</td>\n",
       "      <td>Resident Evil: Afterlife</td>\n",
       "      <td>Milla Jovovich|Wentworth Miller|Ali Larter|Kim...</td>\n",
       "      <td>Paul W.S. Anderson</td>\n",
       "      <td>She's back...And she's bringing a few of her f...</td>\n",
       "      <td>In a world ravaged by a virus infection, turni...</td>\n",
       "      <td>97</td>\n",
       "      <td>Action|Adventure|Horror|Science Fiction</td>\n",
       "      <td>Impact Pictures|Davis-Films|Constantin Film Pr...</td>\n",
       "      <td>9/9/2010</td>\n",
       "      <td>5.8</td>\n",
       "      <td>2010</td>\n",
       "    </tr>\n",
       "    <tr>\n",
       "      <th>1804</th>\n",
       "      <td>tt0120755</td>\n",
       "      <td>125000000</td>\n",
       "      <td>546388105</td>\n",
       "      <td>Mission: Impossible II</td>\n",
       "      <td>Tom Cruise|Dougray Scott|Thandie Newton|Ving R...</td>\n",
       "      <td>John Woo</td>\n",
       "      <td>Expect the impossible again</td>\n",
       "      <td>With computer genius Luther Stickell at his si...</td>\n",
       "      <td>123</td>\n",
       "      <td>Adventure|Action|Thriller</td>\n",
       "      <td>Paramount Pictures|Cruise/Wagner Productions|M...</td>\n",
       "      <td>5/23/2000</td>\n",
       "      <td>5.8</td>\n",
       "      <td>2000</td>\n",
       "    </tr>\n",
       "    <tr>\n",
       "      <th>1873</th>\n",
       "      <td>tt0160009</td>\n",
       "      <td>40000000</td>\n",
       "      <td>30199105</td>\n",
       "      <td>The Art of War</td>\n",
       "      <td>Wesley Snipes|Donald Sutherland|Maury Chaykin|...</td>\n",
       "      <td>Christian Duguay</td>\n",
       "      <td>Who is your foe?</td>\n",
       "      <td>When ruthless terrorists threaten to bring dow...</td>\n",
       "      <td>117</td>\n",
       "      <td>Action|Adventure|Thriller</td>\n",
       "      <td>Amen Ra Films|Franchise Pictures|Warner Bros.|...</td>\n",
       "      <td>8/23/2000</td>\n",
       "      <td>5.7</td>\n",
       "      <td>2000</td>\n",
       "    </tr>\n",
       "    <tr>\n",
       "      <th>1771</th>\n",
       "      <td>tt0374563</td>\n",
       "      <td>17000000</td>\n",
       "      <td>2626800</td>\n",
       "      <td>Captivity</td>\n",
       "      <td>Elisha Cuthbert|Daniel Gillies|Pruitt Taylor V...</td>\n",
       "      <td>Roland JoffÃ©</td>\n",
       "      <td>When You Think The Worst Has Happened... Think...</td>\n",
       "      <td>The sought-after images of top model, Jennifer...</td>\n",
       "      <td>96</td>\n",
       "      <td>Crime|Horror|Thriller</td>\n",
       "      <td>Foresight Unlimited|RAMCO|Captivity Productions</td>\n",
       "      <td>6/22/2007</td>\n",
       "      <td>4.5</td>\n",
       "      <td>2007</td>\n",
       "    </tr>\n",
       "    <tr>\n",
       "      <th>1262</th>\n",
       "      <td>tt1711425</td>\n",
       "      <td>13000000</td>\n",
       "      <td>48065672</td>\n",
       "      <td>21 &amp; Over</td>\n",
       "      <td>Miles Teller|Skylar Astin|Justin Chon|Sarah Wr...</td>\n",
       "      <td>Scott Moore|Jon Lucas</td>\n",
       "      <td>Finally.</td>\n",
       "      <td>Brilliant student Jeff Chang has the most impo...</td>\n",
       "      <td>93</td>\n",
       "      <td>Comedy</td>\n",
       "      <td>Relativity Media|Virgin Produced|Mandeville Fi...</td>\n",
       "      <td>3/1/2013</td>\n",
       "      <td>5.7</td>\n",
       "      <td>2013</td>\n",
       "    </tr>\n",
       "  </tbody>\n",
       "</table>\n",
       "</div>"
      ],
      "text/plain": [
       "        imdb_id     budget    revenue            original_title  \\\n",
       "493   tt1220634   60000000  296221663  Resident Evil: Afterlife   \n",
       "1804  tt0120755  125000000  546388105    Mission: Impossible II   \n",
       "1873  tt0160009   40000000   30199105            The Art of War   \n",
       "1771  tt0374563   17000000    2626800                 Captivity   \n",
       "1262  tt1711425   13000000   48065672                 21 & Over   \n",
       "\n",
       "                                                   cast  \\\n",
       "493   Milla Jovovich|Wentworth Miller|Ali Larter|Kim...   \n",
       "1804  Tom Cruise|Dougray Scott|Thandie Newton|Ving R...   \n",
       "1873  Wesley Snipes|Donald Sutherland|Maury Chaykin|...   \n",
       "1771  Elisha Cuthbert|Daniel Gillies|Pruitt Taylor V...   \n",
       "1262  Miles Teller|Skylar Astin|Justin Chon|Sarah Wr...   \n",
       "\n",
       "                   director  \\\n",
       "493      Paul W.S. Anderson   \n",
       "1804               John Woo   \n",
       "1873       Christian Duguay   \n",
       "1771          Roland JoffÃ©   \n",
       "1262  Scott Moore|Jon Lucas   \n",
       "\n",
       "                                                tagline  \\\n",
       "493   She's back...And she's bringing a few of her f...   \n",
       "1804                        Expect the impossible again   \n",
       "1873                                   Who is your foe?   \n",
       "1771  When You Think The Worst Has Happened... Think...   \n",
       "1262                                           Finally.   \n",
       "\n",
       "                                               overview  runtime  \\\n",
       "493   In a world ravaged by a virus infection, turni...       97   \n",
       "1804  With computer genius Luther Stickell at his si...      123   \n",
       "1873  When ruthless terrorists threaten to bring dow...      117   \n",
       "1771  The sought-after images of top model, Jennifer...       96   \n",
       "1262  Brilliant student Jeff Chang has the most impo...       93   \n",
       "\n",
       "                                       genres  \\\n",
       "493   Action|Adventure|Horror|Science Fiction   \n",
       "1804                Adventure|Action|Thriller   \n",
       "1873                Action|Adventure|Thriller   \n",
       "1771                    Crime|Horror|Thriller   \n",
       "1262                                   Comedy   \n",
       "\n",
       "                                   production_companies release_date  \\\n",
       "493   Impact Pictures|Davis-Films|Constantin Film Pr...     9/9/2010   \n",
       "1804  Paramount Pictures|Cruise/Wagner Productions|M...    5/23/2000   \n",
       "1873  Amen Ra Films|Franchise Pictures|Warner Bros.|...    8/23/2000   \n",
       "1771    Foresight Unlimited|RAMCO|Captivity Productions    6/22/2007   \n",
       "1262  Relativity Media|Virgin Produced|Mandeville Fi...     3/1/2013   \n",
       "\n",
       "      vote_average  release_year  \n",
       "493            5.8          2010  \n",
       "1804           5.8          2000  \n",
       "1873           5.7          2000  \n",
       "1771           4.5          2007  \n",
       "1262           5.7          2013  "
      ]
     },
     "execution_count": 2,
     "metadata": {},
     "output_type": "execute_result"
    }
   ],
   "source": [
    "data = pd.read_csv('movie_bd_v5.csv')\n",
    "data.sample(5)"
   ]
  },
  {
   "cell_type": "code",
   "execution_count": 3,
   "metadata": {},
   "outputs": [
    {
     "name": "stdout",
     "output_type": "stream",
     "text": [
      "<class 'pandas.core.frame.DataFrame'>\n",
      "RangeIndex: 1889 entries, 0 to 1888\n",
      "Data columns (total 14 columns):\n",
      " #   Column                Non-Null Count  Dtype  \n",
      "---  ------                --------------  -----  \n",
      " 0   imdb_id               1889 non-null   object \n",
      " 1   budget                1889 non-null   int64  \n",
      " 2   revenue               1889 non-null   int64  \n",
      " 3   original_title        1889 non-null   object \n",
      " 4   cast                  1889 non-null   object \n",
      " 5   director              1889 non-null   object \n",
      " 6   tagline               1889 non-null   object \n",
      " 7   overview              1889 non-null   object \n",
      " 8   runtime               1889 non-null   int64  \n",
      " 9   genres                1889 non-null   object \n",
      " 10  production_companies  1889 non-null   object \n",
      " 11  release_date          1889 non-null   object \n",
      " 12  vote_average          1889 non-null   float64\n",
      " 13  release_year          1889 non-null   int64  \n",
      "dtypes: float64(1), int64(4), object(9)\n",
      "memory usage: 206.7+ KB\n"
     ]
    }
   ],
   "source": [
    "data.info()"
   ]
  },
  {
   "cell_type": "code",
   "execution_count": 4,
   "metadata": {
    "colab": {},
    "colab_type": "code",
    "id": "CoYUnagMVp-C"
   },
   "outputs": [
    {
     "data": {
      "text/html": [
       "<div>\n",
       "<style scoped>\n",
       "    .dataframe tbody tr th:only-of-type {\n",
       "        vertical-align: middle;\n",
       "    }\n",
       "\n",
       "    .dataframe tbody tr th {\n",
       "        vertical-align: top;\n",
       "    }\n",
       "\n",
       "    .dataframe thead th {\n",
       "        text-align: right;\n",
       "    }\n",
       "</style>\n",
       "<table border=\"1\" class=\"dataframe\">\n",
       "  <thead>\n",
       "    <tr style=\"text-align: right;\">\n",
       "      <th></th>\n",
       "      <th>budget</th>\n",
       "      <th>revenue</th>\n",
       "      <th>runtime</th>\n",
       "      <th>vote_average</th>\n",
       "      <th>release_year</th>\n",
       "    </tr>\n",
       "  </thead>\n",
       "  <tbody>\n",
       "    <tr>\n",
       "      <th>count</th>\n",
       "      <td>1.889000e+03</td>\n",
       "      <td>1.889000e+03</td>\n",
       "      <td>1889.000000</td>\n",
       "      <td>1889.000000</td>\n",
       "      <td>1889.000000</td>\n",
       "    </tr>\n",
       "    <tr>\n",
       "      <th>mean</th>\n",
       "      <td>5.431083e+07</td>\n",
       "      <td>1.553653e+08</td>\n",
       "      <td>109.658549</td>\n",
       "      <td>6.140762</td>\n",
       "      <td>2007.860773</td>\n",
       "    </tr>\n",
       "    <tr>\n",
       "      <th>std</th>\n",
       "      <td>4.858721e+07</td>\n",
       "      <td>2.146698e+08</td>\n",
       "      <td>18.017041</td>\n",
       "      <td>0.764763</td>\n",
       "      <td>4.468841</td>\n",
       "    </tr>\n",
       "    <tr>\n",
       "      <th>min</th>\n",
       "      <td>5.000000e+06</td>\n",
       "      <td>2.033165e+06</td>\n",
       "      <td>63.000000</td>\n",
       "      <td>3.300000</td>\n",
       "      <td>2000.000000</td>\n",
       "    </tr>\n",
       "    <tr>\n",
       "      <th>25%</th>\n",
       "      <td>2.000000e+07</td>\n",
       "      <td>3.456058e+07</td>\n",
       "      <td>97.000000</td>\n",
       "      <td>5.600000</td>\n",
       "      <td>2004.000000</td>\n",
       "    </tr>\n",
       "    <tr>\n",
       "      <th>50%</th>\n",
       "      <td>3.800000e+07</td>\n",
       "      <td>8.361541e+07</td>\n",
       "      <td>107.000000</td>\n",
       "      <td>6.100000</td>\n",
       "      <td>2008.000000</td>\n",
       "    </tr>\n",
       "    <tr>\n",
       "      <th>75%</th>\n",
       "      <td>7.200000e+07</td>\n",
       "      <td>1.782626e+08</td>\n",
       "      <td>120.000000</td>\n",
       "      <td>6.600000</td>\n",
       "      <td>2012.000000</td>\n",
       "    </tr>\n",
       "    <tr>\n",
       "      <th>max</th>\n",
       "      <td>3.800000e+08</td>\n",
       "      <td>2.781506e+09</td>\n",
       "      <td>214.000000</td>\n",
       "      <td>8.100000</td>\n",
       "      <td>2015.000000</td>\n",
       "    </tr>\n",
       "  </tbody>\n",
       "</table>\n",
       "</div>"
      ],
      "text/plain": [
       "             budget       revenue      runtime  vote_average  release_year\n",
       "count  1.889000e+03  1.889000e+03  1889.000000   1889.000000   1889.000000\n",
       "mean   5.431083e+07  1.553653e+08   109.658549      6.140762   2007.860773\n",
       "std    4.858721e+07  2.146698e+08    18.017041      0.764763      4.468841\n",
       "min    5.000000e+06  2.033165e+06    63.000000      3.300000   2000.000000\n",
       "25%    2.000000e+07  3.456058e+07    97.000000      5.600000   2004.000000\n",
       "50%    3.800000e+07  8.361541e+07   107.000000      6.100000   2008.000000\n",
       "75%    7.200000e+07  1.782626e+08   120.000000      6.600000   2012.000000\n",
       "max    3.800000e+08  2.781506e+09   214.000000      8.100000   2015.000000"
      ]
     },
     "execution_count": 4,
     "metadata": {},
     "output_type": "execute_result"
    }
   ],
   "source": [
    "data.describe()"
   ]
  },
  {
   "cell_type": "markdown",
   "metadata": {
    "colab_type": "text",
    "id": "DTIt7ezGVp-G"
   },
   "source": [
    "# Предобработка"
   ]
  },
  {
   "cell_type": "code",
   "execution_count": 5,
   "metadata": {
    "colab": {},
    "colab_type": "code",
    "id": "jNb40DwKVp-H"
   },
   "outputs": [],
   "source": [
    "answers = {} # создадим словарь для ответов\n",
    "\n",
    "# тут другие ваши предобработки колонок например:\n",
    "\n",
    "#the time given in the dataset is in string format.\n",
    "#So we need to change this in datetime format\n",
    "# ..."
   ]
  },
  {
   "cell_type": "markdown",
   "metadata": {},
   "source": [
    "# Проверка дублей"
   ]
  },
  {
   "cell_type": "code",
   "execution_count": 6,
   "metadata": {},
   "outputs": [
    {
     "data": {
      "text/plain": [
       "The Gift          2\n",
       "Fantastic Four    2\n",
       "Name: original_title, dtype: int64"
      ]
     },
     "execution_count": 6,
     "metadata": {},
     "output_type": "execute_result"
    }
   ],
   "source": [
    "\"\"\"Проверка фильмов с одинаковым названием\"\"\"\n",
    "title_list = data.original_title.value_counts()\n",
    "double_title = title_list.loc[title_list > 1]\n",
    "double_title"
   ]
  },
  {
   "cell_type": "code",
   "execution_count": 7,
   "metadata": {},
   "outputs": [
    {
     "data": {
      "text/html": [
       "<div>\n",
       "<style scoped>\n",
       "    .dataframe tbody tr th:only-of-type {\n",
       "        vertical-align: middle;\n",
       "    }\n",
       "\n",
       "    .dataframe tbody tr th {\n",
       "        vertical-align: top;\n",
       "    }\n",
       "\n",
       "    .dataframe thead th {\n",
       "        text-align: right;\n",
       "    }\n",
       "</style>\n",
       "<table border=\"1\" class=\"dataframe\">\n",
       "  <thead>\n",
       "    <tr style=\"text-align: right;\">\n",
       "      <th></th>\n",
       "      <th>imdb_id</th>\n",
       "      <th>budget</th>\n",
       "      <th>revenue</th>\n",
       "      <th>original_title</th>\n",
       "      <th>cast</th>\n",
       "      <th>director</th>\n",
       "      <th>tagline</th>\n",
       "      <th>overview</th>\n",
       "      <th>runtime</th>\n",
       "      <th>genres</th>\n",
       "      <th>production_companies</th>\n",
       "      <th>release_date</th>\n",
       "      <th>vote_average</th>\n",
       "      <th>release_year</th>\n",
       "    </tr>\n",
       "  </thead>\n",
       "  <tbody>\n",
       "    <tr>\n",
       "      <th>75</th>\n",
       "      <td>tt4178092</td>\n",
       "      <td>5000000</td>\n",
       "      <td>58978653</td>\n",
       "      <td>The Gift</td>\n",
       "      <td>Jason Bateman|Rebecca Hall|Joel Edgerton|David...</td>\n",
       "      <td>Joel Edgerton</td>\n",
       "      <td>Not every gift is welcome.</td>\n",
       "      <td>A husband and wife try to reinvigorate their r...</td>\n",
       "      <td>108</td>\n",
       "      <td>Thriller|Mystery</td>\n",
       "      <td>Blumhouse Productions|Blue-Tongue Films|STX En...</td>\n",
       "      <td>7/30/2015</td>\n",
       "      <td>6.6</td>\n",
       "      <td>2015</td>\n",
       "    </tr>\n",
       "    <tr>\n",
       "      <th>1834</th>\n",
       "      <td>tt0219699</td>\n",
       "      <td>10000000</td>\n",
       "      <td>12008642</td>\n",
       "      <td>The Gift</td>\n",
       "      <td>Cate Blanchett|Giovanni Ribisi|Keanu Reeves|Ka...</td>\n",
       "      <td>Sam Raimi</td>\n",
       "      <td>The only witness to the crime was not even there.</td>\n",
       "      <td>When a local woman disappears and the police c...</td>\n",
       "      <td>111</td>\n",
       "      <td>Horror|Drama|Thriller|Mystery</td>\n",
       "      <td>Lakeshore Entertainment|Alphaville Films</td>\n",
       "      <td>12/22/2000</td>\n",
       "      <td>6.2</td>\n",
       "      <td>2000</td>\n",
       "    </tr>\n",
       "  </tbody>\n",
       "</table>\n",
       "</div>"
      ],
      "text/plain": [
       "        imdb_id    budget   revenue original_title  \\\n",
       "75    tt4178092   5000000  58978653       The Gift   \n",
       "1834  tt0219699  10000000  12008642       The Gift   \n",
       "\n",
       "                                                   cast       director  \\\n",
       "75    Jason Bateman|Rebecca Hall|Joel Edgerton|David...  Joel Edgerton   \n",
       "1834  Cate Blanchett|Giovanni Ribisi|Keanu Reeves|Ka...      Sam Raimi   \n",
       "\n",
       "                                                tagline  \\\n",
       "75                           Not every gift is welcome.   \n",
       "1834  The only witness to the crime was not even there.   \n",
       "\n",
       "                                               overview  runtime  \\\n",
       "75    A husband and wife try to reinvigorate their r...      108   \n",
       "1834  When a local woman disappears and the police c...      111   \n",
       "\n",
       "                             genres  \\\n",
       "75                 Thriller|Mystery   \n",
       "1834  Horror|Drama|Thriller|Mystery   \n",
       "\n",
       "                                   production_companies release_date  \\\n",
       "75    Blumhouse Productions|Blue-Tongue Films|STX En...    7/30/2015   \n",
       "1834           Lakeshore Entertainment|Alphaville Films   12/22/2000   \n",
       "\n",
       "      vote_average  release_year  \n",
       "75             6.6          2015  \n",
       "1834           6.2          2000  "
      ]
     },
     "metadata": {},
     "output_type": "display_data"
    },
    {
     "data": {
      "text/html": [
       "<div>\n",
       "<style scoped>\n",
       "    .dataframe tbody tr th:only-of-type {\n",
       "        vertical-align: middle;\n",
       "    }\n",
       "\n",
       "    .dataframe tbody tr th {\n",
       "        vertical-align: top;\n",
       "    }\n",
       "\n",
       "    .dataframe thead th {\n",
       "        text-align: right;\n",
       "    }\n",
       "</style>\n",
       "<table border=\"1\" class=\"dataframe\">\n",
       "  <thead>\n",
       "    <tr style=\"text-align: right;\">\n",
       "      <th></th>\n",
       "      <th>imdb_id</th>\n",
       "      <th>budget</th>\n",
       "      <th>revenue</th>\n",
       "      <th>original_title</th>\n",
       "      <th>cast</th>\n",
       "      <th>director</th>\n",
       "      <th>tagline</th>\n",
       "      <th>overview</th>\n",
       "      <th>runtime</th>\n",
       "      <th>genres</th>\n",
       "      <th>production_companies</th>\n",
       "      <th>release_date</th>\n",
       "      <th>vote_average</th>\n",
       "      <th>release_year</th>\n",
       "    </tr>\n",
       "  </thead>\n",
       "  <tbody>\n",
       "    <tr>\n",
       "      <th>55</th>\n",
       "      <td>tt1502712</td>\n",
       "      <td>120000001</td>\n",
       "      <td>167977596</td>\n",
       "      <td>Fantastic Four</td>\n",
       "      <td>Miles Teller|Kate Mara|Michael B. Jordan|Jamie...</td>\n",
       "      <td>Josh Trank</td>\n",
       "      <td>Change is coming.</td>\n",
       "      <td>Four young outsiders teleport to a dangerous u...</td>\n",
       "      <td>100</td>\n",
       "      <td>Action|Adventure|Science Fiction</td>\n",
       "      <td>Twentieth Century Fox Film Corporation|Marv Fi...</td>\n",
       "      <td>8/5/2015</td>\n",
       "      <td>4.4</td>\n",
       "      <td>2015</td>\n",
       "    </tr>\n",
       "    <tr>\n",
       "      <th>1322</th>\n",
       "      <td>tt0120667</td>\n",
       "      <td>100000000</td>\n",
       "      <td>330579719</td>\n",
       "      <td>Fantastic Four</td>\n",
       "      <td>Ioan Gruffudd|Jessica Alba|Chris Evans|Michael...</td>\n",
       "      <td>Tim Story</td>\n",
       "      <td>4 times the action. 4 times the adventure. 4 t...</td>\n",
       "      <td>During a space voyage, four scientists are alt...</td>\n",
       "      <td>106</td>\n",
       "      <td>Action|Adventure|Fantasy|Science Fiction</td>\n",
       "      <td>Twentieth Century Fox Film Corporation|1492 Pi...</td>\n",
       "      <td>7/7/2005</td>\n",
       "      <td>5.6</td>\n",
       "      <td>2005</td>\n",
       "    </tr>\n",
       "  </tbody>\n",
       "</table>\n",
       "</div>"
      ],
      "text/plain": [
       "        imdb_id     budget    revenue  original_title  \\\n",
       "55    tt1502712  120000001  167977596  Fantastic Four   \n",
       "1322  tt0120667  100000000  330579719  Fantastic Four   \n",
       "\n",
       "                                                   cast    director  \\\n",
       "55    Miles Teller|Kate Mara|Michael B. Jordan|Jamie...  Josh Trank   \n",
       "1322  Ioan Gruffudd|Jessica Alba|Chris Evans|Michael...   Tim Story   \n",
       "\n",
       "                                                tagline  \\\n",
       "55                                    Change is coming.   \n",
       "1322  4 times the action. 4 times the adventure. 4 t...   \n",
       "\n",
       "                                               overview  runtime  \\\n",
       "55    Four young outsiders teleport to a dangerous u...      100   \n",
       "1322  During a space voyage, four scientists are alt...      106   \n",
       "\n",
       "                                        genres  \\\n",
       "55            Action|Adventure|Science Fiction   \n",
       "1322  Action|Adventure|Fantasy|Science Fiction   \n",
       "\n",
       "                                   production_companies release_date  \\\n",
       "55    Twentieth Century Fox Film Corporation|Marv Fi...     8/5/2015   \n",
       "1322  Twentieth Century Fox Film Corporation|1492 Pi...     7/7/2005   \n",
       "\n",
       "      vote_average  release_year  \n",
       "55             4.4          2015  \n",
       "1322           5.6          2005  "
      ]
     },
     "metadata": {},
     "output_type": "display_data"
    }
   ],
   "source": [
    "\"\"\"Вывод строк датасета с фильмами, имеющих одинаковое название\"\"\"\n",
    "for movies in double_title.index:\n",
    "    display(data[(data.original_title == movies)])"
   ]
  },
  {
   "cell_type": "code",
   "execution_count": 8,
   "metadata": {},
   "outputs": [
    {
     "data": {
      "text/plain": [
       "Elijah Wood|Ian McKellen|Viggo Mortensen|Liv Tyler|Orlando Bloom                    3\n",
       "Jennifer Lawrence|Josh Hutcherson|Liam Hemsworth|Woody Harrelson|Elizabeth Banks    3\n",
       "Ioan Gruffudd|Jessica Alba|Chris Evans|Michael Chiklis|Julian McMahon               2\n",
       "Martin Freeman|Ian McKellen|Richard Armitage|Ken Stott|Graham McTavish              2\n",
       "Bradley Cooper|Ed Helms|Zach Galifianakis|Justin Bartha|Ken Jeong                   2\n",
       "Patrick Stewart|Hugh Jackman|Ian McKellen|Halle Berry|Famke Janssen                 2\n",
       "Mike Myers|Eddie Murphy|Cameron Diaz|Julie Andrews|Antonio Banderas                 2\n",
       "Kristen Stewart|Robert Pattinson|Taylor Lautner|Ashley Greene|Peter Facinelli       2\n",
       "Ewan McGregor|Natalie Portman|Hayden Christensen|Ian McDiarmid|Samuel L. Jackson    2\n",
       "Name: cast, dtype: int64"
      ]
     },
     "execution_count": 8,
     "metadata": {},
     "output_type": "execute_result"
    }
   ],
   "source": [
    "\"\"\"Проверка фильмов с одинаковым актёрским составом\"\"\"\n",
    "cast_list = data.cast.value_counts()\n",
    "double_cast = cast_list.loc[cast_list > 1]\n",
    "double_cast"
   ]
  },
  {
   "cell_type": "code",
   "execution_count": 9,
   "metadata": {},
   "outputs": [
    {
     "data": {
      "text/html": [
       "<div>\n",
       "<style scoped>\n",
       "    .dataframe tbody tr th:only-of-type {\n",
       "        vertical-align: middle;\n",
       "    }\n",
       "\n",
       "    .dataframe tbody tr th {\n",
       "        vertical-align: top;\n",
       "    }\n",
       "\n",
       "    .dataframe thead th {\n",
       "        text-align: right;\n",
       "    }\n",
       "</style>\n",
       "<table border=\"1\" class=\"dataframe\">\n",
       "  <thead>\n",
       "    <tr style=\"text-align: right;\">\n",
       "      <th></th>\n",
       "      <th>imdb_id</th>\n",
       "      <th>budget</th>\n",
       "      <th>revenue</th>\n",
       "      <th>original_title</th>\n",
       "      <th>cast</th>\n",
       "      <th>director</th>\n",
       "      <th>tagline</th>\n",
       "      <th>overview</th>\n",
       "      <th>runtime</th>\n",
       "      <th>genres</th>\n",
       "      <th>production_companies</th>\n",
       "      <th>release_date</th>\n",
       "      <th>vote_average</th>\n",
       "      <th>release_year</th>\n",
       "    </tr>\n",
       "  </thead>\n",
       "  <tbody>\n",
       "    <tr>\n",
       "      <th>496</th>\n",
       "      <td>tt0120737</td>\n",
       "      <td>93000000</td>\n",
       "      <td>871368364</td>\n",
       "      <td>The Lord of the Rings: The Fellowship of the Ring</td>\n",
       "      <td>Elijah Wood|Ian McKellen|Viggo Mortensen|Liv T...</td>\n",
       "      <td>Peter Jackson</td>\n",
       "      <td>One ring to rule them all</td>\n",
       "      <td>Young hobbit Frodo Baggins, after inheriting a...</td>\n",
       "      <td>178</td>\n",
       "      <td>Adventure|Fantasy|Action</td>\n",
       "      <td>WingNut Films|New Line Cinema|The Saul Zaentz ...</td>\n",
       "      <td>12/18/2001</td>\n",
       "      <td>7.8</td>\n",
       "      <td>2001</td>\n",
       "    </tr>\n",
       "    <tr>\n",
       "      <th>863</th>\n",
       "      <td>tt0167261</td>\n",
       "      <td>79000000</td>\n",
       "      <td>926287400</td>\n",
       "      <td>The Lord of the Rings: The Two Towers</td>\n",
       "      <td>Elijah Wood|Ian McKellen|Viggo Mortensen|Liv T...</td>\n",
       "      <td>Peter Jackson</td>\n",
       "      <td>A New Power Is Rising.</td>\n",
       "      <td>Frodo and Sam are trekking to Mordor to destro...</td>\n",
       "      <td>179</td>\n",
       "      <td>Adventure|Fantasy|Action</td>\n",
       "      <td>WingNut Films|New Line Cinema|The Saul Zaentz ...</td>\n",
       "      <td>12/18/2002</td>\n",
       "      <td>7.8</td>\n",
       "      <td>2002</td>\n",
       "    </tr>\n",
       "    <tr>\n",
       "      <th>1081</th>\n",
       "      <td>tt0167260</td>\n",
       "      <td>94000000</td>\n",
       "      <td>1118888979</td>\n",
       "      <td>The Lord of the Rings: The Return of the King</td>\n",
       "      <td>Elijah Wood|Ian McKellen|Viggo Mortensen|Liv T...</td>\n",
       "      <td>Peter Jackson</td>\n",
       "      <td>The eye of the enemy is moving.</td>\n",
       "      <td>Aragorn is revealed as the heir to the ancient...</td>\n",
       "      <td>201</td>\n",
       "      <td>Adventure|Fantasy|Action</td>\n",
       "      <td>WingNut Films|New Line Cinema</td>\n",
       "      <td>12/1/2003</td>\n",
       "      <td>7.9</td>\n",
       "      <td>2003</td>\n",
       "    </tr>\n",
       "  </tbody>\n",
       "</table>\n",
       "</div>"
      ],
      "text/plain": [
       "        imdb_id    budget     revenue  \\\n",
       "496   tt0120737  93000000   871368364   \n",
       "863   tt0167261  79000000   926287400   \n",
       "1081  tt0167260  94000000  1118888979   \n",
       "\n",
       "                                         original_title  \\\n",
       "496   The Lord of the Rings: The Fellowship of the Ring   \n",
       "863               The Lord of the Rings: The Two Towers   \n",
       "1081      The Lord of the Rings: The Return of the King   \n",
       "\n",
       "                                                   cast       director  \\\n",
       "496   Elijah Wood|Ian McKellen|Viggo Mortensen|Liv T...  Peter Jackson   \n",
       "863   Elijah Wood|Ian McKellen|Viggo Mortensen|Liv T...  Peter Jackson   \n",
       "1081  Elijah Wood|Ian McKellen|Viggo Mortensen|Liv T...  Peter Jackson   \n",
       "\n",
       "                              tagline  \\\n",
       "496         One ring to rule them all   \n",
       "863            A New Power Is Rising.   \n",
       "1081  The eye of the enemy is moving.   \n",
       "\n",
       "                                               overview  runtime  \\\n",
       "496   Young hobbit Frodo Baggins, after inheriting a...      178   \n",
       "863   Frodo and Sam are trekking to Mordor to destro...      179   \n",
       "1081  Aragorn is revealed as the heir to the ancient...      201   \n",
       "\n",
       "                        genres  \\\n",
       "496   Adventure|Fantasy|Action   \n",
       "863   Adventure|Fantasy|Action   \n",
       "1081  Adventure|Fantasy|Action   \n",
       "\n",
       "                                   production_companies release_date  \\\n",
       "496   WingNut Films|New Line Cinema|The Saul Zaentz ...   12/18/2001   \n",
       "863   WingNut Films|New Line Cinema|The Saul Zaentz ...   12/18/2002   \n",
       "1081                      WingNut Films|New Line Cinema    12/1/2003   \n",
       "\n",
       "      vote_average  release_year  \n",
       "496            7.8          2001  \n",
       "863            7.8          2002  \n",
       "1081           7.9          2003  "
      ]
     },
     "metadata": {},
     "output_type": "display_data"
    },
    {
     "data": {
      "text/html": [
       "<div>\n",
       "<style scoped>\n",
       "    .dataframe tbody tr th:only-of-type {\n",
       "        vertical-align: middle;\n",
       "    }\n",
       "\n",
       "    .dataframe tbody tr th {\n",
       "        vertical-align: top;\n",
       "    }\n",
       "\n",
       "    .dataframe thead th {\n",
       "        text-align: right;\n",
       "    }\n",
       "</style>\n",
       "<table border=\"1\" class=\"dataframe\">\n",
       "  <thead>\n",
       "    <tr style=\"text-align: right;\">\n",
       "      <th></th>\n",
       "      <th>imdb_id</th>\n",
       "      <th>budget</th>\n",
       "      <th>revenue</th>\n",
       "      <th>original_title</th>\n",
       "      <th>cast</th>\n",
       "      <th>director</th>\n",
       "      <th>tagline</th>\n",
       "      <th>overview</th>\n",
       "      <th>runtime</th>\n",
       "      <th>genres</th>\n",
       "      <th>production_companies</th>\n",
       "      <th>release_date</th>\n",
       "      <th>vote_average</th>\n",
       "      <th>release_year</th>\n",
       "    </tr>\n",
       "  </thead>\n",
       "  <tbody>\n",
       "    <tr>\n",
       "      <th>19</th>\n",
       "      <td>tt1951266</td>\n",
       "      <td>160000000</td>\n",
       "      <td>650523427</td>\n",
       "      <td>The Hunger Games: Mockingjay - Part 2</td>\n",
       "      <td>Jennifer Lawrence|Josh Hutcherson|Liam Hemswor...</td>\n",
       "      <td>Francis Lawrence</td>\n",
       "      <td>The fire will burn forever.</td>\n",
       "      <td>With the nation of Panem in a full scale war, ...</td>\n",
       "      <td>136</td>\n",
       "      <td>War|Adventure|Science Fiction</td>\n",
       "      <td>Studio Babelsberg|StudioCanal|Lionsgate|Walt D...</td>\n",
       "      <td>11/18/2015</td>\n",
       "      <td>6.5</td>\n",
       "      <td>2015</td>\n",
       "    </tr>\n",
       "    <tr>\n",
       "      <th>991</th>\n",
       "      <td>tt1392170</td>\n",
       "      <td>75000000</td>\n",
       "      <td>691210692</td>\n",
       "      <td>The Hunger Games</td>\n",
       "      <td>Jennifer Lawrence|Josh Hutcherson|Liam Hemswor...</td>\n",
       "      <td>Gary Ross</td>\n",
       "      <td>May The Odds Be Ever In Your Favor.</td>\n",
       "      <td>Every year in the ruins of what was once North...</td>\n",
       "      <td>142</td>\n",
       "      <td>Science Fiction|Adventure|Fantasy</td>\n",
       "      <td>Lionsgate|Color Force</td>\n",
       "      <td>3/12/2012</td>\n",
       "      <td>6.7</td>\n",
       "      <td>2012</td>\n",
       "    </tr>\n",
       "    <tr>\n",
       "      <th>1182</th>\n",
       "      <td>tt1951264</td>\n",
       "      <td>130000000</td>\n",
       "      <td>847423452</td>\n",
       "      <td>The Hunger Games: Catching Fire</td>\n",
       "      <td>Jennifer Lawrence|Josh Hutcherson|Liam Hemswor...</td>\n",
       "      <td>Francis Lawrence</td>\n",
       "      <td>Every revolution begins with a spark.</td>\n",
       "      <td>Katniss Everdeen has returned home safe after ...</td>\n",
       "      <td>146</td>\n",
       "      <td>Science Fiction|Thriller|Action|Adventure</td>\n",
       "      <td>Lionsgate|Color Force</td>\n",
       "      <td>11/15/2013</td>\n",
       "      <td>7.4</td>\n",
       "      <td>2013</td>\n",
       "    </tr>\n",
       "  </tbody>\n",
       "</table>\n",
       "</div>"
      ],
      "text/plain": [
       "        imdb_id     budget    revenue                         original_title  \\\n",
       "19    tt1951266  160000000  650523427  The Hunger Games: Mockingjay - Part 2   \n",
       "991   tt1392170   75000000  691210692                       The Hunger Games   \n",
       "1182  tt1951264  130000000  847423452        The Hunger Games: Catching Fire   \n",
       "\n",
       "                                                   cast          director  \\\n",
       "19    Jennifer Lawrence|Josh Hutcherson|Liam Hemswor...  Francis Lawrence   \n",
       "991   Jennifer Lawrence|Josh Hutcherson|Liam Hemswor...         Gary Ross   \n",
       "1182  Jennifer Lawrence|Josh Hutcherson|Liam Hemswor...  Francis Lawrence   \n",
       "\n",
       "                                    tagline  \\\n",
       "19              The fire will burn forever.   \n",
       "991     May The Odds Be Ever In Your Favor.   \n",
       "1182  Every revolution begins with a spark.   \n",
       "\n",
       "                                               overview  runtime  \\\n",
       "19    With the nation of Panem in a full scale war, ...      136   \n",
       "991   Every year in the ruins of what was once North...      142   \n",
       "1182  Katniss Everdeen has returned home safe after ...      146   \n",
       "\n",
       "                                         genres  \\\n",
       "19                War|Adventure|Science Fiction   \n",
       "991           Science Fiction|Adventure|Fantasy   \n",
       "1182  Science Fiction|Thriller|Action|Adventure   \n",
       "\n",
       "                                   production_companies release_date  \\\n",
       "19    Studio Babelsberg|StudioCanal|Lionsgate|Walt D...   11/18/2015   \n",
       "991                               Lionsgate|Color Force    3/12/2012   \n",
       "1182                              Lionsgate|Color Force   11/15/2013   \n",
       "\n",
       "      vote_average  release_year  \n",
       "19             6.5          2015  \n",
       "991            6.7          2012  \n",
       "1182           7.4          2013  "
      ]
     },
     "metadata": {},
     "output_type": "display_data"
    },
    {
     "data": {
      "text/html": [
       "<div>\n",
       "<style scoped>\n",
       "    .dataframe tbody tr th:only-of-type {\n",
       "        vertical-align: middle;\n",
       "    }\n",
       "\n",
       "    .dataframe tbody tr th {\n",
       "        vertical-align: top;\n",
       "    }\n",
       "\n",
       "    .dataframe thead th {\n",
       "        text-align: right;\n",
       "    }\n",
       "</style>\n",
       "<table border=\"1\" class=\"dataframe\">\n",
       "  <thead>\n",
       "    <tr style=\"text-align: right;\">\n",
       "      <th></th>\n",
       "      <th>imdb_id</th>\n",
       "      <th>budget</th>\n",
       "      <th>revenue</th>\n",
       "      <th>original_title</th>\n",
       "      <th>cast</th>\n",
       "      <th>director</th>\n",
       "      <th>tagline</th>\n",
       "      <th>overview</th>\n",
       "      <th>runtime</th>\n",
       "      <th>genres</th>\n",
       "      <th>production_companies</th>\n",
       "      <th>release_date</th>\n",
       "      <th>vote_average</th>\n",
       "      <th>release_year</th>\n",
       "    </tr>\n",
       "  </thead>\n",
       "  <tbody>\n",
       "    <tr>\n",
       "      <th>1322</th>\n",
       "      <td>tt0120667</td>\n",
       "      <td>100000000</td>\n",
       "      <td>330579719</td>\n",
       "      <td>Fantastic Four</td>\n",
       "      <td>Ioan Gruffudd|Jessica Alba|Chris Evans|Michael...</td>\n",
       "      <td>Tim Story</td>\n",
       "      <td>4 times the action. 4 times the adventure. 4 t...</td>\n",
       "      <td>During a space voyage, four scientists are alt...</td>\n",
       "      <td>106</td>\n",
       "      <td>Action|Adventure|Fantasy|Science Fiction</td>\n",
       "      <td>Twentieth Century Fox Film Corporation|1492 Pi...</td>\n",
       "      <td>7/7/2005</td>\n",
       "      <td>5.6</td>\n",
       "      <td>2005</td>\n",
       "    </tr>\n",
       "    <tr>\n",
       "      <th>1699</th>\n",
       "      <td>tt0486576</td>\n",
       "      <td>130000000</td>\n",
       "      <td>289047763</td>\n",
       "      <td>4: Rise of the Silver Surfer</td>\n",
       "      <td>Ioan Gruffudd|Jessica Alba|Chris Evans|Michael...</td>\n",
       "      <td>Tim Story</td>\n",
       "      <td>Discover the secret of the Surfer.</td>\n",
       "      <td>The Fantastic Four return to the big screen as...</td>\n",
       "      <td>92</td>\n",
       "      <td>Adventure|Fantasy|Action|Thriller</td>\n",
       "      <td>Ingenious Film Partners|Twentieth Century Fox ...</td>\n",
       "      <td>6/13/2007</td>\n",
       "      <td>5.4</td>\n",
       "      <td>2007</td>\n",
       "    </tr>\n",
       "  </tbody>\n",
       "</table>\n",
       "</div>"
      ],
      "text/plain": [
       "        imdb_id     budget    revenue                original_title  \\\n",
       "1322  tt0120667  100000000  330579719                Fantastic Four   \n",
       "1699  tt0486576  130000000  289047763  4: Rise of the Silver Surfer   \n",
       "\n",
       "                                                   cast   director  \\\n",
       "1322  Ioan Gruffudd|Jessica Alba|Chris Evans|Michael...  Tim Story   \n",
       "1699  Ioan Gruffudd|Jessica Alba|Chris Evans|Michael...  Tim Story   \n",
       "\n",
       "                                                tagline  \\\n",
       "1322  4 times the action. 4 times the adventure. 4 t...   \n",
       "1699                 Discover the secret of the Surfer.   \n",
       "\n",
       "                                               overview  runtime  \\\n",
       "1322  During a space voyage, four scientists are alt...      106   \n",
       "1699  The Fantastic Four return to the big screen as...       92   \n",
       "\n",
       "                                        genres  \\\n",
       "1322  Action|Adventure|Fantasy|Science Fiction   \n",
       "1699         Adventure|Fantasy|Action|Thriller   \n",
       "\n",
       "                                   production_companies release_date  \\\n",
       "1322  Twentieth Century Fox Film Corporation|1492 Pi...     7/7/2005   \n",
       "1699  Ingenious Film Partners|Twentieth Century Fox ...    6/13/2007   \n",
       "\n",
       "      vote_average  release_year  \n",
       "1322           5.6          2005  \n",
       "1699           5.4          2007  "
      ]
     },
     "metadata": {},
     "output_type": "display_data"
    },
    {
     "data": {
      "text/html": [
       "<div>\n",
       "<style scoped>\n",
       "    .dataframe tbody tr th:only-of-type {\n",
       "        vertical-align: middle;\n",
       "    }\n",
       "\n",
       "    .dataframe tbody tr th {\n",
       "        vertical-align: top;\n",
       "    }\n",
       "\n",
       "    .dataframe thead th {\n",
       "        text-align: right;\n",
       "    }\n",
       "</style>\n",
       "<table border=\"1\" class=\"dataframe\">\n",
       "  <thead>\n",
       "    <tr style=\"text-align: right;\">\n",
       "      <th></th>\n",
       "      <th>imdb_id</th>\n",
       "      <th>budget</th>\n",
       "      <th>revenue</th>\n",
       "      <th>original_title</th>\n",
       "      <th>cast</th>\n",
       "      <th>director</th>\n",
       "      <th>tagline</th>\n",
       "      <th>overview</th>\n",
       "      <th>runtime</th>\n",
       "      <th>genres</th>\n",
       "      <th>production_companies</th>\n",
       "      <th>release_date</th>\n",
       "      <th>vote_average</th>\n",
       "      <th>release_year</th>\n",
       "    </tr>\n",
       "  </thead>\n",
       "  <tbody>\n",
       "    <tr>\n",
       "      <th>123</th>\n",
       "      <td>tt2310332</td>\n",
       "      <td>250000000</td>\n",
       "      <td>955119788</td>\n",
       "      <td>The Hobbit: The Battle of the Five Armies</td>\n",
       "      <td>Martin Freeman|Ian McKellen|Richard Armitage|K...</td>\n",
       "      <td>Peter Jackson</td>\n",
       "      <td>Witness the defining chapter of the Middle-Ear...</td>\n",
       "      <td>Immediately after the events of The Desolation...</td>\n",
       "      <td>144</td>\n",
       "      <td>Adventure|Fantasy</td>\n",
       "      <td>WingNut Films|New Line Cinema|3Foot7|Metro-Gol...</td>\n",
       "      <td>12/10/2014</td>\n",
       "      <td>7.1</td>\n",
       "      <td>2014</td>\n",
       "    </tr>\n",
       "    <tr>\n",
       "      <th>1186</th>\n",
       "      <td>tt1170358</td>\n",
       "      <td>250000000</td>\n",
       "      <td>958400000</td>\n",
       "      <td>The Hobbit: The Desolation of Smaug</td>\n",
       "      <td>Martin Freeman|Ian McKellen|Richard Armitage|K...</td>\n",
       "      <td>Peter Jackson</td>\n",
       "      <td>Beyond darkness... beyond desolation... lies t...</td>\n",
       "      <td>The Dwarves, Bilbo and Gandalf have successful...</td>\n",
       "      <td>161</td>\n",
       "      <td>Adventure|Fantasy</td>\n",
       "      <td>WingNut Films|New Line Cinema|Metro-Goldwyn-Ma...</td>\n",
       "      <td>12/11/2013</td>\n",
       "      <td>7.6</td>\n",
       "      <td>2013</td>\n",
       "    </tr>\n",
       "  </tbody>\n",
       "</table>\n",
       "</div>"
      ],
      "text/plain": [
       "        imdb_id     budget    revenue  \\\n",
       "123   tt2310332  250000000  955119788   \n",
       "1186  tt1170358  250000000  958400000   \n",
       "\n",
       "                                 original_title  \\\n",
       "123   The Hobbit: The Battle of the Five Armies   \n",
       "1186        The Hobbit: The Desolation of Smaug   \n",
       "\n",
       "                                                   cast       director  \\\n",
       "123   Martin Freeman|Ian McKellen|Richard Armitage|K...  Peter Jackson   \n",
       "1186  Martin Freeman|Ian McKellen|Richard Armitage|K...  Peter Jackson   \n",
       "\n",
       "                                                tagline  \\\n",
       "123   Witness the defining chapter of the Middle-Ear...   \n",
       "1186  Beyond darkness... beyond desolation... lies t...   \n",
       "\n",
       "                                               overview  runtime  \\\n",
       "123   Immediately after the events of The Desolation...      144   \n",
       "1186  The Dwarves, Bilbo and Gandalf have successful...      161   \n",
       "\n",
       "                 genres                               production_companies  \\\n",
       "123   Adventure|Fantasy  WingNut Films|New Line Cinema|3Foot7|Metro-Gol...   \n",
       "1186  Adventure|Fantasy  WingNut Films|New Line Cinema|Metro-Goldwyn-Ma...   \n",
       "\n",
       "     release_date  vote_average  release_year  \n",
       "123    12/10/2014           7.1          2014  \n",
       "1186   12/11/2013           7.6          2013  "
      ]
     },
     "metadata": {},
     "output_type": "display_data"
    },
    {
     "data": {
      "text/html": [
       "<div>\n",
       "<style scoped>\n",
       "    .dataframe tbody tr th:only-of-type {\n",
       "        vertical-align: middle;\n",
       "    }\n",
       "\n",
       "    .dataframe tbody tr th {\n",
       "        vertical-align: top;\n",
       "    }\n",
       "\n",
       "    .dataframe thead th {\n",
       "        text-align: right;\n",
       "    }\n",
       "</style>\n",
       "<table border=\"1\" class=\"dataframe\">\n",
       "  <thead>\n",
       "    <tr style=\"text-align: right;\">\n",
       "      <th></th>\n",
       "      <th>imdb_id</th>\n",
       "      <th>budget</th>\n",
       "      <th>revenue</th>\n",
       "      <th>original_title</th>\n",
       "      <th>cast</th>\n",
       "      <th>director</th>\n",
       "      <th>tagline</th>\n",
       "      <th>overview</th>\n",
       "      <th>runtime</th>\n",
       "      <th>genres</th>\n",
       "      <th>production_companies</th>\n",
       "      <th>release_date</th>\n",
       "      <th>vote_average</th>\n",
       "      <th>release_year</th>\n",
       "    </tr>\n",
       "  </thead>\n",
       "  <tbody>\n",
       "    <tr>\n",
       "      <th>743</th>\n",
       "      <td>tt1411697</td>\n",
       "      <td>80000000</td>\n",
       "      <td>254455986</td>\n",
       "      <td>The Hangover Part II</td>\n",
       "      <td>Bradley Cooper|Ed Helms|Zach Galifianakis|Just...</td>\n",
       "      <td>Todd Phillips</td>\n",
       "      <td>The Wolfpack Is Back</td>\n",
       "      <td>The Hangover crew heads to Thailand for Stu's ...</td>\n",
       "      <td>102</td>\n",
       "      <td>Comedy</td>\n",
       "      <td>Legendary Pictures|Living Films|Green Hat Film...</td>\n",
       "      <td>5/25/2011</td>\n",
       "      <td>6.1</td>\n",
       "      <td>2011</td>\n",
       "    </tr>\n",
       "    <tr>\n",
       "      <th>1223</th>\n",
       "      <td>tt1951261</td>\n",
       "      <td>103000000</td>\n",
       "      <td>362000072</td>\n",
       "      <td>The Hangover Part III</td>\n",
       "      <td>Bradley Cooper|Ed Helms|Zach Galifianakis|Just...</td>\n",
       "      <td>Todd Phillips</td>\n",
       "      <td>It all ends.</td>\n",
       "      <td>This time, there's no wedding. No bachelor par...</td>\n",
       "      <td>100</td>\n",
       "      <td>Comedy</td>\n",
       "      <td>Legendary Pictures|Green Hat Films</td>\n",
       "      <td>5/23/2013</td>\n",
       "      <td>6.0</td>\n",
       "      <td>2013</td>\n",
       "    </tr>\n",
       "  </tbody>\n",
       "</table>\n",
       "</div>"
      ],
      "text/plain": [
       "        imdb_id     budget    revenue         original_title  \\\n",
       "743   tt1411697   80000000  254455986   The Hangover Part II   \n",
       "1223  tt1951261  103000000  362000072  The Hangover Part III   \n",
       "\n",
       "                                                   cast       director  \\\n",
       "743   Bradley Cooper|Ed Helms|Zach Galifianakis|Just...  Todd Phillips   \n",
       "1223  Bradley Cooper|Ed Helms|Zach Galifianakis|Just...  Todd Phillips   \n",
       "\n",
       "                   tagline                                           overview  \\\n",
       "743   The Wolfpack Is Back  The Hangover crew heads to Thailand for Stu's ...   \n",
       "1223          It all ends.  This time, there's no wedding. No bachelor par...   \n",
       "\n",
       "      runtime  genres                               production_companies  \\\n",
       "743       102  Comedy  Legendary Pictures|Living Films|Green Hat Film...   \n",
       "1223      100  Comedy                 Legendary Pictures|Green Hat Films   \n",
       "\n",
       "     release_date  vote_average  release_year  \n",
       "743     5/25/2011           6.1          2011  \n",
       "1223    5/23/2013           6.0          2013  "
      ]
     },
     "metadata": {},
     "output_type": "display_data"
    },
    {
     "data": {
      "text/html": [
       "<div>\n",
       "<style scoped>\n",
       "    .dataframe tbody tr th:only-of-type {\n",
       "        vertical-align: middle;\n",
       "    }\n",
       "\n",
       "    .dataframe tbody tr th {\n",
       "        vertical-align: top;\n",
       "    }\n",
       "\n",
       "    .dataframe thead th {\n",
       "        text-align: right;\n",
       "    }\n",
       "</style>\n",
       "<table border=\"1\" class=\"dataframe\">\n",
       "  <thead>\n",
       "    <tr style=\"text-align: right;\">\n",
       "      <th></th>\n",
       "      <th>imdb_id</th>\n",
       "      <th>budget</th>\n",
       "      <th>revenue</th>\n",
       "      <th>original_title</th>\n",
       "      <th>cast</th>\n",
       "      <th>director</th>\n",
       "      <th>tagline</th>\n",
       "      <th>overview</th>\n",
       "      <th>runtime</th>\n",
       "      <th>genres</th>\n",
       "      <th>production_companies</th>\n",
       "      <th>release_date</th>\n",
       "      <th>vote_average</th>\n",
       "      <th>release_year</th>\n",
       "    </tr>\n",
       "  </thead>\n",
       "  <tbody>\n",
       "    <tr>\n",
       "      <th>1172</th>\n",
       "      <td>tt0290334</td>\n",
       "      <td>110000000</td>\n",
       "      <td>214948780</td>\n",
       "      <td>X2</td>\n",
       "      <td>Patrick Stewart|Hugh Jackman|Ian McKellen|Hall...</td>\n",
       "      <td>Bryan Singer</td>\n",
       "      <td>The time has come for those who are different ...</td>\n",
       "      <td>Professor Charles Xavier and his team of genet...</td>\n",
       "      <td>133</td>\n",
       "      <td>Adventure|Action|Science Fiction|Thriller</td>\n",
       "      <td>Twentieth Century Fox Film Corporation|Donners...</td>\n",
       "      <td>4/24/2003</td>\n",
       "      <td>6.7</td>\n",
       "      <td>2003</td>\n",
       "    </tr>\n",
       "    <tr>\n",
       "      <th>1884</th>\n",
       "      <td>tt0120903</td>\n",
       "      <td>75000000</td>\n",
       "      <td>157299717</td>\n",
       "      <td>X-Men</td>\n",
       "      <td>Patrick Stewart|Hugh Jackman|Ian McKellen|Hall...</td>\n",
       "      <td>Bryan Singer</td>\n",
       "      <td>Evolution Begins</td>\n",
       "      <td>Two mutants, Rogue and Wolverine, come to a pr...</td>\n",
       "      <td>104</td>\n",
       "      <td>Adventure|Action|Science Fiction</td>\n",
       "      <td>Twentieth Century Fox Film Corporation|Donners...</td>\n",
       "      <td>7/13/2000</td>\n",
       "      <td>6.6</td>\n",
       "      <td>2000</td>\n",
       "    </tr>\n",
       "  </tbody>\n",
       "</table>\n",
       "</div>"
      ],
      "text/plain": [
       "        imdb_id     budget    revenue original_title  \\\n",
       "1172  tt0290334  110000000  214948780             X2   \n",
       "1884  tt0120903   75000000  157299717          X-Men   \n",
       "\n",
       "                                                   cast      director  \\\n",
       "1172  Patrick Stewart|Hugh Jackman|Ian McKellen|Hall...  Bryan Singer   \n",
       "1884  Patrick Stewart|Hugh Jackman|Ian McKellen|Hall...  Bryan Singer   \n",
       "\n",
       "                                                tagline  \\\n",
       "1172  The time has come for those who are different ...   \n",
       "1884                                   Evolution Begins   \n",
       "\n",
       "                                               overview  runtime  \\\n",
       "1172  Professor Charles Xavier and his team of genet...      133   \n",
       "1884  Two mutants, Rogue and Wolverine, come to a pr...      104   \n",
       "\n",
       "                                         genres  \\\n",
       "1172  Adventure|Action|Science Fiction|Thriller   \n",
       "1884           Adventure|Action|Science Fiction   \n",
       "\n",
       "                                   production_companies release_date  \\\n",
       "1172  Twentieth Century Fox Film Corporation|Donners...    4/24/2003   \n",
       "1884  Twentieth Century Fox Film Corporation|Donners...    7/13/2000   \n",
       "\n",
       "      vote_average  release_year  \n",
       "1172           6.7          2003  \n",
       "1884           6.6          2000  "
      ]
     },
     "metadata": {},
     "output_type": "display_data"
    },
    {
     "data": {
      "text/html": [
       "<div>\n",
       "<style scoped>\n",
       "    .dataframe tbody tr th:only-of-type {\n",
       "        vertical-align: middle;\n",
       "    }\n",
       "\n",
       "    .dataframe tbody tr th {\n",
       "        vertical-align: top;\n",
       "    }\n",
       "\n",
       "    .dataframe thead th {\n",
       "        text-align: right;\n",
       "    }\n",
       "</style>\n",
       "<table border=\"1\" class=\"dataframe\">\n",
       "  <thead>\n",
       "    <tr style=\"text-align: right;\">\n",
       "      <th></th>\n",
       "      <th>imdb_id</th>\n",
       "      <th>budget</th>\n",
       "      <th>revenue</th>\n",
       "      <th>original_title</th>\n",
       "      <th>cast</th>\n",
       "      <th>director</th>\n",
       "      <th>tagline</th>\n",
       "      <th>overview</th>\n",
       "      <th>runtime</th>\n",
       "      <th>genres</th>\n",
       "      <th>production_companies</th>\n",
       "      <th>release_date</th>\n",
       "      <th>vote_average</th>\n",
       "      <th>release_year</th>\n",
       "    </tr>\n",
       "  </thead>\n",
       "  <tbody>\n",
       "    <tr>\n",
       "      <th>1575</th>\n",
       "      <td>tt0298148</td>\n",
       "      <td>150000000</td>\n",
       "      <td>919838758</td>\n",
       "      <td>Shrek 2</td>\n",
       "      <td>Mike Myers|Eddie Murphy|Cameron Diaz|Julie And...</td>\n",
       "      <td>Andrew Adamson|Kelly Asbury|Conrad Vernon</td>\n",
       "      <td>Once upon another time...</td>\n",
       "      <td>Shrek, Fiona and Donkey set off to Far, Far Aw...</td>\n",
       "      <td>93</td>\n",
       "      <td>Adventure|Animation|Comedy|Family|Fantasy</td>\n",
       "      <td>DreamWorks SKG|Pacific Data Images (PDI)|Dream...</td>\n",
       "      <td>5/19/2004</td>\n",
       "      <td>6.5</td>\n",
       "      <td>2004</td>\n",
       "    </tr>\n",
       "    <tr>\n",
       "      <th>1690</th>\n",
       "      <td>tt0413267</td>\n",
       "      <td>160000000</td>\n",
       "      <td>798958165</td>\n",
       "      <td>Shrek the Third</td>\n",
       "      <td>Mike Myers|Eddie Murphy|Cameron Diaz|Julie And...</td>\n",
       "      <td>Chris Miller|Raman Hui</td>\n",
       "      <td>Who's ready for Thirds?</td>\n",
       "      <td>The King of Far Far Away has died and Shrek an...</td>\n",
       "      <td>93</td>\n",
       "      <td>Fantasy|Adventure|Animation|Comedy|Family</td>\n",
       "      <td>DreamWorks Animation</td>\n",
       "      <td>5/17/2007</td>\n",
       "      <td>5.8</td>\n",
       "      <td>2007</td>\n",
       "    </tr>\n",
       "  </tbody>\n",
       "</table>\n",
       "</div>"
      ],
      "text/plain": [
       "        imdb_id     budget    revenue   original_title  \\\n",
       "1575  tt0298148  150000000  919838758          Shrek 2   \n",
       "1690  tt0413267  160000000  798958165  Shrek the Third   \n",
       "\n",
       "                                                   cast  \\\n",
       "1575  Mike Myers|Eddie Murphy|Cameron Diaz|Julie And...   \n",
       "1690  Mike Myers|Eddie Murphy|Cameron Diaz|Julie And...   \n",
       "\n",
       "                                       director                    tagline  \\\n",
       "1575  Andrew Adamson|Kelly Asbury|Conrad Vernon  Once upon another time...   \n",
       "1690                     Chris Miller|Raman Hui    Who's ready for Thirds?   \n",
       "\n",
       "                                               overview  runtime  \\\n",
       "1575  Shrek, Fiona and Donkey set off to Far, Far Aw...       93   \n",
       "1690  The King of Far Far Away has died and Shrek an...       93   \n",
       "\n",
       "                                         genres  \\\n",
       "1575  Adventure|Animation|Comedy|Family|Fantasy   \n",
       "1690  Fantasy|Adventure|Animation|Comedy|Family   \n",
       "\n",
       "                                   production_companies release_date  \\\n",
       "1575  DreamWorks SKG|Pacific Data Images (PDI)|Dream...    5/19/2004   \n",
       "1690                               DreamWorks Animation    5/17/2007   \n",
       "\n",
       "      vote_average  release_year  \n",
       "1575           6.5          2004  \n",
       "1690           5.8          2007  "
      ]
     },
     "metadata": {},
     "output_type": "display_data"
    },
    {
     "data": {
      "text/html": [
       "<div>\n",
       "<style scoped>\n",
       "    .dataframe tbody tr th:only-of-type {\n",
       "        vertical-align: middle;\n",
       "    }\n",
       "\n",
       "    .dataframe tbody tr th {\n",
       "        vertical-align: top;\n",
       "    }\n",
       "\n",
       "    .dataframe thead th {\n",
       "        text-align: right;\n",
       "    }\n",
       "</style>\n",
       "<table border=\"1\" class=\"dataframe\">\n",
       "  <thead>\n",
       "    <tr style=\"text-align: right;\">\n",
       "      <th></th>\n",
       "      <th>imdb_id</th>\n",
       "      <th>budget</th>\n",
       "      <th>revenue</th>\n",
       "      <th>original_title</th>\n",
       "      <th>cast</th>\n",
       "      <th>director</th>\n",
       "      <th>tagline</th>\n",
       "      <th>overview</th>\n",
       "      <th>runtime</th>\n",
       "      <th>genres</th>\n",
       "      <th>production_companies</th>\n",
       "      <th>release_date</th>\n",
       "      <th>vote_average</th>\n",
       "      <th>release_year</th>\n",
       "    </tr>\n",
       "  </thead>\n",
       "  <tbody>\n",
       "    <tr>\n",
       "      <th>408</th>\n",
       "      <td>tt1325004</td>\n",
       "      <td>68000000</td>\n",
       "      <td>698491347</td>\n",
       "      <td>The Twilight Saga: Eclipse</td>\n",
       "      <td>Kristen Stewart|Robert Pattinson|Taylor Lautne...</td>\n",
       "      <td>David Slade</td>\n",
       "      <td>It all begins ... With a choice.</td>\n",
       "      <td>Bella once again finds herself surrounded by d...</td>\n",
       "      <td>124</td>\n",
       "      <td>Adventure|Fantasy|Drama|Romance</td>\n",
       "      <td>Summit Entertainment|Maverick Films|Imprint En...</td>\n",
       "      <td>6/23/2010</td>\n",
       "      <td>5.9</td>\n",
       "      <td>2010</td>\n",
       "    </tr>\n",
       "    <tr>\n",
       "      <th>751</th>\n",
       "      <td>tt1324999</td>\n",
       "      <td>110000000</td>\n",
       "      <td>712171856</td>\n",
       "      <td>The Twilight Saga: Breaking Dawn - Part 1</td>\n",
       "      <td>Kristen Stewart|Robert Pattinson|Taylor Lautne...</td>\n",
       "      <td>Bill Condon</td>\n",
       "      <td>Forever is just the beginning</td>\n",
       "      <td>The new found married bliss of Bella Swan and ...</td>\n",
       "      <td>117</td>\n",
       "      <td>Adventure|Fantasy|Romance</td>\n",
       "      <td>Summit Entertainment|Sunswept Entertainment|To...</td>\n",
       "      <td>3/15/2011</td>\n",
       "      <td>5.8</td>\n",
       "      <td>2011</td>\n",
       "    </tr>\n",
       "  </tbody>\n",
       "</table>\n",
       "</div>"
      ],
      "text/plain": [
       "       imdb_id     budget    revenue  \\\n",
       "408  tt1325004   68000000  698491347   \n",
       "751  tt1324999  110000000  712171856   \n",
       "\n",
       "                                original_title  \\\n",
       "408                 The Twilight Saga: Eclipse   \n",
       "751  The Twilight Saga: Breaking Dawn - Part 1   \n",
       "\n",
       "                                                  cast     director  \\\n",
       "408  Kristen Stewart|Robert Pattinson|Taylor Lautne...  David Slade   \n",
       "751  Kristen Stewart|Robert Pattinson|Taylor Lautne...  Bill Condon   \n",
       "\n",
       "                              tagline  \\\n",
       "408  It all begins ... With a choice.   \n",
       "751     Forever is just the beginning   \n",
       "\n",
       "                                              overview  runtime  \\\n",
       "408  Bella once again finds herself surrounded by d...      124   \n",
       "751  The new found married bliss of Bella Swan and ...      117   \n",
       "\n",
       "                              genres  \\\n",
       "408  Adventure|Fantasy|Drama|Romance   \n",
       "751        Adventure|Fantasy|Romance   \n",
       "\n",
       "                                  production_companies release_date  \\\n",
       "408  Summit Entertainment|Maverick Films|Imprint En...    6/23/2010   \n",
       "751  Summit Entertainment|Sunswept Entertainment|To...    3/15/2011   \n",
       "\n",
       "     vote_average  release_year  \n",
       "408           5.9          2010  \n",
       "751           5.8          2011  "
      ]
     },
     "metadata": {},
     "output_type": "display_data"
    },
    {
     "data": {
      "text/html": [
       "<div>\n",
       "<style scoped>\n",
       "    .dataframe tbody tr th:only-of-type {\n",
       "        vertical-align: middle;\n",
       "    }\n",
       "\n",
       "    .dataframe tbody tr th {\n",
       "        vertical-align: top;\n",
       "    }\n",
       "\n",
       "    .dataframe thead th {\n",
       "        text-align: right;\n",
       "    }\n",
       "</style>\n",
       "<table border=\"1\" class=\"dataframe\">\n",
       "  <thead>\n",
       "    <tr style=\"text-align: right;\">\n",
       "      <th></th>\n",
       "      <th>imdb_id</th>\n",
       "      <th>budget</th>\n",
       "      <th>revenue</th>\n",
       "      <th>original_title</th>\n",
       "      <th>cast</th>\n",
       "      <th>director</th>\n",
       "      <th>tagline</th>\n",
       "      <th>overview</th>\n",
       "      <th>runtime</th>\n",
       "      <th>genres</th>\n",
       "      <th>production_companies</th>\n",
       "      <th>release_date</th>\n",
       "      <th>vote_average</th>\n",
       "      <th>release_year</th>\n",
       "    </tr>\n",
       "  </thead>\n",
       "  <tbody>\n",
       "    <tr>\n",
       "      <th>869</th>\n",
       "      <td>tt0121765</td>\n",
       "      <td>120000000</td>\n",
       "      <td>649398328</td>\n",
       "      <td>Star Wars: Episode II - Attack of the Clones</td>\n",
       "      <td>Ewan McGregor|Natalie Portman|Hayden Christens...</td>\n",
       "      <td>George Lucas</td>\n",
       "      <td>A Jedi Shall Not Know Anger. Nor Hatred. Nor L...</td>\n",
       "      <td>Ten years after the invasion of Naboo, the gal...</td>\n",
       "      <td>142</td>\n",
       "      <td>Adventure|Action|Science Fiction</td>\n",
       "      <td>Lucasfilm</td>\n",
       "      <td>5/15/2002</td>\n",
       "      <td>6.4</td>\n",
       "      <td>2002</td>\n",
       "    </tr>\n",
       "    <tr>\n",
       "      <th>1318</th>\n",
       "      <td>tt0121766</td>\n",
       "      <td>113000000</td>\n",
       "      <td>850000000</td>\n",
       "      <td>Star Wars: Episode III - Revenge of the Sith</td>\n",
       "      <td>Ewan McGregor|Natalie Portman|Hayden Christens...</td>\n",
       "      <td>George Lucas</td>\n",
       "      <td>The saga is complete.</td>\n",
       "      <td>Years after the onset of the Clone Wars, the n...</td>\n",
       "      <td>140</td>\n",
       "      <td>Science Fiction|Adventure|Action</td>\n",
       "      <td>Lucasfilm</td>\n",
       "      <td>5/17/2005</td>\n",
       "      <td>7.0</td>\n",
       "      <td>2005</td>\n",
       "    </tr>\n",
       "  </tbody>\n",
       "</table>\n",
       "</div>"
      ],
      "text/plain": [
       "        imdb_id     budget    revenue  \\\n",
       "869   tt0121765  120000000  649398328   \n",
       "1318  tt0121766  113000000  850000000   \n",
       "\n",
       "                                    original_title  \\\n",
       "869   Star Wars: Episode II - Attack of the Clones   \n",
       "1318  Star Wars: Episode III - Revenge of the Sith   \n",
       "\n",
       "                                                   cast      director  \\\n",
       "869   Ewan McGregor|Natalie Portman|Hayden Christens...  George Lucas   \n",
       "1318  Ewan McGregor|Natalie Portman|Hayden Christens...  George Lucas   \n",
       "\n",
       "                                                tagline  \\\n",
       "869   A Jedi Shall Not Know Anger. Nor Hatred. Nor L...   \n",
       "1318                              The saga is complete.   \n",
       "\n",
       "                                               overview  runtime  \\\n",
       "869   Ten years after the invasion of Naboo, the gal...      142   \n",
       "1318  Years after the onset of the Clone Wars, the n...      140   \n",
       "\n",
       "                                genres production_companies release_date  \\\n",
       "869   Adventure|Action|Science Fiction            Lucasfilm    5/15/2002   \n",
       "1318  Science Fiction|Adventure|Action            Lucasfilm    5/17/2005   \n",
       "\n",
       "      vote_average  release_year  \n",
       "869            6.4          2002  \n",
       "1318           7.0          2005  "
      ]
     },
     "metadata": {},
     "output_type": "display_data"
    }
   ],
   "source": [
    "\"\"\"Вывод строк датасета с фильмами, имеющих одинаковый актёрский состав\"\"\"\n",
    "for cast in double_cast.index:\n",
    "    display(data[(data.cast == cast)])"
   ]
  },
  {
   "cell_type": "code",
   "execution_count": 10,
   "metadata": {},
   "outputs": [
    {
     "data": {
      "text/plain": [
       "Worlds Collide                                2\n",
       "The only way out is down.                     2\n",
       "What could go wrong?                          2\n",
       "One ordinary couple. One little white lie.    2\n",
       "Based on the Best Selling Novel               2\n",
       "Based on a true story.                        2\n",
       "Misery loves family.                          2\n",
       "Inspired by True Events                       2\n",
       "There are no clean getaways.                  2\n",
       "Name: tagline, dtype: int64"
      ]
     },
     "execution_count": 10,
     "metadata": {},
     "output_type": "execute_result"
    }
   ],
   "source": [
    "\"\"\"Проверка фильмов с одинаковым слоганом\"\"\"\n",
    "tagline_list = data.tagline.value_counts()\n",
    "double_tagline=tagline_list.loc[tagline_list>1]\n",
    "double_tagline"
   ]
  },
  {
   "cell_type": "code",
   "execution_count": 11,
   "metadata": {},
   "outputs": [
    {
     "data": {
      "text/html": [
       "<div>\n",
       "<style scoped>\n",
       "    .dataframe tbody tr th:only-of-type {\n",
       "        vertical-align: middle;\n",
       "    }\n",
       "\n",
       "    .dataframe tbody tr th {\n",
       "        vertical-align: top;\n",
       "    }\n",
       "\n",
       "    .dataframe thead th {\n",
       "        text-align: right;\n",
       "    }\n",
       "</style>\n",
       "<table border=\"1\" class=\"dataframe\">\n",
       "  <thead>\n",
       "    <tr style=\"text-align: right;\">\n",
       "      <th></th>\n",
       "      <th>imdb_id</th>\n",
       "      <th>budget</th>\n",
       "      <th>revenue</th>\n",
       "      <th>original_title</th>\n",
       "      <th>cast</th>\n",
       "      <th>director</th>\n",
       "      <th>tagline</th>\n",
       "      <th>overview</th>\n",
       "      <th>runtime</th>\n",
       "      <th>genres</th>\n",
       "      <th>production_companies</th>\n",
       "      <th>release_date</th>\n",
       "      <th>vote_average</th>\n",
       "      <th>release_year</th>\n",
       "    </tr>\n",
       "  </thead>\n",
       "  <tbody>\n",
       "    <tr>\n",
       "      <th>43</th>\n",
       "      <td>tt2224026</td>\n",
       "      <td>135000000</td>\n",
       "      <td>368871007</td>\n",
       "      <td>Home</td>\n",
       "      <td>Jim Parsons|Rihanna|Steve Martin|Jennifer Lope...</td>\n",
       "      <td>Tim Johnson</td>\n",
       "      <td>Worlds Collide</td>\n",
       "      <td>When Earth is taken over by the overly-confide...</td>\n",
       "      <td>94</td>\n",
       "      <td>Fantasy|Comedy|Animation|Science Fiction|Family</td>\n",
       "      <td>Twentieth Century Fox Film Corporation|DreamWo...</td>\n",
       "      <td>3/18/2015</td>\n",
       "      <td>6.9</td>\n",
       "      <td>2015</td>\n",
       "    </tr>\n",
       "    <tr>\n",
       "      <th>397</th>\n",
       "      <td>tt0814255</td>\n",
       "      <td>95000000</td>\n",
       "      <td>226497209</td>\n",
       "      <td>Percy Jackson &amp; the Olympians: The Lightning T...</td>\n",
       "      <td>Logan Lerman|Brandon T. Jackson|Alexandra Dadd...</td>\n",
       "      <td>Chris Columbus</td>\n",
       "      <td>Worlds Collide</td>\n",
       "      <td>Accident prone teenager, Percy discovers he's ...</td>\n",
       "      <td>118</td>\n",
       "      <td>Adventure|Fantasy|Family</td>\n",
       "      <td>Ingenious Film Partners|1492 Pictures|Dune Ent...</td>\n",
       "      <td>2/1/2010</td>\n",
       "      <td>6.0</td>\n",
       "      <td>2010</td>\n",
       "    </tr>\n",
       "  </tbody>\n",
       "</table>\n",
       "</div>"
      ],
      "text/plain": [
       "       imdb_id     budget    revenue  \\\n",
       "43   tt2224026  135000000  368871007   \n",
       "397  tt0814255   95000000  226497209   \n",
       "\n",
       "                                        original_title  \\\n",
       "43                                                Home   \n",
       "397  Percy Jackson & the Olympians: The Lightning T...   \n",
       "\n",
       "                                                  cast        director  \\\n",
       "43   Jim Parsons|Rihanna|Steve Martin|Jennifer Lope...     Tim Johnson   \n",
       "397  Logan Lerman|Brandon T. Jackson|Alexandra Dadd...  Chris Columbus   \n",
       "\n",
       "            tagline                                           overview  \\\n",
       "43   Worlds Collide  When Earth is taken over by the overly-confide...   \n",
       "397  Worlds Collide  Accident prone teenager, Percy discovers he's ...   \n",
       "\n",
       "     runtime                                           genres  \\\n",
       "43        94  Fantasy|Comedy|Animation|Science Fiction|Family   \n",
       "397      118                         Adventure|Fantasy|Family   \n",
       "\n",
       "                                  production_companies release_date  \\\n",
       "43   Twentieth Century Fox Film Corporation|DreamWo...    3/18/2015   \n",
       "397  Ingenious Film Partners|1492 Pictures|Dune Ent...     2/1/2010   \n",
       "\n",
       "     vote_average  release_year  \n",
       "43            6.9          2015  \n",
       "397           6.0          2010  "
      ]
     },
     "metadata": {},
     "output_type": "display_data"
    },
    {
     "data": {
      "text/html": [
       "<div>\n",
       "<style scoped>\n",
       "    .dataframe tbody tr th:only-of-type {\n",
       "        vertical-align: middle;\n",
       "    }\n",
       "\n",
       "    .dataframe tbody tr th {\n",
       "        vertical-align: top;\n",
       "    }\n",
       "\n",
       "    .dataframe thead th {\n",
       "        text-align: right;\n",
       "    }\n",
       "</style>\n",
       "<table border=\"1\" class=\"dataframe\">\n",
       "  <thead>\n",
       "    <tr style=\"text-align: right;\">\n",
       "      <th></th>\n",
       "      <th>imdb_id</th>\n",
       "      <th>budget</th>\n",
       "      <th>revenue</th>\n",
       "      <th>original_title</th>\n",
       "      <th>cast</th>\n",
       "      <th>director</th>\n",
       "      <th>tagline</th>\n",
       "      <th>overview</th>\n",
       "      <th>runtime</th>\n",
       "      <th>genres</th>\n",
       "      <th>production_companies</th>\n",
       "      <th>release_date</th>\n",
       "      <th>vote_average</th>\n",
       "      <th>release_year</th>\n",
       "    </tr>\n",
       "  </thead>\n",
       "  <tbody>\n",
       "    <tr>\n",
       "      <th>206</th>\n",
       "      <td>tt2870612</td>\n",
       "      <td>5000000</td>\n",
       "      <td>40100000</td>\n",
       "      <td>As Above, So Below</td>\n",
       "      <td>Perdita Weeks|Ben Feldman|Edwin Hodge|FranÃ§oi...</td>\n",
       "      <td>John Erick Dowdle</td>\n",
       "      <td>The only way out is down.</td>\n",
       "      <td>When a team of explorers ventures into the cat...</td>\n",
       "      <td>93</td>\n",
       "      <td>Horror|Thriller</td>\n",
       "      <td>Legendary Pictures</td>\n",
       "      <td>8/14/2014</td>\n",
       "      <td>6.1</td>\n",
       "      <td>2014</td>\n",
       "    </tr>\n",
       "    <tr>\n",
       "      <th>838</th>\n",
       "      <td>tt0881320</td>\n",
       "      <td>30000000</td>\n",
       "      <td>108609310</td>\n",
       "      <td>Sanctum</td>\n",
       "      <td>Ioan Gruffudd|Richard Roxburgh|Alice Parkinson...</td>\n",
       "      <td>Alister Grierson</td>\n",
       "      <td>The only way out is down.</td>\n",
       "      <td>The 3-D action-thriller Sanctum, from executiv...</td>\n",
       "      <td>108</td>\n",
       "      <td>Action|Thriller</td>\n",
       "      <td>Universal Pictures|Wayfare Entertainment|Sanct...</td>\n",
       "      <td>2/3/2011</td>\n",
       "      <td>5.7</td>\n",
       "      <td>2011</td>\n",
       "    </tr>\n",
       "  </tbody>\n",
       "</table>\n",
       "</div>"
      ],
      "text/plain": [
       "       imdb_id    budget    revenue      original_title  \\\n",
       "206  tt2870612   5000000   40100000  As Above, So Below   \n",
       "838  tt0881320  30000000  108609310             Sanctum   \n",
       "\n",
       "                                                  cast           director  \\\n",
       "206  Perdita Weeks|Ben Feldman|Edwin Hodge|FranÃ§oi...  John Erick Dowdle   \n",
       "838  Ioan Gruffudd|Richard Roxburgh|Alice Parkinson...   Alister Grierson   \n",
       "\n",
       "                       tagline  \\\n",
       "206  The only way out is down.   \n",
       "838  The only way out is down.   \n",
       "\n",
       "                                              overview  runtime  \\\n",
       "206  When a team of explorers ventures into the cat...       93   \n",
       "838  The 3-D action-thriller Sanctum, from executiv...      108   \n",
       "\n",
       "              genres                               production_companies  \\\n",
       "206  Horror|Thriller                                 Legendary Pictures   \n",
       "838  Action|Thriller  Universal Pictures|Wayfare Entertainment|Sanct...   \n",
       "\n",
       "    release_date  vote_average  release_year  \n",
       "206    8/14/2014           6.1          2014  \n",
       "838     2/3/2011           5.7          2011  "
      ]
     },
     "metadata": {},
     "output_type": "display_data"
    },
    {
     "data": {
      "text/html": [
       "<div>\n",
       "<style scoped>\n",
       "    .dataframe tbody tr th:only-of-type {\n",
       "        vertical-align: middle;\n",
       "    }\n",
       "\n",
       "    .dataframe tbody tr th {\n",
       "        vertical-align: top;\n",
       "    }\n",
       "\n",
       "    .dataframe thead th {\n",
       "        text-align: right;\n",
       "    }\n",
       "</style>\n",
       "<table border=\"1\" class=\"dataframe\">\n",
       "  <thead>\n",
       "    <tr style=\"text-align: right;\">\n",
       "      <th></th>\n",
       "      <th>imdb_id</th>\n",
       "      <th>budget</th>\n",
       "      <th>revenue</th>\n",
       "      <th>original_title</th>\n",
       "      <th>cast</th>\n",
       "      <th>director</th>\n",
       "      <th>tagline</th>\n",
       "      <th>overview</th>\n",
       "      <th>runtime</th>\n",
       "      <th>genres</th>\n",
       "      <th>production_companies</th>\n",
       "      <th>release_date</th>\n",
       "      <th>vote_average</th>\n",
       "      <th>release_year</th>\n",
       "    </tr>\n",
       "  </thead>\n",
       "  <tbody>\n",
       "    <tr>\n",
       "      <th>72</th>\n",
       "      <td>tt1524930</td>\n",
       "      <td>31000000</td>\n",
       "      <td>104384188</td>\n",
       "      <td>Vacation</td>\n",
       "      <td>Ed Helms|Christina Applegate|Skyler Gisondo|St...</td>\n",
       "      <td>John Francis Daley|Jonathan M. Goldstein</td>\n",
       "      <td>What could go wrong?</td>\n",
       "      <td>Hoping to bring his family closer together and...</td>\n",
       "      <td>99</td>\n",
       "      <td>Adventure|Comedy</td>\n",
       "      <td>New Line Cinema|BenderSpink|David Dobkin Produ...</td>\n",
       "      <td>7/28/2015</td>\n",
       "      <td>6.1</td>\n",
       "      <td>2015</td>\n",
       "    </tr>\n",
       "    <tr>\n",
       "      <th>233</th>\n",
       "      <td>tt3014666</td>\n",
       "      <td>5000000</td>\n",
       "      <td>10429707</td>\n",
       "      <td>Moms' Night Out</td>\n",
       "      <td>Sarah Drew|Sean Astin|Patricia Heaton|Logan Wh...</td>\n",
       "      <td>Andrew Erwin|Jon Erwin</td>\n",
       "      <td>What could go wrong?</td>\n",
       "      <td>Yearning for an evening without their kids, so...</td>\n",
       "      <td>98</td>\n",
       "      <td>Comedy</td>\n",
       "      <td>TriStar Pictures|Provident Films|Pure Flix Ent...</td>\n",
       "      <td>3/25/2014</td>\n",
       "      <td>5.7</td>\n",
       "      <td>2014</td>\n",
       "    </tr>\n",
       "  </tbody>\n",
       "</table>\n",
       "</div>"
      ],
      "text/plain": [
       "       imdb_id    budget    revenue   original_title  \\\n",
       "72   tt1524930  31000000  104384188         Vacation   \n",
       "233  tt3014666   5000000   10429707  Moms' Night Out   \n",
       "\n",
       "                                                  cast  \\\n",
       "72   Ed Helms|Christina Applegate|Skyler Gisondo|St...   \n",
       "233  Sarah Drew|Sean Astin|Patricia Heaton|Logan Wh...   \n",
       "\n",
       "                                     director               tagline  \\\n",
       "72   John Francis Daley|Jonathan M. Goldstein  What could go wrong?   \n",
       "233                    Andrew Erwin|Jon Erwin  What could go wrong?   \n",
       "\n",
       "                                              overview  runtime  \\\n",
       "72   Hoping to bring his family closer together and...       99   \n",
       "233  Yearning for an evening without their kids, so...       98   \n",
       "\n",
       "               genres                               production_companies  \\\n",
       "72   Adventure|Comedy  New Line Cinema|BenderSpink|David Dobkin Produ...   \n",
       "233            Comedy  TriStar Pictures|Provident Films|Pure Flix Ent...   \n",
       "\n",
       "    release_date  vote_average  release_year  \n",
       "72     7/28/2015           6.1          2015  \n",
       "233    3/25/2014           5.7          2014  "
      ]
     },
     "metadata": {},
     "output_type": "display_data"
    },
    {
     "data": {
      "text/html": [
       "<div>\n",
       "<style scoped>\n",
       "    .dataframe tbody tr th:only-of-type {\n",
       "        vertical-align: middle;\n",
       "    }\n",
       "\n",
       "    .dataframe tbody tr th {\n",
       "        vertical-align: top;\n",
       "    }\n",
       "\n",
       "    .dataframe thead th {\n",
       "        text-align: right;\n",
       "    }\n",
       "</style>\n",
       "<table border=\"1\" class=\"dataframe\">\n",
       "  <thead>\n",
       "    <tr style=\"text-align: right;\">\n",
       "      <th></th>\n",
       "      <th>imdb_id</th>\n",
       "      <th>budget</th>\n",
       "      <th>revenue</th>\n",
       "      <th>original_title</th>\n",
       "      <th>cast</th>\n",
       "      <th>director</th>\n",
       "      <th>tagline</th>\n",
       "      <th>overview</th>\n",
       "      <th>runtime</th>\n",
       "      <th>genres</th>\n",
       "      <th>production_companies</th>\n",
       "      <th>release_date</th>\n",
       "      <th>vote_average</th>\n",
       "      <th>release_year</th>\n",
       "    </tr>\n",
       "  </thead>\n",
       "  <tbody>\n",
       "    <tr>\n",
       "      <th>406</th>\n",
       "      <td>tt1279935</td>\n",
       "      <td>55000000</td>\n",
       "      <td>152263880</td>\n",
       "      <td>Date Night</td>\n",
       "      <td>Steve Carell|Tina Fey|Mark Wahlberg|Taraji P. ...</td>\n",
       "      <td>Shawn Levy</td>\n",
       "      <td>One ordinary couple. One little white lie.</td>\n",
       "      <td>The mild-mannered married couple Phil and Clai...</td>\n",
       "      <td>97</td>\n",
       "      <td>Comedy</td>\n",
       "      <td>Twentieth Century Fox Film Corporation|Dune En...</td>\n",
       "      <td>4/8/2010</td>\n",
       "      <td>5.9</td>\n",
       "      <td>2010</td>\n",
       "    </tr>\n",
       "    <tr>\n",
       "      <th>893</th>\n",
       "      <td>tt0276751</td>\n",
       "      <td>27000000</td>\n",
       "      <td>129000000</td>\n",
       "      <td>About a Boy</td>\n",
       "      <td>Hugh Grant|Nicholas Hoult|Toni Collette|Rachel...</td>\n",
       "      <td>Chris Weitz|Paul Weitz</td>\n",
       "      <td>One ordinary couple. One little white lie.</td>\n",
       "      <td>Will Freeman is a hip Londoner who one day rea...</td>\n",
       "      <td>101</td>\n",
       "      <td>Drama|Comedy|Romance</td>\n",
       "      <td>Universal Pictures</td>\n",
       "      <td>4/26/2002</td>\n",
       "      <td>6.4</td>\n",
       "      <td>2002</td>\n",
       "    </tr>\n",
       "  </tbody>\n",
       "</table>\n",
       "</div>"
      ],
      "text/plain": [
       "       imdb_id    budget    revenue original_title  \\\n",
       "406  tt1279935  55000000  152263880     Date Night   \n",
       "893  tt0276751  27000000  129000000    About a Boy   \n",
       "\n",
       "                                                  cast  \\\n",
       "406  Steve Carell|Tina Fey|Mark Wahlberg|Taraji P. ...   \n",
       "893  Hugh Grant|Nicholas Hoult|Toni Collette|Rachel...   \n",
       "\n",
       "                   director                                     tagline  \\\n",
       "406              Shawn Levy  One ordinary couple. One little white lie.   \n",
       "893  Chris Weitz|Paul Weitz  One ordinary couple. One little white lie.   \n",
       "\n",
       "                                              overview  runtime  \\\n",
       "406  The mild-mannered married couple Phil and Clai...       97   \n",
       "893  Will Freeman is a hip Londoner who one day rea...      101   \n",
       "\n",
       "                   genres                               production_companies  \\\n",
       "406                Comedy  Twentieth Century Fox Film Corporation|Dune En...   \n",
       "893  Drama|Comedy|Romance                                 Universal Pictures   \n",
       "\n",
       "    release_date  vote_average  release_year  \n",
       "406     4/8/2010           5.9          2010  \n",
       "893    4/26/2002           6.4          2002  "
      ]
     },
     "metadata": {},
     "output_type": "display_data"
    },
    {
     "data": {
      "text/html": [
       "<div>\n",
       "<style scoped>\n",
       "    .dataframe tbody tr th:only-of-type {\n",
       "        vertical-align: middle;\n",
       "    }\n",
       "\n",
       "    .dataframe tbody tr th {\n",
       "        vertical-align: top;\n",
       "    }\n",
       "\n",
       "    .dataframe thead th {\n",
       "        text-align: right;\n",
       "    }\n",
       "</style>\n",
       "<table border=\"1\" class=\"dataframe\">\n",
       "  <thead>\n",
       "    <tr style=\"text-align: right;\">\n",
       "      <th></th>\n",
       "      <th>imdb_id</th>\n",
       "      <th>budget</th>\n",
       "      <th>revenue</th>\n",
       "      <th>original_title</th>\n",
       "      <th>cast</th>\n",
       "      <th>director</th>\n",
       "      <th>tagline</th>\n",
       "      <th>overview</th>\n",
       "      <th>runtime</th>\n",
       "      <th>genres</th>\n",
       "      <th>production_companies</th>\n",
       "      <th>release_date</th>\n",
       "      <th>vote_average</th>\n",
       "      <th>release_year</th>\n",
       "    </tr>\n",
       "  </thead>\n",
       "  <tbody>\n",
       "    <tr>\n",
       "      <th>210</th>\n",
       "      <td>tt0900387</td>\n",
       "      <td>15000000</td>\n",
       "      <td>9104716</td>\n",
       "      <td>Suite FranÃ§aise</td>\n",
       "      <td>Michelle Williams|Kristin Scott Thomas|Matthia...</td>\n",
       "      <td>Saul Dibb</td>\n",
       "      <td>Based on the Best Selling Novel</td>\n",
       "      <td>France, 1940. In the first days of occupation,...</td>\n",
       "      <td>107</td>\n",
       "      <td>Drama|Romance|War</td>\n",
       "      <td>Qwerty Films|Alliance Films|Canal+|TF1 Droits ...</td>\n",
       "      <td>11/5/2014</td>\n",
       "      <td>6.9</td>\n",
       "      <td>2014</td>\n",
       "    </tr>\n",
       "    <tr>\n",
       "      <th>350</th>\n",
       "      <td>tt1078588</td>\n",
       "      <td>30000000</td>\n",
       "      <td>95714875</td>\n",
       "      <td>My Sister's Keeper</td>\n",
       "      <td>Cameron Diaz|Alec Baldwin|Abigail Breslin|Joan...</td>\n",
       "      <td>Nick Cassavetes</td>\n",
       "      <td>Based on the Best Selling Novel</td>\n",
       "      <td>Sara and Brian live an idyllic life with their...</td>\n",
       "      <td>109</td>\n",
       "      <td>Drama</td>\n",
       "      <td>Mark Johnson Productions|Gran Via Productions|...</td>\n",
       "      <td>6/26/2009</td>\n",
       "      <td>7.0</td>\n",
       "      <td>2009</td>\n",
       "    </tr>\n",
       "  </tbody>\n",
       "</table>\n",
       "</div>"
      ],
      "text/plain": [
       "       imdb_id    budget   revenue      original_title  \\\n",
       "210  tt0900387  15000000   9104716    Suite FranÃ§aise   \n",
       "350  tt1078588  30000000  95714875  My Sister's Keeper   \n",
       "\n",
       "                                                  cast         director  \\\n",
       "210  Michelle Williams|Kristin Scott Thomas|Matthia...        Saul Dibb   \n",
       "350  Cameron Diaz|Alec Baldwin|Abigail Breslin|Joan...  Nick Cassavetes   \n",
       "\n",
       "                             tagline  \\\n",
       "210  Based on the Best Selling Novel   \n",
       "350  Based on the Best Selling Novel   \n",
       "\n",
       "                                              overview  runtime  \\\n",
       "210  France, 1940. In the first days of occupation,...      107   \n",
       "350  Sara and Brian live an idyllic life with their...      109   \n",
       "\n",
       "                genres                               production_companies  \\\n",
       "210  Drama|Romance|War  Qwerty Films|Alliance Films|Canal+|TF1 Droits ...   \n",
       "350              Drama  Mark Johnson Productions|Gran Via Productions|...   \n",
       "\n",
       "    release_date  vote_average  release_year  \n",
       "210    11/5/2014           6.9          2014  \n",
       "350    6/26/2009           7.0          2009  "
      ]
     },
     "metadata": {},
     "output_type": "display_data"
    },
    {
     "data": {
      "text/html": [
       "<div>\n",
       "<style scoped>\n",
       "    .dataframe tbody tr th:only-of-type {\n",
       "        vertical-align: middle;\n",
       "    }\n",
       "\n",
       "    .dataframe tbody tr th {\n",
       "        vertical-align: top;\n",
       "    }\n",
       "\n",
       "    .dataframe thead th {\n",
       "        text-align: right;\n",
       "    }\n",
       "</style>\n",
       "<table border=\"1\" class=\"dataframe\">\n",
       "  <thead>\n",
       "    <tr style=\"text-align: right;\">\n",
       "      <th></th>\n",
       "      <th>imdb_id</th>\n",
       "      <th>budget</th>\n",
       "      <th>revenue</th>\n",
       "      <th>original_title</th>\n",
       "      <th>cast</th>\n",
       "      <th>director</th>\n",
       "      <th>tagline</th>\n",
       "      <th>overview</th>\n",
       "      <th>runtime</th>\n",
       "      <th>genres</th>\n",
       "      <th>production_companies</th>\n",
       "      <th>release_date</th>\n",
       "      <th>vote_average</th>\n",
       "      <th>release_year</th>\n",
       "    </tr>\n",
       "  </thead>\n",
       "  <tbody>\n",
       "    <tr>\n",
       "      <th>1154</th>\n",
       "      <td>tt0340855</td>\n",
       "      <td>8000000</td>\n",
       "      <td>60378584</td>\n",
       "      <td>Monster</td>\n",
       "      <td>Charlize Theron|Christina Ricci|Bruce Dern|Lee...</td>\n",
       "      <td>Patty Jenkins</td>\n",
       "      <td>Based on a true story.</td>\n",
       "      <td>Aileen Wuornos is an emotionally scarred highw...</td>\n",
       "      <td>110</td>\n",
       "      <td>Crime|Drama</td>\n",
       "      <td>Newmarket Films</td>\n",
       "      <td>11/16/2003</td>\n",
       "      <td>6.8</td>\n",
       "      <td>2003</td>\n",
       "    </tr>\n",
       "    <tr>\n",
       "      <th>1269</th>\n",
       "      <td>tt2171867</td>\n",
       "      <td>11000000</td>\n",
       "      <td>3639345</td>\n",
       "      <td>Empire State</td>\n",
       "      <td>Liam Hemsworth|Dwayne Johnson|Emma Roberts|Nik...</td>\n",
       "      <td>Dito Montiel</td>\n",
       "      <td>Based on a true story.</td>\n",
       "      <td>After failing to get into the police academy, ...</td>\n",
       "      <td>94</td>\n",
       "      <td>Action|Drama</td>\n",
       "      <td>Grindstone Entertainment Group|Cheetah Vision|...</td>\n",
       "      <td>9/3/2013</td>\n",
       "      <td>5.0</td>\n",
       "      <td>2013</td>\n",
       "    </tr>\n",
       "  </tbody>\n",
       "</table>\n",
       "</div>"
      ],
      "text/plain": [
       "        imdb_id    budget   revenue original_title  \\\n",
       "1154  tt0340855   8000000  60378584        Monster   \n",
       "1269  tt2171867  11000000   3639345   Empire State   \n",
       "\n",
       "                                                   cast       director  \\\n",
       "1154  Charlize Theron|Christina Ricci|Bruce Dern|Lee...  Patty Jenkins   \n",
       "1269  Liam Hemsworth|Dwayne Johnson|Emma Roberts|Nik...   Dito Montiel   \n",
       "\n",
       "                     tagline  \\\n",
       "1154  Based on a true story.   \n",
       "1269  Based on a true story.   \n",
       "\n",
       "                                               overview  runtime  \\\n",
       "1154  Aileen Wuornos is an emotionally scarred highw...      110   \n",
       "1269  After failing to get into the police academy, ...       94   \n",
       "\n",
       "            genres                               production_companies  \\\n",
       "1154   Crime|Drama                                    Newmarket Films   \n",
       "1269  Action|Drama  Grindstone Entertainment Group|Cheetah Vision|...   \n",
       "\n",
       "     release_date  vote_average  release_year  \n",
       "1154   11/16/2003           6.8          2003  \n",
       "1269     9/3/2013           5.0          2013  "
      ]
     },
     "metadata": {},
     "output_type": "display_data"
    },
    {
     "data": {
      "text/html": [
       "<div>\n",
       "<style scoped>\n",
       "    .dataframe tbody tr th:only-of-type {\n",
       "        vertical-align: middle;\n",
       "    }\n",
       "\n",
       "    .dataframe tbody tr th {\n",
       "        vertical-align: top;\n",
       "    }\n",
       "\n",
       "    .dataframe thead th {\n",
       "        text-align: right;\n",
       "    }\n",
       "</style>\n",
       "<table border=\"1\" class=\"dataframe\">\n",
       "  <thead>\n",
       "    <tr style=\"text-align: right;\">\n",
       "      <th></th>\n",
       "      <th>imdb_id</th>\n",
       "      <th>budget</th>\n",
       "      <th>revenue</th>\n",
       "      <th>original_title</th>\n",
       "      <th>cast</th>\n",
       "      <th>director</th>\n",
       "      <th>tagline</th>\n",
       "      <th>overview</th>\n",
       "      <th>runtime</th>\n",
       "      <th>genres</th>\n",
       "      <th>production_companies</th>\n",
       "      <th>release_date</th>\n",
       "      <th>vote_average</th>\n",
       "      <th>release_year</th>\n",
       "    </tr>\n",
       "  </thead>\n",
       "  <tbody>\n",
       "    <tr>\n",
       "      <th>1292</th>\n",
       "      <td>tt1322269</td>\n",
       "      <td>25000000</td>\n",
       "      <td>74188937</td>\n",
       "      <td>August: Osage County</td>\n",
       "      <td>Meryl Streep|Julia Roberts|Chris Cooper|Ewan M...</td>\n",
       "      <td>John Wells</td>\n",
       "      <td>Misery loves family.</td>\n",
       "      <td>A look at the lives of the strong-willed women...</td>\n",
       "      <td>121</td>\n",
       "      <td>Comedy|Drama</td>\n",
       "      <td>Jean Doumanian Productions|Smokehouse Pictures</td>\n",
       "      <td>12/26/2013</td>\n",
       "      <td>6.8</td>\n",
       "      <td>2013</td>\n",
       "    </tr>\n",
       "    <tr>\n",
       "      <th>1579</th>\n",
       "      <td>tt0290002</td>\n",
       "      <td>80000000</td>\n",
       "      <td>516642939</td>\n",
       "      <td>Meet the Fockers</td>\n",
       "      <td>Ben Stiller|Teri Polo|Robert De Niro|Dustin Ho...</td>\n",
       "      <td>Jay Roach</td>\n",
       "      <td>Misery loves family.</td>\n",
       "      <td>Hard-to-crack ex-CIA man, Jack Byrnes and his ...</td>\n",
       "      <td>115</td>\n",
       "      <td>Comedy|Romance</td>\n",
       "      <td>DreamWorks SKG|Universal Pictures|Everyman Pic...</td>\n",
       "      <td>12/15/2004</td>\n",
       "      <td>6.1</td>\n",
       "      <td>2004</td>\n",
       "    </tr>\n",
       "  </tbody>\n",
       "</table>\n",
       "</div>"
      ],
      "text/plain": [
       "        imdb_id    budget    revenue        original_title  \\\n",
       "1292  tt1322269  25000000   74188937  August: Osage County   \n",
       "1579  tt0290002  80000000  516642939      Meet the Fockers   \n",
       "\n",
       "                                                   cast    director  \\\n",
       "1292  Meryl Streep|Julia Roberts|Chris Cooper|Ewan M...  John Wells   \n",
       "1579  Ben Stiller|Teri Polo|Robert De Niro|Dustin Ho...   Jay Roach   \n",
       "\n",
       "                   tagline                                           overview  \\\n",
       "1292  Misery loves family.  A look at the lives of the strong-willed women...   \n",
       "1579  Misery loves family.  Hard-to-crack ex-CIA man, Jack Byrnes and his ...   \n",
       "\n",
       "      runtime          genres  \\\n",
       "1292      121    Comedy|Drama   \n",
       "1579      115  Comedy|Romance   \n",
       "\n",
       "                                   production_companies release_date  \\\n",
       "1292     Jean Doumanian Productions|Smokehouse Pictures   12/26/2013   \n",
       "1579  DreamWorks SKG|Universal Pictures|Everyman Pic...   12/15/2004   \n",
       "\n",
       "      vote_average  release_year  \n",
       "1292           6.8          2013  \n",
       "1579           6.1          2004  "
      ]
     },
     "metadata": {},
     "output_type": "display_data"
    },
    {
     "data": {
      "text/html": [
       "<div>\n",
       "<style scoped>\n",
       "    .dataframe tbody tr th:only-of-type {\n",
       "        vertical-align: middle;\n",
       "    }\n",
       "\n",
       "    .dataframe tbody tr th {\n",
       "        vertical-align: top;\n",
       "    }\n",
       "\n",
       "    .dataframe thead th {\n",
       "        text-align: right;\n",
       "    }\n",
       "</style>\n",
       "<table border=\"1\" class=\"dataframe\">\n",
       "  <thead>\n",
       "    <tr style=\"text-align: right;\">\n",
       "      <th></th>\n",
       "      <th>imdb_id</th>\n",
       "      <th>budget</th>\n",
       "      <th>revenue</th>\n",
       "      <th>original_title</th>\n",
       "      <th>cast</th>\n",
       "      <th>director</th>\n",
       "      <th>tagline</th>\n",
       "      <th>overview</th>\n",
       "      <th>runtime</th>\n",
       "      <th>genres</th>\n",
       "      <th>production_companies</th>\n",
       "      <th>release_date</th>\n",
       "      <th>vote_average</th>\n",
       "      <th>release_year</th>\n",
       "    </tr>\n",
       "  </thead>\n",
       "  <tbody>\n",
       "    <tr>\n",
       "      <th>1003</th>\n",
       "      <td>tt1606389</td>\n",
       "      <td>30000000</td>\n",
       "      <td>196114570</td>\n",
       "      <td>The Vow</td>\n",
       "      <td>Rachel McAdams|Channing Tatum|Sam Neill|Scott ...</td>\n",
       "      <td>Michael Sucsy</td>\n",
       "      <td>Inspired by True Events</td>\n",
       "      <td>Happy young married couple Paige (McAdams) and...</td>\n",
       "      <td>104</td>\n",
       "      <td>Drama|Romance</td>\n",
       "      <td>Spyglass Entertainment|Screen Gems</td>\n",
       "      <td>2/5/2012</td>\n",
       "      <td>6.9</td>\n",
       "      <td>2012</td>\n",
       "    </tr>\n",
       "    <tr>\n",
       "      <th>1492</th>\n",
       "      <td>tt0454921</td>\n",
       "      <td>55000000</td>\n",
       "      <td>307077295</td>\n",
       "      <td>The Pursuit of Happyness</td>\n",
       "      <td>Will Smith|Jaden Smith|Thandie Newton|Brian Ho...</td>\n",
       "      <td>Gabriele Muccino</td>\n",
       "      <td>Inspired by True Events</td>\n",
       "      <td>The true story of Christopher Gardner, who inv...</td>\n",
       "      <td>117</td>\n",
       "      <td>Drama</td>\n",
       "      <td>Columbia Pictures Corporation|Escape Artists|R...</td>\n",
       "      <td>12/14/2006</td>\n",
       "      <td>7.5</td>\n",
       "      <td>2006</td>\n",
       "    </tr>\n",
       "  </tbody>\n",
       "</table>\n",
       "</div>"
      ],
      "text/plain": [
       "        imdb_id    budget    revenue            original_title  \\\n",
       "1003  tt1606389  30000000  196114570                   The Vow   \n",
       "1492  tt0454921  55000000  307077295  The Pursuit of Happyness   \n",
       "\n",
       "                                                   cast          director  \\\n",
       "1003  Rachel McAdams|Channing Tatum|Sam Neill|Scott ...     Michael Sucsy   \n",
       "1492  Will Smith|Jaden Smith|Thandie Newton|Brian Ho...  Gabriele Muccino   \n",
       "\n",
       "                      tagline  \\\n",
       "1003  Inspired by True Events   \n",
       "1492  Inspired by True Events   \n",
       "\n",
       "                                               overview  runtime  \\\n",
       "1003  Happy young married couple Paige (McAdams) and...      104   \n",
       "1492  The true story of Christopher Gardner, who inv...      117   \n",
       "\n",
       "             genres                               production_companies  \\\n",
       "1003  Drama|Romance                 Spyglass Entertainment|Screen Gems   \n",
       "1492          Drama  Columbia Pictures Corporation|Escape Artists|R...   \n",
       "\n",
       "     release_date  vote_average  release_year  \n",
       "1003     2/5/2012           6.9          2012  \n",
       "1492   12/14/2006           7.5          2006  "
      ]
     },
     "metadata": {},
     "output_type": "display_data"
    },
    {
     "data": {
      "text/html": [
       "<div>\n",
       "<style scoped>\n",
       "    .dataframe tbody tr th:only-of-type {\n",
       "        vertical-align: middle;\n",
       "    }\n",
       "\n",
       "    .dataframe tbody tr th {\n",
       "        vertical-align: top;\n",
       "    }\n",
       "\n",
       "    .dataframe thead th {\n",
       "        text-align: right;\n",
       "    }\n",
       "</style>\n",
       "<table border=\"1\" class=\"dataframe\">\n",
       "  <thead>\n",
       "    <tr style=\"text-align: right;\">\n",
       "      <th></th>\n",
       "      <th>imdb_id</th>\n",
       "      <th>budget</th>\n",
       "      <th>revenue</th>\n",
       "      <th>original_title</th>\n",
       "      <th>cast</th>\n",
       "      <th>director</th>\n",
       "      <th>tagline</th>\n",
       "      <th>overview</th>\n",
       "      <th>runtime</th>\n",
       "      <th>genres</th>\n",
       "      <th>production_companies</th>\n",
       "      <th>release_date</th>\n",
       "      <th>vote_average</th>\n",
       "      <th>release_year</th>\n",
       "    </tr>\n",
       "  </thead>\n",
       "  <tbody>\n",
       "    <tr>\n",
       "      <th>721</th>\n",
       "      <td>tt0780504</td>\n",
       "      <td>15000000</td>\n",
       "      <td>76175166</td>\n",
       "      <td>Drive</td>\n",
       "      <td>Ryan Gosling|Carey Mulligan|Christina Hendrick...</td>\n",
       "      <td>Nicolas Winding Refn</td>\n",
       "      <td>There are no clean getaways.</td>\n",
       "      <td>A mysterious Hollywood stuntman who moonlights...</td>\n",
       "      <td>100</td>\n",
       "      <td>Drama|Action|Thriller|Crime</td>\n",
       "      <td>Bold Films|Marc Platt Productions|Odd Lot Ente...</td>\n",
       "      <td>1/10/2011</td>\n",
       "      <td>7.3</td>\n",
       "      <td>2011</td>\n",
       "    </tr>\n",
       "    <tr>\n",
       "      <th>1673</th>\n",
       "      <td>tt0477348</td>\n",
       "      <td>25000000</td>\n",
       "      <td>171600000</td>\n",
       "      <td>No Country for Old Men</td>\n",
       "      <td>Tommy Lee Jones|Javier Bardem|Josh Brolin|Wood...</td>\n",
       "      <td>Joel Coen|Ethan Coen</td>\n",
       "      <td>There are no clean getaways.</td>\n",
       "      <td>Llewelyn Moss stumbles upon dead bodies, $2 mi...</td>\n",
       "      <td>122</td>\n",
       "      <td>Crime|Drama|Thriller</td>\n",
       "      <td>Miramax Films|Scott Rudin Productions|Paramoun...</td>\n",
       "      <td>11/8/2007</td>\n",
       "      <td>7.6</td>\n",
       "      <td>2007</td>\n",
       "    </tr>\n",
       "  </tbody>\n",
       "</table>\n",
       "</div>"
      ],
      "text/plain": [
       "        imdb_id    budget    revenue          original_title  \\\n",
       "721   tt0780504  15000000   76175166                   Drive   \n",
       "1673  tt0477348  25000000  171600000  No Country for Old Men   \n",
       "\n",
       "                                                   cast              director  \\\n",
       "721   Ryan Gosling|Carey Mulligan|Christina Hendrick...  Nicolas Winding Refn   \n",
       "1673  Tommy Lee Jones|Javier Bardem|Josh Brolin|Wood...  Joel Coen|Ethan Coen   \n",
       "\n",
       "                           tagline  \\\n",
       "721   There are no clean getaways.   \n",
       "1673  There are no clean getaways.   \n",
       "\n",
       "                                               overview  runtime  \\\n",
       "721   A mysterious Hollywood stuntman who moonlights...      100   \n",
       "1673  Llewelyn Moss stumbles upon dead bodies, $2 mi...      122   \n",
       "\n",
       "                           genres  \\\n",
       "721   Drama|Action|Thriller|Crime   \n",
       "1673         Crime|Drama|Thriller   \n",
       "\n",
       "                                   production_companies release_date  \\\n",
       "721   Bold Films|Marc Platt Productions|Odd Lot Ente...    1/10/2011   \n",
       "1673  Miramax Films|Scott Rudin Productions|Paramoun...    11/8/2007   \n",
       "\n",
       "      vote_average  release_year  \n",
       "721            7.3          2011  \n",
       "1673           7.6          2007  "
      ]
     },
     "metadata": {},
     "output_type": "display_data"
    }
   ],
   "source": [
    "\"\"\"Вывод строк датасета с фильмами с одинаковым слоганом\"\"\"\n",
    "for tagline in double_tagline.index:\n",
    "    display(data[(data.tagline == tagline)])"
   ]
  },
  {
   "cell_type": "markdown",
   "metadata": {},
   "source": [
    "#### Проверка дублей покзазала, что\n",
    "#### строки с повторяющимися элементами это не дубли,\n",
    "#### а либо части фильмов, либо разные фильмы."
   ]
  },
  {
   "cell_type": "markdown",
   "metadata": {
    "colab_type": "text",
    "id": "YxZaH-nPVp-L"
   },
   "source": [
    "# Добавление новых столбцов"
   ]
  },
  {
   "cell_type": "code",
   "execution_count": 12,
   "metadata": {},
   "outputs": [],
   "source": [
    "\"\"\"Добавление колонки с прибылью\"\"\"\n",
    "\n",
    "\n",
    "def score_profit(revenue, budget):\n",
    "    profit = revenue - budget\n",
    "    return profit\n",
    "\n",
    "\n",
    "data['profit'] = data.apply(lambda x: score_profit(x.revenue, x.budget),\n",
    "                            axis=1)"
   ]
  },
  {
   "cell_type": "code",
   "execution_count": 13,
   "metadata": {},
   "outputs": [],
   "source": [
    "\"\"\"Добавление колонки с месяцем релиза\"\"\"\n",
    "data['release_month'] = pd.DatetimeIndex(data['release_date']).month"
   ]
  },
  {
   "cell_type": "code",
   "execution_count": 14,
   "metadata": {},
   "outputs": [],
   "source": [
    "\"\"\"Добавление колонки с сезоном релиза\"\"\"\n",
    "\n",
    "\n",
    "def season(month):\n",
    "    if 3<=month<=5:\n",
    "        return 'spring'\n",
    "    elif 6<=month<=8:\n",
    "        return 'summer'\n",
    "    elif 9<=month<=11:\n",
    "        return 'autumn'\n",
    "    else:\n",
    "        return 'winter'\n",
    "\n",
    "    \n",
    "data['release_season']=data.release_month.apply(season)"
   ]
  },
  {
   "cell_type": "code",
   "execution_count": 15,
   "metadata": {},
   "outputs": [],
   "source": [
    "\"\"\"Добавление колонки с длиной названия фильма\"\"\"\n",
    "data['title_length'] = data.original_title.str.len()"
   ]
  },
  {
   "cell_type": "code",
   "execution_count": 16,
   "metadata": {},
   "outputs": [],
   "source": [
    "\"\"\"Добавление колонки с количеством слов в названии фильма\"\"\"\n",
    "data['overview_word'] = data.overview.str.count(' ') + 1"
   ]
  },
  {
   "cell_type": "markdown",
   "metadata": {
    "colab_type": "text",
    "id": "YxZaH-nPVp-L"
   },
   "source": [
    "# 1. У какого фильма из списка самый большой бюджет?"
   ]
  },
  {
   "cell_type": "markdown",
   "metadata": {
    "colab_type": "text",
    "id": "Nd-G5gX6Vp-M"
   },
   "source": [
    "Использовать варианты ответов в коде решения запрещено.    \n",
    "Вы думаете и в жизни у вас будут варианты ответов?)"
   ]
  },
  {
   "cell_type": "code",
   "execution_count": 17,
   "metadata": {
    "colab": {},
    "colab_type": "code",
    "id": "uVnXAY5RVp-O"
   },
   "outputs": [],
   "source": [
    "# в словарь вставляем номер вопроса и ваш ответ на него\n",
    "# Пример: \n",
    "answers['1'] = '2. Spider-Man 3 (tt0413300)'\n",
    "# запишите свой вариант ответа\n",
    "answers['1'] = '5. Pirates of the Caribbean: On Stranger Tides (tt1298650)'\n",
    "# если ответили верно, можете добавить комментарий со значком \"+\""
   ]
  },
  {
   "cell_type": "markdown",
   "metadata": {},
   "source": [
    "ВАРИАНТ 1"
   ]
  },
  {
   "cell_type": "code",
   "execution_count": 18,
   "metadata": {
    "colab": {},
    "colab_type": "code",
    "id": "dZwb3m28Vp-S"
   },
   "outputs": [
    {
     "data": {
      "text/plain": [
       "723    Pirates of the Caribbean: On Stranger Tides\n",
       "Name: original_title, dtype: object"
      ]
     },
     "execution_count": 18,
     "metadata": {},
     "output_type": "execute_result"
    }
   ],
   "source": [
    "data[(data.budget == data.budget.max())].original_title"
   ]
  },
  {
   "cell_type": "markdown",
   "metadata": {
    "colab_type": "text",
    "id": "K7L3nbRXVp-X"
   },
   "source": [
    "ВАРИАНТ 2"
   ]
  },
  {
   "cell_type": "code",
   "execution_count": 19,
   "metadata": {},
   "outputs": [
    {
     "data": {
      "text/plain": [
       "'Pirates of the Caribbean: On Stranger Tides'"
      ]
     },
     "execution_count": 19,
     "metadata": {},
     "output_type": "execute_result"
    }
   ],
   "source": [
    "data.iloc[data.budget.idxmax()].original_title"
   ]
  },
  {
   "cell_type": "code",
   "execution_count": 20,
   "metadata": {
    "colab": {},
    "colab_type": "code",
    "id": "OGaoQI7rVp-X"
   },
   "outputs": [],
   "source": [
    "# можно добавлять разные варианты решения"
   ]
  },
  {
   "cell_type": "markdown",
   "metadata": {
    "colab_type": "text",
    "id": "FNRbbI3vVp-c"
   },
   "source": [
    "# 2. Какой из фильмов самый длительный (в минутах)?"
   ]
  },
  {
   "cell_type": "code",
   "execution_count": 21,
   "metadata": {
    "colab": {},
    "colab_type": "code",
    "id": "vHAoEXNTVp-d"
   },
   "outputs": [],
   "source": [
    "# думаю логику работы с этим словарем вы уже поняли, \n",
    "# по этому не буду больше его дублировать\n",
    "answers['2'] = '2. Gods and Generals (tt0279111)'"
   ]
  },
  {
   "cell_type": "markdown",
   "metadata": {},
   "source": [
    "ВАРИАНТ 1"
   ]
  },
  {
   "cell_type": "code",
   "execution_count": 22,
   "metadata": {
    "colab": {},
    "colab_type": "code",
    "id": "ot-VX2XrVp-g"
   },
   "outputs": [
    {
     "data": {
      "text/plain": [
       "1157    Gods and Generals\n",
       "Name: original_title, dtype: object"
      ]
     },
     "execution_count": 22,
     "metadata": {},
     "output_type": "execute_result"
    }
   ],
   "source": [
    "data[(data.runtime == data.runtime.max())].original_title"
   ]
  },
  {
   "cell_type": "markdown",
   "metadata": {
    "colab_type": "text",
    "id": "K7L3nbRXVp-X"
   },
   "source": [
    "ВАРИАНТ 2"
   ]
  },
  {
   "cell_type": "code",
   "execution_count": 23,
   "metadata": {},
   "outputs": [
    {
     "data": {
      "text/plain": [
       "'Gods and Generals'"
      ]
     },
     "execution_count": 23,
     "metadata": {},
     "output_type": "execute_result"
    }
   ],
   "source": [
    "data.iloc[data.runtime.idxmax()].original_title"
   ]
  },
  {
   "cell_type": "markdown",
   "metadata": {
    "colab_type": "text",
    "id": "bapLlpW8Vp-k"
   },
   "source": [
    "# 3. Какой из фильмов самый короткий (в минутах)?\n",
    "\n",
    "\n",
    "\n"
   ]
  },
  {
   "cell_type": "code",
   "execution_count": 24,
   "metadata": {},
   "outputs": [],
   "source": [
    "answers['3'] = '3. Winnie the Pooh (tt1449283)'"
   ]
  },
  {
   "cell_type": "markdown",
   "metadata": {},
   "source": [
    "ВАРИАНТ 1"
   ]
  },
  {
   "cell_type": "code",
   "execution_count": 25,
   "metadata": {
    "colab": {},
    "colab_type": "code",
    "id": "YBxaSHuAVp-l"
   },
   "outputs": [
    {
     "data": {
      "text/plain": [
       "768    Winnie the Pooh\n",
       "Name: original_title, dtype: object"
      ]
     },
     "execution_count": 25,
     "metadata": {},
     "output_type": "execute_result"
    }
   ],
   "source": [
    "data[(data.runtime == data.runtime.min())].original_title"
   ]
  },
  {
   "cell_type": "markdown",
   "metadata": {
    "colab_type": "text",
    "id": "K7L3nbRXVp-X"
   },
   "source": [
    "ВАРИАНТ 2"
   ]
  },
  {
   "cell_type": "code",
   "execution_count": 26,
   "metadata": {},
   "outputs": [
    {
     "data": {
      "text/plain": [
       "'Winnie the Pooh'"
      ]
     },
     "execution_count": 26,
     "metadata": {},
     "output_type": "execute_result"
    }
   ],
   "source": [
    "data.iloc[data.runtime.idxmin()].original_title"
   ]
  },
  {
   "cell_type": "markdown",
   "metadata": {
    "colab_type": "text",
    "id": "TfQbxbfNVp-p"
   },
   "source": [
    "# 4. Какова средняя длительность фильмов?\n"
   ]
  },
  {
   "cell_type": "code",
   "execution_count": 27,
   "metadata": {},
   "outputs": [],
   "source": [
    "answers['4'] = '2. 110'"
   ]
  },
  {
   "cell_type": "code",
   "execution_count": 28,
   "metadata": {
    "colab": {},
    "colab_type": "code",
    "id": "5K6dKZYVVp-q"
   },
   "outputs": [
    {
     "data": {
      "text/plain": [
       "109.6585494970884"
      ]
     },
     "execution_count": 28,
     "metadata": {},
     "output_type": "execute_result"
    }
   ],
   "source": [
    "data.runtime.mean()"
   ]
  },
  {
   "cell_type": "markdown",
   "metadata": {
    "colab_type": "text",
    "id": "r5TvbnT_Vp-u"
   },
   "source": [
    "# 5. Каково медианное значение длительности фильмов? "
   ]
  },
  {
   "cell_type": "code",
   "execution_count": 29,
   "metadata": {},
   "outputs": [],
   "source": [
    "answers['5'] = '1. 107'"
   ]
  },
  {
   "cell_type": "code",
   "execution_count": 30,
   "metadata": {
    "colab": {},
    "colab_type": "code",
    "id": "iBROplKnVp-v"
   },
   "outputs": [
    {
     "data": {
      "text/plain": [
       "107.0"
      ]
     },
     "execution_count": 30,
     "metadata": {},
     "output_type": "execute_result"
    }
   ],
   "source": [
    "data.runtime.median()"
   ]
  },
  {
   "cell_type": "markdown",
   "metadata": {
    "colab_type": "text",
    "id": "39P-deDSVp-y"
   },
   "source": [
    "# 6. Какой самый прибыльный фильм?\n",
    "#### Внимание! Здесь и далее под «прибылью» или «убытками» понимается разность между сборами и бюджетом фильма. (прибыль = сборы - бюджет) в нашем датасете это будет (profit = revenue - budget) "
   ]
  },
  {
   "cell_type": "code",
   "execution_count": 31,
   "metadata": {},
   "outputs": [],
   "source": [
    "answers['6'] = '5. Avatar (tt0499549)'"
   ]
  },
  {
   "cell_type": "markdown",
   "metadata": {},
   "source": [
    "ВАРИАНТ 1"
   ]
  },
  {
   "cell_type": "code",
   "execution_count": 32,
   "metadata": {
    "colab": {},
    "colab_type": "code",
    "id": "UYZh4T9WVp-y"
   },
   "outputs": [
    {
     "data": {
      "text/plain": [
       "239    Avatar\n",
       "Name: original_title, dtype: object"
      ]
     },
     "execution_count": 32,
     "metadata": {},
     "output_type": "execute_result"
    }
   ],
   "source": [
    "data[(data.profit == data.profit.max())].original_title"
   ]
  },
  {
   "cell_type": "markdown",
   "metadata": {},
   "source": [
    "ВАРИАНТ 2"
   ]
  },
  {
   "cell_type": "code",
   "execution_count": 33,
   "metadata": {},
   "outputs": [
    {
     "data": {
      "text/plain": [
       "'Avatar'"
      ]
     },
     "execution_count": 33,
     "metadata": {},
     "output_type": "execute_result"
    }
   ],
   "source": [
    "data.iloc[data.profit.idxmax()].original_title"
   ]
  },
  {
   "cell_type": "markdown",
   "metadata": {
    "colab_type": "text",
    "id": "M99JmIX4Vp-2"
   },
   "source": [
    "# 7. Какой фильм самый убыточный? "
   ]
  },
  {
   "cell_type": "code",
   "execution_count": 34,
   "metadata": {},
   "outputs": [],
   "source": [
    "answers['7'] = '5. The Lone Ranger (tt1210819)'"
   ]
  },
  {
   "cell_type": "markdown",
   "metadata": {},
   "source": [
    "ВАРИАНТ 1"
   ]
  },
  {
   "cell_type": "code",
   "execution_count": 35,
   "metadata": {
    "colab": {},
    "colab_type": "code",
    "id": "w-D2m4XPVp-3"
   },
   "outputs": [
    {
     "data": {
      "text/plain": [
       "1245    The Lone Ranger\n",
       "Name: original_title, dtype: object"
      ]
     },
     "execution_count": 35,
     "metadata": {},
     "output_type": "execute_result"
    }
   ],
   "source": [
    "data[(data.profit == data.profit.min())].original_title"
   ]
  },
  {
   "cell_type": "markdown",
   "metadata": {},
   "source": [
    "ВАРИАНТ 2"
   ]
  },
  {
   "cell_type": "code",
   "execution_count": 36,
   "metadata": {},
   "outputs": [
    {
     "data": {
      "text/plain": [
       "'The Lone Ranger'"
      ]
     },
     "execution_count": 36,
     "metadata": {},
     "output_type": "execute_result"
    }
   ],
   "source": [
    "data.iloc[data.profit.idxmin()].original_title"
   ]
  },
  {
   "cell_type": "markdown",
   "metadata": {
    "colab_type": "text",
    "id": "wEOM5ERVVp-6"
   },
   "source": [
    "# 8. У скольких фильмов из датасета объем сборов оказался выше бюджета?"
   ]
  },
  {
   "cell_type": "code",
   "execution_count": 37,
   "metadata": {},
   "outputs": [],
   "source": [
    "answers['8'] = '1. 1478'"
   ]
  },
  {
   "cell_type": "code",
   "execution_count": 38,
   "metadata": {
    "colab": {},
    "colab_type": "code",
    "id": "y00_7HD6Vp-7"
   },
   "outputs": [
    {
     "data": {
      "text/plain": [
       "(1478, 19)"
      ]
     },
     "execution_count": 38,
     "metadata": {},
     "output_type": "execute_result"
    }
   ],
   "source": [
    "data[(data.revenue > data.budget)].shape"
   ]
  },
  {
   "cell_type": "markdown",
   "metadata": {
    "colab_type": "text",
    "id": "xhpspA9KVp_A"
   },
   "source": [
    "# 9. Какой фильм оказался самым кассовым в 2008 году?"
   ]
  },
  {
   "cell_type": "code",
   "execution_count": 39,
   "metadata": {},
   "outputs": [],
   "source": [
    "answers['9'] = '4. The Dark Knight (tt0468569)'"
   ]
  },
  {
   "cell_type": "markdown",
   "metadata": {},
   "source": [
    "ВАРИАНТ 1"
   ]
  },
  {
   "cell_type": "code",
   "execution_count": 40,
   "metadata": {},
   "outputs": [
    {
     "data": {
      "text/plain": [
       "599    The Dark Knight\n",
       "Name: original_title, dtype: object"
      ]
     },
     "execution_count": 40,
     "metadata": {},
     "output_type": "execute_result"
    }
   ],
   "source": [
    "movies_2008 = data[(data.release_year == 2008)]  # фильмы 2008 года\n",
    "max_profit = movies_2008.profit.max()\n",
    "data[(data.profit == max_profit)].original_title"
   ]
  },
  {
   "cell_type": "markdown",
   "metadata": {},
   "source": [
    "ВАРИАНТ 2"
   ]
  },
  {
   "cell_type": "code",
   "execution_count": 41,
   "metadata": {},
   "outputs": [
    {
     "data": {
      "text/html": [
       "<div>\n",
       "<style scoped>\n",
       "    .dataframe tbody tr th:only-of-type {\n",
       "        vertical-align: middle;\n",
       "    }\n",
       "\n",
       "    .dataframe tbody tr th {\n",
       "        vertical-align: top;\n",
       "    }\n",
       "\n",
       "    .dataframe thead th {\n",
       "        text-align: right;\n",
       "    }\n",
       "</style>\n",
       "<table border=\"1\" class=\"dataframe\">\n",
       "  <thead>\n",
       "    <tr style=\"text-align: right;\">\n",
       "      <th></th>\n",
       "      <th>imdb_id</th>\n",
       "      <th>budget</th>\n",
       "      <th>revenue</th>\n",
       "      <th>original_title</th>\n",
       "      <th>cast</th>\n",
       "      <th>director</th>\n",
       "      <th>tagline</th>\n",
       "      <th>overview</th>\n",
       "      <th>runtime</th>\n",
       "      <th>genres</th>\n",
       "      <th>production_companies</th>\n",
       "      <th>release_date</th>\n",
       "      <th>vote_average</th>\n",
       "      <th>release_year</th>\n",
       "      <th>profit</th>\n",
       "      <th>release_month</th>\n",
       "      <th>release_season</th>\n",
       "      <th>title_length</th>\n",
       "      <th>overview_word</th>\n",
       "    </tr>\n",
       "  </thead>\n",
       "  <tbody>\n",
       "    <tr>\n",
       "      <th>599</th>\n",
       "      <td>tt0468569</td>\n",
       "      <td>185000000</td>\n",
       "      <td>1001921825</td>\n",
       "      <td>The Dark Knight</td>\n",
       "      <td>Christian Bale|Michael Caine|Heath Ledger|Aaro...</td>\n",
       "      <td>Christopher Nolan</td>\n",
       "      <td>Why So Serious?</td>\n",
       "      <td>Batman raises the stakes in his war on crime. ...</td>\n",
       "      <td>152</td>\n",
       "      <td>Drama|Action|Crime|Thriller</td>\n",
       "      <td>DC Comics|Legendary Pictures|Warner Bros.|Syncopy</td>\n",
       "      <td>7/16/2008</td>\n",
       "      <td>8.1</td>\n",
       "      <td>2008</td>\n",
       "      <td>816921825</td>\n",
       "      <td>7</td>\n",
       "      <td>summer</td>\n",
       "      <td>15</td>\n",
       "      <td>67</td>\n",
       "    </tr>\n",
       "  </tbody>\n",
       "</table>\n",
       "</div>"
      ],
      "text/plain": [
       "       imdb_id     budget     revenue   original_title  \\\n",
       "599  tt0468569  185000000  1001921825  The Dark Knight   \n",
       "\n",
       "                                                  cast           director  \\\n",
       "599  Christian Bale|Michael Caine|Heath Ledger|Aaro...  Christopher Nolan   \n",
       "\n",
       "             tagline                                           overview  \\\n",
       "599  Why So Serious?  Batman raises the stakes in his war on crime. ...   \n",
       "\n",
       "     runtime                       genres  \\\n",
       "599      152  Drama|Action|Crime|Thriller   \n",
       "\n",
       "                                  production_companies release_date  \\\n",
       "599  DC Comics|Legendary Pictures|Warner Bros.|Syncopy    7/16/2008   \n",
       "\n",
       "     vote_average  release_year     profit  release_month release_season  \\\n",
       "599           8.1          2008  816921825              7         summer   \n",
       "\n",
       "     title_length  overview_word  \n",
       "599            15             67  "
      ]
     },
     "execution_count": 41,
     "metadata": {},
     "output_type": "execute_result"
    }
   ],
   "source": [
    "movies_2008.sort_values(['profit'], ascending=False).head(1)"
   ]
  },
  {
   "cell_type": "markdown",
   "metadata": {
    "colab_type": "text",
    "id": "Zi4hDKidVp_F"
   },
   "source": [
    "# 10. Самый убыточный фильм за период с 2012 по 2014 г. (включительно)?\n"
   ]
  },
  {
   "cell_type": "markdown",
   "metadata": {},
   "source": [
    "ВАРИАНТ 1"
   ]
  },
  {
   "cell_type": "code",
   "execution_count": 42,
   "metadata": {},
   "outputs": [],
   "source": [
    "answers['10'] = '5. The Lone Ranger (tt1210819)'"
   ]
  },
  {
   "cell_type": "code",
   "execution_count": 43,
   "metadata": {
    "colab": {},
    "colab_type": "code",
    "id": "XqyRmufJVp_F"
   },
   "outputs": [
    {
     "data": {
      "text/plain": [
       "1245    The Lone Ranger\n",
       "Name: original_title, dtype: object"
      ]
     },
     "execution_count": 43,
     "metadata": {},
     "output_type": "execute_result"
    }
   ],
   "source": [
    "data_10 = data[(data.release_year >= 2012) & (data.release_year <= 2014)]  # фильмы между 2012 и 2014 года\n",
    "min_profit = data_10.profit.min()\n",
    "data[(data.profit == min_profit)].original_title"
   ]
  },
  {
   "cell_type": "markdown",
   "metadata": {},
   "source": [
    "ВАРИАНТ 2"
   ]
  },
  {
   "cell_type": "code",
   "execution_count": 44,
   "metadata": {},
   "outputs": [
    {
     "data": {
      "text/html": [
       "<div>\n",
       "<style scoped>\n",
       "    .dataframe tbody tr th:only-of-type {\n",
       "        vertical-align: middle;\n",
       "    }\n",
       "\n",
       "    .dataframe tbody tr th {\n",
       "        vertical-align: top;\n",
       "    }\n",
       "\n",
       "    .dataframe thead th {\n",
       "        text-align: right;\n",
       "    }\n",
       "</style>\n",
       "<table border=\"1\" class=\"dataframe\">\n",
       "  <thead>\n",
       "    <tr style=\"text-align: right;\">\n",
       "      <th></th>\n",
       "      <th>imdb_id</th>\n",
       "      <th>budget</th>\n",
       "      <th>revenue</th>\n",
       "      <th>original_title</th>\n",
       "      <th>cast</th>\n",
       "      <th>director</th>\n",
       "      <th>tagline</th>\n",
       "      <th>overview</th>\n",
       "      <th>runtime</th>\n",
       "      <th>genres</th>\n",
       "      <th>production_companies</th>\n",
       "      <th>release_date</th>\n",
       "      <th>vote_average</th>\n",
       "      <th>release_year</th>\n",
       "      <th>profit</th>\n",
       "      <th>release_month</th>\n",
       "      <th>release_season</th>\n",
       "      <th>title_length</th>\n",
       "      <th>overview_word</th>\n",
       "    </tr>\n",
       "  </thead>\n",
       "  <tbody>\n",
       "    <tr>\n",
       "      <th>1245</th>\n",
       "      <td>tt1210819</td>\n",
       "      <td>255000000</td>\n",
       "      <td>89289910</td>\n",
       "      <td>The Lone Ranger</td>\n",
       "      <td>Johnny Depp|Armie Hammer|William Fichtner|Hele...</td>\n",
       "      <td>Gore Verbinski</td>\n",
       "      <td>Never Take Off the Mask</td>\n",
       "      <td>The Texas Rangers chase down a gang of outlaws...</td>\n",
       "      <td>149</td>\n",
       "      <td>Action|Adventure|Western</td>\n",
       "      <td>Walt Disney Pictures|Jerry Bruckheimer Films|I...</td>\n",
       "      <td>7/3/2013</td>\n",
       "      <td>6.0</td>\n",
       "      <td>2013</td>\n",
       "      <td>-165710090</td>\n",
       "      <td>7</td>\n",
       "      <td>summer</td>\n",
       "      <td>15</td>\n",
       "      <td>68</td>\n",
       "    </tr>\n",
       "  </tbody>\n",
       "</table>\n",
       "</div>"
      ],
      "text/plain": [
       "        imdb_id     budget   revenue   original_title  \\\n",
       "1245  tt1210819  255000000  89289910  The Lone Ranger   \n",
       "\n",
       "                                                   cast        director  \\\n",
       "1245  Johnny Depp|Armie Hammer|William Fichtner|Hele...  Gore Verbinski   \n",
       "\n",
       "                      tagline  \\\n",
       "1245  Never Take Off the Mask   \n",
       "\n",
       "                                               overview  runtime  \\\n",
       "1245  The Texas Rangers chase down a gang of outlaws...      149   \n",
       "\n",
       "                        genres  \\\n",
       "1245  Action|Adventure|Western   \n",
       "\n",
       "                                   production_companies release_date  \\\n",
       "1245  Walt Disney Pictures|Jerry Bruckheimer Films|I...     7/3/2013   \n",
       "\n",
       "      vote_average  release_year     profit  release_month release_season  \\\n",
       "1245           6.0          2013 -165710090              7         summer   \n",
       "\n",
       "      title_length  overview_word  \n",
       "1245            15             68  "
      ]
     },
     "execution_count": 44,
     "metadata": {},
     "output_type": "execute_result"
    }
   ],
   "source": [
    "data_10.sort_values(['profit']).head(1)"
   ]
  },
  {
   "cell_type": "markdown",
   "metadata": {
    "colab_type": "text",
    "id": "EA7Sa9dkVp_I"
   },
   "source": [
    "# 11. Какого жанра фильмов больше всего?"
   ]
  },
  {
   "cell_type": "code",
   "execution_count": 45,
   "metadata": {},
   "outputs": [],
   "source": [
    "answers['11'] = '3. Drama'"
   ]
  },
  {
   "cell_type": "code",
   "execution_count": 46,
   "metadata": {
    "colab": {},
    "colab_type": "code",
    "id": "zsJAwJ8QVp_J"
   },
   "outputs": [],
   "source": [
    "# эту задачу тоже можно решать разными подходами, попробуй реализовать разные варианты\n",
    "# если будешь добавлять функцию - выноси ее в предобработку что в начале"
   ]
  },
  {
   "cell_type": "markdown",
   "metadata": {
    "colab_type": "text",
    "id": "Ax6g2C8SVp_M"
   },
   "source": [
    "ВАРИАНТ 1"
   ]
  },
  {
   "cell_type": "code",
   "execution_count": 47,
   "metadata": {},
   "outputs": [
    {
     "data": {
      "text/plain": [
       "[('Drama', 782)]"
      ]
     },
     "execution_count": 47,
     "metadata": {},
     "output_type": "execute_result"
    }
   ],
   "source": [
    "Counter(data.genres.str.cat(sep='|').split('|')).most_common(1)"
   ]
  },
  {
   "cell_type": "markdown",
   "metadata": {
    "colab_type": "text",
    "id": "Ax6g2C8SVp_M"
   },
   "source": [
    "ВАРИАНТ 2"
   ]
  },
  {
   "cell_type": "code",
   "execution_count": 48,
   "metadata": {},
   "outputs": [
    {
     "data": {
      "text/plain": [
       "'Drama'"
      ]
     },
     "execution_count": 48,
     "metadata": {},
     "output_type": "execute_result"
    }
   ],
   "source": [
    "genres_list = pd.Series(data.genres.str.cat(sep='|').split('|')).value_counts()  # серия частоты жанров в датасете\n",
    "genres_list.index[0]"
   ]
  },
  {
   "cell_type": "markdown",
   "metadata": {
    "colab_type": "text",
    "id": "T9_bPWpkVp_Q"
   },
   "source": [
    "# 12. Фильмы какого жанра чаще всего становятся прибыльными? "
   ]
  },
  {
   "cell_type": "code",
   "execution_count": 49,
   "metadata": {},
   "outputs": [],
   "source": [
    "answers['12'] = '1. Drama'"
   ]
  },
  {
   "cell_type": "markdown",
   "metadata": {
    "colab_type": "text",
    "id": "Ax6g2C8SVp_M"
   },
   "source": [
    "ВАРИАНТ 1"
   ]
  },
  {
   "cell_type": "code",
   "execution_count": 50,
   "metadata": {},
   "outputs": [
    {
     "data": {
      "text/plain": [
       "[('Drama', 560)]"
      ]
     },
     "execution_count": 50,
     "metadata": {},
     "output_type": "execute_result"
    }
   ],
   "source": [
    "data_profit = data[(data.profit > 0)]  # прибыльные жанры\n",
    "Counter(data_profit.genres.str.cat(sep='|').split('|')).most_common(1)"
   ]
  },
  {
   "cell_type": "markdown",
   "metadata": {
    "colab_type": "text",
    "id": "Ax6g2C8SVp_M"
   },
   "source": [
    "ВАРИАНТ 2"
   ]
  },
  {
   "cell_type": "code",
   "execution_count": 51,
   "metadata": {
    "colab": {},
    "colab_type": "code",
    "id": "Tmt8MaK1Vp_R"
   },
   "outputs": [
    {
     "data": {
      "text/plain": [
       "'Drama'"
      ]
     },
     "execution_count": 51,
     "metadata": {},
     "output_type": "execute_result"
    }
   ],
   "source": [
    "genres_profit = pd.Series(\n",
    "    data_profit.genres.str.cat(sep='|').split('|')).value_counts()  # прибыльные жанры\n",
    "genres_profit.index[0]"
   ]
  },
  {
   "cell_type": "markdown",
   "metadata": {
    "colab_type": "text",
    "id": "0F23bgsDVp_U"
   },
   "source": [
    "# 13. У какого режиссера самые большие суммарные кассовые сборы?"
   ]
  },
  {
   "cell_type": "code",
   "execution_count": 52,
   "metadata": {},
   "outputs": [],
   "source": [
    "answers['13'] = '5. Peter Jackson'"
   ]
  },
  {
   "cell_type": "code",
   "execution_count": 53,
   "metadata": {
    "colab": {},
    "colab_type": "code",
    "id": "K6Z3J8ygVp_X"
   },
   "outputs": [
    {
     "data": {
      "text/html": [
       "<div>\n",
       "<style scoped>\n",
       "    .dataframe tbody tr th:only-of-type {\n",
       "        vertical-align: middle;\n",
       "    }\n",
       "\n",
       "    .dataframe tbody tr th {\n",
       "        vertical-align: top;\n",
       "    }\n",
       "\n",
       "    .dataframe thead th {\n",
       "        text-align: right;\n",
       "    }\n",
       "</style>\n",
       "<table border=\"1\" class=\"dataframe\">\n",
       "  <thead>\n",
       "    <tr style=\"text-align: right;\">\n",
       "      <th></th>\n",
       "      <th>profit</th>\n",
       "    </tr>\n",
       "    <tr>\n",
       "      <th>director</th>\n",
       "      <th></th>\n",
       "    </tr>\n",
       "  </thead>\n",
       "  <tbody>\n",
       "    <tr>\n",
       "      <th>Peter Jackson</th>\n",
       "      <td>5202593685</td>\n",
       "    </tr>\n",
       "    <tr>\n",
       "      <th>David Yates</th>\n",
       "      <td>3379295625</td>\n",
       "    </tr>\n",
       "    <tr>\n",
       "      <th>Christopher Nolan</th>\n",
       "      <td>3162548502</td>\n",
       "    </tr>\n",
       "    <tr>\n",
       "      <th>J.J. Abrams</th>\n",
       "      <td>2839169916</td>\n",
       "    </tr>\n",
       "    <tr>\n",
       "      <th>Michael Bay</th>\n",
       "      <td>2760938960</td>\n",
       "    </tr>\n",
       "    <tr>\n",
       "      <th>...</th>\n",
       "      <td>...</td>\n",
       "    </tr>\n",
       "    <tr>\n",
       "      <th>Walter Hill|Jack Sholder</th>\n",
       "      <td>-75171919</td>\n",
       "    </tr>\n",
       "    <tr>\n",
       "      <th>David Bowers|Sam Fell</th>\n",
       "      <td>-84540684</td>\n",
       "    </tr>\n",
       "    <tr>\n",
       "      <th>Peter Hyams</th>\n",
       "      <td>-86956545</td>\n",
       "    </tr>\n",
       "    <tr>\n",
       "      <th>Ron Underwood</th>\n",
       "      <td>-92896027</td>\n",
       "    </tr>\n",
       "    <tr>\n",
       "      <th>James L. Brooks</th>\n",
       "      <td>-96289726</td>\n",
       "    </tr>\n",
       "  </tbody>\n",
       "</table>\n",
       "<p>957 rows × 1 columns</p>\n",
       "</div>"
      ],
      "text/plain": [
       "                              profit\n",
       "director                            \n",
       "Peter Jackson             5202593685\n",
       "David Yates               3379295625\n",
       "Christopher Nolan         3162548502\n",
       "J.J. Abrams               2839169916\n",
       "Michael Bay               2760938960\n",
       "...                              ...\n",
       "Walter Hill|Jack Sholder   -75171919\n",
       "David Bowers|Sam Fell      -84540684\n",
       "Peter Hyams                -86956545\n",
       "Ron Underwood              -92896027\n",
       "James L. Brooks            -96289726\n",
       "\n",
       "[957 rows x 1 columns]"
      ]
     },
     "execution_count": 53,
     "metadata": {},
     "output_type": "execute_result"
    }
   ],
   "source": [
    "pivot_data = data.pivot_table(values=['profit'],\n",
    "                              index=['director'],\n",
    "                              aggfunc='sum')  # свобная таблица с прибылью режиссёров\n",
    "pivot_data.sort_values(['profit'], ascending=False)"
   ]
  },
  {
   "cell_type": "markdown",
   "metadata": {
    "colab_type": "text",
    "id": "PsYC9FgRVp_a"
   },
   "source": [
    "# 14. Какой режисер снял больше всего фильмов в стиле Action?"
   ]
  },
  {
   "cell_type": "code",
   "execution_count": 54,
   "metadata": {},
   "outputs": [],
   "source": [
    "answers['14'] = '3. Robert Rodriguez'"
   ]
  },
  {
   "cell_type": "code",
   "execution_count": 55,
   "metadata": {
    "colab": {},
    "colab_type": "code",
    "id": "wd2M-wHeVp_b"
   },
   "outputs": [
    {
     "data": {
      "text/plain": [
       "[('Robert Rodriguez', 9)]"
      ]
     },
     "execution_count": 55,
     "metadata": {},
     "output_type": "execute_result"
    }
   ],
   "source": [
    "data_action = data[data.genres.str.contains(\"Action\")]  # фильмы в жанре Action\n",
    "Counter(data_action.director.str.cat(sep='|').split('|')).most_common(1)"
   ]
  },
  {
   "cell_type": "markdown",
   "metadata": {
    "colab_type": "text",
    "id": "PQ0KciD7Vp_f"
   },
   "source": [
    "# 15. Фильмы с каким актером принесли самые высокие кассовые сборы в 2012 году? "
   ]
  },
  {
   "cell_type": "code",
   "execution_count": 56,
   "metadata": {},
   "outputs": [],
   "source": [
    "answers['15'] = '3. Chris Hemsworth'"
   ]
  },
  {
   "cell_type": "code",
   "execution_count": 57,
   "metadata": {},
   "outputs": [
    {
     "data": {
      "text/plain": [
       "['Robert Downey Jr.|Chris Evans|Mark Ruffalo|Chris Hemsworth|Scarlett Johansson']"
      ]
     },
     "execution_count": 57,
     "metadata": {},
     "output_type": "execute_result"
    }
   ],
   "source": [
    "max_revenue = data[(data.release_year == 2012)].revenue.max()\n",
    "list(data[(data.revenue == max_revenue)].cast)"
   ]
  },
  {
   "cell_type": "markdown",
   "metadata": {
    "colab_type": "text",
    "id": "mWHyyL7QVp_j"
   },
   "source": [
    "# 16. Какой актер снялся в большем количестве высокобюджетных фильмов?"
   ]
  },
  {
   "cell_type": "code",
   "execution_count": 58,
   "metadata": {},
   "outputs": [],
   "source": [
    "answers['16'] = '3. Matt Damon'"
   ]
  },
  {
   "cell_type": "code",
   "execution_count": 59,
   "metadata": {
    "colab": {},
    "colab_type": "code",
    "id": "qQtmHKTFVp_k"
   },
   "outputs": [
    {
     "data": {
      "text/plain": [
       "[('Matt Damon', 18)]"
      ]
     },
     "execution_count": 59,
     "metadata": {},
     "output_type": "execute_result"
    }
   ],
   "source": [
    "data_cast = data[(data.budget > data.budget.mean())]  # высокобюджетные фильмы\n",
    "Counter(data_cast.cast.str.cat(sep='|').split('|')).most_common(1)"
   ]
  },
  {
   "cell_type": "markdown",
   "metadata": {
    "colab_type": "text",
    "id": "NIh6AaW5Vp_n"
   },
   "source": [
    "# 17. В фильмах какого жанра больше всего снимался Nicolas Cage? "
   ]
  },
  {
   "cell_type": "code",
   "execution_count": 60,
   "metadata": {},
   "outputs": [],
   "source": [
    "answers['17'] = '2. Action'"
   ]
  },
  {
   "cell_type": "code",
   "execution_count": 61,
   "metadata": {
    "colab": {},
    "colab_type": "code",
    "id": "H74SJDIBVp_n"
   },
   "outputs": [
    {
     "data": {
      "text/plain": [
       "[('Action', 17)]"
      ]
     },
     "execution_count": 61,
     "metadata": {},
     "output_type": "execute_result"
    }
   ],
   "source": [
    "data_cage = data[data.cast.str.contains(\"Nicolas Cage\")]  # фильмы с Nicolas Cage\n",
    "Counter(data_cage.genres.str.cat(sep='|').split('|')).most_common(1)"
   ]
  },
  {
   "cell_type": "markdown",
   "metadata": {
    "colab_type": "text",
    "id": "RqOmPRfWVp_q"
   },
   "source": [
    "# 18. Самый убыточный фильм от Paramount Pictures"
   ]
  },
  {
   "cell_type": "code",
   "execution_count": 62,
   "metadata": {},
   "outputs": [],
   "source": [
    "answers['18'] = '1. K-19: The Widowmaker (tt0267626)'"
   ]
  },
  {
   "cell_type": "code",
   "execution_count": 63,
   "metadata": {},
   "outputs": [
    {
     "data": {
      "text/html": [
       "<div>\n",
       "<style scoped>\n",
       "    .dataframe tbody tr th:only-of-type {\n",
       "        vertical-align: middle;\n",
       "    }\n",
       "\n",
       "    .dataframe tbody tr th {\n",
       "        vertical-align: top;\n",
       "    }\n",
       "\n",
       "    .dataframe thead th {\n",
       "        text-align: right;\n",
       "    }\n",
       "</style>\n",
       "<table border=\"1\" class=\"dataframe\">\n",
       "  <thead>\n",
       "    <tr style=\"text-align: right;\">\n",
       "      <th></th>\n",
       "      <th>imdb_id</th>\n",
       "      <th>budget</th>\n",
       "      <th>revenue</th>\n",
       "      <th>original_title</th>\n",
       "      <th>cast</th>\n",
       "      <th>director</th>\n",
       "      <th>tagline</th>\n",
       "      <th>overview</th>\n",
       "      <th>runtime</th>\n",
       "      <th>genres</th>\n",
       "      <th>production_companies</th>\n",
       "      <th>release_date</th>\n",
       "      <th>vote_average</th>\n",
       "      <th>release_year</th>\n",
       "      <th>profit</th>\n",
       "      <th>release_month</th>\n",
       "      <th>release_season</th>\n",
       "      <th>title_length</th>\n",
       "      <th>overview_word</th>\n",
       "    </tr>\n",
       "  </thead>\n",
       "  <tbody>\n",
       "    <tr>\n",
       "      <th>925</th>\n",
       "      <td>tt0267626</td>\n",
       "      <td>100000000</td>\n",
       "      <td>35168966</td>\n",
       "      <td>K-19: The Widowmaker</td>\n",
       "      <td>Harrison Ford|Liam Neeson|Peter Sarsgaard|Joss...</td>\n",
       "      <td>Kathryn Bigelow</td>\n",
       "      <td>Fate has found its hero.</td>\n",
       "      <td>When Russia's first nuclear submarine malfunct...</td>\n",
       "      <td>138</td>\n",
       "      <td>Thriller|Drama|History</td>\n",
       "      <td>Paramount Pictures|Intermedia Films|National G...</td>\n",
       "      <td>7/19/2002</td>\n",
       "      <td>6.0</td>\n",
       "      <td>2002</td>\n",
       "      <td>-64831034</td>\n",
       "      <td>7</td>\n",
       "      <td>summer</td>\n",
       "      <td>20</td>\n",
       "      <td>23</td>\n",
       "    </tr>\n",
       "  </tbody>\n",
       "</table>\n",
       "</div>"
      ],
      "text/plain": [
       "       imdb_id     budget   revenue        original_title  \\\n",
       "925  tt0267626  100000000  35168966  K-19: The Widowmaker   \n",
       "\n",
       "                                                  cast         director  \\\n",
       "925  Harrison Ford|Liam Neeson|Peter Sarsgaard|Joss...  Kathryn Bigelow   \n",
       "\n",
       "                      tagline  \\\n",
       "925  Fate has found its hero.   \n",
       "\n",
       "                                              overview  runtime  \\\n",
       "925  When Russia's first nuclear submarine malfunct...      138   \n",
       "\n",
       "                     genres  \\\n",
       "925  Thriller|Drama|History   \n",
       "\n",
       "                                  production_companies release_date  \\\n",
       "925  Paramount Pictures|Intermedia Films|National G...    7/19/2002   \n",
       "\n",
       "     vote_average  release_year    profit  release_month release_season  \\\n",
       "925           6.0          2002 -64831034              7         summer   \n",
       "\n",
       "     title_length  overview_word  \n",
       "925            20             23  "
      ]
     },
     "execution_count": 63,
     "metadata": {},
     "output_type": "execute_result"
    }
   ],
   "source": [
    "data_18 = data[(data.production_companies.str.contains('Paramount Pictures'))]  # фильмы от Paramount Pictures\n",
    "data_18.sort_values('profit').head(1)"
   ]
  },
  {
   "cell_type": "markdown",
   "metadata": {
    "colab_type": "text",
    "id": "vS8Ur6ddVp_u"
   },
   "source": [
    "# 19. Какой год стал самым успешным по суммарным кассовым сборам?"
   ]
  },
  {
   "cell_type": "code",
   "execution_count": 64,
   "metadata": {},
   "outputs": [],
   "source": [
    "answers['19'] = '5. 2015'"
   ]
  },
  {
   "cell_type": "code",
   "execution_count": 65,
   "metadata": {
    "colab": {},
    "colab_type": "code",
    "id": "Dnbt4GdIVp_v"
   },
   "outputs": [
    {
     "data": {
      "text/plain": [
       "2015"
      ]
     },
     "execution_count": 65,
     "metadata": {},
     "output_type": "execute_result"
    }
   ],
   "source": [
    "data_year = data.groupby(['release_year'])['revenue'].sum().sort_values()  # сортированная таблица с прибылью по годам \n",
    "data_year.index[-1]"
   ]
  },
  {
   "cell_type": "markdown",
   "metadata": {
    "colab_type": "text",
    "id": "JAzJh4QAVp_z"
   },
   "source": [
    "# 20. Какой самый прибыльный год для студии Warner Bros?"
   ]
  },
  {
   "cell_type": "code",
   "execution_count": 66,
   "metadata": {},
   "outputs": [],
   "source": [
    "answers['20'] = '1. 2014'"
   ]
  },
  {
   "cell_type": "code",
   "execution_count": 67,
   "metadata": {},
   "outputs": [
    {
     "data": {
      "text/plain": [
       "2014"
      ]
     },
     "execution_count": 67,
     "metadata": {},
     "output_type": "execute_result"
    }
   ],
   "source": [
    "data_warner = data[(data.production_companies.str.contains('Warner Bros'))]  # фильмы студии Warner Bros\n",
    "data_warner.groupby(['release_year'])['profit'].sum().sort_values().index[-1]"
   ]
  },
  {
   "cell_type": "markdown",
   "metadata": {},
   "source": [
    "# 21. В каком месяце за все годы суммарно вышло больше всего фильмов?"
   ]
  },
  {
   "cell_type": "code",
   "execution_count": 68,
   "metadata": {},
   "outputs": [],
   "source": [
    "answers['21'] = '4. Сентябрь'"
   ]
  },
  {
   "cell_type": "code",
   "execution_count": 69,
   "metadata": {
    "colab": {},
    "colab_type": "code",
    "id": "lev6TH7gVp_4"
   },
   "outputs": [
    {
     "data": {
      "text/plain": [
       "9"
      ]
     },
     "execution_count": 69,
     "metadata": {},
     "output_type": "execute_result"
    }
   ],
   "source": [
    "movies_month = data.groupby(['release_month'])['original_title'].count()  # группировка релизов по месяцам\n",
    "movies_month.sort_values().index[-1]"
   ]
  },
  {
   "cell_type": "markdown",
   "metadata": {
    "colab_type": "text",
    "id": "uAJsZ_NeVp_7"
   },
   "source": [
    "# 22. Сколько суммарно вышло фильмов летом? (за июнь, июль, август)"
   ]
  },
  {
   "cell_type": "code",
   "execution_count": 70,
   "metadata": {},
   "outputs": [],
   "source": [
    "answers['22'] = '2. 450'"
   ]
  },
  {
   "cell_type": "code",
   "execution_count": 71,
   "metadata": {
    "colab": {},
    "colab_type": "code",
    "id": "Aa-hEREoVp_8"
   },
   "outputs": [
    {
     "data": {
      "text/plain": [
       "450"
      ]
     },
     "execution_count": 71,
     "metadata": {},
     "output_type": "execute_result"
    }
   ],
   "source": [
    "data.groupby(['release_season'])['original_title'].count()['summer']"
   ]
  },
  {
   "cell_type": "markdown",
   "metadata": {
    "colab_type": "text",
    "id": "G94ppOY1VqAA"
   },
   "source": [
    "# 23. Для какого режиссера зима – самое продуктивное время года? "
   ]
  },
  {
   "cell_type": "code",
   "execution_count": 72,
   "metadata": {},
   "outputs": [],
   "source": [
    "answers['23'] = '5. Peter Jackson'"
   ]
  },
  {
   "cell_type": "code",
   "execution_count": 73,
   "metadata": {},
   "outputs": [
    {
     "data": {
      "text/plain": [
       "[('Peter Jackson', 7)]"
      ]
     },
     "execution_count": 73,
     "metadata": {},
     "output_type": "execute_result"
    }
   ],
   "source": [
    "data_winter = data[(data.release_season == 'winter')]  # зимние релизы\n",
    "Counter(data_winter.director.str.cat(sep='|').split('|')).most_common(1)"
   ]
  },
  {
   "cell_type": "markdown",
   "metadata": {
    "colab_type": "text",
    "id": "RBo0JVjVVqAF"
   },
   "source": [
    "# 24. Какая студия дает самые длинные названия своим фильмам по количеству символов?"
   ]
  },
  {
   "cell_type": "code",
   "execution_count": 74,
   "metadata": {},
   "outputs": [],
   "source": [
    "answers['24'] = '5. Four By Two Productions'"
   ]
  },
  {
   "cell_type": "code",
   "execution_count": 75,
   "metadata": {},
   "outputs": [
    {
     "data": {
      "text/plain": [
       "production_companies\n",
       "Four By Two Productions       83.0\n",
       "Jim Henson Company, The       59.0\n",
       "Dos Corazones                 47.0\n",
       "Polsky Films                  46.0\n",
       "Museum Canada Productions     46.0\n",
       "                              ... \n",
       "Everest Entertainment          3.0\n",
       "Berlanti Productions           3.0\n",
       "Global Entertainment Group     2.0\n",
       "XM2 Productions                2.0\n",
       "Ixtlan Productions             2.0\n",
       "Name: title_length, Length: 1771, dtype: float64"
      ]
     },
     "execution_count": 75,
     "metadata": {},
     "output_type": "execute_result"
    }
   ],
   "source": [
    "data.production_companies = data.production_companies.str.split('|')  # разделение информации о студиях\n",
    "data_companies = data.explode('production_companies')  # датасет с дублированными фильмами, снятые несколькими компаниями \n",
    "data_24 = data_companies.groupby(['production_companies'])\n",
    "data_24.title_length.mean().sort_values(ascending=False)"
   ]
  },
  {
   "cell_type": "markdown",
   "metadata": {
    "colab_type": "text",
    "id": "9G0hbvR7VqAK"
   },
   "source": [
    "# 25. Описание фильмов какой студии в среднем самые длинные по количеству слов?"
   ]
  },
  {
   "cell_type": "code",
   "execution_count": 76,
   "metadata": {},
   "outputs": [],
   "source": [
    "answers['25'] = '3. Midnight Picture Show'"
   ]
  },
  {
   "cell_type": "code",
   "execution_count": 77,
   "metadata": {
    "colab": {},
    "colab_type": "code",
    "id": "Ge2GsLNxVqAK"
   },
   "outputs": [
    {
     "data": {
      "text/plain": [
       "production_companies\n",
       "Midnight Picture Show                    175.0\n",
       "Heineken Branded Entertainment           161.0\n",
       "Room 9 Entertainment                     161.0\n",
       "98 MPH Productions                       159.0\n",
       "Brookwell-McNamara Entertainment         156.0\n",
       "                                         ...  \n",
       "Henceforth                                13.0\n",
       "Our Stories Films                         13.0\n",
       "London Boulevard                          13.0\n",
       "Motion Picture Corporation of America     11.0\n",
       "Empire Pictures                           11.0\n",
       "Name: overview_word, Length: 1771, dtype: float64"
      ]
     },
     "execution_count": 77,
     "metadata": {},
     "output_type": "execute_result"
    }
   ],
   "source": [
    "data_24.overview_word.mean().sort_values(ascending=False)"
   ]
  },
  {
   "cell_type": "markdown",
   "metadata": {
    "colab_type": "text",
    "id": "FJ1AFt90VqAP"
   },
   "source": [
    "# 26. Какие фильмы входят в 1 процент лучших по рейтингу? \n",
    "по vote_average"
   ]
  },
  {
   "cell_type": "code",
   "execution_count": 78,
   "metadata": {},
   "outputs": [],
   "source": [
    "answers['26'] = '1. Inside Out, The Dark Knight, 12 Years a Slave'"
   ]
  },
  {
   "cell_type": "code",
   "execution_count": 79,
   "metadata": {
    "colab": {},
    "colab_type": "code",
    "id": "8qmJVq4CVqAQ"
   },
   "outputs": [
    {
     "data": {
      "text/plain": [
       "599                                   The Dark Knight\n",
       "9                                          Inside Out\n",
       "34                                               Room\n",
       "118                                      Interstellar\n",
       "125                                The Imitation Game\n",
       "119                           Guardians of the Galaxy\n",
       "128                                         Gone Girl\n",
       "138                          The Grand Budapest Hotel\n",
       "370                                         Inception\n",
       "872                                       The Pianist\n",
       "1081    The Lord of the Rings: The Return of the King\n",
       "1183                          The Wolf of Wall Street\n",
       "1191                                 12 Years a Slave\n",
       "1800                                          Memento\n",
       "Name: original_title, dtype: object"
      ]
     },
     "execution_count": 79,
     "metadata": {},
     "output_type": "execute_result"
    }
   ],
   "source": [
    "best_movies = data[data.vote_average > data.vote_average.quantile(0.99)]  # фильмы, не входящие в 99-ый процентиль\n",
    "best_movies.sort_values('vote_average', ascending=False).original_title"
   ]
  },
  {
   "cell_type": "markdown",
   "metadata": {
    "colab_type": "text",
    "id": "MdXsUXbCVqAV"
   },
   "source": [
    "# 27. Какие актеры чаще всего снимаются в одном фильме вместе?\n"
   ]
  },
  {
   "cell_type": "code",
   "execution_count": 80,
   "metadata": {},
   "outputs": [],
   "source": [
    "answers['27'] = '5. Daniel Radcliffe & Rupert Grint'"
   ]
  },
  {
   "cell_type": "markdown",
   "metadata": {
    "colab_type": "text",
    "id": "4ymnxEVoVqAW"
   },
   "source": [
    "ВАРИАНТ 1"
   ]
  },
  {
   "cell_type": "code",
   "execution_count": 81,
   "metadata": {},
   "outputs": [
    {
     "data": {
      "text/plain": [
       "0     (Daniel Radcliffe, Emma Watson)\n",
       "1    (Daniel Radcliffe, Rupert Grint)\n",
       "2         (Emma Watson, Rupert Grint)\n",
       "dtype: object"
      ]
     },
     "execution_count": 81,
     "metadata": {},
     "output_type": "execute_result"
    }
   ],
   "source": [
    "data.cast = data.cast.str.split('|')  # разделение информации о актёрском составе\n",
    "data_pair = data.copy()\n",
    "data_pair.cast = data_pair.cast.apply(\n",
    "    lambda x: list(combinations(sorted(x), 2)))  # перебор пар актёров, снимающихся вместе\n",
    "data_pair.explode('cast').cast.mode()"
   ]
  },
  {
   "cell_type": "markdown",
   "metadata": {
    "colab_type": "text",
    "id": "U0nONFnGVqAX"
   },
   "source": [
    "# Submission"
   ]
  },
  {
   "cell_type": "code",
   "execution_count": 82,
   "metadata": {
    "colab": {},
    "colab_type": "code",
    "id": "IfcaRO9-VqAX",
    "outputId": "0f132912-32bb-4196-c98c-abfbc4ad5a5f",
    "scrolled": true
   },
   "outputs": [
    {
     "data": {
      "text/plain": [
       "{'1': '5. Pirates of the Caribbean: On Stranger Tides (tt1298650)',\n",
       " '2': '2. Gods and Generals (tt0279111)',\n",
       " '3': '3. Winnie the Pooh (tt1449283)',\n",
       " '4': '2. 110',\n",
       " '5': '1. 107',\n",
       " '6': '5. Avatar (tt0499549)',\n",
       " '7': '5. The Lone Ranger (tt1210819)',\n",
       " '8': '1. 1478',\n",
       " '9': '4. The Dark Knight (tt0468569)',\n",
       " '10': '5. The Lone Ranger (tt1210819)',\n",
       " '11': '3. Drama',\n",
       " '12': '1. Drama',\n",
       " '13': '5. Peter Jackson',\n",
       " '14': '3. Robert Rodriguez',\n",
       " '15': '3. Chris Hemsworth',\n",
       " '16': '3. Matt Damon',\n",
       " '17': '2. Action',\n",
       " '18': '1. K-19: The Widowmaker (tt0267626)',\n",
       " '19': '5. 2015',\n",
       " '20': '1. 2014',\n",
       " '21': '4. Сентябрь',\n",
       " '22': '2. 450',\n",
       " '23': '5. Peter Jackson',\n",
       " '24': '5. Four By Two Productions',\n",
       " '25': '3. Midnight Picture Show',\n",
       " '26': '1. Inside Out, The Dark Knight, 12 Years a Slave',\n",
       " '27': '5. Daniel Radcliffe & Rupert Grint'}"
      ]
     },
     "execution_count": 82,
     "metadata": {},
     "output_type": "execute_result"
    }
   ],
   "source": [
    "# в конце можно посмотреть свои ответы к каждому вопросу\n",
    "answers"
   ]
  },
  {
   "cell_type": "code",
   "execution_count": 83,
   "metadata": {
    "colab": {},
    "colab_type": "code",
    "id": "SiRmHPl8VqAd"
   },
   "outputs": [
    {
     "data": {
      "text/plain": [
       "27"
      ]
     },
     "execution_count": 83,
     "metadata": {},
     "output_type": "execute_result"
    }
   ],
   "source": [
    "# и убедиться что ни чего не пропустил)\n",
    "len(answers)"
   ]
  },
  {
   "cell_type": "code",
   "execution_count": null,
   "metadata": {},
   "outputs": [],
   "source": []
  }
 ],
 "metadata": {
  "colab": {
   "name": "Copy of [SF-DST] Movies IMBD v4.1 TEMPLATE.ipynb",
   "provenance": []
  },
  "kernelspec": {
   "display_name": "Python 3",
   "language": "python",
   "name": "python3"
  },
  "language_info": {
   "codemirror_mode": {
    "name": "ipython",
    "version": 3
   },
   "file_extension": ".py",
   "mimetype": "text/x-python",
   "name": "python",
   "nbconvert_exporter": "python",
   "pygments_lexer": "ipython3",
   "version": "3.8.8"
  }
 },
 "nbformat": 4,
 "nbformat_minor": 1
}
