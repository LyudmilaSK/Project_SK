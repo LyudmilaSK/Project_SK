{
 "cells": [
  {
   "cell_type": "code",
   "execution_count": 2,
   "metadata": {
    "_cell_guid": "b1076dfc-b9ad-4769-8c92-a6c4dae69d19",
    "_uuid": "8f2839f25d086af736a60e9eeb907d3b93b6e0e5",
    "execution": {
     "iopub.execute_input": "2022-03-02T12:17:40.166050Z",
     "iopub.status.busy": "2022-03-02T12:17:40.164861Z",
     "iopub.status.idle": "2022-03-02T12:17:44.074077Z",
     "shell.execute_reply": "2022-03-02T12:17:44.073152Z",
     "shell.execute_reply.started": "2022-03-02T12:17:40.166002Z"
    },
    "papermill": {
     "duration": 1.219772,
     "end_time": "2020-10-26T12:46:42.581597",
     "exception": false,
     "start_time": "2020-10-26T12:46:41.361825",
     "status": "completed"
    },
    "tags": []
   },
   "outputs": [],
   "source": [
    "import numpy as np\n",
    "import pandas as pd\n",
    "import sys\n",
    "\n",
    "from sklearn import preprocessing\n",
    "from sklearn.preprocessing import (\n",
    "    LabelEncoder, PolynomialFeatures,\n",
    "    StandardScaler\n",
    ")\n",
    "\n",
    "from sklearn.cluster import DBSCAN\n",
    "\n",
    "from sklearn.model_selection import (\n",
    "    RandomizedSearchCV, train_test_split,\n",
    "    KFold\n",
    ")\n",
    "\n",
    "from sklearn.feature_selection import f_classif, mutual_info_classif\n",
    "\n",
    "from sklearn.ensemble import (\n",
    "    RandomForestRegressor, ExtraTreesRegressor,\n",
    "    AdaBoostRegressor, GradientBoostingRegressor\n",
    ")\n",
    "\n",
    "from sklearn.ensemble import StackingRegressor\n",
    "from sklearn.linear_model import LinearRegression\n",
    "\n",
    "from tqdm.notebook import tqdm\n",
    "\n",
    "from catboost import CatBoostRegressor\n",
    "\n",
    "import re\n",
    "import pandas_profiling\n",
    "import json\n",
    "import matplotlib.pyplot as plt\n",
    "import seaborn as sns\n",
    "from scipy import stats\n",
    "import optuna"
   ]
  },
  {
   "cell_type": "code",
   "execution_count": 3,
   "metadata": {
    "execution": {
     "iopub.execute_input": "2022-03-02T12:17:44.076430Z",
     "iopub.status.busy": "2022-03-02T12:17:44.076147Z",
     "iopub.status.idle": "2022-03-02T12:17:44.081670Z",
     "shell.execute_reply": "2022-03-02T12:17:44.080616Z",
     "shell.execute_reply.started": "2022-03-02T12:17:44.076396Z"
    }
   },
   "outputs": [],
   "source": [
    "pd.options.display.max_rows = None\n",
    "pd.options.display.max_columns = None"
   ]
  },
  {
   "cell_type": "code",
   "execution_count": 5,
   "metadata": {
    "_kg_hide-input": true,
    "execution": {
     "iopub.execute_input": "2022-03-02T12:17:59.298002Z",
     "iopub.status.busy": "2022-03-02T12:17:59.297631Z",
     "iopub.status.idle": "2022-03-02T12:17:59.304426Z",
     "shell.execute_reply": "2022-03-02T12:17:59.303781Z",
     "shell.execute_reply.started": "2022-03-02T12:17:59.297965Z"
    },
    "papermill": {
     "duration": 0.040034,
     "end_time": "2020-10-26T12:46:42.650603",
     "exception": false,
     "start_time": "2020-10-26T12:46:42.610569",
     "status": "completed"
    },
    "tags": []
   },
   "outputs": [],
   "source": [
    "print('Python       :', sys.version.split('\\n')[0])\n",
    "print('Numpy        :', np.__version__)"
   ]
  },
  {
   "cell_type": "code",
   "execution_count": 6,
   "metadata": {
    "_kg_hide-input": true,
    "execution": {
     "iopub.execute_input": "2022-03-02T12:18:00.558862Z",
     "iopub.status.busy": "2022-03-02T12:18:00.558271Z",
     "iopub.status.idle": "2022-03-02T12:18:05.677139Z",
     "shell.execute_reply": "2022-03-02T12:18:05.676081Z",
     "shell.execute_reply.started": "2022-03-02T12:18:00.558808Z"
    },
    "papermill": {
     "duration": 5.172536,
     "end_time": "2020-10-26T12:46:47.852593",
     "exception": false,
     "start_time": "2020-10-26T12:46:42.680057",
     "status": "completed"
    },
    "tags": []
   },
   "outputs": [],
   "source": [
    "# зафиксируем версию пакетов, чтобы эксперименты были воспроизводимы:\n",
    "!pip freeze > requirements.txt"
   ]
  },
  {
   "cell_type": "code",
   "execution_count": 7,
   "metadata": {
    "execution": {
     "iopub.execute_input": "2022-03-02T12:18:05.679199Z",
     "iopub.status.busy": "2022-03-02T12:18:05.678880Z",
     "iopub.status.idle": "2022-03-02T12:18:05.684094Z",
     "shell.execute_reply": "2022-03-02T12:18:05.683349Z",
     "shell.execute_reply.started": "2022-03-02T12:18:05.679165Z"
    },
    "papermill": {
     "duration": 0.039842,
     "end_time": "2020-10-26T12:46:47.922434",
     "exception": false,
     "start_time": "2020-10-26T12:46:47.882592",
     "status": "completed"
    },
    "tags": []
   },
   "outputs": [],
   "source": [
    "# всегда фиксируйте RANDOM_SEED, чтобы ваши эксперименты были воспроизводимы!\n",
    "RANDOM_SEED = 42"
   ]
  },
  {
   "cell_type": "code",
   "execution_count": 8,
   "metadata": {
    "_kg_hide-input": true,
    "execution": {
     "iopub.execute_input": "2022-03-02T12:18:05.685953Z",
     "iopub.status.busy": "2022-03-02T12:18:05.685436Z",
     "iopub.status.idle": "2022-03-02T12:18:05.701592Z",
     "shell.execute_reply": "2022-03-02T12:18:05.700711Z",
     "shell.execute_reply.started": "2022-03-02T12:18:05.685890Z"
    }
   },
   "outputs": [],
   "source": [
    "def mape(y_true, y_pred):\n",
    "    return np.mean(np.abs((y_pred-y_true)/y_true))"
   ]
  },
  {
   "cell_type": "markdown",
   "metadata": {},
   "source": [
    "### Функция выделения комплектации"
   ]
  },
  {
   "cell_type": "code",
   "execution_count": 9,
   "metadata": {
    "execution": {
     "iopub.execute_input": "2022-03-02T12:18:05.703957Z",
     "iopub.status.busy": "2022-03-02T12:18:05.703471Z",
     "iopub.status.idle": "2022-03-02T12:18:05.714113Z",
     "shell.execute_reply": "2022-03-02T12:18:05.713124Z",
     "shell.execute_reply.started": "2022-03-02T12:18:05.703894Z"
    }
   },
   "outputs": [],
   "source": [
    "def complectation_cut(complectation):\n",
    "    try:\n",
    "        if 'available_options' in complectation:\n",
    "            complectation_new = eval(complectation)['available_options']\n",
    "            return complectation_new\n",
    "    except:\n",
    "        return None"
   ]
  },
  {
   "cell_type": "markdown",
   "metadata": {},
   "source": [
    "### Функция удаления латиницы и символов"
   ]
  },
  {
   "cell_type": "code",
   "execution_count": 10,
   "metadata": {
    "execution": {
     "iopub.execute_input": "2022-03-02T12:18:05.716202Z",
     "iopub.status.busy": "2022-03-02T12:18:05.715901Z",
     "iopub.status.idle": "2022-03-02T12:18:05.726824Z",
     "shell.execute_reply": "2022-03-02T12:18:05.726033Z",
     "shell.execute_reply.started": "2022-03-02T12:18:05.716162Z"
    }
   },
   "outputs": [],
   "source": [
    "def cut_bodytype(bodytype):\n",
    "    try:\n",
    "        bodytype_new = re.split(r'[A-Z,a-z,0-9]', bodytype)[0].rstrip()\n",
    "    except:\n",
    "        bodytype_new = bodytype\n",
    "        \n",
    "    return str(bodytype_new).lower()"
   ]
  },
  {
   "cell_type": "markdown",
   "metadata": {},
   "source": [
    "### Функция поиска расхода топлива"
   ]
  },
  {
   "cell_type": "code",
   "execution_count": 11,
   "metadata": {
    "execution": {
     "iopub.execute_input": "2022-03-02T12:18:05.830493Z",
     "iopub.status.busy": "2022-03-02T12:18:05.829577Z",
     "iopub.status.idle": "2022-03-02T12:18:05.836419Z",
     "shell.execute_reply": "2022-03-02T12:18:05.835622Z",
     "shell.execute_reply.started": "2022-03-02T12:18:05.830422Z"
    }
   },
   "outputs": [],
   "source": [
    "def engine_displacement_cut(engine):\n",
    "    engine = str(engine)\n",
    "    point_place = engine.find('.')\n",
    "    if point_place != -1:\n",
    "        engine_new_str = engine[point_place-1:point_place+2]\n",
    "        engine_new_float = float(engine_new_str)\n",
    "        return engine_new_float\n",
    "    else:\n",
    "        return None"
   ]
  },
  {
   "cell_type": "markdown",
   "metadata": {},
   "source": [
    "### Функции расчёта врмемени владением авто"
   ]
  },
  {
   "cell_type": "code",
   "execution_count": 12,
   "metadata": {
    "execution": {
     "iopub.execute_input": "2022-03-02T12:18:06.230385Z",
     "iopub.status.busy": "2022-03-02T12:18:06.230056Z",
     "iopub.status.idle": "2022-03-02T12:18:06.238769Z",
     "shell.execute_reply": "2022-03-02T12:18:06.238051Z",
     "shell.execute_reply.started": "2022-03-02T12:18:06.230348Z"
    }
   },
   "outputs": [],
   "source": [
    "\"\"\"\n",
    "Для работы с признаком из train\n",
    "Функция подсчета времени владения автомобилем с времени приобретения до 09.09.2020.\n",
    "Единица измерения - год.\n",
    "\"\"\"\n",
    "def time_ownership(ownership):\n",
    "    try:\n",
    "        year_of_buy = int(ownership.replace(\"'year': \",'').replace(\" 'month': \",'')[1:5])\n",
    "        month_of_buy = int(ownership.replace(\"'year': \",'').replace(\" 'month': \",'')[6:-1])\n",
    "    \n",
    "        year = (2020 - year_of_buy)\n",
    "        month = 12 - month_of_buy + 9\n",
    "    \n",
    "        if month>=12:\n",
    "            year+=1\n",
    "            month-=12\n",
    "        \n",
    "        time_ownership = year + month/12\n",
    "\n",
    "        \n",
    "        return time_ownership\n",
    "    except:\n",
    "        pass"
   ]
  },
  {
   "cell_type": "code",
   "execution_count": 13,
   "metadata": {
    "execution": {
     "iopub.execute_input": "2022-03-02T12:18:06.533061Z",
     "iopub.status.busy": "2022-03-02T12:18:06.532720Z",
     "iopub.status.idle": "2022-03-02T12:18:06.544080Z",
     "shell.execute_reply": "2022-03-02T12:18:06.543073Z",
     "shell.execute_reply.started": "2022-03-02T12:18:06.533028Z"
    }
   },
   "outputs": [],
   "source": [
    "\"\"\"\n",
    "Для работы с признаком из test\n",
    "Единица измерения - год.\n",
    "\"\"\"\n",
    "def time_ownership_test(ownership):\n",
    "    try:\n",
    "        if (('год' in ownership) or ('лет' in ownership)) and ('мес' in ownership):\n",
    "            try:\n",
    "                year = int(re.split(r' год', ownership)[0])\n",
    "            except:\n",
    "                year = int(re.split(r' лет', ownership)[0])\n",
    "            month = int(re.split(r' и ', ownership)[1].split(' ')[0])\n",
    "\n",
    "        elif (('год' in ownership) or ('лет' in ownership)) and not ('мес' in ownership):\n",
    "            try:\n",
    "                year = int(re.split(r' год', ownership)[0])\n",
    "                month = 0\n",
    "            except:\n",
    "                year = int(re.split(r' лет', ownership)[0])\n",
    "                month = 0\n",
    "    \n",
    "        elif not(('год' in ownership) or ('лет' in ownership)) and ('мес' in ownership):\n",
    "            year = 0\n",
    "            month = int(ownership.split(' ')[0])\n",
    "    \n",
    "        else:\n",
    "            None\n",
    "    \n",
    "        time_ownership = year + month/12\n",
    "    \n",
    "        return time_ownership\n",
    "    except:\n",
    "        pass"
   ]
  },
  {
   "cell_type": "markdown",
   "metadata": {},
   "source": [
    "## Функция построения группы боксплотов"
   ]
  },
  {
   "cell_type": "code",
   "execution_count": 14,
   "metadata": {
    "execution": {
     "iopub.execute_input": "2022-03-02T12:18:07.702077Z",
     "iopub.status.busy": "2022-03-02T12:18:07.701373Z",
     "iopub.status.idle": "2022-03-02T12:18:07.710105Z",
     "shell.execute_reply": "2022-03-02T12:18:07.709168Z",
     "shell.execute_reply.started": "2022-03-02T12:18:07.702024Z"
    }
   },
   "outputs": [],
   "source": [
    "def boxplot_out(df, columns):\n",
    "    fig = plt.figure(figsize=[30, 8])\n",
    "    count = 1\n",
    "    for each in columns:\n",
    "        ax = fig.add_subplot(1, 5, count)\n",
    "        sns.boxplot(y=df[each], data=df[each], orient='v')\n",
    "        ax.set_title(label=each, fontdict={'fontsize': 12})\n",
    "        ax.set(ylabel='')\n",
    "        plt.subplots_adjust(wspace=1)\n",
    "        count += 1\n",
    "    plt.show()"
   ]
  },
  {
   "cell_type": "markdown",
   "metadata": {},
   "source": [
    "## Функция визуализации выбросов"
   ]
  },
  {
   "cell_type": "code",
   "execution_count": 15,
   "metadata": {
    "execution": {
     "iopub.execute_input": "2022-03-02T12:18:08.341526Z",
     "iopub.status.busy": "2022-03-02T12:18:08.341230Z",
     "iopub.status.idle": "2022-03-02T12:18:08.350360Z",
     "shell.execute_reply": "2022-03-02T12:18:08.348849Z",
     "shell.execute_reply.started": "2022-03-02T12:18:08.341496Z"
    }
   },
   "outputs": [],
   "source": [
    "def graph_out(df, columns):\n",
    "    fig = plt.figure(figsize=[30, 4])\n",
    "    count = 1\n",
    "    for each in columns:\n",
    "        ax = fig.add_subplot(1, len(columns), count)\n",
    "        plt.title(each)\n",
    "\n",
    "        perc25 = df[each].quantile(0.25)\n",
    "        perc75 = df[each].quantile(0.75)\n",
    "        IQR = perc75 - perc25\n",
    "\n",
    "        df[each].loc[df[each].between(\n",
    "            perc25 - 1.5*IQR, perc75 + 1.5*IQR)].hist(label='IQR')\n",
    "        df[each].loc[(df[each] < perc25 - 1.5*IQR) |\n",
    "                     (df[each] > perc75 + 1.5*IQR)].hist(label='выбросы')\n",
    "\n",
    "        count += 1\n",
    "\n",
    "        plt.legend()"
   ]
  },
  {
   "cell_type": "markdown",
   "metadata": {},
   "source": [
    "## Функция статистики / удаления шума по z_score"
   ]
  },
  {
   "cell_type": "code",
   "execution_count": 16,
   "metadata": {
    "execution": {
     "iopub.execute_input": "2022-03-02T12:18:08.646802Z",
     "iopub.status.busy": "2022-03-02T12:18:08.645876Z",
     "iopub.status.idle": "2022-03-02T12:18:08.655451Z",
     "shell.execute_reply": "2022-03-02T12:18:08.654478Z",
     "shell.execute_reply.started": "2022-03-02T12:18:08.646759Z"
    }
   },
   "outputs": [],
   "source": [
    "def outliers(df, columns, function):\n",
    "    for each in columns:\n",
    "        mean = np.mean(df[each])\n",
    "        std = np.std(df[each])\n",
    "        moda = df[each].mode()\n",
    "        median = df[each].median()\n",
    "        z_score = [(x-mean)/std for x in df[each]]\n",
    "        out_z = np.where(np.abs(z_score) > 3)[0]\n",
    "        out_z_count = len(np.where(np.abs(z_score) > 3)[0])\n",
    "        out_z_perc = round(100*out_z_count / df.shape[0], 2)\n",
    "        if function == 'search':\n",
    "            print(f'Количество выбросов у {each} по Z-score: {out_z_count}, {out_z_perc}% выборки.')\n",
    "        \n",
    "        if function == 'delete':\n",
    "            for i in out_z:\n",
    "                df[each][i] = median            "
   ]
  },
  {
   "cell_type": "markdown",
   "metadata": {},
   "source": [
    "## Функция группы гистограмм"
   ]
  },
  {
   "cell_type": "code",
   "execution_count": 17,
   "metadata": {
    "execution": {
     "iopub.execute_input": "2022-03-02T12:18:08.972024Z",
     "iopub.status.busy": "2022-03-02T12:18:08.971679Z",
     "iopub.status.idle": "2022-03-02T12:18:08.979594Z",
     "shell.execute_reply": "2022-03-02T12:18:08.978350Z",
     "shell.execute_reply.started": "2022-03-02T12:18:08.971983Z"
    }
   },
   "outputs": [],
   "source": [
    "def hist_type(df, columns):\n",
    "    fig = plt.figure(figsize=[70, 70])\n",
    "    count = 1\n",
    "    for each in columns:\n",
    "        ax = fig.add_subplot(7, 2, count)\n",
    "        sns.countplot(x=each, data=df,\n",
    "                      order=df[each].value_counts().index)\n",
    "        ax.tick_params(axis='x', labelsize=14, labelrotation=90)\n",
    "        ax.set_title(label=each, fontdict={'fontsize': 16})\n",
    "        count += 1"
   ]
  },
  {
   "cell_type": "markdown",
   "metadata": {
    "papermill": {
     "duration": 0.028837,
     "end_time": "2020-10-26T12:46:47.981435",
     "exception": false,
     "start_time": "2020-10-26T12:46:47.952598",
     "status": "completed"
    },
    "tags": []
   },
   "source": [
    "# Setup"
   ]
  },
  {
   "cell_type": "code",
   "execution_count": 18,
   "metadata": {
    "execution": {
     "iopub.execute_input": "2022-03-02T12:18:09.321508Z",
     "iopub.status.busy": "2022-03-02T12:18:09.320611Z",
     "iopub.status.idle": "2022-03-02T12:18:09.326297Z",
     "shell.execute_reply": "2022-03-02T12:18:09.325405Z",
     "shell.execute_reply.started": "2022-03-02T12:18:09.321456Z"
    },
    "papermill": {
     "duration": 0.039969,
     "end_time": "2020-10-26T12:46:48.052728",
     "exception": false,
     "start_time": "2020-10-26T12:46:48.012759",
     "status": "completed"
    },
    "tags": []
   },
   "outputs": [],
   "source": [
    "VERSION    = 16\n",
    "DIR_TRAIN  = '../input/parsing-all-moscow-auto-ru-09-09-2020/' # подключил к ноутбуку внешний датасет\n",
    "DIR_TEST   = '../input/sf-dst-car-price-prediction/'\n",
    "VAL_SIZE   = 0.20   # 20%"
   ]
  },
  {
   "cell_type": "markdown",
   "metadata": {
    "papermill": {
     "duration": 0.030254,
     "end_time": "2020-10-26T12:46:48.112586",
     "exception": false,
     "start_time": "2020-10-26T12:46:48.082332",
     "status": "completed"
    },
    "tags": []
   },
   "source": [
    "# Data"
   ]
  },
  {
   "cell_type": "code",
   "execution_count": 19,
   "metadata": {
    "_cell_guid": "79c7e3d0-c299-4dcb-8224-4455121ee9b0",
    "_uuid": "d629ff2d2480ee46fbb7e2d37f6b5fab8052498a",
    "execution": {
     "iopub.execute_input": "2022-03-02T12:18:10.366289Z",
     "iopub.status.busy": "2022-03-02T12:18:10.366002Z",
     "iopub.status.idle": "2022-03-02T12:18:23.159776Z",
     "shell.execute_reply": "2022-03-02T12:18:23.158527Z",
     "shell.execute_reply.started": "2022-03-02T12:18:10.366259Z"
    },
    "papermill": {
     "duration": 13.16556,
     "end_time": "2020-10-26T12:47:02.12133",
     "exception": false,
     "start_time": "2020-10-26T12:46:48.95577",
     "status": "completed"
    },
    "tags": []
   },
   "outputs": [],
   "source": [
    "train = pd.read_csv(DIR_TRAIN+'all_auto_ru_09_09_2020.csv') # датасет для обучения модели\n",
    "test = pd.read_csv(DIR_TEST+'test.csv')\n",
    "sample_submission = pd.read_csv(DIR_TEST+'sample_submission.csv')"
   ]
  },
  {
   "cell_type": "code",
   "execution_count": 20,
   "metadata": {
    "execution": {
     "iopub.execute_input": "2022-03-02T12:18:23.162596Z",
     "iopub.status.busy": "2022-03-02T12:18:23.162165Z",
     "iopub.status.idle": "2022-03-02T12:18:23.219845Z",
     "shell.execute_reply": "2022-03-02T12:18:23.218872Z",
     "shell.execute_reply.started": "2022-03-02T12:18:23.162539Z"
    },
    "papermill": {
     "duration": 0.09378,
     "end_time": "2020-10-26T12:47:02.246755",
     "exception": false,
     "start_time": "2020-10-26T12:47:02.152975",
     "status": "completed"
    },
    "tags": []
   },
   "outputs": [],
   "source": [
    "train.sample(5)"
   ]
  },
  {
   "cell_type": "code",
   "execution_count": 21,
   "metadata": {
    "execution": {
     "iopub.execute_input": "2022-03-02T12:18:23.222038Z",
     "iopub.status.busy": "2022-03-02T12:18:23.221511Z",
     "iopub.status.idle": "2022-03-02T12:18:23.408946Z",
     "shell.execute_reply": "2022-03-02T12:18:23.407947Z",
     "shell.execute_reply.started": "2022-03-02T12:18:23.221999Z"
    },
    "papermill": {
     "duration": 0.22352,
     "end_time": "2020-10-26T12:47:02.502166",
     "exception": false,
     "start_time": "2020-10-26T12:47:02.278646",
     "status": "completed"
    },
    "tags": []
   },
   "outputs": [],
   "source": [
    "train.info()"
   ]
  },
  {
   "cell_type": "code",
   "execution_count": 22,
   "metadata": {
    "execution": {
     "iopub.execute_input": "2022-03-02T12:18:23.411500Z",
     "iopub.status.busy": "2022-03-02T12:18:23.411245Z",
     "iopub.status.idle": "2022-03-02T12:18:23.445480Z",
     "shell.execute_reply": "2022-03-02T12:18:23.444122Z",
     "shell.execute_reply.started": "2022-03-02T12:18:23.411470Z"
    },
    "papermill": {
     "duration": 0.069985,
     "end_time": "2020-10-26T12:47:02.604497",
     "exception": false,
     "start_time": "2020-10-26T12:47:02.534512",
     "status": "completed"
    },
    "tags": []
   },
   "outputs": [],
   "source": [
    "test.head(5)"
   ]
  },
  {
   "cell_type": "code",
   "execution_count": 23,
   "metadata": {
    "execution": {
     "iopub.execute_input": "2022-03-02T12:18:23.447974Z",
     "iopub.status.busy": "2022-03-02T12:18:23.447574Z",
     "iopub.status.idle": "2022-03-02T12:18:23.569331Z",
     "shell.execute_reply": "2022-03-02T12:18:23.568332Z",
     "shell.execute_reply.started": "2022-03-02T12:18:23.447897Z"
    },
    "papermill": {
     "duration": 0.160401,
     "end_time": "2020-10-26T12:47:02.798587",
     "exception": false,
     "start_time": "2020-10-26T12:47:02.638186",
     "status": "completed"
    },
    "tags": []
   },
   "outputs": [],
   "source": [
    "test.info()"
   ]
  },
  {
   "cell_type": "markdown",
   "metadata": {},
   "source": [
    "## Фильтр на авто с пробегом"
   ]
  },
  {
   "cell_type": "code",
   "execution_count": 24,
   "metadata": {
    "execution": {
     "iopub.execute_input": "2022-03-02T12:18:23.571368Z",
     "iopub.status.busy": "2022-03-02T12:18:23.570826Z",
     "iopub.status.idle": "2022-03-02T12:18:23.585504Z",
     "shell.execute_reply": "2022-03-02T12:18:23.584502Z",
     "shell.execute_reply.started": "2022-03-02T12:18:23.571326Z"
    }
   },
   "outputs": [],
   "source": [
    "train[train['mileage']==0].shape"
   ]
  },
  {
   "cell_type": "code",
   "execution_count": 25,
   "metadata": {
    "execution": {
     "iopub.execute_input": "2022-03-02T12:18:23.587133Z",
     "iopub.status.busy": "2022-03-02T12:18:23.586863Z",
     "iopub.status.idle": "2022-03-02T12:18:23.594381Z",
     "shell.execute_reply": "2022-03-02T12:18:23.593430Z",
     "shell.execute_reply.started": "2022-03-02T12:18:23.587103Z"
    }
   },
   "outputs": [],
   "source": [
    "test[test['mileage']==0].shape"
   ]
  },
  {
   "cell_type": "code",
   "execution_count": 26,
   "metadata": {
    "execution": {
     "iopub.execute_input": "2022-03-02T12:18:23.596437Z",
     "iopub.status.busy": "2022-03-02T12:18:23.596010Z",
     "iopub.status.idle": "2022-03-02T12:18:23.618625Z",
     "shell.execute_reply": "2022-03-02T12:18:23.617935Z",
     "shell.execute_reply.started": "2022-03-02T12:18:23.596386Z"
    }
   },
   "outputs": [],
   "source": [
    "train[train['mileage']==0]['Владельцы'].unique()"
   ]
  },
  {
   "cell_type": "markdown",
   "metadata": {},
   "source": [
    "В выборке 13588 автомобилей с нулевым пробегом и не имеющих ни одного владельца,  \n",
    "то есть можно сделать предположение, что это новые автомобили.  \n",
    "Это косвенно подтверждают комментарии, в которых описывается официальный диллер.\n",
    "Эти строки противоречат поставленной задаче определения цены авто на вторичном рынке.   \n",
    "Поэтому строки следует удалить.  \n",
    "В результате уменьшится только обучающая выборка"
   ]
  },
  {
   "cell_type": "code",
   "execution_count": 27,
   "metadata": {
    "execution": {
     "iopub.execute_input": "2022-03-02T12:18:23.620767Z",
     "iopub.status.busy": "2022-03-02T12:18:23.620216Z",
     "iopub.status.idle": "2022-03-02T12:18:23.686065Z",
     "shell.execute_reply": "2022-03-02T12:18:23.684991Z",
     "shell.execute_reply.started": "2022-03-02T12:18:23.620717Z"
    }
   },
   "outputs": [],
   "source": [
    "train = train[train['mileage']>0].reset_index(drop=True)"
   ]
  },
  {
   "cell_type": "markdown",
   "metadata": {
    "papermill": {
     "duration": 0.033402,
     "end_time": "2020-10-26T12:47:02.866506",
     "exception": false,
     "start_time": "2020-10-26T12:47:02.833104",
     "status": "completed"
    },
    "tags": []
   },
   "source": [
    "## Data Preprocessing"
   ]
  },
  {
   "cell_type": "code",
   "execution_count": 28,
   "metadata": {
    "execution": {
     "iopub.execute_input": "2022-03-02T12:18:23.692447Z",
     "iopub.status.busy": "2022-03-02T12:18:23.692131Z",
     "iopub.status.idle": "2022-03-02T12:18:23.735596Z",
     "shell.execute_reply": "2022-03-02T12:18:23.734704Z",
     "shell.execute_reply.started": "2022-03-02T12:18:23.692411Z"
    }
   },
   "outputs": [],
   "source": [
    "train[(train['productionDate']==1989) & (train['brand'] == 'HONDA')]"
   ]
  },
  {
   "cell_type": "markdown",
   "metadata": {
    "execution": {
     "iopub.execute_input": "2022-02-28T08:54:40.41359Z",
     "iopub.status.busy": "2022-02-28T08:54:40.41301Z",
     "iopub.status.idle": "2022-02-28T08:54:40.418799Z",
     "shell.execute_reply": "2022-02-28T08:54:40.417784Z",
     "shell.execute_reply.started": "2022-02-28T08:54:40.413553Z"
    }
   },
   "source": [
    "Обнаружено авто с малым объём признаков,которые невозможно восстановить из описания. Данное авто судя по индексу из train, поэтому решено удалить этот пример"
   ]
  },
  {
   "cell_type": "code",
   "execution_count": 29,
   "metadata": {
    "execution": {
     "iopub.execute_input": "2022-03-02T12:18:23.737243Z",
     "iopub.status.busy": "2022-03-02T12:18:23.736957Z",
     "iopub.status.idle": "2022-03-02T12:18:23.755795Z",
     "shell.execute_reply": "2022-03-02T12:18:23.754969Z",
     "shell.execute_reply.started": "2022-03-02T12:18:23.737209Z"
    }
   },
   "outputs": [],
   "source": [
    "index_nan = train[(train['productionDate']==1989) & (train['brand'] == 'HONDA')].index[0]"
   ]
  },
  {
   "cell_type": "code",
   "execution_count": 30,
   "metadata": {
    "execution": {
     "iopub.execute_input": "2022-03-02T12:18:23.757617Z",
     "iopub.status.busy": "2022-03-02T12:18:23.756977Z",
     "iopub.status.idle": "2022-03-02T12:18:23.772340Z",
     "shell.execute_reply": "2022-03-02T12:18:23.771319Z",
     "shell.execute_reply.started": "2022-03-02T12:18:23.757579Z"
    }
   },
   "outputs": [],
   "source": [
    "train.iloc[index_nan]"
   ]
  },
  {
   "cell_type": "code",
   "execution_count": 31,
   "metadata": {
    "execution": {
     "iopub.execute_input": "2022-03-02T12:18:23.775243Z",
     "iopub.status.busy": "2022-03-02T12:18:23.774225Z",
     "iopub.status.idle": "2022-03-02T12:18:23.838002Z",
     "shell.execute_reply": "2022-03-02T12:18:23.837265Z",
     "shell.execute_reply.started": "2022-03-02T12:18:23.775189Z"
    }
   },
   "outputs": [],
   "source": [
    "train = train.drop(index=index_nan).reset_index(drop=True)"
   ]
  },
  {
   "cell_type": "markdown",
   "metadata": {},
   "source": [
    "Для того, чтобы модели правильно обучились и работали, надо признаки train привести в соответствие с признаками test"
   ]
  },
  {
   "cell_type": "markdown",
   "metadata": {},
   "source": [
    "### Приведение в соответствие признака body_type"
   ]
  },
  {
   "cell_type": "code",
   "execution_count": 32,
   "metadata": {
    "execution": {
     "iopub.execute_input": "2022-03-02T12:18:23.840155Z",
     "iopub.status.busy": "2022-03-02T12:18:23.839587Z",
     "iopub.status.idle": "2022-03-02T12:18:24.131732Z",
     "shell.execute_reply": "2022-03-02T12:18:24.130511Z",
     "shell.execute_reply.started": "2022-03-02T12:18:23.840092Z"
    }
   },
   "outputs": [],
   "source": [
    "train['bodyType'] = train['bodyType'].map(cut_bodytype)\n",
    "test['bodyType'] = test['bodyType'].map(cut_bodytype)"
   ]
  },
  {
   "cell_type": "code",
   "execution_count": 33,
   "metadata": {
    "execution": {
     "iopub.execute_input": "2022-03-02T12:18:24.133438Z",
     "iopub.status.busy": "2022-03-02T12:18:24.133170Z",
     "iopub.status.idle": "2022-03-02T12:18:24.156022Z",
     "shell.execute_reply": "2022-03-02T12:18:24.154976Z",
     "shell.execute_reply.started": "2022-03-02T12:18:24.133408Z"
    }
   },
   "outputs": [],
   "source": [
    "train['bodyType'].unique()"
   ]
  },
  {
   "cell_type": "code",
   "execution_count": 34,
   "metadata": {
    "execution": {
     "iopub.execute_input": "2022-03-02T12:18:24.158255Z",
     "iopub.status.busy": "2022-03-02T12:18:24.157944Z",
     "iopub.status.idle": "2022-03-02T12:18:24.180448Z",
     "shell.execute_reply": "2022-03-02T12:18:24.179745Z",
     "shell.execute_reply.started": "2022-03-02T12:18:24.158217Z"
    }
   },
   "outputs": [],
   "source": [
    "test['bodyType'].unique()"
   ]
  },
  {
   "cell_type": "code",
   "execution_count": 35,
   "metadata": {
    "execution": {
     "iopub.execute_input": "2022-03-02T12:18:24.182119Z",
     "iopub.status.busy": "2022-03-02T12:18:24.181819Z",
     "iopub.status.idle": "2022-03-02T12:18:24.208643Z",
     "shell.execute_reply": "2022-03-02T12:18:24.207529Z",
     "shell.execute_reply.started": "2022-03-02T12:18:24.182073Z"
    }
   },
   "outputs": [],
   "source": [
    "set(test['bodyType'].unique()).difference(set(train['bodyType'].unique()))"
   ]
  },
  {
   "cell_type": "code",
   "execution_count": 36,
   "metadata": {
    "execution": {
     "iopub.execute_input": "2022-03-02T12:18:24.210767Z",
     "iopub.status.busy": "2022-03-02T12:18:24.210499Z",
     "iopub.status.idle": "2022-03-02T12:18:24.217220Z",
     "shell.execute_reply": "2022-03-02T12:18:24.216085Z",
     "shell.execute_reply.started": "2022-03-02T12:18:24.210738Z"
    }
   },
   "outputs": [],
   "source": [
    "train.rename(columns={'bodyType' : 'body_type' }, inplace=True)\n",
    "test.rename(columns={'bodyType' : 'body_type' }, inplace=True)"
   ]
  },
  {
   "cell_type": "markdown",
   "metadata": {},
   "source": [
    "Все виды признака из тестовой выборки присутствуют в учебной выборке"
   ]
  },
  {
   "cell_type": "markdown",
   "metadata": {},
   "source": [
    "### Приведение в соответствие признака brand"
   ]
  },
  {
   "cell_type": "code",
   "execution_count": 37,
   "metadata": {
    "execution": {
     "iopub.execute_input": "2022-03-02T12:18:24.219365Z",
     "iopub.status.busy": "2022-03-02T12:18:24.218711Z",
     "iopub.status.idle": "2022-03-02T12:18:24.239312Z",
     "shell.execute_reply": "2022-03-02T12:18:24.238139Z",
     "shell.execute_reply.started": "2022-03-02T12:18:24.219306Z"
    }
   },
   "outputs": [],
   "source": [
    "train['brand'].unique()"
   ]
  },
  {
   "cell_type": "code",
   "execution_count": 38,
   "metadata": {
    "execution": {
     "iopub.execute_input": "2022-03-02T12:18:24.242118Z",
     "iopub.status.busy": "2022-03-02T12:18:24.241059Z",
     "iopub.status.idle": "2022-03-02T12:18:24.254934Z",
     "shell.execute_reply": "2022-03-02T12:18:24.253901Z",
     "shell.execute_reply.started": "2022-03-02T12:18:24.242054Z"
    }
   },
   "outputs": [],
   "source": [
    "test['brand'].unique()"
   ]
  },
  {
   "cell_type": "code",
   "execution_count": 39,
   "metadata": {
    "execution": {
     "iopub.execute_input": "2022-03-02T12:18:24.257080Z",
     "iopub.status.busy": "2022-03-02T12:18:24.256502Z",
     "iopub.status.idle": "2022-03-02T12:18:24.275081Z",
     "shell.execute_reply": "2022-03-02T12:18:24.274076Z",
     "shell.execute_reply.started": "2022-03-02T12:18:24.257023Z"
    }
   },
   "outputs": [],
   "source": [
    "set(test['brand'].unique()).difference(set(train['brand'].unique()))"
   ]
  },
  {
   "cell_type": "markdown",
   "metadata": {},
   "source": [
    "Все бренды из тестовой выборки присутствуют в учебной выборке"
   ]
  },
  {
   "cell_type": "markdown",
   "metadata": {},
   "source": [
    "### Приведение в соответствие признака color"
   ]
  },
  {
   "cell_type": "code",
   "execution_count": 40,
   "metadata": {
    "execution": {
     "iopub.execute_input": "2022-03-02T12:18:24.276830Z",
     "iopub.status.busy": "2022-03-02T12:18:24.276494Z",
     "iopub.status.idle": "2022-03-02T12:18:24.290247Z",
     "shell.execute_reply": "2022-03-02T12:18:24.289123Z",
     "shell.execute_reply.started": "2022-03-02T12:18:24.276740Z"
    }
   },
   "outputs": [],
   "source": [
    "train['color'].unique()"
   ]
  },
  {
   "cell_type": "code",
   "execution_count": 41,
   "metadata": {
    "execution": {
     "iopub.execute_input": "2022-03-02T12:18:24.294771Z",
     "iopub.status.busy": "2022-03-02T12:18:24.293165Z",
     "iopub.status.idle": "2022-03-02T12:18:24.307209Z",
     "shell.execute_reply": "2022-03-02T12:18:24.306471Z",
     "shell.execute_reply.started": "2022-03-02T12:18:24.294717Z"
    }
   },
   "outputs": [],
   "source": [
    "test['color'].unique()"
   ]
  },
  {
   "cell_type": "code",
   "execution_count": 42,
   "metadata": {
    "execution": {
     "iopub.execute_input": "2022-03-02T12:18:24.309147Z",
     "iopub.status.busy": "2022-03-02T12:18:24.308331Z",
     "iopub.status.idle": "2022-03-02T12:18:24.315552Z",
     "shell.execute_reply": "2022-03-02T12:18:24.314631Z",
     "shell.execute_reply.started": "2022-03-02T12:18:24.309104Z"
    }
   },
   "outputs": [],
   "source": [
    "color_dict = {'040001': 'чёрный', 'FAFBFB': 'белый', '97948F': 'серый', 'CACECB': 'серебристый', '0000CC': 'синий', '200204': 'коричневый',\n",
    "              'EE1D19': 'красный',  '007F00': 'зелёный', 'C49648': 'бежевый', '22A0F8': 'голубой', '660099': 'пурпурный', 'DEA522': 'золотистый', \n",
    "              '4A2197': 'фиолетовый', 'FFD600': 'жёлтый', 'FF8649': 'оранжевый', 'FFC0CB': 'розовый'}"
   ]
  },
  {
   "cell_type": "code",
   "execution_count": 43,
   "metadata": {
    "execution": {
     "iopub.execute_input": "2022-03-02T12:18:24.317444Z",
     "iopub.status.busy": "2022-03-02T12:18:24.317183Z",
     "iopub.status.idle": "2022-03-02T12:18:24.415114Z",
     "shell.execute_reply": "2022-03-02T12:18:24.413767Z",
     "shell.execute_reply.started": "2022-03-02T12:18:24.317414Z"
    }
   },
   "outputs": [],
   "source": [
    "train['color'] = train['color'].replace(color_dict)"
   ]
  },
  {
   "cell_type": "code",
   "execution_count": 44,
   "metadata": {
    "execution": {
     "iopub.execute_input": "2022-03-02T12:18:24.417454Z",
     "iopub.status.busy": "2022-03-02T12:18:24.417086Z",
     "iopub.status.idle": "2022-03-02T12:18:24.435998Z",
     "shell.execute_reply": "2022-03-02T12:18:24.435017Z",
     "shell.execute_reply.started": "2022-03-02T12:18:24.417407Z"
    }
   },
   "outputs": [],
   "source": [
    "set(test['color'].unique()).difference(set(train['color'].unique()))"
   ]
  },
  {
   "cell_type": "markdown",
   "metadata": {},
   "source": [
    "Все цвета из тестовой выборки присутствуют в учебной выборке"
   ]
  },
  {
   "cell_type": "markdown",
   "metadata": {},
   "source": [
    "### Приведение в соответствие признака complectation"
   ]
  },
  {
   "cell_type": "markdown",
   "metadata": {},
   "source": [
    "Данный признак - источник дополнительных опций"
   ]
  },
  {
   "cell_type": "code",
   "execution_count": 45,
   "metadata": {
    "execution": {
     "iopub.execute_input": "2022-03-02T12:18:24.437953Z",
     "iopub.status.busy": "2022-03-02T12:18:24.437242Z",
     "iopub.status.idle": "2022-03-02T12:18:28.028788Z",
     "shell.execute_reply": "2022-03-02T12:18:28.027826Z",
     "shell.execute_reply.started": "2022-03-02T12:18:24.437886Z"
    }
   },
   "outputs": [],
   "source": [
    "train['Комплектация'] = train['Комплектация'].map(complectation_cut)"
   ]
  },
  {
   "cell_type": "code",
   "execution_count": 46,
   "metadata": {
    "execution": {
     "iopub.execute_input": "2022-03-02T12:18:28.035400Z",
     "iopub.status.busy": "2022-03-02T12:18:28.035089Z",
     "iopub.status.idle": "2022-03-02T12:18:29.695676Z",
     "shell.execute_reply": "2022-03-02T12:18:29.694675Z",
     "shell.execute_reply.started": "2022-03-02T12:18:28.035365Z"
    }
   },
   "outputs": [],
   "source": [
    "test['complectation_dict'] = test['complectation_dict'].map(complectation_cut)"
   ]
  },
  {
   "cell_type": "code",
   "execution_count": 47,
   "metadata": {
    "execution": {
     "iopub.execute_input": "2022-03-02T12:18:29.698124Z",
     "iopub.status.busy": "2022-03-02T12:18:29.697851Z",
     "iopub.status.idle": "2022-03-02T12:18:29.704453Z",
     "shell.execute_reply": "2022-03-02T12:18:29.703337Z",
     "shell.execute_reply.started": "2022-03-02T12:18:29.698093Z"
    }
   },
   "outputs": [],
   "source": [
    "train.rename(columns={'Комплектация' : 'complectation_dict' }, inplace=True)"
   ]
  },
  {
   "cell_type": "markdown",
   "metadata": {},
   "source": [
    "### Приведение в соответствие признака description"
   ]
  },
  {
   "cell_type": "code",
   "execution_count": 48,
   "metadata": {
    "execution": {
     "iopub.execute_input": "2022-03-02T12:18:29.706680Z",
     "iopub.status.busy": "2022-03-02T12:18:29.705897Z",
     "iopub.status.idle": "2022-03-02T12:18:29.858936Z",
     "shell.execute_reply": "2022-03-02T12:18:29.857762Z",
     "shell.execute_reply.started": "2022-03-02T12:18:29.706641Z"
    }
   },
   "outputs": [],
   "source": [
    "train['description'].value_counts().head(3)"
   ]
  },
  {
   "cell_type": "code",
   "execution_count": 49,
   "metadata": {
    "execution": {
     "iopub.execute_input": "2022-03-02T12:18:29.860902Z",
     "iopub.status.busy": "2022-03-02T12:18:29.860644Z",
     "iopub.status.idle": "2022-03-02T12:18:29.929489Z",
     "shell.execute_reply": "2022-03-02T12:18:29.928732Z",
     "shell.execute_reply.started": "2022-03-02T12:18:29.860872Z"
    }
   },
   "outputs": [],
   "source": [
    "test['description'].value_counts().head(3)"
   ]
  },
  {
   "cell_type": "markdown",
   "metadata": {},
   "source": [
    "На данном этапе признак не нуждается в трансформации."
   ]
  },
  {
   "cell_type": "markdown",
   "metadata": {},
   "source": [
    "### Приведение в соответствие признака engineDisplacement"
   ]
  },
  {
   "cell_type": "code",
   "execution_count": 50,
   "metadata": {
    "execution": {
     "iopub.execute_input": "2022-03-02T12:18:29.931645Z",
     "iopub.status.busy": "2022-03-02T12:18:29.931205Z",
     "iopub.status.idle": "2022-03-02T12:18:29.948719Z",
     "shell.execute_reply": "2022-03-02T12:18:29.947797Z",
     "shell.execute_reply.started": "2022-03-02T12:18:29.931607Z"
    }
   },
   "outputs": [],
   "source": [
    "train['engineDisplacement'].unique()"
   ]
  },
  {
   "cell_type": "code",
   "execution_count": 51,
   "metadata": {
    "execution": {
     "iopub.execute_input": "2022-03-02T12:18:29.951114Z",
     "iopub.status.busy": "2022-03-02T12:18:29.950451Z",
     "iopub.status.idle": "2022-03-02T12:18:29.962162Z",
     "shell.execute_reply": "2022-03-02T12:18:29.961298Z",
     "shell.execute_reply.started": "2022-03-02T12:18:29.951063Z"
    }
   },
   "outputs": [],
   "source": [
    "test['engineDisplacement'].unique()"
   ]
  },
  {
   "cell_type": "markdown",
   "metadata": {},
   "source": [
    "В train содержится смешанная информация, не всегда соответствующая объёму двигателя."
   ]
  },
  {
   "cell_type": "code",
   "execution_count": 52,
   "metadata": {
    "execution": {
     "iopub.execute_input": "2022-03-02T12:18:29.964172Z",
     "iopub.status.busy": "2022-03-02T12:18:29.963496Z",
     "iopub.status.idle": "2022-03-02T12:18:30.091208Z",
     "shell.execute_reply": "2022-03-02T12:18:30.090191Z",
     "shell.execute_reply.started": "2022-03-02T12:18:29.964125Z"
    }
   },
   "outputs": [],
   "source": [
    "train['engineDisplacement'] = train['name'].map(engine_displacement_cut)"
   ]
  },
  {
   "cell_type": "code",
   "execution_count": 53,
   "metadata": {
    "execution": {
     "iopub.execute_input": "2022-03-02T12:18:30.092896Z",
     "iopub.status.busy": "2022-03-02T12:18:30.092629Z",
     "iopub.status.idle": "2022-03-02T12:18:30.201959Z",
     "shell.execute_reply": "2022-03-02T12:18:30.200827Z",
     "shell.execute_reply.started": "2022-03-02T12:18:30.092863Z"
    }
   },
   "outputs": [],
   "source": [
    "test['engineDisplacement'] = test['engineDisplacement'].apply(lambda x: re.split(r'[A-Z,a-z]', x)[0].rstrip())  ## Удаление единицы измерения"
   ]
  },
  {
   "cell_type": "code",
   "execution_count": 54,
   "metadata": {
    "execution": {
     "iopub.execute_input": "2022-03-02T12:18:30.204265Z",
     "iopub.status.busy": "2022-03-02T12:18:30.203890Z",
     "iopub.status.idle": "2022-03-02T12:18:30.246703Z",
     "shell.execute_reply": "2022-03-02T12:18:30.245292Z",
     "shell.execute_reply.started": "2022-03-02T12:18:30.204216Z"
    }
   },
   "outputs": [],
   "source": [
    "test['engineDisplacement'] = test['engineDisplacement'].apply(lambda x: 0 if x in [None, ''] else float(x)) ## Электромобилям присвоим нулевое значение"
   ]
  },
  {
   "cell_type": "code",
   "execution_count": 55,
   "metadata": {
    "execution": {
     "iopub.execute_input": "2022-03-02T12:18:30.251081Z",
     "iopub.status.busy": "2022-03-02T12:18:30.250109Z",
     "iopub.status.idle": "2022-03-02T12:18:30.261169Z",
     "shell.execute_reply": "2022-03-02T12:18:30.260161Z",
     "shell.execute_reply.started": "2022-03-02T12:18:30.251024Z"
    }
   },
   "outputs": [],
   "source": [
    "train.rename(columns={'engineDisplacement' : 'engine_displacement' }, inplace=True)\n",
    "test.rename(columns={'engineDisplacement' : 'engine_displacement' }, inplace=True)"
   ]
  },
  {
   "cell_type": "code",
   "execution_count": 56,
   "metadata": {
    "execution": {
     "iopub.execute_input": "2022-03-02T12:18:30.263868Z",
     "iopub.status.busy": "2022-03-02T12:18:30.262828Z",
     "iopub.status.idle": "2022-03-02T12:18:30.277072Z",
     "shell.execute_reply": "2022-03-02T12:18:30.276284Z",
     "shell.execute_reply.started": "2022-03-02T12:18:30.263820Z"
    }
   },
   "outputs": [],
   "source": [
    "set(test['engine_displacement'].unique()).difference(set(train['engine_displacement'].unique()))"
   ]
  },
  {
   "cell_type": "markdown",
   "metadata": {},
   "source": [
    "По данному признаку train содержит элементы test"
   ]
  },
  {
   "cell_type": "markdown",
   "metadata": {
    "execution": {
     "iopub.execute_input": "2022-02-27T13:10:33.912848Z",
     "iopub.status.busy": "2022-02-27T13:10:33.912334Z",
     "iopub.status.idle": "2022-02-27T13:10:33.917823Z",
     "shell.execute_reply": "2022-02-27T13:10:33.916756Z",
     "shell.execute_reply.started": "2022-02-27T13:10:33.912811Z"
    }
   },
   "source": [
    "### Приведение в соответствие признака enginePower"
   ]
  },
  {
   "cell_type": "code",
   "execution_count": 57,
   "metadata": {
    "execution": {
     "iopub.execute_input": "2022-03-02T12:18:30.279507Z",
     "iopub.status.busy": "2022-03-02T12:18:30.278820Z",
     "iopub.status.idle": "2022-03-02T12:18:30.295125Z",
     "shell.execute_reply": "2022-03-02T12:18:30.294320Z",
     "shell.execute_reply.started": "2022-03-02T12:18:30.279447Z"
    }
   },
   "outputs": [],
   "source": [
    "train['enginePower'].unique()"
   ]
  },
  {
   "cell_type": "code",
   "execution_count": 58,
   "metadata": {
    "execution": {
     "iopub.execute_input": "2022-03-02T12:18:30.296982Z",
     "iopub.status.busy": "2022-03-02T12:18:30.296690Z",
     "iopub.status.idle": "2022-03-02T12:18:30.307798Z",
     "shell.execute_reply": "2022-03-02T12:18:30.307018Z",
     "shell.execute_reply.started": "2022-03-02T12:18:30.296943Z"
    }
   },
   "outputs": [],
   "source": [
    "test['enginePower'].unique()"
   ]
  },
  {
   "cell_type": "code",
   "execution_count": 59,
   "metadata": {
    "execution": {
     "iopub.execute_input": "2022-03-02T12:18:30.309975Z",
     "iopub.status.busy": "2022-03-02T12:18:30.309447Z",
     "iopub.status.idle": "2022-03-02T12:18:30.432316Z",
     "shell.execute_reply": "2022-03-02T12:18:30.431153Z",
     "shell.execute_reply.started": "2022-03-02T12:18:30.309932Z"
    }
   },
   "outputs": [],
   "source": [
    "## Возврат числовой величины\n",
    "test['enginePower'] = test['enginePower'].apply(lambda x: re.split(r'[A-Z,a-z]', x)[0].rstrip())\n",
    "test['enginePower'] = test['enginePower'].apply(lambda x: int(x))"
   ]
  },
  {
   "cell_type": "code",
   "execution_count": 60,
   "metadata": {
    "execution": {
     "iopub.execute_input": "2022-03-02T12:18:30.435174Z",
     "iopub.status.busy": "2022-03-02T12:18:30.433837Z",
     "iopub.status.idle": "2022-03-02T12:18:30.443378Z",
     "shell.execute_reply": "2022-03-02T12:18:30.442241Z",
     "shell.execute_reply.started": "2022-03-02T12:18:30.435115Z"
    }
   },
   "outputs": [],
   "source": [
    "train.rename(columns={'enginePower' : 'engine_power' }, inplace=True)\n",
    "test.rename(columns={'enginePower' : 'engine_power' }, inplace=True)"
   ]
  },
  {
   "cell_type": "code",
   "execution_count": 61,
   "metadata": {
    "execution": {
     "iopub.execute_input": "2022-03-02T12:18:30.446341Z",
     "iopub.status.busy": "2022-03-02T12:18:30.446072Z",
     "iopub.status.idle": "2022-03-02T12:18:30.460272Z",
     "shell.execute_reply": "2022-03-02T12:18:30.459580Z",
     "shell.execute_reply.started": "2022-03-02T12:18:30.446299Z"
    }
   },
   "outputs": [],
   "source": [
    "set(test['engine_power'].unique()).difference(set(train['engine_power'].unique()))"
   ]
  },
  {
   "cell_type": "markdown",
   "metadata": {},
   "source": [
    "В train нет данных с мощностью 387 л.с. и 522 л.с."
   ]
  },
  {
   "cell_type": "markdown",
   "metadata": {},
   "source": [
    "### Приведение в соответствие признака equipment_dict"
   ]
  },
  {
   "cell_type": "code",
   "execution_count": 62,
   "metadata": {
    "execution": {
     "iopub.execute_input": "2022-03-02T12:18:30.462464Z",
     "iopub.status.busy": "2022-03-02T12:18:30.461687Z",
     "iopub.status.idle": "2022-03-02T12:18:30.493882Z",
     "shell.execute_reply": "2022-03-02T12:18:30.493008Z",
     "shell.execute_reply.started": "2022-03-02T12:18:30.462426Z"
    }
   },
   "outputs": [],
   "source": [
    "test['equipment_dict'].unique()"
   ]
  },
  {
   "cell_type": "markdown",
   "metadata": {},
   "source": [
    "equipment_dict находится только в test и, возможно, дублирует complectation. поэтому этот признак можно удалить"
   ]
  },
  {
   "cell_type": "code",
   "execution_count": 63,
   "metadata": {
    "execution": {
     "iopub.execute_input": "2022-03-02T12:18:30.496238Z",
     "iopub.status.busy": "2022-03-02T12:18:30.495672Z",
     "iopub.status.idle": "2022-03-02T12:18:30.521982Z",
     "shell.execute_reply": "2022-03-02T12:18:30.521045Z",
     "shell.execute_reply.started": "2022-03-02T12:18:30.496187Z"
    }
   },
   "outputs": [],
   "source": [
    "test = test.drop(['equipment_dict'],axis=1)"
   ]
  },
  {
   "cell_type": "markdown",
   "metadata": {},
   "source": [
    "### Приведение в соответствие признака fuelType"
   ]
  },
  {
   "cell_type": "code",
   "execution_count": 64,
   "metadata": {
    "execution": {
     "iopub.execute_input": "2022-03-02T12:18:30.524243Z",
     "iopub.status.busy": "2022-03-02T12:18:30.523442Z",
     "iopub.status.idle": "2022-03-02T12:18:30.539051Z",
     "shell.execute_reply": "2022-03-02T12:18:30.537743Z",
     "shell.execute_reply.started": "2022-03-02T12:18:30.524205Z"
    }
   },
   "outputs": [],
   "source": [
    "train['fuelType'].unique()"
   ]
  },
  {
   "cell_type": "code",
   "execution_count": 65,
   "metadata": {
    "execution": {
     "iopub.execute_input": "2022-03-02T12:18:30.540988Z",
     "iopub.status.busy": "2022-03-02T12:18:30.540709Z",
     "iopub.status.idle": "2022-03-02T12:18:30.552561Z",
     "shell.execute_reply": "2022-03-02T12:18:30.551541Z",
     "shell.execute_reply.started": "2022-03-02T12:18:30.540956Z"
    }
   },
   "outputs": [],
   "source": [
    "test['fuelType'].unique()"
   ]
  },
  {
   "cell_type": "code",
   "execution_count": 66,
   "metadata": {
    "execution": {
     "iopub.execute_input": "2022-03-02T12:18:30.555282Z",
     "iopub.status.busy": "2022-03-02T12:18:30.554239Z",
     "iopub.status.idle": "2022-03-02T12:18:30.562298Z",
     "shell.execute_reply": "2022-03-02T12:18:30.561437Z",
     "shell.execute_reply.started": "2022-03-02T12:18:30.555218Z"
    }
   },
   "outputs": [],
   "source": [
    "train.rename(columns={'fuelType' : 'fuel_type' }, inplace=True)\n",
    "test.rename(columns={'fuelType' : 'fuel_type' }, inplace=True)"
   ]
  },
  {
   "cell_type": "code",
   "execution_count": 67,
   "metadata": {
    "execution": {
     "iopub.execute_input": "2022-03-02T12:18:30.564504Z",
     "iopub.status.busy": "2022-03-02T12:18:30.563980Z",
     "iopub.status.idle": "2022-03-02T12:18:30.589840Z",
     "shell.execute_reply": "2022-03-02T12:18:30.588903Z",
     "shell.execute_reply.started": "2022-03-02T12:18:30.564465Z"
    }
   },
   "outputs": [],
   "source": [
    "set(test['fuel_type'].unique()).difference(set(train['fuel_type'].unique()))"
   ]
  },
  {
   "cell_type": "markdown",
   "metadata": {},
   "source": [
    "По данному признаку train содержит элементы test"
   ]
  },
  {
   "cell_type": "markdown",
   "metadata": {},
   "source": [
    "### Приведение в соответствие признака image"
   ]
  },
  {
   "cell_type": "markdown",
   "metadata": {},
   "source": [
    "В train данный признак отсутствует, поэтому без парсинга лучше удалить его и в test"
   ]
  },
  {
   "cell_type": "code",
   "execution_count": 68,
   "metadata": {
    "execution": {
     "iopub.execute_input": "2022-03-02T12:18:30.591826Z",
     "iopub.status.busy": "2022-03-02T12:18:30.591519Z",
     "iopub.status.idle": "2022-03-02T12:18:30.611715Z",
     "shell.execute_reply": "2022-03-02T12:18:30.610892Z",
     "shell.execute_reply.started": "2022-03-02T12:18:30.591786Z"
    }
   },
   "outputs": [],
   "source": [
    "test = test.drop(['image'],axis=1)"
   ]
  },
  {
   "cell_type": "markdown",
   "metadata": {},
   "source": [
    "### Приведение в соответствие признака modelDate"
   ]
  },
  {
   "cell_type": "code",
   "execution_count": 69,
   "metadata": {
    "execution": {
     "iopub.execute_input": "2022-03-02T12:18:30.613758Z",
     "iopub.status.busy": "2022-03-02T12:18:30.613305Z",
     "iopub.status.idle": "2022-03-02T12:18:30.630012Z",
     "shell.execute_reply": "2022-03-02T12:18:30.628952Z",
     "shell.execute_reply.started": "2022-03-02T12:18:30.613723Z"
    }
   },
   "outputs": [],
   "source": [
    "train['modelDate'] = train['modelDate'].astype(int)"
   ]
  },
  {
   "cell_type": "code",
   "execution_count": 70,
   "metadata": {
    "execution": {
     "iopub.execute_input": "2022-03-02T12:18:30.632287Z",
     "iopub.status.busy": "2022-03-02T12:18:30.631376Z",
     "iopub.status.idle": "2022-03-02T12:18:30.646398Z",
     "shell.execute_reply": "2022-03-02T12:18:30.645230Z",
     "shell.execute_reply.started": "2022-03-02T12:18:30.632237Z"
    }
   },
   "outputs": [],
   "source": [
    "train.rename(columns={'modelDate' : 'model_date' }, inplace=True)\n",
    "test.rename(columns={'modelDate' : 'model_date' }, inplace=True)"
   ]
  },
  {
   "cell_type": "markdown",
   "metadata": {},
   "source": [
    "### Приведение в соответствие признака model_name"
   ]
  },
  {
   "cell_type": "code",
   "execution_count": 71,
   "metadata": {
    "execution": {
     "iopub.execute_input": "2022-03-02T12:18:30.652978Z",
     "iopub.status.busy": "2022-03-02T12:18:30.651508Z",
     "iopub.status.idle": "2022-03-02T12:18:30.661345Z",
     "shell.execute_reply": "2022-03-02T12:18:30.660596Z",
     "shell.execute_reply.started": "2022-03-02T12:18:30.652844Z"
    }
   },
   "outputs": [],
   "source": [
    "test.rename(columns={'model_name' : 'model'}, inplace=True)"
   ]
  },
  {
   "cell_type": "code",
   "execution_count": 72,
   "metadata": {
    "execution": {
     "iopub.execute_input": "2022-03-02T12:18:30.663815Z",
     "iopub.status.busy": "2022-03-02T12:18:30.662734Z",
     "iopub.status.idle": "2022-03-02T12:18:30.689978Z",
     "shell.execute_reply": "2022-03-02T12:18:30.688759Z",
     "shell.execute_reply.started": "2022-03-02T12:18:30.663752Z"
    }
   },
   "outputs": [],
   "source": [
    "set(test['model'].unique()).difference(set(train['model'].unique()))"
   ]
  },
  {
   "cell_type": "markdown",
   "metadata": {},
   "source": [
    "В train представлены не все модели "
   ]
  },
  {
   "cell_type": "markdown",
   "metadata": {},
   "source": [
    "### Приведение в соответствие признака model_info"
   ]
  },
  {
   "cell_type": "markdown",
   "metadata": {},
   "source": [
    "Признаки model и model_info дублируют друг друга"
   ]
  },
  {
   "cell_type": "code",
   "execution_count": 73,
   "metadata": {
    "execution": {
     "iopub.execute_input": "2022-03-02T12:18:30.692728Z",
     "iopub.status.busy": "2022-03-02T12:18:30.692357Z",
     "iopub.status.idle": "2022-03-02T12:18:30.712793Z",
     "shell.execute_reply": "2022-03-02T12:18:30.711732Z",
     "shell.execute_reply.started": "2022-03-02T12:18:30.692688Z"
    }
   },
   "outputs": [],
   "source": [
    "test = test.drop(['model_info'],axis=1)"
   ]
  },
  {
   "cell_type": "markdown",
   "metadata": {},
   "source": [
    "### Приведение в соответствие признака name"
   ]
  },
  {
   "cell_type": "markdown",
   "metadata": {},
   "source": [
    "Признак дублирует информацию fuel_type, engine_power, engine_displacement.  \n",
    "Решено удалить данный признак"
   ]
  },
  {
   "cell_type": "code",
   "execution_count": 74,
   "metadata": {
    "execution": {
     "iopub.execute_input": "2022-03-02T12:18:30.715575Z",
     "iopub.status.busy": "2022-03-02T12:18:30.714889Z",
     "iopub.status.idle": "2022-03-02T12:18:30.734734Z",
     "shell.execute_reply": "2022-03-02T12:18:30.733545Z",
     "shell.execute_reply.started": "2022-03-02T12:18:30.715485Z"
    }
   },
   "outputs": [],
   "source": [
    "test = test.drop(['name'],axis=1)"
   ]
  },
  {
   "cell_type": "code",
   "execution_count": 75,
   "metadata": {
    "execution": {
     "iopub.execute_input": "2022-03-02T12:18:30.736671Z",
     "iopub.status.busy": "2022-03-02T12:18:30.736375Z",
     "iopub.status.idle": "2022-03-02T12:18:30.766940Z",
     "shell.execute_reply": "2022-03-02T12:18:30.765314Z",
     "shell.execute_reply.started": "2022-03-02T12:18:30.736619Z"
    }
   },
   "outputs": [],
   "source": [
    "train = train.drop(['name'],axis=1)"
   ]
  },
  {
   "cell_type": "markdown",
   "metadata": {},
   "source": [
    "### Приведение в соответствие признака numberOfDoors"
   ]
  },
  {
   "cell_type": "code",
   "execution_count": 76,
   "metadata": {
    "execution": {
     "iopub.execute_input": "2022-03-02T12:18:30.769893Z",
     "iopub.status.busy": "2022-03-02T12:18:30.768992Z",
     "iopub.status.idle": "2022-03-02T12:18:30.785042Z",
     "shell.execute_reply": "2022-03-02T12:18:30.783939Z",
     "shell.execute_reply.started": "2022-03-02T12:18:30.769832Z"
    }
   },
   "outputs": [],
   "source": [
    "train['numberOfDoors'].value_counts()"
   ]
  },
  {
   "cell_type": "code",
   "execution_count": 77,
   "metadata": {
    "execution": {
     "iopub.execute_input": "2022-03-02T12:18:30.787650Z",
     "iopub.status.busy": "2022-03-02T12:18:30.787185Z",
     "iopub.status.idle": "2022-03-02T12:18:30.798491Z",
     "shell.execute_reply": "2022-03-02T12:18:30.797449Z",
     "shell.execute_reply.started": "2022-03-02T12:18:30.787549Z"
    }
   },
   "outputs": [],
   "source": [
    "test['numberOfDoors'].value_counts()"
   ]
  },
  {
   "cell_type": "code",
   "execution_count": 78,
   "metadata": {
    "execution": {
     "iopub.execute_input": "2022-03-02T12:18:30.801338Z",
     "iopub.status.busy": "2022-03-02T12:18:30.800219Z",
     "iopub.status.idle": "2022-03-02T12:18:30.813535Z",
     "shell.execute_reply": "2022-03-02T12:18:30.812370Z",
     "shell.execute_reply.started": "2022-03-02T12:18:30.801189Z"
    }
   },
   "outputs": [],
   "source": [
    "train['numberOfDoors'] = train['numberOfDoors'].astype(int)"
   ]
  },
  {
   "cell_type": "code",
   "execution_count": 79,
   "metadata": {
    "execution": {
     "iopub.execute_input": "2022-03-02T12:18:30.816738Z",
     "iopub.status.busy": "2022-03-02T12:18:30.815745Z",
     "iopub.status.idle": "2022-03-02T12:18:30.825815Z",
     "shell.execute_reply": "2022-03-02T12:18:30.824783Z",
     "shell.execute_reply.started": "2022-03-02T12:18:30.816686Z"
    }
   },
   "outputs": [],
   "source": [
    "train.rename(columns={'numberOfDoors' : 'number_of_doors'}, inplace=True)\n",
    "test.rename(columns={'numberOfDoors' : 'number_of_doors'}, inplace=True)"
   ]
  },
  {
   "cell_type": "markdown",
   "metadata": {},
   "source": [
    "### Приведение в соответствие признака parsing_unixtime"
   ]
  },
  {
   "cell_type": "markdown",
   "metadata": {},
   "source": [
    "признак не информативен"
   ]
  },
  {
   "cell_type": "code",
   "execution_count": 80,
   "metadata": {
    "execution": {
     "iopub.execute_input": "2022-03-02T12:18:30.992482Z",
     "iopub.status.busy": "2022-03-02T12:18:30.992002Z",
     "iopub.status.idle": "2022-03-02T12:18:31.009421Z",
     "shell.execute_reply": "2022-03-02T12:18:31.008234Z",
     "shell.execute_reply.started": "2022-03-02T12:18:30.992448Z"
    }
   },
   "outputs": [],
   "source": [
    "test = test.drop(['parsing_unixtime'],axis=1)      "
   ]
  },
  {
   "cell_type": "markdown",
   "metadata": {},
   "source": [
    "### Приведение в соответствие признака priceCurrency"
   ]
  },
  {
   "cell_type": "code",
   "execution_count": 81,
   "metadata": {
    "execution": {
     "iopub.execute_input": "2022-03-02T12:18:31.292599Z",
     "iopub.status.busy": "2022-03-02T12:18:31.291710Z",
     "iopub.status.idle": "2022-03-02T12:18:31.306898Z",
     "shell.execute_reply": "2022-03-02T12:18:31.306167Z",
     "shell.execute_reply.started": "2022-03-02T12:18:31.292547Z"
    }
   },
   "outputs": [],
   "source": [
    "test['priceCurrency'].value_counts()"
   ]
  },
  {
   "cell_type": "markdown",
   "metadata": {},
   "source": [
    "Признак не информативен"
   ]
  },
  {
   "cell_type": "code",
   "execution_count": 82,
   "metadata": {
    "execution": {
     "iopub.execute_input": "2022-03-02T12:18:31.632739Z",
     "iopub.status.busy": "2022-03-02T12:18:31.632239Z",
     "iopub.status.idle": "2022-03-02T12:18:31.649521Z",
     "shell.execute_reply": "2022-03-02T12:18:31.648332Z",
     "shell.execute_reply.started": "2022-03-02T12:18:31.632703Z"
    }
   },
   "outputs": [],
   "source": [
    "test = test.drop(['priceCurrency'],axis=1)      "
   ]
  },
  {
   "cell_type": "markdown",
   "metadata": {},
   "source": [
    "### Приведение в соответствие признака productionDate"
   ]
  },
  {
   "cell_type": "code",
   "execution_count": 83,
   "metadata": {
    "execution": {
     "iopub.execute_input": "2022-03-02T12:18:31.947195Z",
     "iopub.status.busy": "2022-03-02T12:18:31.946474Z",
     "iopub.status.idle": "2022-03-02T12:18:31.955039Z",
     "shell.execute_reply": "2022-03-02T12:18:31.953998Z",
     "shell.execute_reply.started": "2022-03-02T12:18:31.947133Z"
    }
   },
   "outputs": [],
   "source": [
    "train.rename(columns={'productionDate' : 'production_date' }, inplace=True)\n",
    "test.rename(columns={'productionDate' : 'production_date' }, inplace=True)"
   ]
  },
  {
   "cell_type": "markdown",
   "metadata": {},
   "source": [
    "### Приведение в соответствие признака sell_id"
   ]
  },
  {
   "cell_type": "code",
   "execution_count": 84,
   "metadata": {
    "execution": {
     "iopub.execute_input": "2022-03-02T12:18:32.280416Z",
     "iopub.status.busy": "2022-03-02T12:18:32.279407Z",
     "iopub.status.idle": "2022-03-02T12:18:32.285952Z",
     "shell.execute_reply": "2022-03-02T12:18:32.285253Z",
     "shell.execute_reply.started": "2022-03-02T12:18:32.280372Z"
    }
   },
   "outputs": [],
   "source": [
    "train['sell_id'] = 0"
   ]
  },
  {
   "cell_type": "markdown",
   "metadata": {},
   "source": [
    "### Приведение в соответствие признака super_gen"
   ]
  },
  {
   "cell_type": "markdown",
   "metadata": {},
   "source": [
    "Признак отсутсвует в трейне, поэтому не является полезным для обучения"
   ]
  },
  {
   "cell_type": "code",
   "execution_count": 85,
   "metadata": {
    "execution": {
     "iopub.execute_input": "2022-03-02T12:18:32.823742Z",
     "iopub.status.busy": "2022-03-02T12:18:32.822836Z",
     "iopub.status.idle": "2022-03-02T12:18:32.841355Z",
     "shell.execute_reply": "2022-03-02T12:18:32.840165Z",
     "shell.execute_reply.started": "2022-03-02T12:18:32.823692Z"
    }
   },
   "outputs": [],
   "source": [
    "test = test.drop(['super_gen'],axis=1) "
   ]
  },
  {
   "cell_type": "markdown",
   "metadata": {},
   "source": [
    "### Приведение в соответствие признака vehicleConfiguration"
   ]
  },
  {
   "cell_type": "markdown",
   "metadata": {},
   "source": [
    "Признак сочитает информацию о body_type, vehicle_transmission, number_of_doors, engine_displacement"
   ]
  },
  {
   "cell_type": "code",
   "execution_count": 86,
   "metadata": {
    "execution": {
     "iopub.execute_input": "2022-03-02T12:18:33.289306Z",
     "iopub.status.busy": "2022-03-02T12:18:33.288986Z",
     "iopub.status.idle": "2022-03-02T12:18:33.326870Z",
     "shell.execute_reply": "2022-03-02T12:18:33.325802Z",
     "shell.execute_reply.started": "2022-03-02T12:18:33.289275Z"
    }
   },
   "outputs": [],
   "source": [
    "train = train.drop(['vehicleConfiguration'],axis=1)  \n",
    "test = test.drop(['vehicleConfiguration'],axis=1)"
   ]
  },
  {
   "cell_type": "markdown",
   "metadata": {},
   "source": [
    "### Приведение в соответствие признака vehicleTransmission"
   ]
  },
  {
   "cell_type": "code",
   "execution_count": 87,
   "metadata": {
    "execution": {
     "iopub.execute_input": "2022-03-02T12:18:33.812947Z",
     "iopub.status.busy": "2022-03-02T12:18:33.812603Z",
     "iopub.status.idle": "2022-03-02T12:18:33.835374Z",
     "shell.execute_reply": "2022-03-02T12:18:33.834344Z",
     "shell.execute_reply.started": "2022-03-02T12:18:33.812895Z"
    }
   },
   "outputs": [],
   "source": [
    "train['vehicleTransmission'].value_counts()"
   ]
  },
  {
   "cell_type": "code",
   "execution_count": 88,
   "metadata": {
    "execution": {
     "iopub.execute_input": "2022-03-02T12:18:33.963715Z",
     "iopub.status.busy": "2022-03-02T12:18:33.963395Z",
     "iopub.status.idle": "2022-03-02T12:18:33.978647Z",
     "shell.execute_reply": "2022-03-02T12:18:33.977494Z",
     "shell.execute_reply.started": "2022-03-02T12:18:33.963683Z"
    }
   },
   "outputs": [],
   "source": [
    "test['vehicleTransmission'].value_counts()"
   ]
  },
  {
   "cell_type": "code",
   "execution_count": 89,
   "metadata": {
    "execution": {
     "iopub.execute_input": "2022-03-02T12:18:34.123607Z",
     "iopub.status.busy": "2022-03-02T12:18:34.123082Z",
     "iopub.status.idle": "2022-03-02T12:18:34.128128Z",
     "shell.execute_reply": "2022-03-02T12:18:34.127234Z",
     "shell.execute_reply.started": "2022-03-02T12:18:34.123570Z"
    }
   },
   "outputs": [],
   "source": [
    "vehicle_transmission_dict = {'AUTOMATIC': 'автоматическая', 'MECHANICAL': 'механическая',\n",
    "                             'ROBOT': 'роботизированная', 'VARIATOR': 'вариатор'}"
   ]
  },
  {
   "cell_type": "code",
   "execution_count": 90,
   "metadata": {
    "execution": {
     "iopub.execute_input": "2022-03-02T12:18:34.348011Z",
     "iopub.status.busy": "2022-03-02T12:18:34.347440Z",
     "iopub.status.idle": "2022-03-02T12:18:34.379770Z",
     "shell.execute_reply": "2022-03-02T12:18:34.378858Z",
     "shell.execute_reply.started": "2022-03-02T12:18:34.347975Z"
    }
   },
   "outputs": [],
   "source": [
    "train['vehicleTransmission'] = train['vehicleTransmission'].replace(vehicle_transmission_dict)"
   ]
  },
  {
   "cell_type": "code",
   "execution_count": 91,
   "metadata": {
    "execution": {
     "iopub.execute_input": "2022-03-02T12:18:34.767123Z",
     "iopub.status.busy": "2022-03-02T12:18:34.766559Z",
     "iopub.status.idle": "2022-03-02T12:18:34.772771Z",
     "shell.execute_reply": "2022-03-02T12:18:34.772020Z",
     "shell.execute_reply.started": "2022-03-02T12:18:34.767071Z"
    }
   },
   "outputs": [],
   "source": [
    "train.rename(columns={'vehicleTransmission' : 'vehicle_transmission' }, inplace=True)\n",
    "test.rename(columns={'vehicleTransmission' : 'vehicle_transmission' }, inplace=True)"
   ]
  },
  {
   "cell_type": "markdown",
   "metadata": {},
   "source": [
    "### Приведение в соответствие признака vendor"
   ]
  },
  {
   "cell_type": "code",
   "execution_count": 92,
   "metadata": {
    "execution": {
     "iopub.execute_input": "2022-03-02T12:18:35.157899Z",
     "iopub.status.busy": "2022-03-02T12:18:35.157169Z",
     "iopub.status.idle": "2022-03-02T12:18:35.167813Z",
     "shell.execute_reply": "2022-03-02T12:18:35.166739Z",
     "shell.execute_reply.started": "2022-03-02T12:18:35.157847Z"
    }
   },
   "outputs": [],
   "source": [
    "test['vendor'].unique()"
   ]
  },
  {
   "cell_type": "code",
   "execution_count": 93,
   "metadata": {
    "execution": {
     "iopub.execute_input": "2022-03-02T12:18:35.357593Z",
     "iopub.status.busy": "2022-03-02T12:18:35.357273Z",
     "iopub.status.idle": "2022-03-02T12:18:35.381968Z",
     "shell.execute_reply": "2022-03-02T12:18:35.381019Z",
     "shell.execute_reply.started": "2022-03-02T12:18:35.357558Z"
    }
   },
   "outputs": [],
   "source": [
    "test.groupby(['vendor','brand'])['body_type'].count()"
   ]
  },
  {
   "cell_type": "markdown",
   "metadata": {},
   "source": [
    "Признак отсутствует в train. В train есть модели не только из Европы и Японии. Признак к удалению."
   ]
  },
  {
   "cell_type": "code",
   "execution_count": 94,
   "metadata": {
    "execution": {
     "iopub.execute_input": "2022-03-02T12:18:35.652580Z",
     "iopub.status.busy": "2022-03-02T12:18:35.652268Z",
     "iopub.status.idle": "2022-03-02T12:18:35.667321Z",
     "shell.execute_reply": "2022-03-02T12:18:35.666500Z",
     "shell.execute_reply.started": "2022-03-02T12:18:35.652548Z"
    }
   },
   "outputs": [],
   "source": [
    "test = test.drop(['vendor'],axis=1) "
   ]
  },
  {
   "cell_type": "markdown",
   "metadata": {},
   "source": [
    "### Приведение в соответствие признака Владельцы"
   ]
  },
  {
   "cell_type": "code",
   "execution_count": 95,
   "metadata": {
    "execution": {
     "iopub.execute_input": "2022-03-02T12:18:36.089107Z",
     "iopub.status.busy": "2022-03-02T12:18:36.088596Z",
     "iopub.status.idle": "2022-03-02T12:18:36.098596Z",
     "shell.execute_reply": "2022-03-02T12:18:36.097657Z",
     "shell.execute_reply.started": "2022-03-02T12:18:36.089072Z"
    }
   },
   "outputs": [],
   "source": [
    "train['Владельцы'].value_counts()"
   ]
  },
  {
   "cell_type": "code",
   "execution_count": 96,
   "metadata": {
    "execution": {
     "iopub.execute_input": "2022-03-02T12:18:36.221144Z",
     "iopub.status.busy": "2022-03-02T12:18:36.220639Z",
     "iopub.status.idle": "2022-03-02T12:18:36.235413Z",
     "shell.execute_reply": "2022-03-02T12:18:36.234392Z",
     "shell.execute_reply.started": "2022-03-02T12:18:36.221108Z"
    }
   },
   "outputs": [],
   "source": [
    "test['Владельцы'].value_counts()"
   ]
  },
  {
   "cell_type": "code",
   "execution_count": 97,
   "metadata": {
    "execution": {
     "iopub.execute_input": "2022-03-02T12:18:36.359902Z",
     "iopub.status.busy": "2022-03-02T12:18:36.359086Z",
     "iopub.status.idle": "2022-03-02T12:18:36.368054Z",
     "shell.execute_reply": "2022-03-02T12:18:36.366797Z",
     "shell.execute_reply.started": "2022-03-02T12:18:36.359846Z"
    }
   },
   "outputs": [],
   "source": [
    "train['Владельцы'] = train['Владельцы'].astype('int')"
   ]
  },
  {
   "cell_type": "code",
   "execution_count": 98,
   "metadata": {
    "execution": {
     "iopub.execute_input": "2022-03-02T12:18:36.562093Z",
     "iopub.status.busy": "2022-03-02T12:18:36.561174Z",
     "iopub.status.idle": "2022-03-02T12:18:36.722122Z",
     "shell.execute_reply": "2022-03-02T12:18:36.720993Z",
     "shell.execute_reply.started": "2022-03-02T12:18:36.562042Z"
    }
   },
   "outputs": [],
   "source": [
    "test['Владельцы'] = test['Владельцы'].apply(lambda x: int(re.split(r'[а-я]', x)[0].rstrip()))  ## извлечение числовой величины"
   ]
  },
  {
   "cell_type": "code",
   "execution_count": 99,
   "metadata": {
    "execution": {
     "iopub.execute_input": "2022-03-02T12:18:36.724423Z",
     "iopub.status.busy": "2022-03-02T12:18:36.724042Z",
     "iopub.status.idle": "2022-03-02T12:18:36.731863Z",
     "shell.execute_reply": "2022-03-02T12:18:36.730779Z",
     "shell.execute_reply.started": "2022-03-02T12:18:36.724374Z"
    }
   },
   "outputs": [],
   "source": [
    "train.rename(columns={'Владельцы' : 'owners' }, inplace=True)\n",
    "test.rename(columns={'Владельцы' : 'owners' }, inplace=True)"
   ]
  },
  {
   "cell_type": "markdown",
   "metadata": {},
   "source": [
    "### Приведение в соответствие признака Владение"
   ]
  },
  {
   "cell_type": "code",
   "execution_count": 100,
   "metadata": {
    "execution": {
     "iopub.execute_input": "2022-03-02T12:18:37.080719Z",
     "iopub.status.busy": "2022-03-02T12:18:37.080404Z",
     "iopub.status.idle": "2022-03-02T12:18:37.211294Z",
     "shell.execute_reply": "2022-03-02T12:18:37.210259Z",
     "shell.execute_reply.started": "2022-03-02T12:18:37.080678Z"
    }
   },
   "outputs": [],
   "source": [
    "train['Владение'] = train['Владение'].map(time_ownership)"
   ]
  },
  {
   "cell_type": "code",
   "execution_count": 101,
   "metadata": {
    "execution": {
     "iopub.execute_input": "2022-03-02T12:18:37.304629Z",
     "iopub.status.busy": "2022-03-02T12:18:37.304263Z",
     "iopub.status.idle": "2022-03-02T12:18:37.409970Z",
     "shell.execute_reply": "2022-03-02T12:18:37.408902Z",
     "shell.execute_reply.started": "2022-03-02T12:18:37.304592Z"
    }
   },
   "outputs": [],
   "source": [
    "test['Владение'] = test['Владение'].map(time_ownership_test)"
   ]
  },
  {
   "cell_type": "code",
   "execution_count": 102,
   "metadata": {
    "execution": {
     "iopub.execute_input": "2022-03-02T12:18:37.431408Z",
     "iopub.status.busy": "2022-03-02T12:18:37.431099Z",
     "iopub.status.idle": "2022-03-02T12:18:37.437425Z",
     "shell.execute_reply": "2022-03-02T12:18:37.436381Z",
     "shell.execute_reply.started": "2022-03-02T12:18:37.431378Z"
    }
   },
   "outputs": [],
   "source": [
    "train.rename(columns={'Владение' : 'time_ownership' }, inplace=True)\n",
    "test.rename(columns={'Владение' : 'time_ownership' }, inplace=True)"
   ]
  },
  {
   "cell_type": "markdown",
   "metadata": {},
   "source": [
    "### Приведение в соответствие признака ПТС"
   ]
  },
  {
   "cell_type": "code",
   "execution_count": 103,
   "metadata": {
    "execution": {
     "iopub.execute_input": "2022-03-02T12:18:37.827342Z",
     "iopub.status.busy": "2022-03-02T12:18:37.826474Z",
     "iopub.status.idle": "2022-03-02T12:18:37.847413Z",
     "shell.execute_reply": "2022-03-02T12:18:37.846255Z",
     "shell.execute_reply.started": "2022-03-02T12:18:37.827294Z"
    }
   },
   "outputs": [],
   "source": [
    "train['ПТС'].value_counts()"
   ]
  },
  {
   "cell_type": "code",
   "execution_count": 104,
   "metadata": {
    "execution": {
     "iopub.execute_input": "2022-03-02T12:18:37.958083Z",
     "iopub.status.busy": "2022-03-02T12:18:37.957045Z",
     "iopub.status.idle": "2022-03-02T12:18:37.973936Z",
     "shell.execute_reply": "2022-03-02T12:18:37.972656Z",
     "shell.execute_reply.started": "2022-03-02T12:18:37.958015Z"
    }
   },
   "outputs": [],
   "source": [
    "test['ПТС'].value_counts()"
   ]
  },
  {
   "cell_type": "code",
   "execution_count": 105,
   "metadata": {
    "execution": {
     "iopub.execute_input": "2022-03-02T12:18:38.145484Z",
     "iopub.status.busy": "2022-03-02T12:18:38.145172Z",
     "iopub.status.idle": "2022-03-02T12:18:38.150585Z",
     "shell.execute_reply": "2022-03-02T12:18:38.149580Z",
     "shell.execute_reply.started": "2022-03-02T12:18:38.145450Z"
    }
   },
   "outputs": [],
   "source": [
    "pts_dict = {'ORIGINAL': 'Оригинал', 'DUPLICATE': 'Дубликат'}"
   ]
  },
  {
   "cell_type": "code",
   "execution_count": 106,
   "metadata": {
    "execution": {
     "iopub.execute_input": "2022-03-02T12:18:38.353735Z",
     "iopub.status.busy": "2022-03-02T12:18:38.352827Z",
     "iopub.status.idle": "2022-03-02T12:18:38.380161Z",
     "shell.execute_reply": "2022-03-02T12:18:38.378985Z",
     "shell.execute_reply.started": "2022-03-02T12:18:38.353688Z"
    }
   },
   "outputs": [],
   "source": [
    "train['ПТС'] = train['ПТС'].replace(pts_dict)"
   ]
  },
  {
   "cell_type": "code",
   "execution_count": 107,
   "metadata": {
    "execution": {
     "iopub.execute_input": "2022-03-02T12:18:38.515420Z",
     "iopub.status.busy": "2022-03-02T12:18:38.515098Z",
     "iopub.status.idle": "2022-03-02T12:18:38.522321Z",
     "shell.execute_reply": "2022-03-02T12:18:38.521324Z",
     "shell.execute_reply.started": "2022-03-02T12:18:38.515388Z"
    }
   },
   "outputs": [],
   "source": [
    "train.rename(columns={'ПТС' : 'pts' }, inplace=True)\n",
    "test.rename(columns={'ПТС' : 'pts' }, inplace=True)"
   ]
  },
  {
   "cell_type": "markdown",
   "metadata": {},
   "source": [
    "### Приведение в соответствие признака Привод"
   ]
  },
  {
   "cell_type": "code",
   "execution_count": 108,
   "metadata": {
    "execution": {
     "iopub.execute_input": "2022-03-02T12:18:38.891874Z",
     "iopub.status.busy": "2022-03-02T12:18:38.891291Z",
     "iopub.status.idle": "2022-03-02T12:18:38.913405Z",
     "shell.execute_reply": "2022-03-02T12:18:38.912282Z",
     "shell.execute_reply.started": "2022-03-02T12:18:38.891838Z"
    }
   },
   "outputs": [],
   "source": [
    "train['Привод'].value_counts()"
   ]
  },
  {
   "cell_type": "code",
   "execution_count": 109,
   "metadata": {
    "execution": {
     "iopub.execute_input": "2022-03-02T12:18:39.147787Z",
     "iopub.status.busy": "2022-03-02T12:18:39.146808Z",
     "iopub.status.idle": "2022-03-02T12:18:39.163819Z",
     "shell.execute_reply": "2022-03-02T12:18:39.162610Z",
     "shell.execute_reply.started": "2022-03-02T12:18:39.147736Z"
    }
   },
   "outputs": [],
   "source": [
    "test['Привод'].value_counts()"
   ]
  },
  {
   "cell_type": "code",
   "execution_count": 110,
   "metadata": {
    "execution": {
     "iopub.execute_input": "2022-03-02T12:18:39.276988Z",
     "iopub.status.busy": "2022-03-02T12:18:39.276634Z",
     "iopub.status.idle": "2022-03-02T12:18:39.283764Z",
     "shell.execute_reply": "2022-03-02T12:18:39.282435Z",
     "shell.execute_reply.started": "2022-03-02T12:18:39.276945Z"
    }
   },
   "outputs": [],
   "source": [
    "train.rename(columns={'Привод' : 'drive' }, inplace=True)\n",
    "test.rename(columns={'Привод' : 'drive' }, inplace=True)"
   ]
  },
  {
   "cell_type": "markdown",
   "metadata": {},
   "source": [
    "### Приведение в соответствие признака Руль"
   ]
  },
  {
   "cell_type": "code",
   "execution_count": 111,
   "metadata": {
    "execution": {
     "iopub.execute_input": "2022-03-02T12:18:39.680342Z",
     "iopub.status.busy": "2022-03-02T12:18:39.679348Z",
     "iopub.status.idle": "2022-03-02T12:18:39.701704Z",
     "shell.execute_reply": "2022-03-02T12:18:39.700934Z",
     "shell.execute_reply.started": "2022-03-02T12:18:39.680285Z"
    }
   },
   "outputs": [],
   "source": [
    "train['Руль'].value_counts()"
   ]
  },
  {
   "cell_type": "code",
   "execution_count": 112,
   "metadata": {
    "execution": {
     "iopub.execute_input": "2022-03-02T12:18:39.822394Z",
     "iopub.status.busy": "2022-03-02T12:18:39.821855Z",
     "iopub.status.idle": "2022-03-02T12:18:39.835748Z",
     "shell.execute_reply": "2022-03-02T12:18:39.835016Z",
     "shell.execute_reply.started": "2022-03-02T12:18:39.822355Z"
    }
   },
   "outputs": [],
   "source": [
    "test['Руль'].value_counts()"
   ]
  },
  {
   "cell_type": "code",
   "execution_count": 113,
   "metadata": {
    "execution": {
     "iopub.execute_input": "2022-03-02T12:18:40.045249Z",
     "iopub.status.busy": "2022-03-02T12:18:40.044894Z",
     "iopub.status.idle": "2022-03-02T12:18:40.049435Z",
     "shell.execute_reply": "2022-03-02T12:18:40.048586Z",
     "shell.execute_reply.started": "2022-03-02T12:18:40.045211Z"
    }
   },
   "outputs": [],
   "source": [
    "wheel_dict = {'LEFT': 'Левый', 'RIGHT': 'Правый'}"
   ]
  },
  {
   "cell_type": "code",
   "execution_count": 114,
   "metadata": {
    "execution": {
     "iopub.execute_input": "2022-03-02T12:18:40.181530Z",
     "iopub.status.busy": "2022-03-02T12:18:40.180564Z",
     "iopub.status.idle": "2022-03-02T12:18:40.206418Z",
     "shell.execute_reply": "2022-03-02T12:18:40.205576Z",
     "shell.execute_reply.started": "2022-03-02T12:18:40.181476Z"
    }
   },
   "outputs": [],
   "source": [
    "train['Руль'] = train['Руль'].replace(wheel_dict)"
   ]
  },
  {
   "cell_type": "code",
   "execution_count": 115,
   "metadata": {
    "execution": {
     "iopub.execute_input": "2022-03-02T12:18:40.334750Z",
     "iopub.status.busy": "2022-03-02T12:18:40.334287Z",
     "iopub.status.idle": "2022-03-02T12:18:40.341278Z",
     "shell.execute_reply": "2022-03-02T12:18:40.340164Z",
     "shell.execute_reply.started": "2022-03-02T12:18:40.334714Z"
    }
   },
   "outputs": [],
   "source": [
    "train.rename(columns={'Руль' : 'wheel' }, inplace=True)\n",
    "test.rename(columns={'Руль' : 'wheel' }, inplace=True)"
   ]
  },
  {
   "cell_type": "markdown",
   "metadata": {},
   "source": [
    "### Приведение в соответствие признака Состояние"
   ]
  },
  {
   "cell_type": "code",
   "execution_count": 116,
   "metadata": {
    "execution": {
     "iopub.execute_input": "2022-03-02T12:18:40.734685Z",
     "iopub.status.busy": "2022-03-02T12:18:40.734372Z",
     "iopub.status.idle": "2022-03-02T12:18:40.743454Z",
     "shell.execute_reply": "2022-03-02T12:18:40.742499Z",
     "shell.execute_reply.started": "2022-03-02T12:18:40.734654Z"
    }
   },
   "outputs": [],
   "source": [
    "train['Состояние'].value_counts()"
   ]
  },
  {
   "cell_type": "code",
   "execution_count": 117,
   "metadata": {
    "execution": {
     "iopub.execute_input": "2022-03-02T12:18:40.926202Z",
     "iopub.status.busy": "2022-03-02T12:18:40.925126Z",
     "iopub.status.idle": "2022-03-02T12:18:40.940917Z",
     "shell.execute_reply": "2022-03-02T12:18:40.939818Z",
     "shell.execute_reply.started": "2022-03-02T12:18:40.926149Z"
    }
   },
   "outputs": [],
   "source": [
    "test['Состояние'].value_counts()"
   ]
  },
  {
   "cell_type": "markdown",
   "metadata": {},
   "source": [
    "В обучающей выборке информация о признаке отсутствует. Показатель к удалению. "
   ]
  },
  {
   "cell_type": "code",
   "execution_count": 118,
   "metadata": {
    "execution": {
     "iopub.execute_input": "2022-03-02T12:18:41.328607Z",
     "iopub.status.busy": "2022-03-02T12:18:41.328262Z",
     "iopub.status.idle": "2022-03-02T12:18:41.357703Z",
     "shell.execute_reply": "2022-03-02T12:18:41.356588Z",
     "shell.execute_reply.started": "2022-03-02T12:18:41.328569Z"
    }
   },
   "outputs": [],
   "source": [
    "train = train.drop(['Состояние'],axis=1) "
   ]
  },
  {
   "cell_type": "code",
   "execution_count": 119,
   "metadata": {
    "execution": {
     "iopub.execute_input": "2022-03-02T12:18:41.484485Z",
     "iopub.status.busy": "2022-03-02T12:18:41.484150Z",
     "iopub.status.idle": "2022-03-02T12:18:41.502658Z",
     "shell.execute_reply": "2022-03-02T12:18:41.501680Z",
     "shell.execute_reply.started": "2022-03-02T12:18:41.484448Z"
    }
   },
   "outputs": [],
   "source": [
    "test = test.drop(['Состояние'],axis=1) "
   ]
  },
  {
   "cell_type": "markdown",
   "metadata": {},
   "source": [
    "### Учёт повышения стоимости автомобиля"
   ]
  },
  {
   "cell_type": "markdown",
   "metadata": {},
   "source": [
    "Согалсно аналитическим отчётам [Тинькофф](https://journal.tinkoff.ru/news/2022-car-cost/), [Автоньюс](https://www.autonews.ru/news/620605ea9a79473bafb9020f) ежемесячно автомобиль на московском вторичном рынке повышается  в цене на 4-6%.  \n",
    "Сентябрь - октябрь: 4-5%\n",
    "Ноябрь - 6%\n",
    "Январь - 5,2%  \n",
    "С учётом того, что train содержит в себе данные начала сентября, то цены стоит проиндексировать за 5 месяцев 5% ежемесячно."
   ]
  },
  {
   "cell_type": "code",
   "execution_count": 120,
   "metadata": {
    "execution": {
     "iopub.execute_input": "2022-03-02T12:18:42.013365Z",
     "iopub.status.busy": "2022-03-02T12:18:42.013044Z",
     "iopub.status.idle": "2022-03-02T12:18:42.054392Z",
     "shell.execute_reply": "2022-03-02T12:18:42.053370Z",
     "shell.execute_reply.started": "2022-03-02T12:18:42.013333Z"
    }
   },
   "outputs": [],
   "source": [
    "train['price'] = train['price'].apply(lambda x: x*1.25)"
   ]
  },
  {
   "cell_type": "markdown",
   "metadata": {},
   "source": [
    "### Приведение в соответствие признака Таможня"
   ]
  },
  {
   "cell_type": "code",
   "execution_count": 121,
   "metadata": {
    "execution": {
     "iopub.execute_input": "2022-03-02T12:18:42.415508Z",
     "iopub.status.busy": "2022-03-02T12:18:42.415189Z",
     "iopub.status.idle": "2022-03-02T12:18:42.424746Z",
     "shell.execute_reply": "2022-03-02T12:18:42.424103Z",
     "shell.execute_reply.started": "2022-03-02T12:18:42.415476Z"
    }
   },
   "outputs": [],
   "source": [
    "train['Таможня'].value_counts()"
   ]
  },
  {
   "cell_type": "code",
   "execution_count": 122,
   "metadata": {
    "execution": {
     "iopub.execute_input": "2022-03-02T12:18:42.599519Z",
     "iopub.status.busy": "2022-03-02T12:18:42.599180Z",
     "iopub.status.idle": "2022-03-02T12:18:42.613470Z",
     "shell.execute_reply": "2022-03-02T12:18:42.612703Z",
     "shell.execute_reply.started": "2022-03-02T12:18:42.599477Z"
    }
   },
   "outputs": [],
   "source": [
    "test['Таможня'].value_counts()"
   ]
  },
  {
   "cell_type": "markdown",
   "metadata": {},
   "source": [
    "На данной выборке признак не информативен, подлежит удалению"
   ]
  },
  {
   "cell_type": "code",
   "execution_count": 123,
   "metadata": {
    "execution": {
     "iopub.execute_input": "2022-03-02T12:18:42.974648Z",
     "iopub.status.busy": "2022-03-02T12:18:42.973587Z",
     "iopub.status.idle": "2022-03-02T12:18:43.008320Z",
     "shell.execute_reply": "2022-03-02T12:18:43.007238Z",
     "shell.execute_reply.started": "2022-03-02T12:18:42.974594Z"
    }
   },
   "outputs": [],
   "source": [
    "train = train.drop(['Таможня'],axis=1) \n",
    "test = test.drop(['Таможня'],axis=1) "
   ]
  },
  {
   "cell_type": "markdown",
   "metadata": {},
   "source": [
    "### Приведение в соответствие выборок"
   ]
  },
  {
   "cell_type": "code",
   "execution_count": 124,
   "metadata": {
    "execution": {
     "iopub.execute_input": "2022-03-02T12:18:43.402818Z",
     "iopub.status.busy": "2022-03-02T12:18:43.402486Z",
     "iopub.status.idle": "2022-03-02T12:18:43.410431Z",
     "shell.execute_reply": "2022-03-02T12:18:43.409378Z",
     "shell.execute_reply.started": "2022-03-02T12:18:43.402785Z"
    }
   },
   "outputs": [],
   "source": [
    "set(test.columns).symmetric_difference(train.columns)"
   ]
  },
  {
   "cell_type": "markdown",
   "metadata": {},
   "source": [
    "Все признаки (кроме цены) подлежат удалению, так как их нельзя восстановить во всех выборках из других признаков"
   ]
  },
  {
   "cell_type": "code",
   "execution_count": 125,
   "metadata": {
    "execution": {
     "iopub.execute_input": "2022-03-02T12:18:44.085047Z",
     "iopub.status.busy": "2022-03-02T12:18:44.083943Z",
     "iopub.status.idle": "2022-03-02T12:18:44.117326Z",
     "shell.execute_reply": "2022-03-02T12:18:44.116212Z",
     "shell.execute_reply.started": "2022-03-02T12:18:44.084979Z"
    }
   },
   "outputs": [],
   "source": [
    "train = train.drop(['start_date', 'hidden'],axis=1) \n",
    "test = test.drop(['car_url'],axis=1) "
   ]
  },
  {
   "cell_type": "code",
   "execution_count": 126,
   "metadata": {
    "execution": {
     "iopub.execute_input": "2022-03-02T12:18:44.392405Z",
     "iopub.status.busy": "2022-03-02T12:18:44.392085Z",
     "iopub.status.idle": "2022-03-02T12:18:44.416413Z",
     "shell.execute_reply": "2022-03-02T12:18:44.415493Z",
     "shell.execute_reply.started": "2022-03-02T12:18:44.392365Z"
    }
   },
   "outputs": [],
   "source": [
    "train = train[['body_type', 'brand', 'color', 'complectation_dict', 'description',\n",
    "       'engine_displacement', 'engine_power', 'fuel_type', 'mileage',\n",
    "       'model_date', 'model', 'number_of_doors', 'production_date', 'sell_id',\n",
    "       'vehicle_transmission', 'owners', 'time_ownership', 'pts', 'drive',\n",
    "       'wheel', 'price']]"
   ]
  },
  {
   "cell_type": "code",
   "execution_count": 127,
   "metadata": {
    "execution": {
     "iopub.execute_input": "2022-03-02T12:18:44.813172Z",
     "iopub.status.busy": "2022-03-02T12:18:44.812800Z",
     "iopub.status.idle": "2022-03-02T12:18:44.841333Z",
     "shell.execute_reply": "2022-03-02T12:18:44.840023Z",
     "shell.execute_reply.started": "2022-03-02T12:18:44.813133Z"
    },
    "papermill": {
     "duration": 0.156124,
     "end_time": "2020-10-26T12:47:03.134605",
     "exception": false,
     "start_time": "2020-10-26T12:47:02.978481",
     "status": "completed"
    },
    "tags": []
   },
   "outputs": [],
   "source": [
    "train.dropna(subset=['price'], inplace=True)"
   ]
  },
  {
   "cell_type": "code",
   "execution_count": 128,
   "metadata": {
    "execution": {
     "iopub.execute_input": "2022-03-02T12:18:45.132788Z",
     "iopub.status.busy": "2022-03-02T12:18:45.132246Z",
     "iopub.status.idle": "2022-03-02T12:19:51.829770Z",
     "shell.execute_reply": "2022-03-02T12:19:51.828984Z",
     "shell.execute_reply.started": "2022-03-02T12:18:45.132736Z"
    }
   },
   "outputs": [],
   "source": [
    "pandas_profiling.ProfileReport(train)"
   ]
  },
  {
   "cell_type": "code",
   "execution_count": 129,
   "metadata": {
    "execution": {
     "iopub.execute_input": "2022-03-02T12:19:51.831804Z",
     "iopub.status.busy": "2022-03-02T12:19:51.831446Z",
     "iopub.status.idle": "2022-03-02T12:20:35.667674Z",
     "shell.execute_reply": "2022-03-02T12:20:35.666874Z",
     "shell.execute_reply.started": "2022-03-02T12:19:51.831772Z"
    }
   },
   "outputs": [],
   "source": [
    "pandas_profiling.ProfileReport(test)"
   ]
  },
  {
   "cell_type": "markdown",
   "metadata": {},
   "source": [
    "Дублей нет. Необходимо заполнить пропуски, удалить дублирующие признаки. Переменнные нуждаются в нормализации и стандартизации. "
   ]
  },
  {
   "cell_type": "code",
   "execution_count": 130,
   "metadata": {
    "execution": {
     "iopub.execute_input": "2022-03-02T12:20:35.669935Z",
     "iopub.status.busy": "2022-03-02T12:20:35.669352Z",
     "iopub.status.idle": "2022-03-02T12:20:35.678164Z",
     "shell.execute_reply": "2022-03-02T12:20:35.677140Z",
     "shell.execute_reply.started": "2022-03-02T12:20:35.669863Z"
    }
   },
   "outputs": [],
   "source": [
    "# Для анализа склеиваем все датафреймы по общим колонкам, добавляем признак train\n",
    "train['sample'] = 1  # помечаем где у нас трейн\n",
    "test['sample'] = 0  # помечаем где у нас тест\n",
    "test['price'] = 0 # в тесте у нас нет значения цены, мы его должны предсказать, поэтому пока просто заполняем нулями"
   ]
  },
  {
   "cell_type": "code",
   "execution_count": 131,
   "metadata": {
    "execution": {
     "iopub.execute_input": "2022-03-02T12:20:35.681440Z",
     "iopub.status.busy": "2022-03-02T12:20:35.680389Z",
     "iopub.status.idle": "2022-03-02T12:20:35.847277Z",
     "shell.execute_reply": "2022-03-02T12:20:35.846285Z",
     "shell.execute_reply.started": "2022-03-02T12:20:35.681377Z"
    }
   },
   "outputs": [],
   "source": [
    "data = test.append(train, sort=False).reset_index(drop=True) # объединяем"
   ]
  },
  {
   "cell_type": "code",
   "execution_count": 132,
   "metadata": {
    "execution": {
     "iopub.execute_input": "2022-03-02T12:20:35.848748Z",
     "iopub.status.busy": "2022-03-02T12:20:35.848421Z",
     "iopub.status.idle": "2022-03-02T12:20:36.000027Z",
     "shell.execute_reply": "2022-03-02T12:20:35.998973Z",
     "shell.execute_reply.started": "2022-03-02T12:20:35.848715Z"
    }
   },
   "outputs": [],
   "source": [
    "data.info()"
   ]
  },
  {
   "cell_type": "markdown",
   "metadata": {},
   "source": [
    "## Работа с пропусками"
   ]
  },
  {
   "cell_type": "code",
   "execution_count": 133,
   "metadata": {
    "execution": {
     "iopub.execute_input": "2022-03-02T12:20:36.002084Z",
     "iopub.status.busy": "2022-03-02T12:20:36.001629Z",
     "iopub.status.idle": "2022-03-02T12:20:39.577040Z",
     "shell.execute_reply": "2022-03-02T12:20:39.576030Z",
     "shell.execute_reply.started": "2022-03-02T12:20:36.002030Z"
    }
   },
   "outputs": [],
   "source": [
    "fig, ax = plt.subplots(figsize=(20,12))\n",
    "sns_heatmap = sns.heatmap(data.isnull(), yticklabels=False, cbar=False, cmap='viridis')"
   ]
  },
  {
   "cell_type": "code",
   "execution_count": 134,
   "metadata": {
    "execution": {
     "iopub.execute_input": "2022-03-02T12:20:39.578943Z",
     "iopub.status.busy": "2022-03-02T12:20:39.578572Z",
     "iopub.status.idle": "2022-03-02T12:20:39.723270Z",
     "shell.execute_reply": "2022-03-02T12:20:39.722180Z",
     "shell.execute_reply.started": "2022-03-02T12:20:39.578869Z"
    }
   },
   "outputs": [],
   "source": [
    "data.isna().sum(axis=0) * 100 / data.shape[0] "
   ]
  },
  {
   "cell_type": "code",
   "execution_count": 135,
   "metadata": {
    "execution": {
     "iopub.execute_input": "2022-03-02T12:20:39.725633Z",
     "iopub.status.busy": "2022-03-02T12:20:39.724691Z",
     "iopub.status.idle": "2022-03-02T12:20:39.730264Z",
     "shell.execute_reply": "2022-03-02T12:20:39.729372Z",
     "shell.execute_reply.started": "2022-03-02T12:20:39.725580Z"
    }
   },
   "outputs": [],
   "source": [
    "#data[data['complectation_dict'].notnull()].groupby(['brand', 'model', 'model_date'])['body_type'].count()  ## авто с комплектацей\n",
    "#data[data['complectation_dict'].isnull()].groupby(['brand', 'model', 'model_date'])['body_type'].count()  ## авто без комплектации"
   ]
  },
  {
   "cell_type": "markdown",
   "metadata": {},
   "source": [
    "82% авто не имеют описания комплектации. Возможно заполнить комплектацию на осноавнии бренда/модели/года выпуска, однако  \n",
    "не все представленные бренды имеют в сети комплектацию.  \n",
    "Принято решению удалить столбец  \n",
    "Также много пропусков по признаку time_ownership, поэтому также удалить этот признак"
   ]
  },
  {
   "cell_type": "code",
   "execution_count": 136,
   "metadata": {
    "execution": {
     "iopub.execute_input": "2022-03-02T12:20:39.732088Z",
     "iopub.status.busy": "2022-03-02T12:20:39.731674Z",
     "iopub.status.idle": "2022-03-02T12:20:39.763444Z",
     "shell.execute_reply": "2022-03-02T12:20:39.762683Z",
     "shell.execute_reply.started": "2022-03-02T12:20:39.732054Z"
    }
   },
   "outputs": [],
   "source": [
    "data = data.drop(['complectation_dict', 'time_ownership'],axis=1)"
   ]
  },
  {
   "cell_type": "markdown",
   "metadata": {},
   "source": [
    "Пропуск с описанием заполняем формулировкой \"Нет информации\""
   ]
  },
  {
   "cell_type": "code",
   "execution_count": 137,
   "metadata": {
    "execution": {
     "iopub.execute_input": "2022-03-02T12:20:39.767315Z",
     "iopub.status.busy": "2022-03-02T12:20:39.767037Z",
     "iopub.status.idle": "2022-03-02T12:20:39.804304Z",
     "shell.execute_reply": "2022-03-02T12:20:39.803073Z",
     "shell.execute_reply.started": "2022-03-02T12:20:39.767280Z"
    }
   },
   "outputs": [],
   "source": [
    "data['description'] = data['description'].fillna('Нет информации')"
   ]
  },
  {
   "cell_type": "markdown",
   "metadata": {},
   "source": [
    "Признак engine_displacement отсутствует у электромобилей, поэтому решено присовить признаку нулевое значение"
   ]
  },
  {
   "cell_type": "code",
   "execution_count": 138,
   "metadata": {
    "execution": {
     "iopub.execute_input": "2022-03-02T12:20:39.806030Z",
     "iopub.status.busy": "2022-03-02T12:20:39.805747Z",
     "iopub.status.idle": "2022-03-02T12:20:39.811818Z",
     "shell.execute_reply": "2022-03-02T12:20:39.811136Z",
     "shell.execute_reply.started": "2022-03-02T12:20:39.805994Z"
    }
   },
   "outputs": [],
   "source": [
    "data['engine_displacement'] = data['engine_displacement'].fillna(0)"
   ]
  },
  {
   "cell_type": "markdown",
   "metadata": {},
   "source": [
    "У pts пропуски решено заменить модальным значением"
   ]
  },
  {
   "cell_type": "code",
   "execution_count": 139,
   "metadata": {
    "execution": {
     "iopub.execute_input": "2022-03-02T12:20:39.813267Z",
     "iopub.status.busy": "2022-03-02T12:20:39.813018Z",
     "iopub.status.idle": "2022-03-02T12:20:39.860941Z",
     "shell.execute_reply": "2022-03-02T12:20:39.859771Z",
     "shell.execute_reply.started": "2022-03-02T12:20:39.813237Z"
    }
   },
   "outputs": [],
   "source": [
    "data['pts'] = data['pts'].fillna(data['pts'].mode()[0])"
   ]
  },
  {
   "cell_type": "markdown",
   "metadata": {},
   "source": [
    "## Анализ непрерывных переменных"
   ]
  },
  {
   "cell_type": "code",
   "execution_count": 140,
   "metadata": {
    "execution": {
     "iopub.execute_input": "2022-03-02T12:20:39.863003Z",
     "iopub.status.busy": "2022-03-02T12:20:39.862725Z",
     "iopub.status.idle": "2022-03-02T12:20:39.873891Z",
     "shell.execute_reply": "2022-03-02T12:20:39.872885Z",
     "shell.execute_reply.started": "2022-03-02T12:20:39.862969Z"
    }
   },
   "outputs": [],
   "source": [
    "# категориальные переменные\n",
    "cat_cols = ['body_type', 'brand', 'color','fuel_type',\n",
    "            'model_date', 'model', 'number_of_doors',\n",
    "            'production_date', 'vehicle_transmission',\n",
    "            'owners', 'pts', 'drive', 'wheel']\n",
    "# числовые переменные\n",
    "num_cols = ['engine_displacement', 'engine_power', 'mileage']\n",
    "# целевая переменная\n",
    "target = ['price']"
   ]
  },
  {
   "cell_type": "code",
   "execution_count": 141,
   "metadata": {
    "execution": {
     "iopub.execute_input": "2022-03-02T12:20:39.876136Z",
     "iopub.status.busy": "2022-03-02T12:20:39.875172Z",
     "iopub.status.idle": "2022-03-02T12:20:40.140488Z",
     "shell.execute_reply": "2022-03-02T12:20:40.139443Z",
     "shell.execute_reply.started": "2022-03-02T12:20:39.876079Z"
    }
   },
   "outputs": [],
   "source": [
    "train['price'].hist()"
   ]
  },
  {
   "cell_type": "markdown",
   "metadata": {},
   "source": [
    "Данные таргета не сбалансированы и нуждаются в стандатизации."
   ]
  },
  {
   "cell_type": "markdown",
   "metadata": {},
   "source": [
    "Изображение таргета после логарифмирования"
   ]
  },
  {
   "cell_type": "code",
   "execution_count": 142,
   "metadata": {
    "execution": {
     "iopub.execute_input": "2022-03-02T12:20:40.141996Z",
     "iopub.status.busy": "2022-03-02T12:20:40.141744Z",
     "iopub.status.idle": "2022-03-02T12:20:40.744604Z",
     "shell.execute_reply": "2022-03-02T12:20:40.743851Z",
     "shell.execute_reply.started": "2022-03-02T12:20:40.141966Z"
    }
   },
   "outputs": [],
   "source": [
    "fig = plt.figure(figsize=[8, 8])\n",
    "ax = fig.add_subplot()\n",
    "sns.histplot(np.log(data['price']), kde=False)\n",
    "ax.set_xlabel(xlabel='price', fontdict={'fontsize': 20})\n",
    "plt.show()"
   ]
  },
  {
   "cell_type": "markdown",
   "metadata": {},
   "source": [
    "Изображение таргета после нормализации Бокса-Кокса"
   ]
  },
  {
   "cell_type": "code",
   "execution_count": 143,
   "metadata": {
    "execution": {
     "iopub.execute_input": "2022-03-02T12:20:40.746366Z",
     "iopub.status.busy": "2022-03-02T12:20:40.745957Z",
     "iopub.status.idle": "2022-03-02T12:20:41.386578Z",
     "shell.execute_reply": "2022-03-02T12:20:41.385635Z",
     "shell.execute_reply.started": "2022-03-02T12:20:40.746317Z"
    }
   },
   "outputs": [],
   "source": [
    "fig = plt.figure(figsize=[8, 8])\n",
    "ax = fig.add_subplot()\n",
    "sns.histplot(stats.boxcox(data['price'][data['price'] > 0].dropna())[0], kde=False)\n",
    "ax.set_xlabel(xlabel='price', fontdict={'fontsize': 20})\n",
    "plt.show()"
   ]
  },
  {
   "cell_type": "markdown",
   "metadata": {},
   "source": [
    "Для целевой перемнной лучше подходит логарифмирование"
   ]
  },
  {
   "cell_type": "code",
   "execution_count": 144,
   "metadata": {
    "execution": {
     "iopub.execute_input": "2022-03-02T12:20:41.388379Z",
     "iopub.status.busy": "2022-03-02T12:20:41.388075Z",
     "iopub.status.idle": "2022-03-02T12:20:43.397585Z",
     "shell.execute_reply": "2022-03-02T12:20:43.396644Z",
     "shell.execute_reply.started": "2022-03-02T12:20:41.388344Z"
    }
   },
   "outputs": [],
   "source": [
    "fig = plt.figure(figsize=[30, 8])\n",
    "count = 1\n",
    "for each in num_cols:\n",
    "    ax = fig.add_subplot(1, 3, count)\n",
    "    sns.histplot(data[each], kde=False)\n",
    "    ax.set_xlabel(xlabel=each, fontdict={'fontsize': 20})\n",
    "    count += 1\n",
    "plt.show()"
   ]
  },
  {
   "cell_type": "markdown",
   "metadata": {},
   "source": [
    "Числовые переменные нуждаются в нормализации, так как имеют ассиметрию"
   ]
  },
  {
   "cell_type": "markdown",
   "metadata": {},
   "source": [
    "Изображение непрерывных переменных после логарифмирования"
   ]
  },
  {
   "cell_type": "code",
   "execution_count": 145,
   "metadata": {
    "execution": {
     "iopub.execute_input": "2022-03-02T12:20:43.399184Z",
     "iopub.status.busy": "2022-03-02T12:20:43.398920Z",
     "iopub.status.idle": "2022-03-02T12:20:45.537024Z",
     "shell.execute_reply": "2022-03-02T12:20:45.536331Z",
     "shell.execute_reply.started": "2022-03-02T12:20:43.399151Z"
    }
   },
   "outputs": [],
   "source": [
    "fig = plt.figure(figsize=[30, 8])\n",
    "count = 1\n",
    "for each in num_cols:\n",
    "    ax = fig.add_subplot(1, 3, count)\n",
    "    sns.histplot(np.log(data[each]+1), kde=False)\n",
    "    ax.set_xlabel(xlabel=each, fontdict={'fontsize': 20})\n",
    "    count += 1\n",
    "plt.show()"
   ]
  },
  {
   "cell_type": "markdown",
   "metadata": {},
   "source": [
    "Изображение непрерывных переменных после нормализации Бокса-Кокса"
   ]
  },
  {
   "cell_type": "code",
   "execution_count": 146,
   "metadata": {
    "execution": {
     "iopub.execute_input": "2022-03-02T12:20:45.538529Z",
     "iopub.status.busy": "2022-03-02T12:20:45.538133Z",
     "iopub.status.idle": "2022-03-02T12:20:47.542944Z",
     "shell.execute_reply": "2022-03-02T12:20:47.542055Z",
     "shell.execute_reply.started": "2022-03-02T12:20:45.538481Z"
    }
   },
   "outputs": [],
   "source": [
    "fig = plt.figure(figsize=[30, 8])\n",
    "count = 1\n",
    "for each in num_cols:\n",
    "    ax = fig.add_subplot(1, 3, count)\n",
    "    sns.histplot(stats.boxcox(\n",
    "        data[each][data[each] > 0].dropna())[0], kde=False)\n",
    "    ax.set_xlabel(xlabel=each, fontdict={'fontsize': 20})\n",
    "    count += 1\n",
    "plt.show()"
   ]
  },
  {
   "cell_type": "markdown",
   "metadata": {},
   "source": [
    "Для engine_displacement и engine_power лучше подходит логарифмирование. в то время как для mileage адекватнее преобразование Бокса-Кокса"
   ]
  },
  {
   "cell_type": "markdown",
   "metadata": {},
   "source": [
    "### Выбросы"
   ]
  },
  {
   "cell_type": "code",
   "execution_count": 147,
   "metadata": {
    "execution": {
     "iopub.execute_input": "2022-03-02T12:20:47.544518Z",
     "iopub.status.busy": "2022-03-02T12:20:47.544272Z",
     "iopub.status.idle": "2022-03-02T12:20:48.826637Z",
     "shell.execute_reply": "2022-03-02T12:20:48.825530Z",
     "shell.execute_reply.started": "2022-03-02T12:20:47.544487Z"
    }
   },
   "outputs": [],
   "source": [
    "boxplot_out(data, num_cols)"
   ]
  },
  {
   "cell_type": "code",
   "execution_count": 148,
   "metadata": {
    "execution": {
     "iopub.execute_input": "2022-03-02T12:20:48.828948Z",
     "iopub.status.busy": "2022-03-02T12:20:48.828585Z",
     "iopub.status.idle": "2022-03-02T12:20:49.640845Z",
     "shell.execute_reply": "2022-03-02T12:20:49.638702Z",
     "shell.execute_reply.started": "2022-03-02T12:20:48.828881Z"
    }
   },
   "outputs": [],
   "source": [
    "graph_out(data, num_cols)"
   ]
  },
  {
   "cell_type": "code",
   "execution_count": 149,
   "metadata": {
    "execution": {
     "iopub.execute_input": "2022-03-02T12:20:49.642322Z",
     "iopub.status.busy": "2022-03-02T12:20:49.642070Z",
     "iopub.status.idle": "2022-03-02T12:20:49.822617Z",
     "shell.execute_reply": "2022-03-02T12:20:49.821595Z",
     "shell.execute_reply.started": "2022-03-02T12:20:49.642291Z"
    }
   },
   "outputs": [],
   "source": [
    "outliers(data, num_cols, 'search')"
   ]
  },
  {
   "cell_type": "markdown",
   "metadata": {},
   "source": [
    "Выбросов не более 10% процентов, поэтому можно либо оставить, либо сгладить их"
   ]
  },
  {
   "cell_type": "markdown",
   "metadata": {},
   "source": [
    "### Корреляция"
   ]
  },
  {
   "cell_type": "code",
   "execution_count": 150,
   "metadata": {
    "execution": {
     "iopub.execute_input": "2022-03-02T12:20:49.824333Z",
     "iopub.status.busy": "2022-03-02T12:20:49.824085Z",
     "iopub.status.idle": "2022-03-02T12:20:50.099114Z",
     "shell.execute_reply": "2022-03-02T12:20:50.098260Z",
     "shell.execute_reply.started": "2022-03-02T12:20:49.824303Z"
    }
   },
   "outputs": [],
   "source": [
    "correlation = data[num_cols].corr()\n",
    "fig, ax = plt.subplots(figsize=(10, 5))\n",
    "matrix = np.triu(correlation)\n",
    "sns.heatmap(correlation, annot=True, cmap=\"BrBG\",\n",
    "            fmt='.2f', linewidths=.5, ax=ax, mask=matrix)"
   ]
  },
  {
   "cell_type": "markdown",
   "metadata": {},
   "source": [
    "engine_displacement сильно коррелирует с engine_power. Один из признаков подлежит удалению"
   ]
  },
  {
   "cell_type": "code",
   "execution_count": 151,
   "metadata": {
    "execution": {
     "iopub.execute_input": "2022-03-02T12:20:50.101321Z",
     "iopub.status.busy": "2022-03-02T12:20:50.100414Z",
     "iopub.status.idle": "2022-03-02T12:20:50.389602Z",
     "shell.execute_reply": "2022-03-02T12:20:50.388771Z",
     "shell.execute_reply.started": "2022-03-02T12:20:50.101263Z"
    }
   },
   "outputs": [],
   "source": [
    "correlation = data[num_cols + target].corr()\n",
    "plt.figure(figsize=(3, 5))\n",
    "sns.heatmap(correlation[['price']].sort_values(\n",
    "    by='price', ascending=False), vmin=-1, vmax=1, annot=True, cmap='BrBG')"
   ]
  },
  {
   "cell_type": "markdown",
   "metadata": {
    "execution": {
     "iopub.execute_input": "2022-02-28T13:16:20.514345Z",
     "iopub.status.busy": "2022-02-28T13:16:20.514146Z",
     "iopub.status.idle": "2022-02-28T13:16:20.684047Z",
     "shell.execute_reply": "2022-02-28T13:16:20.68335Z",
     "shell.execute_reply.started": "2022-02-28T13:16:20.514319Z"
    }
   },
   "source": [
    "Влияние числовых признаков на целевую переменную незначительное.  \n",
    "Более адекватно оценить значение переменной в дисперсионном анализе"
   ]
  },
  {
   "cell_type": "markdown",
   "metadata": {},
   "source": [
    "## Анализ категориальных переменных"
   ]
  },
  {
   "cell_type": "code",
   "execution_count": 152,
   "metadata": {
    "execution": {
     "iopub.execute_input": "2022-03-02T12:20:50.391109Z",
     "iopub.status.busy": "2022-03-02T12:20:50.390868Z",
     "iopub.status.idle": "2022-03-02T12:21:13.751934Z",
     "shell.execute_reply": "2022-03-02T12:21:13.751028Z",
     "shell.execute_reply.started": "2022-03-02T12:20:50.391080Z"
    }
   },
   "outputs": [],
   "source": [
    "hist_type(data, cat_cols)"
   ]
  },
  {
   "cell_type": "code",
   "execution_count": 153,
   "metadata": {
    "execution": {
     "iopub.execute_input": "2022-03-02T12:21:13.753632Z",
     "iopub.status.busy": "2022-03-02T12:21:13.753247Z",
     "iopub.status.idle": "2022-03-02T12:21:13.945466Z",
     "shell.execute_reply": "2022-03-02T12:21:13.944116Z",
     "shell.execute_reply.started": "2022-03-02T12:21:13.753599Z"
    }
   },
   "outputs": [],
   "source": [
    "for each in cat_cols:\n",
    "    print(each)\n",
    "    print(data[each].value_counts().head(5))"
   ]
  },
  {
   "cell_type": "markdown",
   "metadata": {},
   "source": [
    "### Выбросы"
   ]
  },
  {
   "cell_type": "code",
   "execution_count": 154,
   "metadata": {
    "execution": {
     "iopub.execute_input": "2022-03-02T12:21:13.948449Z",
     "iopub.status.busy": "2022-03-02T12:21:13.948174Z",
     "iopub.status.idle": "2022-03-02T12:21:13.959624Z",
     "shell.execute_reply": "2022-03-02T12:21:13.958531Z",
     "shell.execute_reply.started": "2022-03-02T12:21:13.948419Z"
    }
   },
   "outputs": [],
   "source": [
    "def outliers_cat_cols():\n",
    "    # категориальные переменные с большим количеством вариант\n",
    "    cat_cols_large = ['body_type', 'brand', 'color',\n",
    "                      'model_date', 'model', 'production_date']\n",
    "    \n",
    "    # категориальные переменные с небольшим количеством вариант\n",
    "    cat_cols_small = ['fuel_type', 'number_of_doors',\n",
    "                      'vehicle_transmission','owners',\n",
    "                      'pts', 'drive', 'wheel']\n",
    "    \n",
    "    for each in cat_cols:\n",
    "        # построение боксплотов для просмотра выбросов\n",
    "        if each in cat_cols_large:\n",
    "            fig, ax = plt.subplots(figsize=(40, 10))\n",
    "        if each in cat_cols_small:\n",
    "            fig, ax = plt.subplots(figsize=(10, 5))\n",
    "        sns.boxplot(x=each, y='price', data=data, ax=ax)\n",
    "        ax.set_title(f'Boxplot for {each}')\n",
    "        plt.show()\n",
    "            \n",
    "        # построение боксплотов для возможности группировки\n",
    "        if each in cat_cols_large:\n",
    "            fig, ax = plt.subplots(figsize=(40, 10))\n",
    "        if each in cat_cols_small:\n",
    "            fig, ax = plt.subplots(figsize=(10, 5))\n",
    "        sns.boxplot(x=each, y='price', data=data, ax=ax)\n",
    "        ax.set_title(f'Boxplot for {each}')\n",
    "        ax.set_ybound(lower = 0, upper=3*(10**6))\n",
    "        plt.show()"
   ]
  },
  {
   "cell_type": "code",
   "execution_count": 155,
   "metadata": {
    "execution": {
     "iopub.execute_input": "2022-03-02T12:21:13.965334Z",
     "iopub.status.busy": "2022-03-02T12:21:13.965014Z",
     "iopub.status.idle": "2022-03-02T12:22:24.420921Z",
     "shell.execute_reply": "2022-03-02T12:22:24.419801Z",
     "shell.execute_reply.started": "2022-03-02T12:21:13.965289Z"
    }
   },
   "outputs": [],
   "source": [
    "outliers_cat_cols()"
   ]
  },
  {
   "cell_type": "markdown",
   "metadata": {},
   "source": [
    "Выбросы есть у большинства типов авто. Некоторые бренды схожи. Например:  \n",
    "**универсал,седан и фургон  \n",
    "хэтчбек,компактвен и микровен,    \n",
    "кабриолет и купэ  \n",
    "минивен и купе-хардкоп**  \n",
    "Данные типы можно объединить."
   ]
  },
  {
   "cell_type": "markdown",
   "metadata": {},
   "source": [
    "Выбросы есть у большинства брендов. Некоторые бренды схожи. Например:  \n",
    "**honda, nissan, volvo  \n",
    "bmw, infiniti,    \n",
    "skoda, mitsubishi  \n",
    "chevrolet, citroen, ford  \n",
    "hyundai, subaru, kia**  \n",
    "Данные бренды можно объединить."
   ]
  },
  {
   "cell_type": "markdown",
   "metadata": {},
   "source": [
    "Выбросы есть у большинства цветов. Некоторые цвета схожи. Например:  \n",
    "**черный и белый  \n",
    "красный, голубой, золотистый, пурпурный и серебристый,    \n",
    "фиолетовый и синий  \n",
    "chevrolet, citroen, ford**  \n",
    "Данные цвета можно объединить."
   ]
  },
  {
   "cell_type": "markdown",
   "metadata": {},
   "source": [
    "Выбросы есть у большинства видов топлива.  \n",
    "Виды топлива не подлежат группировке"
   ]
  },
  {
   "cell_type": "markdown",
   "metadata": {},
   "source": [
    "Выбросы есть по большинству спектру данных признака model_date, особено по авто последних 50 лет.  \n",
    "Анализировать данные на предмет объединения нет смысла без разреза бренда и модели."
   ]
  },
  {
   "cell_type": "markdown",
   "metadata": {},
   "source": [
    "Выбросы есть по большинству спектру данных признака model.  \n",
    "Анализировать данные на предмет объединения нет смысла без разреза бренда и модели."
   ]
  },
  {
   "cell_type": "markdown",
   "metadata": {},
   "source": [
    "Выбросы есть по большинству спектру данных признака production_date, особенно за последние 50 лет.  \n",
    "Анализировать данные на предмет объединения нет смысла без разреза бренда и модели."
   ]
  },
  {
   "cell_type": "markdown",
   "metadata": {},
   "source": [
    "Выбросы есть по всему спектру данных number_of_doors, vehicle_transmission, owners, pts, drive, wheel.  \n",
    "Данные внутри признаков не подлежит группировке"
   ]
  },
  {
   "cell_type": "code",
   "execution_count": 156,
   "metadata": {
    "execution": {
     "iopub.execute_input": "2022-03-02T12:22:24.422636Z",
     "iopub.status.busy": "2022-03-02T12:22:24.422320Z",
     "iopub.status.idle": "2022-03-02T12:23:40.093340Z",
     "shell.execute_reply": "2022-03-02T12:23:40.092393Z",
     "shell.execute_reply.started": "2022-03-02T12:22:24.422603Z"
    }
   },
   "outputs": [],
   "source": [
    "pandas_profiling.ProfileReport(data)"
   ]
  },
  {
   "cell_type": "markdown",
   "metadata": {},
   "source": [
    "### Корреляция"
   ]
  },
  {
   "cell_type": "markdown",
   "metadata": {},
   "source": [
    "Для определения высокой корреляции между категориальными признаками обратимся к корреляции Спирмена.  \n",
    "production_date и model_date дублируются, поэтому решено удалить production_date"
   ]
  },
  {
   "cell_type": "markdown",
   "metadata": {},
   "source": [
    "Предложения по созданию новых признаков:  \n",
    "**model_date  - создание признака моделей до 1973 года включительно   \n",
    "brand - выделить топовые и редкие бренды  \n",
    "body_type - выделить топовые и редкие виды авто  \n",
    "color - выделить топовые и редкие цвета  \n",
    "создание полиномиальных признаков\n",
    "создание признаков на основании комментария продавца  \n",
    "выделение признаков из иинформации о комплектации**"
   ]
  },
  {
   "cell_type": "markdown",
   "metadata": {},
   "source": [
    "## Корректировка числовых признаков"
   ]
  },
  {
   "cell_type": "markdown",
   "metadata": {
    "execution": {
     "iopub.execute_input": "2022-03-01T04:21:07.671066Z",
     "iopub.status.busy": "2022-03-01T04:21:07.670699Z",
     "iopub.status.idle": "2022-03-01T04:21:07.692181Z",
     "shell.execute_reply": "2022-03-01T04:21:07.691449Z",
     "shell.execute_reply.started": "2022-03-01T04:21:07.671028Z"
    }
   },
   "source": [
    "### Логарифмирование целевой переменной\n"
   ]
  },
  {
   "cell_type": "code",
   "execution_count": 157,
   "metadata": {
    "execution": {
     "iopub.execute_input": "2022-03-02T12:23:40.095281Z",
     "iopub.status.busy": "2022-03-02T12:23:40.094808Z",
     "iopub.status.idle": "2022-03-02T12:23:40.441753Z",
     "shell.execute_reply": "2022-03-02T12:23:40.440624Z",
     "shell.execute_reply.started": "2022-03-02T12:23:40.095233Z"
    }
   },
   "outputs": [],
   "source": [
    "for each in ['price', 'engine_displacement']:\n",
    "    data[each] = data[each].apply(lambda x: np.log(x) if x !=0 else x)"
   ]
  },
  {
   "cell_type": "markdown",
   "metadata": {},
   "source": [
    "### Преобразование Бокса-Кокса"
   ]
  },
  {
   "cell_type": "code",
   "execution_count": 158,
   "metadata": {
    "execution": {
     "iopub.execute_input": "2022-03-02T12:23:40.443422Z",
     "iopub.status.busy": "2022-03-02T12:23:40.443173Z",
     "iopub.status.idle": "2022-03-02T12:23:40.524405Z",
     "shell.execute_reply": "2022-03-02T12:23:40.523521Z",
     "shell.execute_reply.started": "2022-03-02T12:23:40.443392Z"
    }
   },
   "outputs": [],
   "source": [
    "data['mileage'] = stats.boxcox(data['mileage'])[0]"
   ]
  },
  {
   "cell_type": "markdown",
   "metadata": {},
   "source": [
    "## Удаление шума"
   ]
  },
  {
   "cell_type": "code",
   "execution_count": 159,
   "metadata": {
    "execution": {
     "iopub.execute_input": "2022-03-02T12:23:40.525797Z",
     "iopub.status.busy": "2022-03-02T12:23:40.525564Z",
     "iopub.status.idle": "2022-03-02T12:23:41.539238Z",
     "shell.execute_reply": "2022-03-02T12:23:41.538380Z",
     "shell.execute_reply.started": "2022-03-02T12:23:40.525768Z"
    }
   },
   "outputs": [],
   "source": [
    "outliers(data, num_cols, 'delete')"
   ]
  },
  {
   "cell_type": "markdown",
   "metadata": {},
   "source": [
    "### результат замены шума на медианное значение  \n",
    "(замена на модальное значение имело меньший эффект)"
   ]
  },
  {
   "cell_type": "code",
   "execution_count": 160,
   "metadata": {
    "execution": {
     "iopub.execute_input": "2022-03-02T12:23:41.540660Z",
     "iopub.status.busy": "2022-03-02T12:23:41.540410Z",
     "iopub.status.idle": "2022-03-02T12:23:41.710124Z",
     "shell.execute_reply": "2022-03-02T12:23:41.709025Z",
     "shell.execute_reply.started": "2022-03-02T12:23:41.540629Z"
    }
   },
   "outputs": [],
   "source": [
    "outliers(data, num_cols, 'search')"
   ]
  },
  {
   "cell_type": "code",
   "execution_count": 161,
   "metadata": {
    "execution": {
     "iopub.execute_input": "2022-03-02T12:23:41.711821Z",
     "iopub.status.busy": "2022-03-02T12:23:41.711461Z",
     "iopub.status.idle": "2022-03-02T12:23:42.732327Z",
     "shell.execute_reply": "2022-03-02T12:23:42.731326Z",
     "shell.execute_reply.started": "2022-03-02T12:23:41.711779Z"
    }
   },
   "outputs": [],
   "source": [
    "graph_out(data, num_cols + target)"
   ]
  },
  {
   "cell_type": "markdown",
   "metadata": {},
   "source": [
    "## Создание новых признаков"
   ]
  },
  {
   "cell_type": "code",
   "execution_count": 162,
   "metadata": {
    "execution": {
     "iopub.execute_input": "2022-03-02T12:23:42.733966Z",
     "iopub.status.busy": "2022-03-02T12:23:42.733678Z",
     "iopub.status.idle": "2022-03-02T12:23:42.814195Z",
     "shell.execute_reply": "2022-03-02T12:23:42.813108Z",
     "shell.execute_reply.started": "2022-03-02T12:23:42.733924Z"
    }
   },
   "outputs": [],
   "source": [
    "data['model_old'] = data['model_date'].apply(lambda x: 1 if x <= 1973 else 0)  # 0 - модели после 1973, 1 - модели до 1973 года"
   ]
  },
  {
   "cell_type": "code",
   "execution_count": 163,
   "metadata": {
    "execution": {
     "iopub.execute_input": "2022-03-02T12:23:42.816383Z",
     "iopub.status.busy": "2022-03-02T12:23:42.816040Z",
     "iopub.status.idle": "2022-03-02T12:23:42.881691Z",
     "shell.execute_reply": "2022-03-02T12:23:42.880958Z",
     "shell.execute_reply.started": "2022-03-02T12:23:42.816337Z"
    }
   },
   "outputs": [],
   "source": [
    "body_type_top3 = set(data['body_type'].value_counts().head(3).index)\n",
    "body_type_top8 = set(data['body_type'].value_counts().head(8).index)\n",
    "body_type_rare = set(data['body_type'].value_counts().tail(5).index)"
   ]
  },
  {
   "cell_type": "code",
   "execution_count": 164,
   "metadata": {
    "execution": {
     "iopub.execute_input": "2022-03-02T12:23:42.883606Z",
     "iopub.status.busy": "2022-03-02T12:23:42.883164Z",
     "iopub.status.idle": "2022-03-02T12:23:42.937898Z",
     "shell.execute_reply": "2022-03-02T12:23:42.936802Z",
     "shell.execute_reply.started": "2022-03-02T12:23:42.883573Z"
    }
   },
   "outputs": [],
   "source": [
    "brand_top5 = set(data['brand'].value_counts().head(5).index)\n",
    "brand_top10 = set(data['brand'].value_counts().head(10).index)\n",
    "brand_rare = set(data['brand'].value_counts().tail(5).index)"
   ]
  },
  {
   "cell_type": "code",
   "execution_count": 165,
   "metadata": {
    "execution": {
     "iopub.execute_input": "2022-03-02T12:23:42.939974Z",
     "iopub.status.busy": "2022-03-02T12:23:42.939383Z",
     "iopub.status.idle": "2022-03-02T12:23:43.006729Z",
     "shell.execute_reply": "2022-03-02T12:23:43.005630Z",
     "shell.execute_reply.started": "2022-03-02T12:23:42.939923Z"
    }
   },
   "outputs": [],
   "source": [
    "color_best = set(data['color'].value_counts().head(1).index)\n",
    "color_top5 = set(data['color'].value_counts().head(5).index)\n",
    "color_rare = set(data['color'].value_counts().tail(5).index)"
   ]
  },
  {
   "cell_type": "code",
   "execution_count": 166,
   "metadata": {
    "execution": {
     "iopub.execute_input": "2022-03-02T12:23:43.008578Z",
     "iopub.status.busy": "2022-03-02T12:23:43.008220Z",
     "iopub.status.idle": "2022-03-02T12:23:44.160209Z",
     "shell.execute_reply": "2022-03-02T12:23:44.159189Z",
     "shell.execute_reply.started": "2022-03-02T12:23:43.008529Z"
    }
   },
   "outputs": [],
   "source": [
    "data['body_type_top3'] = data['body_type'].transform(\n",
    "    lambda x: bool(set(x)&body_type_top3)).astype(int)\n",
    "\n",
    "data['body_type_top8'] = data['body_type'].transform(\n",
    "    lambda x: bool(set(x)&body_type_top8)).astype(int)\n",
    "\n",
    "data['body_type_rare'] = data['body_type'].transform(\n",
    "    lambda x: bool(set(x)&body_type_rare)).astype(int)\n",
    "\n",
    "data['brand_top5'] = data['brand'].transform(\n",
    "    lambda x: bool(set(x)&brand_top5)).astype(int)\n",
    "\n",
    "data['brand_top10'] = data['brand'].transform(\n",
    "    lambda x: bool(set(x)&brand_top10)).astype(int)\n",
    "\n",
    "data['brand_rare'] = data['brand'].transform(\n",
    "    lambda x: bool(set(x)&brand_rare)).astype(int)\n",
    "\n",
    "data['color_best'] = data['color'].transform(\n",
    "    lambda x: bool(set(x)&color_best)).astype(int)\n",
    "\n",
    "data['color_top5'] = data['color'].transform(\n",
    "    lambda x: bool(set(x)&color_top5)).astype(int)\n",
    "\n",
    "data['color_rare'] = data['color'].transform(\n",
    "    lambda x: bool(set(x)&color_rare)).astype(int)\n"
   ]
  },
  {
   "cell_type": "code",
   "execution_count": 167,
   "metadata": {
    "execution": {
     "iopub.execute_input": "2022-03-02T12:23:44.162013Z",
     "iopub.status.busy": "2022-03-02T12:23:44.161650Z",
     "iopub.status.idle": "2022-03-02T12:23:44.166374Z",
     "shell.execute_reply": "2022-03-02T12:23:44.165736Z",
     "shell.execute_reply.started": "2022-03-02T12:23:44.161964Z"
    }
   },
   "outputs": [],
   "source": [
    "bin_cols = ['body_type_top3', 'body_type_top8','body_type_rare',\n",
    "            'brand_top5', 'brand_top10', 'brand_rare',\n",
    "            'color_best', 'color_top5', 'color_rare']"
   ]
  },
  {
   "cell_type": "code",
   "execution_count": 168,
   "metadata": {
    "execution": {
     "iopub.execute_input": "2022-03-02T12:23:44.168077Z",
     "iopub.status.busy": "2022-03-02T12:23:44.167329Z",
     "iopub.status.idle": "2022-03-02T12:23:44.234167Z",
     "shell.execute_reply": "2022-03-02T12:23:44.233015Z",
     "shell.execute_reply.started": "2022-03-02T12:23:44.168017Z"
    }
   },
   "outputs": [],
   "source": [
    "poly = PolynomialFeatures(2)\n",
    "data['eng_disp^2'] = poly.fit_transform(data[['engine_displacement', 'mileage']])[:,3]\n",
    "data['eng_disp*mil'] = poly.fit_transform(data[['engine_displacement', 'mileage']])[:,4]\n",
    "data['mil^2'] = poly.fit_transform(data[['engine_displacement', 'mileage']])[:,5]"
   ]
  },
  {
   "cell_type": "code",
   "execution_count": 169,
   "metadata": {
    "execution": {
     "iopub.execute_input": "2022-03-02T12:23:44.235670Z",
     "iopub.status.busy": "2022-03-02T12:23:44.235421Z",
     "iopub.status.idle": "2022-03-02T12:23:44.246689Z",
     "shell.execute_reply": "2022-03-02T12:23:44.245652Z",
     "shell.execute_reply.started": "2022-03-02T12:23:44.235633Z"
    }
   },
   "outputs": [],
   "source": [
    "data['eng_disp+mil'] = data[['engine_displacement','mileage']].sum(axis=1)"
   ]
  },
  {
   "cell_type": "code",
   "execution_count": 170,
   "metadata": {
    "execution": {
     "iopub.execute_input": "2022-03-02T12:23:44.249011Z",
     "iopub.status.busy": "2022-03-02T12:23:44.248205Z",
     "iopub.status.idle": "2022-03-02T12:23:44.253068Z",
     "shell.execute_reply": "2022-03-02T12:23:44.252394Z",
     "shell.execute_reply.started": "2022-03-02T12:23:44.248972Z"
    }
   },
   "outputs": [],
   "source": [
    "num_cols_poly = ['engine_displacement', 'engine_power', 'mileage',\n",
    "                 'eng_disp^2', 'eng_disp*mil', 'mil^2', 'eng_disp+mil']"
   ]
  },
  {
   "cell_type": "code",
   "execution_count": 171,
   "metadata": {
    "execution": {
     "iopub.execute_input": "2022-03-02T12:23:44.254764Z",
     "iopub.status.busy": "2022-03-02T12:23:44.254362Z",
     "iopub.status.idle": "2022-03-02T12:23:44.409674Z",
     "shell.execute_reply": "2022-03-02T12:23:44.408743Z",
     "shell.execute_reply.started": "2022-03-02T12:23:44.254732Z"
    }
   },
   "outputs": [],
   "source": [
    "data.info()"
   ]
  },
  {
   "cell_type": "markdown",
   "metadata": {},
   "source": [
    "## Label_encoding"
   ]
  },
  {
   "cell_type": "code",
   "execution_count": 172,
   "metadata": {
    "execution": {
     "iopub.execute_input": "2022-03-02T12:23:44.411314Z",
     "iopub.status.busy": "2022-03-02T12:23:44.411056Z",
     "iopub.status.idle": "2022-03-02T12:23:44.418067Z",
     "shell.execute_reply": "2022-03-02T12:23:44.417024Z",
     "shell.execute_reply.started": "2022-03-02T12:23:44.411282Z"
    }
   },
   "outputs": [],
   "source": [
    "# функция приведения переменных типа 'object' к 'int'\n",
    "def label_encoding(df, cols):\n",
    "    le = preprocessing.LabelEncoder()\n",
    "    for each in cols:\n",
    "        df[each] = df[each].sort_values(ascending=True)\n",
    "        df[each] = le.fit_transform(df[each].values)\n",
    "        le_dict = dict(zip(le.classes_, le.transform(le.classes_)))\n",
    "        print(f'Словарь для параметра {each}:', le_dict)"
   ]
  },
  {
   "cell_type": "code",
   "execution_count": 173,
   "metadata": {
    "execution": {
     "iopub.execute_input": "2022-03-02T12:23:44.419669Z",
     "iopub.status.busy": "2022-03-02T12:23:44.419401Z",
     "iopub.status.idle": "2022-03-02T12:23:44.431467Z",
     "shell.execute_reply": "2022-03-02T12:23:44.430308Z",
     "shell.execute_reply.started": "2022-03-02T12:23:44.419634Z"
    }
   },
   "outputs": [],
   "source": [
    "# категориальные переменные для LabelEncoder\n",
    "cat_cols_enc = ['body_type', 'brand', 'color','fuel_type',\n",
    "            'model','vehicle_transmission',\n",
    "            'pts', 'drive', 'wheel']"
   ]
  },
  {
   "cell_type": "code",
   "execution_count": 174,
   "metadata": {
    "execution": {
     "iopub.execute_input": "2022-03-02T12:23:44.433632Z",
     "iopub.status.busy": "2022-03-02T12:23:44.433346Z",
     "iopub.status.idle": "2022-03-02T12:23:46.014106Z",
     "shell.execute_reply": "2022-03-02T12:23:46.012961Z",
     "shell.execute_reply.started": "2022-03-02T12:23:44.433597Z"
    }
   },
   "outputs": [],
   "source": [
    "label_encoding(data, cat_cols_enc)"
   ]
  },
  {
   "cell_type": "markdown",
   "metadata": {},
   "source": [
    "### Выбор признаков"
   ]
  },
  {
   "cell_type": "code",
   "execution_count": 175,
   "metadata": {
    "execution": {
     "iopub.execute_input": "2022-03-02T12:23:46.015808Z",
     "iopub.status.busy": "2022-03-02T12:23:46.015539Z",
     "iopub.status.idle": "2022-03-02T12:23:46.024057Z",
     "shell.execute_reply": "2022-03-02T12:23:46.022994Z",
     "shell.execute_reply.started": "2022-03-02T12:23:46.015769Z"
    }
   },
   "outputs": [],
   "source": [
    "data['price'] = data['price'].astype(int)"
   ]
  },
  {
   "cell_type": "code",
   "execution_count": 176,
   "metadata": {
    "execution": {
     "iopub.execute_input": "2022-03-02T12:23:46.025557Z",
     "iopub.status.busy": "2022-03-02T12:23:46.025324Z",
     "iopub.status.idle": "2022-03-02T12:23:46.094370Z",
     "shell.execute_reply": "2022-03-02T12:23:46.093220Z",
     "shell.execute_reply.started": "2022-03-02T12:23:46.025529Z"
    }
   },
   "outputs": [],
   "source": [
    "# Разбиение данных не обучающую и тестовую выборку\n",
    "train_data = data.query('sample == 1').drop(['sample', 'description'], axis=1)\n",
    "test_data = data.query('sample == 0').drop(['sample', 'description'], axis=1)"
   ]
  },
  {
   "cell_type": "code",
   "execution_count": 177,
   "metadata": {
    "execution": {
     "iopub.execute_input": "2022-03-02T12:23:46.095980Z",
     "iopub.status.busy": "2022-03-02T12:23:46.095717Z",
     "iopub.status.idle": "2022-03-02T12:23:46.350206Z",
     "shell.execute_reply": "2022-03-02T12:23:46.349562Z",
     "shell.execute_reply.started": "2022-03-02T12:23:46.095949Z"
    }
   },
   "outputs": [],
   "source": [
    "imp_num = pd.Series(f_classif(train_data[num_cols_poly],train_data[target])[0],\n",
    "                    index=num_cols_poly)\n",
    "imp_num.sort_values(inplace=True)\n",
    "imp_num.plot(kind='barh')"
   ]
  },
  {
   "cell_type": "code",
   "execution_count": 178,
   "metadata": {
    "execution": {
     "iopub.execute_input": "2022-03-02T12:23:46.351940Z",
     "iopub.status.busy": "2022-03-02T12:23:46.351359Z",
     "iopub.status.idle": "2022-03-02T12:23:46.356722Z",
     "shell.execute_reply": "2022-03-02T12:23:46.355742Z",
     "shell.execute_reply.started": "2022-03-02T12:23:46.351887Z"
    }
   },
   "outputs": [],
   "source": [
    "cat_cols_new = ['body_type', 'brand', 'color','fuel_type',\n",
    "                'model','vehicle_transmission',\n",
    "                'pts', 'drive', 'wheel','model_date',\n",
    "                'number_of_doors','production_date','owners']"
   ]
  },
  {
   "cell_type": "code",
   "execution_count": 179,
   "metadata": {
    "execution": {
     "iopub.execute_input": "2022-03-02T12:23:46.358123Z",
     "iopub.status.busy": "2022-03-02T12:23:46.357848Z",
     "iopub.status.idle": "2022-03-02T12:24:05.560993Z",
     "shell.execute_reply": "2022-03-02T12:24:05.559900Z",
     "shell.execute_reply.started": "2022-03-02T12:23:46.358082Z"
    }
   },
   "outputs": [],
   "source": [
    "imp_cat = pd.Series(mutual_info_classif(train_data[bin_cols + cat_cols_new], train_data[target]), index=bin_cols + cat_cols_new)\n",
    "imp_cat.sort_values(inplace=True)\n",
    "imp_cat.plot(kind='barh', figsize=(30, 10))"
   ]
  },
  {
   "cell_type": "code",
   "execution_count": 180,
   "metadata": {
    "execution": {
     "iopub.execute_input": "2022-03-02T12:24:05.563675Z",
     "iopub.status.busy": "2022-03-02T12:24:05.562690Z",
     "iopub.status.idle": "2022-03-02T12:24:05.987293Z",
     "shell.execute_reply": "2022-03-02T12:24:05.986669Z",
     "shell.execute_reply.started": "2022-03-02T12:24:05.563621Z"
    }
   },
   "outputs": [],
   "source": [
    "correlation = data[num_cols_poly].corr()\n",
    "fig, ax = plt.subplots(figsize=(10, 5))\n",
    "matrix = np.triu(correlation)\n",
    "sns.heatmap(correlation, annot=True, cmap=\"BrBG\",\n",
    "            fmt='.2f', linewidths=.5, ax=ax, mask=matrix)"
   ]
  },
  {
   "cell_type": "markdown",
   "metadata": {},
   "source": [
    "Генерация числовых признаков не увеличила эффективности, а только продублировала существующие переменные.  \n",
    "Из числовых переменных решено включить в модель 'engine_displacement', 'mileage'.  \n",
    "Из категориальных - 'body_type', 'brand', 'color','fuel_type','model',  \n",
    "'vehicle_transmission','pts', 'drive', 'wheel','model_date',  \n",
    "'number_of_doors','owners', 'body_type_top8',  \n",
    "'body_type_rare', 'brand_top10', 'brand_rare',  \n",
    "'color_best'"
   ]
  },
  {
   "cell_type": "markdown",
   "metadata": {},
   "source": [
    "## Переменные для моделирования"
   ]
  },
  {
   "cell_type": "code",
   "execution_count": 181,
   "metadata": {
    "execution": {
     "iopub.execute_input": "2022-03-02T12:24:05.989003Z",
     "iopub.status.busy": "2022-03-02T12:24:05.988392Z",
     "iopub.status.idle": "2022-03-02T12:24:05.993514Z",
     "shell.execute_reply": "2022-03-02T12:24:05.992873Z",
     "shell.execute_reply.started": "2022-03-02T12:24:05.988968Z"
    }
   },
   "outputs": [],
   "source": [
    "# категориальные переменные\n",
    "cat_cols_mod = ['body_type', 'brand', 'color','fuel_type',\n",
    "                'model','vehicle_transmission',\n",
    "                'pts', 'drive', 'wheel','model_date',\n",
    "                'number_of_doors','owners', 'body_type_top8',\n",
    "                'body_type_rare', 'brand_top10', 'brand_rare',\n",
    "                'color_best']\n",
    "# числовые переменные\n",
    "num_cols_mod = ['engine_displacement', 'mileage']"
   ]
  },
  {
   "cell_type": "code",
   "execution_count": 182,
   "metadata": {
    "execution": {
     "iopub.execute_input": "2022-03-02T12:24:05.995055Z",
     "iopub.status.busy": "2022-03-02T12:24:05.994662Z",
     "iopub.status.idle": "2022-03-02T12:24:06.025304Z",
     "shell.execute_reply": "2022-03-02T12:24:06.024285Z",
     "shell.execute_reply.started": "2022-03-02T12:24:05.995012Z"
    }
   },
   "outputs": [],
   "source": [
    "y = data.query('sample == 1')['price']"
   ]
  },
  {
   "cell_type": "code",
   "execution_count": 183,
   "metadata": {
    "execution": {
     "iopub.execute_input": "2022-03-02T12:24:06.027032Z",
     "iopub.status.busy": "2022-03-02T12:24:06.026732Z",
     "iopub.status.idle": "2022-03-02T12:24:06.070588Z",
     "shell.execute_reply": "2022-03-02T12:24:06.069456Z",
     "shell.execute_reply.started": "2022-03-02T12:24:06.026996Z"
    },
    "papermill": {
     "duration": 0.071275,
     "end_time": "2020-10-26T12:47:03.754",
     "exception": false,
     "start_time": "2020-10-26T12:47:03.682725",
     "status": "completed"
    },
    "tags": []
   },
   "outputs": [],
   "source": [
    "X = data.query('sample == 1')[cat_cols_mod + num_cols_mod]\n",
    "X_sub = data.query('sample == 0')[cat_cols_mod + num_cols_mod]"
   ]
  },
  {
   "cell_type": "markdown",
   "metadata": {
    "papermill": {
     "duration": 0.035737,
     "end_time": "2020-10-26T12:47:03.826552",
     "exception": false,
     "start_time": "2020-10-26T12:47:03.790815",
     "status": "completed"
    },
    "tags": []
   },
   "source": [
    "## Train Split"
   ]
  },
  {
   "cell_type": "code",
   "execution_count": 184,
   "metadata": {
    "execution": {
     "iopub.execute_input": "2022-03-02T12:24:06.072893Z",
     "iopub.status.busy": "2022-03-02T12:24:06.072525Z",
     "iopub.status.idle": "2022-03-02T12:24:06.100669Z",
     "shell.execute_reply": "2022-03-02T12:24:06.099584Z",
     "shell.execute_reply.started": "2022-03-02T12:24:06.072842Z"
    },
    "papermill": {
     "duration": 0.059208,
     "end_time": "2020-10-26T12:47:03.923564",
     "exception": false,
     "start_time": "2020-10-26T12:47:03.864356",
     "status": "completed"
    },
    "tags": []
   },
   "outputs": [],
   "source": [
    "X_train, X_val, y_train, y_val = train_test_split(X, y, test_size=VAL_SIZE, shuffle=True, random_state=RANDOM_SEED)"
   ]
  },
  {
   "cell_type": "code",
   "execution_count": 185,
   "metadata": {
    "execution": {
     "iopub.execute_input": "2022-03-02T12:24:06.103139Z",
     "iopub.status.busy": "2022-03-02T12:24:06.102736Z",
     "iopub.status.idle": "2022-03-02T12:24:06.134529Z",
     "shell.execute_reply": "2022-03-02T12:24:06.133843Z",
     "shell.execute_reply.started": "2022-03-02T12:24:06.103097Z"
    }
   },
   "outputs": [],
   "source": [
    "sscale = StandardScaler()\n",
    "X_num_tr = pd.DataFrame(sscale.fit_transform(X_train[num_cols_mod].values))\n",
    "X_num_v = pd.DataFrame(sscale.transform(X_val[num_cols_mod].values))\n",
    "X_num_sub = pd.DataFrame(sscale.transform(X_sub[num_cols_mod].values))\n",
    "\n",
    "\n",
    "X_cat_tr = X_train[cat_cols_mod].values\n",
    "X_cat_v = X_val[cat_cols_mod].values\n",
    "X_cat_sub = X_sub[cat_cols_mod].values\n",
    "\n",
    "X_train = pd.DataFrame(np.hstack([X_num_tr, X_cat_tr]))\n",
    "X_val = pd.DataFrame(np.hstack([X_num_v, X_cat_v]))\n",
    "X_test = pd.DataFrame(np.hstack([X_num_sub, X_cat_sub]))"
   ]
  },
  {
   "cell_type": "code",
   "execution_count": 186,
   "metadata": {
    "execution": {
     "iopub.execute_input": "2022-03-02T12:24:06.137097Z",
     "iopub.status.busy": "2022-03-02T12:24:06.135741Z",
     "iopub.status.idle": "2022-03-02T12:24:06.144420Z",
     "shell.execute_reply": "2022-03-02T12:24:06.143648Z",
     "shell.execute_reply.started": "2022-03-02T12:24:06.137047Z"
    }
   },
   "outputs": [],
   "source": [
    "X_train.shape, X_val.shape, X_test.shape, y_train.shape, y_val.shape, "
   ]
  },
  {
   "cell_type": "markdown",
   "metadata": {},
   "source": [
    "# Model 1: Создадим \"наивную\" модель \n",
    "\n",
    "\n"
   ]
  },
  {
   "cell_type": "code",
   "execution_count": 186,
   "metadata": {
    "execution": {
     "iopub.execute_input": "2022-03-02T08:22:06.579483Z",
     "iopub.status.busy": "2022-03-02T08:22:06.579176Z",
     "iopub.status.idle": "2022-03-02T08:22:06.586870Z",
     "shell.execute_reply": "2022-03-02T08:22:06.585802Z",
     "shell.execute_reply.started": "2022-03-02T08:22:06.579447Z"
    }
   },
   "outputs": [],
   "source": [
    "#tmp_train = X_train.copy()\n",
    "#tmp_train['price'] = y_train"
   ]
  },
  {
   "cell_type": "code",
   "execution_count": 187,
   "metadata": {
    "execution": {
     "iopub.execute_input": "2022-03-02T03:44:24.449616Z",
     "iopub.status.busy": "2022-03-02T03:44:24.448833Z",
     "iopub.status.idle": "2022-03-02T03:44:24.459988Z",
     "shell.execute_reply": "2022-03-02T03:44:24.459242Z",
     "shell.execute_reply.started": "2022-03-02T03:44:24.449582Z"
    }
   },
   "outputs": [],
   "source": [
    "# Находим median по экземплярам mileage в трейне и размечаем тест\n",
    "#predict = X_test['brand'].map(tmp_train.groupby('brand')['price'].median())\n",
    "\n",
    "#оцениваем точность\n",
    "#print(f\"Точность наивной модели по метрике MAPE: {(mape(y_test, predict.values))*100:0.2f}%\")"
   ]
  },
  {
   "cell_type": "markdown",
   "metadata": {},
   "source": [
    "Точность модели по метрике MAPE: 4.49%"
   ]
  },
  {
   "cell_type": "markdown",
   "metadata": {
    "papermill": {
     "duration": 0.037164,
     "end_time": "2020-10-26T12:47:03.997616",
     "exception": false,
     "start_time": "2020-10-26T12:47:03.960452",
     "status": "completed"
    },
    "tags": []
   },
   "source": [
    "# Model 2 : CatBoost"
   ]
  },
  {
   "cell_type": "markdown",
   "metadata": {
    "papermill": {
     "duration": 0.035833,
     "end_time": "2020-10-26T12:47:04.149539",
     "exception": false,
     "start_time": "2020-10-26T12:47:04.113706",
     "status": "completed"
    },
    "tags": []
   },
   "source": [
    "## Fit"
   ]
  },
  {
   "cell_type": "code",
   "execution_count": 188,
   "metadata": {
    "execution": {
     "iopub.execute_input": "2022-03-02T03:44:24.462272Z",
     "iopub.status.busy": "2022-03-02T03:44:24.461267Z",
     "iopub.status.idle": "2022-03-02T03:44:57.966593Z",
     "shell.execute_reply": "2022-03-02T03:44:57.965733Z",
     "shell.execute_reply.started": "2022-03-02T03:44:24.462223Z"
    },
    "papermill": {
     "duration": 67.991521,
     "end_time": "2020-10-26T12:48:12.178488",
     "exception": false,
     "start_time": "2020-10-26T12:47:04.186967",
     "status": "completed"
    },
    "tags": []
   },
   "outputs": [],
   "source": [
    "model = CatBoostRegressor(iterations = 5000,\n",
    "                          random_seed = RANDOM_SEED,\n",
    "                          eval_metric='MAPE',\n",
    "                          custom_metric=['R2', 'MAE'],\n",
    "                          silent=True,\n",
    "                         )\n",
    "model.fit(X_train, y_train,\n",
    "         #cat_features=cat_features_ids,\n",
    "         eval_set=(X_val, y_val),\n",
    "         verbose_eval=0,\n",
    "         use_best_model=True,\n",
    "         #plot=True\n",
    "         )\n",
    "\n",
    "model.save_model('catboost_single_model_baseline.model')"
   ]
  },
  {
   "cell_type": "code",
   "execution_count": 189,
   "metadata": {
    "execution": {
     "iopub.execute_input": "2022-03-02T03:44:57.968115Z",
     "iopub.status.busy": "2022-03-02T03:44:57.967886Z",
     "iopub.status.idle": "2022-03-02T03:44:58.020089Z",
     "shell.execute_reply": "2022-03-02T03:44:58.019185Z",
     "shell.execute_reply.started": "2022-03-02T03:44:57.968087Z"
    }
   },
   "outputs": [],
   "source": [
    "# оцениваем точность\n",
    "predict = model.predict(X_val)\n",
    "print(f\"Точность модели по метрике MAPE: {(mape(y_val, predict))*100:0.2f}%\")"
   ]
  },
  {
   "cell_type": "markdown",
   "metadata": {},
   "source": [
    "Точность модели по метрике MAPE: 1.85%"
   ]
  },
  {
   "cell_type": "markdown",
   "metadata": {},
   "source": [
    "### Log Traget"
   ]
  },
  {
   "cell_type": "code",
   "execution_count": 190,
   "metadata": {
    "execution": {
     "iopub.execute_input": "2022-03-02T03:44:58.022263Z",
     "iopub.status.busy": "2022-03-02T03:44:58.021400Z",
     "iopub.status.idle": "2022-03-02T03:45:31.053922Z",
     "shell.execute_reply": "2022-03-02T03:45:31.053090Z",
     "shell.execute_reply.started": "2022-03-02T03:44:58.022224Z"
    }
   },
   "outputs": [],
   "source": [
    "model = CatBoostRegressor(iterations = 5000,\n",
    "                          random_seed = RANDOM_SEED,\n",
    "                          eval_metric='MAPE',\n",
    "                          custom_metric=['R2', 'MAE'],\n",
    "                          silent=True,\n",
    "                         )\n",
    "model.fit(X_train, np.log(y_train),\n",
    "         #cat_features=cat_features_ids,\n",
    "         eval_set=(X_val, np.log(y_val)),\n",
    "         verbose_eval=0,\n",
    "         use_best_model=True,\n",
    "         #plot=True\n",
    "         )\n",
    "\n",
    "model.save_model('catboost_single_model_2_baseline.model')"
   ]
  },
  {
   "cell_type": "code",
   "execution_count": 191,
   "metadata": {
    "execution": {
     "iopub.execute_input": "2022-03-02T03:45:31.055112Z",
     "iopub.status.busy": "2022-03-02T03:45:31.054897Z",
     "iopub.status.idle": "2022-03-02T03:45:31.106565Z",
     "shell.execute_reply": "2022-03-02T03:45:31.105762Z",
     "shell.execute_reply.started": "2022-03-02T03:45:31.055086Z"
    }
   },
   "outputs": [],
   "source": [
    "predict_test = np.exp(model.predict(X_val))"
   ]
  },
  {
   "cell_type": "code",
   "execution_count": 192,
   "metadata": {
    "execution": {
     "iopub.execute_input": "2022-03-02T03:45:31.108271Z",
     "iopub.status.busy": "2022-03-02T03:45:31.107961Z",
     "iopub.status.idle": "2022-03-02T03:45:31.115960Z",
     "shell.execute_reply": "2022-03-02T03:45:31.114965Z",
     "shell.execute_reply.started": "2022-03-02T03:45:31.108231Z"
    }
   },
   "outputs": [],
   "source": [
    "print(f\"Точность модели по метрике MAPE: {(mape(y_val, predict_test))*100:0.2f}%\")"
   ]
  },
  {
   "cell_type": "markdown",
   "metadata": {},
   "source": [
    "Точность модели по метрике MAPE: 1.85%, по лидерборду - 89%"
   ]
  },
  {
   "cell_type": "markdown",
   "metadata": {},
   "source": [
    "# Model 3 : RandomForestRegressor"
   ]
  },
  {
   "cell_type": "code",
   "execution_count": 193,
   "metadata": {
    "execution": {
     "iopub.execute_input": "2022-03-02T03:45:31.119131Z",
     "iopub.status.busy": "2022-03-02T03:45:31.118727Z",
     "iopub.status.idle": "2022-03-02T03:45:52.019421Z",
     "shell.execute_reply": "2022-03-02T03:45:52.018561Z",
     "shell.execute_reply.started": "2022-03-02T03:45:31.119077Z"
    }
   },
   "outputs": [],
   "source": [
    "rf = RandomForestRegressor(random_state = RANDOM_SEED)\n",
    "rf.fit(X_train, y_train)\n",
    "y_predict = rf.predict(X_val)\n",
    "print(f\"Точность модели по метрике MAPE: {(mape(y_val, y_predict))*100:0.2f}%\")"
   ]
  },
  {
   "cell_type": "markdown",
   "metadata": {},
   "source": [
    "Точность модели по метрике MAPE: 1.57%, по лидерборду - 27,93%"
   ]
  },
  {
   "cell_type": "code",
   "execution_count": 194,
   "metadata": {
    "execution": {
     "iopub.execute_input": "2022-03-02T03:45:52.021004Z",
     "iopub.status.busy": "2022-03-02T03:45:52.020782Z",
     "iopub.status.idle": "2022-03-02T03:45:52.027301Z",
     "shell.execute_reply": "2022-03-02T03:45:52.026379Z",
     "shell.execute_reply.started": "2022-03-02T03:45:52.020978Z"
    }
   },
   "outputs": [],
   "source": [
    "rf.get_params()"
   ]
  },
  {
   "cell_type": "code",
   "execution_count": 195,
   "metadata": {
    "execution": {
     "iopub.execute_input": "2022-03-02T03:45:52.028871Z",
     "iopub.status.busy": "2022-03-02T03:45:52.028617Z",
     "iopub.status.idle": "2022-03-02T03:45:52.620696Z",
     "shell.execute_reply": "2022-03-02T03:45:52.619877Z",
     "shell.execute_reply.started": "2022-03-02T03:45:52.028843Z"
    }
   },
   "outputs": [],
   "source": [
    "y_predict_rf_sub = rf.predict(X_test)"
   ]
  },
  {
   "cell_type": "markdown",
   "metadata": {},
   "source": [
    "## Перебор гиперпараметров"
   ]
  },
  {
   "cell_type": "code",
   "execution_count": 196,
   "metadata": {
    "execution": {
     "iopub.execute_input": "2022-03-02T03:45:52.622212Z",
     "iopub.status.busy": "2022-03-02T03:45:52.621997Z",
     "iopub.status.idle": "2022-03-02T04:36:58.315266Z",
     "shell.execute_reply": "2022-03-02T04:36:58.313760Z",
     "shell.execute_reply.started": "2022-03-02T03:45:52.622174Z"
    }
   },
   "outputs": [],
   "source": [
    "random_grid = {'n_estimators': [int(x) for x in np.linspace(start=200, stop=400, num=10)],\n",
    "               'max_features': ['auto', 'sqrt', 'log2'],\n",
    "               'max_depth': [int(x) for x in np.linspace(10, 20, num=2)] + [None],\n",
    "               'min_samples_split': [2, 5, 10],\n",
    "               'min_samples_leaf': [1, 2, 4],\n",
    "               'bootstrap': [True, False]}\n",
    "\n",
    "rfr = RandomForestRegressor(random_state=RANDOM_SEED)\n",
    "rf_random = RandomizedSearchCV(estimator=rfr, param_distributions=random_grid,\n",
    "                               n_iter=100, cv=3, verbose=10, random_state=RANDOM_SEED, n_jobs=-1)\n",
    "\n",
    "rf_random.fit(X_train, y_train)\n",
    "rf_random.best_params_"
   ]
  },
  {
   "cell_type": "markdown",
   "metadata": {},
   "source": [
    "{'n_estimators': 377,\n",
    " 'min_samples_split': 10,\n",
    " 'min_samples_leaf': 1,\n",
    " 'max_features': 'sqrt',\n",
    " 'max_depth': None,\n",
    " 'bootstrap': False}"
   ]
  },
  {
   "cell_type": "code",
   "execution_count": 197,
   "metadata": {
    "execution": {
     "iopub.execute_input": "2022-03-02T04:36:58.319604Z",
     "iopub.status.busy": "2022-03-02T04:36:58.319292Z",
     "iopub.status.idle": "2022-03-02T04:36:58.329017Z",
     "shell.execute_reply": "2022-03-02T04:36:58.327813Z",
     "shell.execute_reply.started": "2022-03-02T04:36:58.319571Z"
    }
   },
   "outputs": [],
   "source": [
    "rf_random.best_score_"
   ]
  },
  {
   "cell_type": "code",
   "execution_count": 198,
   "metadata": {
    "execution": {
     "iopub.execute_input": "2022-03-02T04:36:58.330779Z",
     "iopub.status.busy": "2022-03-02T04:36:58.330459Z",
     "iopub.status.idle": "2022-03-02T04:37:33.588978Z",
     "shell.execute_reply": "2022-03-02T04:37:33.587896Z",
     "shell.execute_reply.started": "2022-03-02T04:36:58.330747Z"
    }
   },
   "outputs": [],
   "source": [
    "rf_search = RandomForestRegressor(random_state = RANDOM_SEED,\n",
    "                                n_estimators =377,\n",
    "                                min_samples_split=10,\n",
    "                                min_samples_leaf=1,\n",
    "                                max_features='sqrt',\n",
    "                                max_depth=None,\n",
    "                                bootstrap=False)\n",
    "rf_search.fit(X_train, y_train)\n",
    "y_predict = rf_search.predict(X_val)\n",
    "print(f\"Точность модели по метрике MAPE: {(mape(y_val, y_predict))*100:0.2f}%\")"
   ]
  },
  {
   "cell_type": "markdown",
   "metadata": {},
   "source": [
    "Точность модели по метрике MAPE: 1.64%, по лидерборду 28,44%"
   ]
  },
  {
   "cell_type": "code",
   "execution_count": 199,
   "metadata": {
    "execution": {
     "iopub.execute_input": "2022-03-02T04:37:33.590726Z",
     "iopub.status.busy": "2022-03-02T04:37:33.590479Z",
     "iopub.status.idle": "2022-03-02T04:37:33.597876Z",
     "shell.execute_reply": "2022-03-02T04:37:33.596821Z",
     "shell.execute_reply.started": "2022-03-02T04:37:33.590698Z"
    }
   },
   "outputs": [],
   "source": [
    "rf_search.get_params()"
   ]
  },
  {
   "cell_type": "code",
   "execution_count": 200,
   "metadata": {
    "execution": {
     "iopub.execute_input": "2022-03-02T04:37:33.599520Z",
     "iopub.status.busy": "2022-03-02T04:37:33.599286Z",
     "iopub.status.idle": "2022-03-02T04:37:36.174252Z",
     "shell.execute_reply": "2022-03-02T04:37:36.173360Z",
     "shell.execute_reply.started": "2022-03-02T04:37:33.599491Z"
    }
   },
   "outputs": [],
   "source": [
    "y_predict_rf_search_sub = rf_search.predict(X_test)"
   ]
  },
  {
   "cell_type": "markdown",
   "metadata": {
    "execution": {
     "iopub.status.busy": "2022-03-01T17:25:04.26206Z",
     "iopub.status.idle": "2022-03-01T17:25:04.262481Z",
     "shell.execute_reply": "2022-03-01T17:25:04.262296Z",
     "shell.execute_reply.started": "2022-03-01T17:25:04.262275Z"
    }
   },
   "source": [
    "## Подбор гиперпараметров с помощью Optuna  "
   ]
  },
  {
   "cell_type": "code",
   "execution_count": 201,
   "metadata": {
    "execution": {
     "iopub.execute_input": "2022-03-02T04:37:36.176051Z",
     "iopub.status.busy": "2022-03-02T04:37:36.175812Z",
     "iopub.status.idle": "2022-03-02T04:37:36.186321Z",
     "shell.execute_reply": "2022-03-02T04:37:36.185288Z",
     "shell.execute_reply.started": "2022-03-02T04:37:36.176023Z"
    }
   },
   "outputs": [],
   "source": [
    "def objective(trial):\n",
    "    \n",
    "    n_estimators = trial.suggest_int('n_estimators', 0, 400)\n",
    "    max_features = trial.suggest_categorical('max_features', ['auto', 'sqrt', 'log2'])\n",
    "    max_depth = trial.suggest_int('max_depth', 1, 20)\n",
    "    min_samples_split = trial.suggest_categorical('min_samples_split', [2, 5, 10])\n",
    "    min_samples_leaf = trial.suggest_categorical('min_samples_leaf', [1, 2, 4])\n",
    "    bootstrap = trial.suggest_categorical('bootstrap', [True, False])\n",
    "\n",
    "    \n",
    "    rfr_random = RandomForestRegressor(random_state=RANDOM_SEED,\n",
    "                                       n_estimators=n_estimators,\n",
    "                                       max_features=max_features,\n",
    "                                       max_depth=max_depth,\n",
    "                                       min_samples_split=min_samples_split,\n",
    "                                       min_samples_leaf=min_samples_leaf,\n",
    "                                       bootstrap=bootstrap\n",
    "                                      )\n",
    "\n",
    "    rfr_random.fit(X_train, y_train)\n",
    "\n",
    "    return rfr_random.score(X_val, y_val)"
   ]
  },
  {
   "cell_type": "code",
   "execution_count": 202,
   "metadata": {
    "execution": {
     "iopub.execute_input": "2022-03-02T04:37:36.188134Z",
     "iopub.status.busy": "2022-03-02T04:37:36.187836Z",
     "iopub.status.idle": "2022-03-02T05:23:02.337190Z",
     "shell.execute_reply": "2022-03-02T05:23:02.335996Z",
     "shell.execute_reply.started": "2022-03-02T04:37:36.188088Z"
    }
   },
   "outputs": [],
   "source": [
    "study = optuna.create_study(direction=\"maximize\")\n",
    "study.optimize(objective, n_trials=100)"
   ]
  },
  {
   "cell_type": "code",
   "execution_count": 203,
   "metadata": {
    "execution": {
     "iopub.execute_input": "2022-03-02T05:23:02.339521Z",
     "iopub.status.busy": "2022-03-02T05:23:02.339186Z",
     "iopub.status.idle": "2022-03-02T05:23:02.344971Z",
     "shell.execute_reply": "2022-03-02T05:23:02.343979Z",
     "shell.execute_reply.started": "2022-03-02T05:23:02.339480Z"
    }
   },
   "outputs": [],
   "source": [
    "best_params_rf = study.best_params"
   ]
  },
  {
   "cell_type": "code",
   "execution_count": 205,
   "metadata": {
    "execution": {
     "iopub.execute_input": "2022-03-02T05:25:50.087772Z",
     "iopub.status.busy": "2022-03-02T05:25:50.087385Z",
     "iopub.status.idle": "2022-03-02T05:25:50.094421Z",
     "shell.execute_reply": "2022-03-02T05:25:50.093534Z",
     "shell.execute_reply.started": "2022-03-02T05:25:50.087733Z"
    }
   },
   "outputs": [],
   "source": [
    "best_params_rf"
   ]
  },
  {
   "cell_type": "markdown",
   "metadata": {},
   "source": [
    "{'n_estimators': 400,\n",
    " 'max_features': 'sqrt',\n",
    " 'max_depth': 19,\n",
    " 'min_samples_split': 10,\n",
    " 'min_samples_leaf': 1,\n",
    " 'bootstrap': False}"
   ]
  },
  {
   "cell_type": "code",
   "execution_count": 206,
   "metadata": {
    "execution": {
     "iopub.execute_input": "2022-03-02T05:26:01.233723Z",
     "iopub.status.busy": "2022-03-02T05:26:01.232888Z",
     "iopub.status.idle": "2022-03-02T05:26:36.508696Z",
     "shell.execute_reply": "2022-03-02T05:26:36.507737Z",
     "shell.execute_reply.started": "2022-03-02T05:26:01.233664Z"
    }
   },
   "outputs": [],
   "source": [
    "rf_optuna = RandomForestRegressor(random_state = RANDOM_SEED,**best_params_rf)\n",
    "rf_optuna.fit(X_train, y_train)\n",
    "y_predict = rf_optuna.predict(X_val)\n",
    "print(f\"Точность модели по метрике MAPE: {(mape(y_val, y_predict))*100:0.2f}%\")"
   ]
  },
  {
   "cell_type": "markdown",
   "metadata": {},
   "source": [
    "Точность модели по метрике MAPE: 1.67%"
   ]
  },
  {
   "cell_type": "code",
   "execution_count": 208,
   "metadata": {
    "execution": {
     "iopub.execute_input": "2022-03-02T05:31:21.977188Z",
     "iopub.status.busy": "2022-03-02T05:31:21.976191Z",
     "iopub.status.idle": "2022-03-02T05:31:21.983850Z",
     "shell.execute_reply": "2022-03-02T05:31:21.983256Z",
     "shell.execute_reply.started": "2022-03-02T05:31:21.977144Z"
    }
   },
   "outputs": [],
   "source": [
    "rf_optuna.get_params()"
   ]
  },
  {
   "cell_type": "markdown",
   "metadata": {},
   "source": [
    "Прошлый запуск Optuna дал лучший результат. MAPE = 1.56%"
   ]
  },
  {
   "cell_type": "code",
   "execution_count": 207,
   "metadata": {
    "execution": {
     "iopub.execute_input": "2022-03-02T05:29:15.499360Z",
     "iopub.status.busy": "2022-03-02T05:29:15.499052Z",
     "iopub.status.idle": "2022-03-02T05:30:27.971782Z",
     "shell.execute_reply": "2022-03-02T05:30:27.970678Z",
     "shell.execute_reply.started": "2022-03-02T05:29:15.499328Z"
    }
   },
   "outputs": [],
   "source": [
    "rf_optuna_old = RandomForestRegressor(random_state = RANDOM_SEED,\n",
    "                                      n_estimators=374,\n",
    "                                      max_features='auto',\n",
    "                                      max_depth=17,\n",
    "                                      min_samples_split=10,\n",
    "                                      min_samples_leaf=1,\n",
    "                                      bootstrap=True)\n",
    "rf_optuna_old.fit(X_train, y_train)\n",
    "y_predict = rf_optuna_old.predict(X_val)\n",
    "print(f\"Точность модели по метрике MAPE: {(mape(y_val, y_predict))*100:0.2f}%\")"
   ]
  },
  {
   "cell_type": "markdown",
   "metadata": {},
   "source": [
    "Точность модели по метрике MAPE: 1.56%, по лидерборду - 28,21%"
   ]
  },
  {
   "cell_type": "code",
   "execution_count": 209,
   "metadata": {
    "execution": {
     "iopub.execute_input": "2022-03-02T05:32:34.495173Z",
     "iopub.status.busy": "2022-03-02T05:32:34.494819Z",
     "iopub.status.idle": "2022-03-02T05:32:36.421393Z",
     "shell.execute_reply": "2022-03-02T05:32:36.420618Z",
     "shell.execute_reply.started": "2022-03-02T05:32:34.495126Z"
    }
   },
   "outputs": [],
   "source": [
    "y_predict_rf_opt_sub = rf_optuna_old.predict(X_test)"
   ]
  },
  {
   "cell_type": "markdown",
   "metadata": {},
   "source": [
    "# Модель 4: ExtraTreesRegressor"
   ]
  },
  {
   "cell_type": "code",
   "execution_count": 211,
   "metadata": {
    "execution": {
     "iopub.execute_input": "2022-03-02T05:38:28.473636Z",
     "iopub.status.busy": "2022-03-02T05:38:28.472705Z",
     "iopub.status.idle": "2022-03-02T05:38:33.755492Z",
     "shell.execute_reply": "2022-03-02T05:38:33.754625Z",
     "shell.execute_reply.started": "2022-03-02T05:38:28.473591Z"
    }
   },
   "outputs": [],
   "source": [
    "etr = ExtraTreesRegressor(random_state = RANDOM_SEED, n_jobs=-1)\n",
    "etr.fit(X_train, y_train)\n",
    "y_predict = etr.predict(X_val)\n",
    "print(f\"Точность модели по метрике MAPE: {(mape(y_val, y_predict))*100:0.2f}%\")"
   ]
  },
  {
   "cell_type": "markdown",
   "metadata": {},
   "source": [
    "Точность модели по метрике MAPE: 1.55%. по лидерборду - 28,59%"
   ]
  },
  {
   "cell_type": "code",
   "execution_count": 212,
   "metadata": {
    "execution": {
     "iopub.execute_input": "2022-03-02T05:38:54.343359Z",
     "iopub.status.busy": "2022-03-02T05:38:54.342644Z",
     "iopub.status.idle": "2022-03-02T05:38:54.352226Z",
     "shell.execute_reply": "2022-03-02T05:38:54.351228Z",
     "shell.execute_reply.started": "2022-03-02T05:38:54.343316Z"
    }
   },
   "outputs": [],
   "source": [
    "etr.get_params()"
   ]
  },
  {
   "cell_type": "code",
   "execution_count": 213,
   "metadata": {
    "execution": {
     "iopub.execute_input": "2022-03-02T05:38:56.903234Z",
     "iopub.status.busy": "2022-03-02T05:38:56.902158Z",
     "iopub.status.idle": "2022-03-02T05:38:57.215869Z",
     "shell.execute_reply": "2022-03-02T05:38:57.214961Z",
     "shell.execute_reply.started": "2022-03-02T05:38:56.903178Z"
    }
   },
   "outputs": [],
   "source": [
    "y_predict_etr_sub = etr.predict(X_test)"
   ]
  },
  {
   "cell_type": "markdown",
   "metadata": {},
   "source": [
    "## Подбор гиперпараметров"
   ]
  },
  {
   "cell_type": "code",
   "execution_count": 214,
   "metadata": {
    "execution": {
     "iopub.execute_input": "2022-03-02T05:39:09.000723Z",
     "iopub.status.busy": "2022-03-02T05:39:09.000276Z",
     "iopub.status.idle": "2022-03-02T05:56:32.669561Z",
     "shell.execute_reply": "2022-03-02T05:56:32.668565Z",
     "shell.execute_reply.started": "2022-03-02T05:39:09.000665Z"
    }
   },
   "outputs": [],
   "source": [
    "random_grid_etr = {'n_estimators': [int(x) for x in np.linspace(start=100, stop=400, num=10)],\n",
    "                   'max_features': ['auto', 'sqrt', 'log2'],\n",
    "                   'max_depth': [int(x) for x in np.linspace(5, 20, num=4)] + [None],\n",
    "                   'min_samples_split': [2, 5, 10],\n",
    "                   'min_samples_leaf': [1, 2, 4],\n",
    "                   'bootstrap': [True, False]}\n",
    "\n",
    "etrr = ExtraTreesRegressor(random_state = RANDOM_SEED, n_jobs=-1)\n",
    "etr_random = RandomizedSearchCV(estimator=etrr, param_distributions=random_grid_etr,\n",
    "                                n_iter=100, cv=3, verbose=10, random_state=RANDOM_SEED, n_jobs=-1)\n",
    "\n",
    "etr_random.fit(X_train, y_train)\n",
    "etr_random.best_params_"
   ]
  },
  {
   "cell_type": "markdown",
   "metadata": {},
   "source": [
    "{'n_estimators': 300,\n",
    " 'min_samples_split': 10,\n",
    " 'min_samples_leaf': 1,\n",
    " 'max_features': 'auto',\n",
    " 'max_depth': None,\n",
    " 'bootstrap': False}"
   ]
  },
  {
   "cell_type": "code",
   "execution_count": 215,
   "metadata": {
    "execution": {
     "iopub.execute_input": "2022-03-02T05:57:43.576112Z",
     "iopub.status.busy": "2022-03-02T05:57:43.575755Z",
     "iopub.status.idle": "2022-03-02T05:57:57.577803Z",
     "shell.execute_reply": "2022-03-02T05:57:57.576105Z",
     "shell.execute_reply.started": "2022-03-02T05:57:43.576081Z"
    }
   },
   "outputs": [],
   "source": [
    "etr_search = ExtraTreesRegressor(random_state = RANDOM_SEED, n_jobs=-1,\n",
    "                                 n_estimators=300,\n",
    "                                 min_samples_split=10,\n",
    "                                 min_samples_leaf=1,\n",
    "                                 max_features='auto',\n",
    "                                 max_depth=None,\n",
    "                                 bootstrap=False)\n",
    "etr_search.fit(X_train, y_train)\n",
    "y_predict = etr_search.predict(X_val)\n",
    "print(f\"Точность модели по метрике MAPE: {(mape(y_val, y_predict))*100:0.2f}%\")"
   ]
  },
  {
   "cell_type": "markdown",
   "metadata": {},
   "source": [
    "Точность модели по метрике MAPE: 1.58%, по лидерборду - 28,59%"
   ]
  },
  {
   "cell_type": "code",
   "execution_count": 216,
   "metadata": {
    "execution": {
     "iopub.execute_input": "2022-03-02T05:57:57.579568Z",
     "iopub.status.busy": "2022-03-02T05:57:57.579334Z",
     "iopub.status.idle": "2022-03-02T05:57:57.889284Z",
     "shell.execute_reply": "2022-03-02T05:57:57.888249Z",
     "shell.execute_reply.started": "2022-03-02T05:57:57.579539Z"
    }
   },
   "outputs": [],
   "source": [
    "y_predict_etr_search_sub = etr.predict(X_test)"
   ]
  },
  {
   "cell_type": "markdown",
   "metadata": {},
   "source": [
    "## Подбор гиперпараметров с помощью Optuna  "
   ]
  },
  {
   "cell_type": "code",
   "execution_count": 218,
   "metadata": {
    "execution": {
     "iopub.execute_input": "2022-03-02T06:02:50.316854Z",
     "iopub.status.busy": "2022-03-02T06:02:50.316520Z",
     "iopub.status.idle": "2022-03-02T06:02:50.329692Z",
     "shell.execute_reply": "2022-03-02T06:02:50.328002Z",
     "shell.execute_reply.started": "2022-03-02T06:02:50.316821Z"
    }
   },
   "outputs": [],
   "source": [
    "def objective_etr(trial):\n",
    "    \n",
    "    n_estimators = trial.suggest_int('n_estimators', 1, 400)\n",
    "    max_features = trial.suggest_categorical('max_features', ['auto', 'sqrt', 'log2'])\n",
    "    max_depth = trial.suggest_int('max_depth', 1, 20)\n",
    "    min_samples_split = trial.suggest_categorical('min_samples_split', [2, 5, 10])\n",
    "    min_samples_leaf = trial.suggest_categorical('min_samples_leaf', [1, 2, 4])\n",
    "    bootstrap = trial.suggest_categorical('bootstrap', [True, False])\n",
    "\n",
    "    \n",
    "    etr_random = ExtraTreesRegressor(random_state=RANDOM_SEED,\n",
    "                                     n_estimators=n_estimators,\n",
    "                                     max_features=max_features,\n",
    "                                     max_depth=max_depth,\n",
    "                                     min_samples_split=min_samples_split,\n",
    "                                     min_samples_leaf=min_samples_leaf,\n",
    "                                     bootstrap=bootstrap\n",
    "                                    )\n",
    "\n",
    "    etr_random.fit(X_train, y_train)\n",
    "\n",
    "    return etr_random.score(X_val, y_val)"
   ]
  },
  {
   "cell_type": "code",
   "execution_count": 219,
   "metadata": {
    "execution": {
     "iopub.execute_input": "2022-03-02T06:03:16.922980Z",
     "iopub.status.busy": "2022-03-02T06:03:16.922277Z",
     "iopub.status.idle": "2022-03-02T06:40:50.906612Z",
     "shell.execute_reply": "2022-03-02T06:40:50.905635Z",
     "shell.execute_reply.started": "2022-03-02T06:03:16.922944Z"
    }
   },
   "outputs": [],
   "source": [
    "study = optuna.create_study(direction=\"maximize\")\n",
    "study.optimize(objective_etr, n_trials=100)"
   ]
  },
  {
   "cell_type": "code",
   "execution_count": 220,
   "metadata": {
    "execution": {
     "iopub.execute_input": "2022-03-02T06:40:50.909227Z",
     "iopub.status.busy": "2022-03-02T06:40:50.908894Z",
     "iopub.status.idle": "2022-03-02T06:40:50.914520Z",
     "shell.execute_reply": "2022-03-02T06:40:50.913446Z",
     "shell.execute_reply.started": "2022-03-02T06:40:50.909190Z"
    }
   },
   "outputs": [],
   "source": [
    "best_params_etr = study.best_params"
   ]
  },
  {
   "cell_type": "code",
   "execution_count": 221,
   "metadata": {
    "execution": {
     "iopub.execute_input": "2022-03-02T06:40:50.916664Z",
     "iopub.status.busy": "2022-03-02T06:40:50.916320Z",
     "iopub.status.idle": "2022-03-02T06:40:50.933410Z",
     "shell.execute_reply": "2022-03-02T06:40:50.932450Z",
     "shell.execute_reply.started": "2022-03-02T06:40:50.916630Z"
    }
   },
   "outputs": [],
   "source": [
    "best_params_etr"
   ]
  },
  {
   "cell_type": "markdown",
   "metadata": {},
   "source": [
    "{'n_estimators': 263,\n",
    " 'max_features': 'auto',\n",
    " 'max_depth': 19,\n",
    " 'min_samples_split': 10,\n",
    " 'min_samples_leaf': 1,\n",
    " 'bootstrap': False}"
   ]
  },
  {
   "cell_type": "code",
   "execution_count": 222,
   "metadata": {
    "execution": {
     "iopub.execute_input": "2022-03-02T06:45:00.342777Z",
     "iopub.status.busy": "2022-03-02T06:45:00.342461Z",
     "iopub.status.idle": "2022-03-02T06:45:12.678234Z",
     "shell.execute_reply": "2022-03-02T06:45:12.677266Z",
     "shell.execute_reply.started": "2022-03-02T06:45:00.342746Z"
    }
   },
   "outputs": [],
   "source": [
    "etr_opt = ExtraTreesRegressor(random_state = RANDOM_SEED, n_jobs=-1, **best_params_etr)\n",
    "etr_opt.fit(X_train, y_train)\n",
    "y_predict = etr_opt.predict(X_val)\n",
    "print(f\"Точность модели по метрике MAPE: {(mape(y_val, y_predict))*100:0.2f}%\")"
   ]
  },
  {
   "cell_type": "markdown",
   "metadata": {},
   "source": [
    "Точность модели по метрике MAPE: 1.60%, по лидерборду - 28,21%"
   ]
  },
  {
   "cell_type": "code",
   "execution_count": 223,
   "metadata": {
    "execution": {
     "iopub.execute_input": "2022-03-02T06:45:12.680199Z",
     "iopub.status.busy": "2022-03-02T06:45:12.679952Z",
     "iopub.status.idle": "2022-03-02T06:45:13.404829Z",
     "shell.execute_reply": "2022-03-02T06:45:13.403760Z",
     "shell.execute_reply.started": "2022-03-02T06:45:12.680168Z"
    }
   },
   "outputs": [],
   "source": [
    "y_predict_etr_opt_sub = etr_opt.predict(X_test)"
   ]
  },
  {
   "cell_type": "markdown",
   "metadata": {},
   "source": [
    "# Модель 5: AdaBoostRegressor"
   ]
  },
  {
   "cell_type": "code",
   "execution_count": 228,
   "metadata": {
    "execution": {
     "iopub.execute_input": "2022-03-02T06:53:55.377242Z",
     "iopub.status.busy": "2022-03-02T06:53:55.376868Z",
     "iopub.status.idle": "2022-03-02T07:48:07.764160Z",
     "shell.execute_reply": "2022-03-02T07:48:07.763129Z",
     "shell.execute_reply.started": "2022-03-02T06:53:55.377207Z"
    }
   },
   "outputs": [],
   "source": [
    "adb = AdaBoostRegressor(random_state=RANDOM_SEED,\n",
    "                        base_estimator = RandomForestRegressor(random_state = RANDOM_SEED),\n",
    "                        n_estimators=200, learning_rate=0.5)\n",
    "adb.fit(X_train, y_train)\n",
    "y_predict = adb.predict(X_val)\n",
    "print(f\"Точность модели по метрике MAPE: {(mape(y_val, y_predict))*100:0.2f}%\")"
   ]
  },
  {
   "cell_type": "markdown",
   "metadata": {},
   "source": [
    "Точность модели по метрике MAPE: 2.52%, по лидерборду - 29,59%"
   ]
  },
  {
   "cell_type": "code",
   "execution_count": 229,
   "metadata": {
    "execution": {
     "iopub.execute_input": "2022-03-02T07:48:07.766450Z",
     "iopub.status.busy": "2022-03-02T07:48:07.766207Z",
     "iopub.status.idle": "2022-03-02T07:48:07.778233Z",
     "shell.execute_reply": "2022-03-02T07:48:07.777296Z",
     "shell.execute_reply.started": "2022-03-02T07:48:07.766421Z"
    }
   },
   "outputs": [],
   "source": [
    "adb.get_params()"
   ]
  },
  {
   "cell_type": "code",
   "execution_count": 230,
   "metadata": {
    "execution": {
     "iopub.execute_input": "2022-03-02T07:48:07.780088Z",
     "iopub.status.busy": "2022-03-02T07:48:07.779519Z",
     "iopub.status.idle": "2022-03-02T07:49:51.200387Z",
     "shell.execute_reply": "2022-03-02T07:49:51.199374Z",
     "shell.execute_reply.started": "2022-03-02T07:48:07.780040Z"
    }
   },
   "outputs": [],
   "source": [
    "y_predict_adb_sub = adb.predict(X_test)"
   ]
  },
  {
   "cell_type": "markdown",
   "metadata": {},
   "source": [
    "Подбор гиперпараметров производит сбой ноутбука в работе"
   ]
  },
  {
   "cell_type": "markdown",
   "metadata": {},
   "source": [
    "# Модель 6: GradientBoostingRegressor"
   ]
  },
  {
   "cell_type": "code",
   "execution_count": 193,
   "metadata": {
    "execution": {
     "iopub.execute_input": "2022-03-02T08:55:40.216514Z",
     "iopub.status.busy": "2022-03-02T08:55:40.216119Z",
     "iopub.status.idle": "2022-03-02T09:10:53.014892Z",
     "shell.execute_reply": "2022-03-02T09:10:53.014005Z",
     "shell.execute_reply.started": "2022-03-02T08:55:40.216480Z"
    }
   },
   "outputs": [],
   "source": [
    "gb = GradientBoostingRegressor(random_state=RANDOM_SEED, max_depth=20, n_estimators=2000)\n",
    "gb.fit(X_train, y_train)\n",
    "y_predict = gb.predict(X_val)\n",
    "print(f\"Точность модели по метрике MAPE: {(mape(y_val, y_predict))*100:0.2f}%\")"
   ]
  },
  {
   "cell_type": "markdown",
   "metadata": {},
   "source": [
    "Точность модели по метрике MAPE: 1.60%. по лидерборду - 29,89%"
   ]
  },
  {
   "cell_type": "code",
   "execution_count": 194,
   "metadata": {
    "execution": {
     "iopub.execute_input": "2022-03-02T09:14:19.607656Z",
     "iopub.status.busy": "2022-03-02T09:14:19.607267Z",
     "iopub.status.idle": "2022-03-02T09:14:19.616855Z",
     "shell.execute_reply": "2022-03-02T09:14:19.616192Z",
     "shell.execute_reply.started": "2022-03-02T09:14:19.607620Z"
    }
   },
   "outputs": [],
   "source": [
    "gb.get_params()"
   ]
  },
  {
   "cell_type": "code",
   "execution_count": 195,
   "metadata": {
    "execution": {
     "iopub.execute_input": "2022-03-02T09:14:23.637790Z",
     "iopub.status.busy": "2022-03-02T09:14:23.637113Z",
     "iopub.status.idle": "2022-03-02T09:14:31.344931Z",
     "shell.execute_reply": "2022-03-02T09:14:31.344138Z",
     "shell.execute_reply.started": "2022-03-02T09:14:23.637731Z"
    }
   },
   "outputs": [],
   "source": [
    "y_predict_gb_sub = gb.predict(X_test)"
   ]
  },
  {
   "cell_type": "markdown",
   "metadata": {},
   "source": [
    "# Подбор гиперпараметров"
   ]
  },
  {
   "cell_type": "code",
   "execution_count": 196,
   "metadata": {
    "execution": {
     "iopub.execute_input": "2022-03-02T09:15:28.580453Z",
     "iopub.status.busy": "2022-03-02T09:15:28.580055Z",
     "iopub.status.idle": "2022-03-02T10:20:55.766774Z",
     "shell.execute_reply": "2022-03-02T10:20:55.765666Z",
     "shell.execute_reply.started": "2022-03-02T09:15:28.580412Z"
    }
   },
   "outputs": [],
   "source": [
    "random_grid_gb = {'n_estimators': [int(x) for x in np.linspace(start=100, stop=400, num=10)],\n",
    "                  'max_features': ['auto', 'sqrt', 'log2'],\n",
    "                  'max_depth': [int(x) for x in np.linspace(5, 20, num=4)] + [None],\n",
    "                  'min_samples_split': [2, 5, 10],\n",
    "                  'min_samples_leaf': [1, 2, 4],\n",
    "                  'learning_rate': [x for x in np.linspace(0, 1, num=40)],\n",
    "                  'loss' : ['squared_error', 'absolute_error', 'quantile']}\n",
    "\n",
    "\n",
    "gbr = GradientBoostingRegressor(random_state = RANDOM_SEED)\n",
    "gbr_random = RandomizedSearchCV(estimator=gbr, param_distributions=random_grid_gb,\n",
    "                                n_iter=100, cv=3, verbose=10, random_state=RANDOM_SEED, n_jobs=-1)\n",
    "\n",
    "gbr_random.fit(X_train, y_train)\n",
    "gbr_random.best_params_"
   ]
  },
  {
   "cell_type": "code",
   "execution_count": 197,
   "metadata": {
    "execution": {
     "iopub.execute_input": "2022-03-02T10:36:54.251367Z",
     "iopub.status.busy": "2022-03-02T10:36:54.250270Z",
     "iopub.status.idle": "2022-03-02T10:47:44.836703Z",
     "shell.execute_reply": "2022-03-02T10:47:44.835735Z",
     "shell.execute_reply.started": "2022-03-02T10:36:54.251314Z"
    }
   },
   "outputs": [],
   "source": [
    "gb_search = GradientBoostingRegressor(random_state=RANDOM_SEED,\n",
    "                                      n_estimators=200,\n",
    "                                      min_samples_split=2,\n",
    "                                      min_samples_leaf=1,\n",
    "                                      max_features='sqrt',\n",
    "                                      max_depth=None,\n",
    "                                      loss='quantile',\n",
    "                                      learning_rate=0.07692307692307693)\n",
    "gb_search.fit(X_train, y_train)\n",
    "y_predict = gb_search.predict(X_val)\n",
    "print(f\"Точность модели по метрике MAPE: {(mape(y_val, y_predict))*100:0.2f}%\")"
   ]
  },
  {
   "cell_type": "markdown",
   "metadata": {},
   "source": [
    "Точность модели по метрике MAPE: 1.71%, по лидерборду - 28,62%"
   ]
  },
  {
   "cell_type": "code",
   "execution_count": 198,
   "metadata": {
    "execution": {
     "iopub.execute_input": "2022-03-02T10:47:44.838781Z",
     "iopub.status.busy": "2022-03-02T10:47:44.838504Z",
     "iopub.status.idle": "2022-03-02T10:47:44.846376Z",
     "shell.execute_reply": "2022-03-02T10:47:44.845454Z",
     "shell.execute_reply.started": "2022-03-02T10:47:44.838748Z"
    }
   },
   "outputs": [],
   "source": [
    "gb_search.get_params()"
   ]
  },
  {
   "cell_type": "code",
   "execution_count": 199,
   "metadata": {
    "execution": {
     "iopub.execute_input": "2022-03-02T10:47:44.848574Z",
     "iopub.status.busy": "2022-03-02T10:47:44.847845Z",
     "iopub.status.idle": "2022-03-02T10:47:46.368304Z",
     "shell.execute_reply": "2022-03-02T10:47:46.367283Z",
     "shell.execute_reply.started": "2022-03-02T10:47:44.848525Z"
    }
   },
   "outputs": [],
   "source": [
    "y_predict_gb_search_sub = gb_search.predict(X_test)"
   ]
  },
  {
   "cell_type": "markdown",
   "metadata": {},
   "source": [
    "## Подбор гиперпараметров с помощью Optuna  "
   ]
  },
  {
   "cell_type": "code",
   "execution_count": 205,
   "metadata": {
    "execution": {
     "iopub.execute_input": "2022-03-02T10:51:11.439688Z",
     "iopub.status.busy": "2022-03-02T10:51:11.439059Z",
     "iopub.status.idle": "2022-03-02T10:51:11.447875Z",
     "shell.execute_reply": "2022-03-02T10:51:11.447211Z",
     "shell.execute_reply.started": "2022-03-02T10:51:11.439638Z"
    }
   },
   "outputs": [],
   "source": [
    "def objective_gb(trial):\n",
    "    \n",
    "    n_estimators = trial.suggest_int('n_estimators', 1, 400)\n",
    "    learning_rate = trial.suggest_float('learning_rate', 0, 1)\n",
    "    max_features = trial.suggest_categorical('max_features', ['auto', 'sqrt', 'log2'])\n",
    "    max_depth = trial.suggest_int('max_depth', 1, 20)\n",
    "    min_samples_split = trial.suggest_categorical('min_samples_split', [2, 5, 10])\n",
    "    min_samples_leaf = trial.suggest_categorical('min_samples_leaf', [1, 2, 4])\n",
    "    \n",
    "    gb_opt = GradientBoostingRegressor(random_state=RANDOM_SEED,\n",
    "                                       n_estimators=n_estimators,\n",
    "                                       learning_rate=learning_rate,\n",
    "                                       max_features = max_features,\n",
    "                                       max_depth = max_depth,\n",
    "                                       min_samples_split = min_samples_split,\n",
    "                                       min_samples_leaf = min_samples_leaf\n",
    "                                      )\n",
    "\n",
    "    gb_opt.fit(X_train, y_train)\n",
    "\n",
    "    return gb_opt.score(X_val, y_val)"
   ]
  },
  {
   "cell_type": "code",
   "execution_count": 206,
   "metadata": {
    "execution": {
     "iopub.execute_input": "2022-03-02T10:51:12.532457Z",
     "iopub.status.busy": "2022-03-02T10:51:12.532127Z",
     "iopub.status.idle": "2022-03-02T11:36:30.261069Z",
     "shell.execute_reply": "2022-03-02T11:36:30.260031Z",
     "shell.execute_reply.started": "2022-03-02T10:51:12.532419Z"
    }
   },
   "outputs": [],
   "source": [
    "study = optuna.create_study(direction=\"maximize\")\n",
    "study.optimize(objective_gb, n_trials=100)"
   ]
  },
  {
   "cell_type": "code",
   "execution_count": 207,
   "metadata": {
    "execution": {
     "iopub.execute_input": "2022-03-02T11:37:20.728611Z",
     "iopub.status.busy": "2022-03-02T11:37:20.727722Z",
     "iopub.status.idle": "2022-03-02T11:37:20.735225Z",
     "shell.execute_reply": "2022-03-02T11:37:20.734433Z",
     "shell.execute_reply.started": "2022-03-02T11:37:20.728451Z"
    }
   },
   "outputs": [],
   "source": [
    "best_params_gb = study.best_params"
   ]
  },
  {
   "cell_type": "code",
   "execution_count": 208,
   "metadata": {
    "execution": {
     "iopub.execute_input": "2022-03-02T11:37:21.477850Z",
     "iopub.status.busy": "2022-03-02T11:37:21.477277Z",
     "iopub.status.idle": "2022-03-02T11:37:21.485498Z",
     "shell.execute_reply": "2022-03-02T11:37:21.484372Z",
     "shell.execute_reply.started": "2022-03-02T11:37:21.477788Z"
    }
   },
   "outputs": [],
   "source": [
    "best_params_gb"
   ]
  },
  {
   "cell_type": "markdown",
   "metadata": {},
   "source": [
    "{'n_estimators': 358,\n",
    " 'learning_rate': 0.018392465010847778,\n",
    " 'max_features': 'log2',\n",
    " 'max_depth': 13,\n",
    " 'min_samples_split': 2,\n",
    " 'min_samples_leaf': 4}"
   ]
  },
  {
   "cell_type": "code",
   "execution_count": 209,
   "metadata": {
    "execution": {
     "iopub.execute_input": "2022-03-02T11:37:33.294780Z",
     "iopub.status.busy": "2022-03-02T11:37:33.294472Z",
     "iopub.status.idle": "2022-03-02T11:38:01.601119Z",
     "shell.execute_reply": "2022-03-02T11:38:01.600060Z",
     "shell.execute_reply.started": "2022-03-02T11:37:33.294748Z"
    }
   },
   "outputs": [],
   "source": [
    "gb_opt = GradientBoostingRegressor(random_state=RANDOM_SEED,\n",
    "                                   **best_params_gb)\n",
    "gb_opt.fit(X_train, y_train)\n",
    "y_predict = gb_opt.predict(X_val)\n",
    "print(f\"Точность модели по метрике MAPE: {(mape(y_val, y_predict))*100:0.2f}%\")"
   ]
  },
  {
   "cell_type": "markdown",
   "metadata": {},
   "source": [
    "Точность модели по метрике MAPE: 1.66%, по лидерборду 27,94%"
   ]
  },
  {
   "cell_type": "code",
   "execution_count": 210,
   "metadata": {
    "execution": {
     "iopub.execute_input": "2022-03-02T11:38:01.602873Z",
     "iopub.status.busy": "2022-03-02T11:38:01.602623Z",
     "iopub.status.idle": "2022-03-02T11:38:02.841386Z",
     "shell.execute_reply": "2022-03-02T11:38:02.840373Z",
     "shell.execute_reply.started": "2022-03-02T11:38:01.602842Z"
    }
   },
   "outputs": [],
   "source": [
    "y_predict_gb_opt_sub = gb_opt.predict(X_test)"
   ]
  },
  {
   "cell_type": "markdown",
   "metadata": {},
   "source": [
    "# Модель 7: HistGradientBoostingRegressor"
   ]
  },
  {
   "cell_type": "markdown",
   "metadata": {},
   "source": [
    "В рамках Kaggle не удалось реализовать  \n",
    "По реализации в юпитере:  \n",
    "Точность модели по метрике MAPE: 2.10%"
   ]
  },
  {
   "cell_type": "code",
   "execution_count": null,
   "metadata": {},
   "outputs": [],
   "source": []
  },
  {
   "cell_type": "markdown",
   "metadata": {},
   "source": [
    "# Модель 8.1: StackingRegressor  \n",
    "RandomForestRegressor (базовый вариант)  \n",
    "RandomForestRegressor (optuna)  \n",
    "ExtraTreesRegressor (optuna)\n"
   ]
  },
  {
   "cell_type": "code",
   "execution_count": 190,
   "metadata": {
    "execution": {
     "iopub.execute_input": "2022-03-02T08:40:31.146575Z",
     "iopub.status.busy": "2022-03-02T08:40:31.146234Z",
     "iopub.status.idle": "2022-03-02T08:45:58.209600Z",
     "shell.execute_reply": "2022-03-02T08:45:58.205991Z",
     "shell.execute_reply.started": "2022-03-02T08:40:31.146537Z"
    }
   },
   "outputs": [],
   "source": [
    "estimators = (\n",
    "    ('rfr', RandomForestRegressor(random_state = RANDOM_SEED)),\n",
    "    ('rfr_opt', RandomForestRegressor(random_state = RANDOM_SEED,\n",
    "                                      n_estimators=374,\n",
    "                                      max_features='auto',\n",
    "                                      max_depth=17,\n",
    "                                      min_samples_split=10,\n",
    "                                      min_samples_leaf=1,\n",
    "                                      bootstrap=True)),\n",
    "    ('etr_opt', ExtraTreesRegressor(random_state=RANDOM_SEED, n_jobs=-1,\n",
    "                                    n_estimators=263,\n",
    "                                    max_features='auto',\n",
    "                                    max_depth=19,\n",
    "                                    min_samples_split=10,\n",
    "                                    min_samples_leaf=1,\n",
    "                                    bootstrap=False))\n",
    ")\n",
    "\n",
    "meta_model = LinearRegression()\n",
    "\n",
    "streg = StackingRegressor(estimators=estimators, final_estimator=meta_model,\n",
    "                          n_jobs=-1, cv=5)\n",
    "\n",
    "streg.fit(X_train,y_train)\n",
    "y_predict = streg.predict(X_val)\n",
    "\n",
    "print(f\"Точность модели по метрике MAPE: {(mape(y_val, y_predict))*100:0.2f}%\")"
   ]
  },
  {
   "cell_type": "markdown",
   "metadata": {},
   "source": [
    "Точность модели по метрике MAPE: 1.57%, по лидерборду - 27,87%"
   ]
  },
  {
   "cell_type": "code",
   "execution_count": 191,
   "metadata": {
    "execution": {
     "iopub.execute_input": "2022-03-02T08:47:23.251871Z",
     "iopub.status.busy": "2022-03-02T08:47:23.251474Z",
     "iopub.status.idle": "2022-03-02T08:47:26.530973Z",
     "shell.execute_reply": "2022-03-02T08:47:26.529795Z",
     "shell.execute_reply.started": "2022-03-02T08:47:23.251831Z"
    }
   },
   "outputs": [],
   "source": [
    "y_predict_streg_sub = streg.predict(X_test)"
   ]
  },
  {
   "cell_type": "markdown",
   "metadata": {},
   "source": [
    "# Модель 8.2.: StackingRegressor  \n",
    "RandomForestRegressor (базовый вариант)  \n",
    "RandomForestRegressor (optuna)  \n",
    "ExtraTreesRegressor (optuna)  \n",
    "GradientBoostingRegressor (optuna)"
   ]
  },
  {
   "cell_type": "code",
   "execution_count": 212,
   "metadata": {
    "execution": {
     "iopub.execute_input": "2022-03-02T11:47:50.060744Z",
     "iopub.status.busy": "2022-03-02T11:47:50.060384Z",
     "iopub.status.idle": "2022-03-02T11:54:23.629967Z",
     "shell.execute_reply": "2022-03-02T11:54:23.628945Z",
     "shell.execute_reply.started": "2022-03-02T11:47:50.060710Z"
    }
   },
   "outputs": [],
   "source": [
    "estimators = (\n",
    "    ('rfr', RandomForestRegressor(random_state = RANDOM_SEED)),\n",
    "    ('rfr_opt', RandomForestRegressor(random_state = RANDOM_SEED,\n",
    "                                      n_estimators=374,\n",
    "                                      max_features='auto',\n",
    "                                      max_depth=17,\n",
    "                                      min_samples_split=10,\n",
    "                                      min_samples_leaf=1,\n",
    "                                      bootstrap=True)),\n",
    "    ('etr_opt', ExtraTreesRegressor(random_state=RANDOM_SEED, n_jobs=-1,\n",
    "                                    n_estimators=263,\n",
    "                                    max_features='auto',\n",
    "                                    max_depth=19,\n",
    "                                    min_samples_split=10,\n",
    "                                    min_samples_leaf=1,\n",
    "                                    bootstrap=False)),\n",
    "    ('gb_opt', GradientBoostingRegressor(random_state=RANDOM_SEED,\n",
    "                                         n_estimators=358,\n",
    "                                         learning_rate=0.018392465010847778,\n",
    "                                         max_features='log2',\n",
    "                                         max_depth=13,\n",
    "                                         min_samples_split=2,\n",
    "                                         min_samples_leaf=4))\n",
    ")\n",
    "\n",
    "meta_model = LinearRegression()\n",
    "\n",
    "streg_reg = StackingRegressor(estimators=estimators, final_estimator=meta_model,\n",
    "                          n_jobs=-1, cv=5)\n",
    "\n",
    "streg_reg.fit(X_train,y_train)\n",
    "y_predict = streg_reg.predict(X_val)\n",
    "\n",
    "print(f\"Точность модели по метрике MAPE: {(mape(y_val, y_predict))*100:0.2f}%\")"
   ]
  },
  {
   "cell_type": "markdown",
   "metadata": {},
   "source": [
    "Точность модели по метрике MAPE: 1.61%, по лидерборду - 27,94%"
   ]
  },
  {
   "cell_type": "code",
   "execution_count": 213,
   "metadata": {
    "execution": {
     "iopub.execute_input": "2022-03-02T11:54:23.633242Z",
     "iopub.status.busy": "2022-03-02T11:54:23.632686Z",
     "iopub.status.idle": "2022-03-02T11:54:28.131398Z",
     "shell.execute_reply": "2022-03-02T11:54:28.130220Z",
     "shell.execute_reply.started": "2022-03-02T11:54:23.633196Z"
    }
   },
   "outputs": [],
   "source": [
    "y_predict_streg_reg_sub = streg_reg.predict(X_test)"
   ]
  },
  {
   "cell_type": "markdown",
   "metadata": {},
   "source": [
    "# Модель 8.3: StackingRegressor  \n",
    "RandomForestRegressor (базовый вариант)  \n",
    "GradientBoostingRegressor (optuna)"
   ]
  },
  {
   "cell_type": "code",
   "execution_count": 215,
   "metadata": {
    "execution": {
     "iopub.execute_input": "2022-03-02T12:00:00.669487Z",
     "iopub.status.busy": "2022-03-02T12:00:00.669094Z",
     "iopub.status.idle": "2022-03-02T12:02:12.264377Z",
     "shell.execute_reply": "2022-03-02T12:02:12.262976Z",
     "shell.execute_reply.started": "2022-03-02T12:00:00.669449Z"
    }
   },
   "outputs": [],
   "source": [
    "estimators = (\n",
    "    ('rfr', RandomForestRegressor(random_state = RANDOM_SEED)),\n",
    "    ('gb_opt', GradientBoostingRegressor(random_state=RANDOM_SEED,\n",
    "                                         n_estimators=358,\n",
    "                                         learning_rate=0.018392465010847778,\n",
    "                                         max_features='log2',\n",
    "                                         max_depth=13,\n",
    "                                         min_samples_split=2,\n",
    "                                         min_samples_leaf=4))\n",
    ")\n",
    "\n",
    "meta_model = LinearRegression()\n",
    "\n",
    "streg_rg = StackingRegressor(estimators=estimators, final_estimator=meta_model,\n",
    "                          n_jobs=-1, cv=5)\n",
    "\n",
    "streg_rg.fit(X_train,y_train)\n",
    "y_predict = streg_rg.predict(X_val)\n",
    "\n",
    "print(f\"Точность модели по метрике MAPE: {(mape(y_val, y_predict))*100:0.2f}%\")"
   ]
  },
  {
   "cell_type": "markdown",
   "metadata": {},
   "source": [
    "Точность модели по метрике MAPE: 1.63%"
   ]
  },
  {
   "cell_type": "code",
   "execution_count": 213,
   "metadata": {
    "execution": {
     "iopub.execute_input": "2022-03-02T11:54:23.633242Z",
     "iopub.status.busy": "2022-03-02T11:54:23.632686Z",
     "iopub.status.idle": "2022-03-02T11:54:28.131398Z",
     "shell.execute_reply": "2022-03-02T11:54:28.130220Z",
     "shell.execute_reply.started": "2022-03-02T11:54:23.633196Z"
    }
   },
   "outputs": [],
   "source": [
    "y_predict_streg_rg_sub = streg_rg.predict(X_test)"
   ]
  },
  {
   "cell_type": "markdown",
   "metadata": {
    "papermill": {
     "duration": 0.085876,
     "end_time": "2020-10-26T12:48:12.734207",
     "exception": false,
     "start_time": "2020-10-26T12:48:12.648331",
     "status": "completed"
    },
    "tags": []
   },
   "source": [
    "# Submission"
   ]
  },
  {
   "cell_type": "markdown",
   "metadata": {},
   "source": [
    "Лучшими моделями согласно MAPE стали модели:  \n",
    "**RandomForestRegressor (базовый вариант)** 1,57% / ЛДБ - 27,93%  \n",
    "**RandomForestRegressor (с перебором гиперпараметров с помощью optuna)** 1,56% / ЛДБ - 28,21%  \n",
    "**ExtraTreesRegressor (с перебором гиперпараметров с помощью optuna)** 1,60% / ЛДБ - 28,21%  \n",
    "**GradientBoostingRegressor (с перебором гиперпараметров с помощью optuna)** 1,66% / ЛДБ - 27,94%  \n",
    "\n",
    "**Стэккинг** этих моделей в разных сочетаниях позволил выделить лучшую модель:  \n",
    "  \n",
    "RandomForestRegressor (базовый вариант)  \n",
    "RandomForestRegressor (optuna)  \n",
    "ExtraTreesRegressor (optuna)  \n",
    "\n",
    "где мета - моделью была Линейная регрессия\n",
    "\n",
    "В итоге MAPE = 1,57 / ЛДБ - 27,87%\n"
   ]
  },
  {
   "cell_type": "code",
   "execution_count": 214,
   "metadata": {
    "execution": {
     "iopub.execute_input": "2022-03-02T11:55:34.636197Z",
     "iopub.status.busy": "2022-03-02T11:55:34.635806Z",
     "iopub.status.idle": "2022-03-02T11:55:34.756539Z",
     "shell.execute_reply": "2022-03-02T11:55:34.755574Z",
     "shell.execute_reply.started": "2022-03-02T11:55:34.636146Z"
    },
    "papermill": {
     "duration": 0.628302,
     "end_time": "2020-10-26T12:48:13.763488",
     "exception": false,
     "start_time": "2020-10-26T12:48:13.135186",
     "status": "completed"
    },
    "tags": []
   },
   "outputs": [],
   "source": [
    "sample_submission['price'] = np.round(np.exp(y_predict_streg_sub),0)\n",
    "sample_submission.to_csv(f'submission_2_v{VERSION}.csv', index=False)\n",
    "sample_submission.head(10)"
   ]
  },
  {
   "cell_type": "markdown",
   "metadata": {
    "execution": {
     "iopub.execute_input": "2022-03-02T14:48:05.434792Z",
     "iopub.status.busy": "2022-03-02T14:48:05.433313Z",
     "iopub.status.idle": "2022-03-02T14:48:05.465498Z",
     "shell.execute_reply": "2022-03-02T14:48:05.463260Z",
     "shell.execute_reply.started": "2022-03-02T14:48:05.434646Z"
    },
    "papermill": {
     "duration": 0.082055,
     "end_time": "2020-10-26T12:48:14.270602",
     "exception": false,
     "start_time": "2020-10-26T12:48:14.188547",
     "status": "completed"
    },
    "tags": []
   },
   "source": [
    "## Анализ результатов моделирования"
   ]
  },
  {
   "cell_type": "markdown",
   "metadata": {},
   "source": [
    "* #### Разница между статистикой на валидации и на тесте возможно является причиной переобучения  \n",
    "* #### Одной из лучших моделей является Случайный лес с параметрами по умолчанию, что возможно объясняется некачественными данными.  \n",
    "* #### Последнее показывает необходимость дополнительных итераций по EDA и ML"
   ]
  },
  {
   "cell_type": "markdown",
   "metadata": {},
   "source": [
    "## Проблемы при выполнении проекта"
   ]
  },
  {
   "cell_type": "markdown",
   "metadata": {},
   "source": [
    "* #### Длительный парсинг (написанный код с помощью selenium затрачивал много времени на функцию get).\n",
    "* #### В результате парсинга за 3 суток было прочитано лишь 9000 ссылок  \n",
    "* #### Реализация парсинга в GoogleColab вызыавла ошибки при чтении XPath  \n",
    "* #### Затраты времени на выполнение операций по подбору гиперпараметров"
   ]
  },
  {
   "cell_type": "markdown",
   "metadata": {
    "papermill": {
     "duration": 0.08168,
     "end_time": "2020-10-26T12:48:14.435554",
     "exception": false,
     "start_time": "2020-10-26T12:48:14.353874",
     "status": "completed"
    },
    "tags": []
   },
   "source": [
    "## Точки роста"
   ]
  },
  {
   "cell_type": "markdown",
   "metadata": {
    "papermill": {
     "duration": 0.080788,
     "end_time": "2020-10-26T12:48:14.596978",
     "exception": false,
     "start_time": "2020-10-26T12:48:14.51619",
     "status": "completed"
    },
    "tags": []
   },
   "source": [
    "* #### Определение границ гиперпараметров при реализации SearchCV  \n",
    "* #### Обработка текстовых признаков. Возможно это не поможет на данной выборке без дополнительного парсинга, так как много пропусков по текстовым данным.  \n",
    "* #### Более эффективный Feature Engineering (формирование групп внутри определенных признаков, таких как модели, бренды и т.д.)  \n",
    "* #### Эффективная по времени реализация парсинга  \n",
    "* #### Валидация"
   ]
  },
  {
   "cell_type": "code",
   "execution_count": null,
   "metadata": {},
   "outputs": [],
   "source": []
  }
 ],
 "metadata": {
  "kernelspec": {
   "display_name": "Python 3",
   "language": "python",
   "name": "python3"
  },
  "language_info": {
   "codemirror_mode": {
    "name": "ipython",
    "version": 3
   },
   "file_extension": ".py",
   "mimetype": "text/x-python",
   "name": "python",
   "nbconvert_exporter": "python",
   "pygments_lexer": "ipython3",
   "version": "3.8.8"
  }
 },
 "nbformat": 4,
 "nbformat_minor": 4
}
