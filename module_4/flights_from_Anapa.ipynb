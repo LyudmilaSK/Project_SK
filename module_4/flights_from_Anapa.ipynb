{
 "cells": [
  {
   "cell_type": "code",
   "execution_count": 1,
   "id": "0ee7b9d7",
   "metadata": {},
   "outputs": [],
   "source": [
    "import pandas as pd\n",
    "import numpy as np\n",
    "import matplotlib.pyplot as plt\n",
    "import matplotlib.dates as mdates\n",
    "import seaborn as sns\n",
    "import datetime\n",
    "from datetime import datetime\n",
    "import matplotlib.ticker as mticker\n",
    "import textwrap as tw"
   ]
  },
  {
   "cell_type": "code",
   "execution_count": 2,
   "id": "8e1b4d89",
   "metadata": {},
   "outputs": [],
   "source": [
    "df = pd.read_csv('anapa2017.csv')"
   ]
  },
  {
   "cell_type": "markdown",
   "id": "56a713fe",
   "metadata": {},
   "source": [
    "### Функция определения цена на топлива для каждого рейса"
   ]
  },
  {
   "cell_type": "code",
   "execution_count": 3,
   "id": "2c4862c7",
   "metadata": {},
   "outputs": [],
   "source": [
    "def fuel_price(month):\n",
    "    if month == 1:\n",
    "        return 41435  # по данным росавиации, единица измерения - рубль\n",
    "    if month == 2:\n",
    "        return 39553  # по данным росавиации, единица измерения - рубль\n",
    "    else:\n",
    "        return 47101  # по данным росавиации, единица измерения - рубль"
   ]
  },
  {
   "cell_type": "markdown",
   "id": "4fb37938",
   "metadata": {},
   "source": [
    "### Функция расчёта расхода топлива за один рейс"
   ]
  },
  {
   "cell_type": "code",
   "execution_count": 4,
   "id": "77cc86d5",
   "metadata": {},
   "outputs": [],
   "source": [
    "def fuel_consumption(model, time_flight):\n",
    "    consumption_737 = 2.6  # единица измерения - тонн/час\n",
    "    consumption_100 = 1.8  # единица измерения - тонн/час\n",
    "    if model == 'Boeing 737-300':\n",
    "        consumption = consumption_737 * time_flight\n",
    "    else:\n",
    "        consumption = consumption_100 * time_flight\n",
    "    return consumption"
   ]
  },
  {
   "cell_type": "markdown",
   "id": "cbd69f55",
   "metadata": {},
   "source": [
    "### Функция графического отображения выбросов"
   ]
  },
  {
   "cell_type": "code",
   "execution_count": 5,
   "id": "d876a1e3",
   "metadata": {},
   "outputs": [],
   "source": [
    "def graph_out(kind):\n",
    "    fig = plt.figure(figsize=[10, 50])\n",
    "    count = 1\n",
    "    for each in df.select_dtypes(kind).columns:\n",
    "        ax = fig.add_subplot(15, 2, count)\n",
    "        plt.title(each)\n",
    "\n",
    "        perc25 = df[each].quantile(0.25)\n",
    "        perc75 = df[each].quantile(0.75)\n",
    "        IQR = perc75 - perc25\n",
    "\n",
    "        df[each].loc[df[each].between(\n",
    "            perc25 - 1.5*IQR, perc75 + 1.5*IQR)].hist(label='IQR')\n",
    "        df[each].loc[(df[each] < perc25 - 1.5*IQR) |\n",
    "                     (df[each] > perc75 + 1.5*IQR)].hist(label='выбросы')\n",
    "\n",
    "        count += 1\n",
    "\n",
    "        plt.legend()"
   ]
  },
  {
   "cell_type": "markdown",
   "id": "74607fae",
   "metadata": {},
   "source": [
    "### Функция построения круговой диаграммы"
   ]
  },
  {
   "cell_type": "code",
   "execution_count": 6,
   "id": "9f6ee4aa",
   "metadata": {},
   "outputs": [],
   "source": [
    "def grath_ring(df):\n",
    "\n",
    "    for column in df.columns[0:2]:\n",
    "        plt.title(column, fontsize=14)\n",
    "\n",
    "        size = df[column]\n",
    "        names = ['Belgorod', 'Moscow']\n",
    "        tone = ['lightskyblue', 'dodgerblue']\n",
    "        textprops = dict(size=14)\n",
    "\n",
    "        my_circle = plt.Circle((0, 0), 0.4, color='white')\n",
    "\n",
    "        plt.pie(size,\n",
    "                labels=names,\n",
    "                labeldistance=1.1,\n",
    "                wedgeprops={'linewidth': 7, 'edgecolor': 'white'},\n",
    "                colors=tone,\n",
    "                autopct='%.f%%',\n",
    "                pctdistance=0.7,\n",
    "                textprops=textprops)\n",
    "\n",
    "        p = plt.gcf()\n",
    "        p.gca().add_artist(my_circle)\n",
    "\n",
    "        p.savefig(fname=column, bbox_inches='tight')\n",
    "        plt.show()"
   ]
  },
  {
   "cell_type": "markdown",
   "id": "4e1973b9",
   "metadata": {},
   "source": [
    "### Функции построения столбчатых диаграмм"
   ]
  },
  {
   "cell_type": "code",
   "execution_count": 7,
   "id": "6f1a98f9",
   "metadata": {},
   "outputs": [],
   "source": [
    "def grath_aircraft(df):\n",
    "    fig = plt.figure()\n",
    "    axes = fig.add_axes([0, 0, 1, 1])\n",
    "\n",
    "    axes.bar(x=df.index, height=df.Belgorod,\n",
    "             width=-0.3, align='edge', label='Белгород', color='skyblue')\n",
    "    axes.bar(x=df.index, height=df.Moscow,\n",
    "             width=0.3, align='edge', label='Москва', color='dodgerblue')\n",
    "\n",
    "    axes.legend(loc=9, fontsize=14)\n",
    "\n",
    "    axes.xaxis.set_major_locator(mticker.FixedLocator([0, 1, 2]))\n",
    "    axes.set_xticklabels([\"\\n\".join(tw.wrap('Общее количество мест', 17)),\n",
    "                          \"\\n\".join(tw.wrap('Количество мест бизнес-класса', 17)),\n",
    "                          \"\\n\".join(tw.wrap('Количество мест эконом-класса', 17))],\n",
    "                         fontsize=12)\n",
    "\n",
    "    rects = axes.patches\n",
    "    labels = []\n",
    "\n",
    "    for j in range(df.shape[1]):\n",
    "        for i in range(df.shape[0]):\n",
    "            labels.append(df.values[i][j])\n",
    "\n",
    "    for rect, label in zip(rects, labels):\n",
    "        height = rect.get_height()\n",
    "        axes.text(rect.get_x() + rect.get_width() / 2, height + 1, label,\n",
    "                  ha='center', va='bottom', fontsize=12)\n",
    "\n",
    "    plt.yticks([])\n",
    "    plt.box(on=None)\n",
    "    fig.savefig('grath_aircraft.png', bbox_inches='tight')"
   ]
  },
  {
   "cell_type": "code",
   "execution_count": 8,
   "id": "a8c15175",
   "metadata": {},
   "outputs": [],
   "source": [
    "def grath_passengers(df):\n",
    "    fig = plt.figure()\n",
    "    axes = fig.add_axes([0, 0, 1, 1])\n",
    "    axes.bar(x=df.index, height=df.Belgorod,\n",
    "             width=-0.3, align='edge', label='Белгород', color='skyblue')\n",
    "    axes.bar(x=df.index, height=df.Moscow,\n",
    "             width=0.3, align='edge', label='Москва', color='dodgerblue')\n",
    "\n",
    "    axes.legend(loc=2, fontsize=14)\n",
    "\n",
    "    axes.xaxis.set_major_locator(mticker.FixedLocator([0, 1, 2]))\n",
    "    axes.set_xticklabels([\"\\n\".join(tw.wrap('Количество пассажиров бизнесс-класса', 17)),\n",
    "                          \"\\n\".join(tw.wrap('Общее количество пассажиров', 17)),\n",
    "                          \"\\n\".join(tw.wrap('Количество пассажиров эконом-класса', 17))],\n",
    "                         fontsize=12)\n",
    "\n",
    "    rects = axes.patches\n",
    "    labels = []\n",
    "    for j in range(df.shape[1]):\n",
    "        for i in range(df.shape[0]):\n",
    "            labels.append(df.values[i][j])\n",
    "\n",
    "    for rect, label in zip(rects, labels):\n",
    "        height = rect.get_height()\n",
    "        axes.text(rect.get_x() + rect.get_width() / 2, height + 1, label,\n",
    "                  ha='center', va='bottom', fontsize=12)\n",
    "\n",
    "    plt.yticks([])\n",
    "    plt.box(on=None)\n",
    "    fig.savefig('passengers_grath.png', bbox_inches='tight')"
   ]
  },
  {
   "cell_type": "code",
   "execution_count": 9,
   "id": "6d56232f",
   "metadata": {},
   "outputs": [],
   "source": [
    "def grath_money(df):\n",
    "    fig = plt.figure()\n",
    "    axes = fig.add_axes([0, 0, 1, 1])\n",
    "\n",
    "    axes.bar(x=df.index, height=df.Belgorod,\n",
    "             width=-0.3, align='edge', label='Белгород', color='skyblue')\n",
    "    axes.bar(x=df.index, height=df.Moscow,\n",
    "             width=0.3, align='edge', label='Москва', color='dodgerblue')\n",
    "\n",
    "    axes.legend(loc=2, fontsize=14)\n",
    "\n",
    "    axes.xaxis.set_major_locator(mticker.FixedLocator([0, 1, 2]))\n",
    "    axes.set_xticklabels([\"\\n\".join(tw.wrap('Затраты на топливо, млн.руб.', 17)),\n",
    "                          \"\\n\".join(tw.wrap('Прибыль, млн.руб.', 17)),\n",
    "                          \"\\n\".join(tw.wrap('Доход от продажи билетов, млн.руб.', 17))],\n",
    "                         fontsize=12)\n",
    "\n",
    "    rects = axes.patches\n",
    "    labels = []\n",
    "    for j in range(df.shape[1]):\n",
    "        for i in range(df.shape[0]):\n",
    "            labels.append(round(df.values[i][j]/1000000, 2))\n",
    "\n",
    "    for rect, label in zip(rects, labels):\n",
    "        height = rect.get_height()\n",
    "        axes.text(rect.get_x() + rect.get_width() / 2, height + 1, label,\n",
    "                  ha='center', va='bottom', fontsize=12)\n",
    "\n",
    "    plt.yticks([])\n",
    "    plt.box(on=None)\n",
    "    fig.savefig('grath_money.png', bbox_inches='tight')"
   ]
  },
  {
   "cell_type": "code",
   "execution_count": 10,
   "id": "cdb6a875",
   "metadata": {},
   "outputs": [],
   "source": [
    "def money_intime(df1, df2):\n",
    "    fig = plt.figure(figsize=[20, 5])\n",
    "    axes = fig.add_axes([0, 0, 1, 1])\n",
    "    axes.bar(df1.scheduled_departure,\n",
    "             df1.profit/1000000,\n",
    "             label='Москва',\n",
    "             color='dodgerblue')\n",
    "    axes.bar(df2.scheduled_departure,\n",
    "             df2.profit/1000000,\n",
    "             label='Белгород',\n",
    "             color='skyblue')\n",
    "\n",
    "    axes.legend(fontsize=16)\n",
    "    plt.tick_params(axis='both', which='major', labelsize=16)\n",
    "\n",
    "    axes.xaxis.set_major_formatter(mdates.DateFormatter('%d.%m'))\n",
    "    dateLocator = mticker.MultipleLocator(1)\n",
    "    axes.xaxis.set_major_locator(dateLocator)\n",
    "    fig.autofmt_xdate(rotation=90, ha='center')\n",
    "\n",
    "    plt.grid(True, axis='both')\n",
    "    plt.box(on=None)\n",
    "    plt.show()\n",
    "    fig.savefig('money_intime.png', bbox_inches='tight')"
   ]
  },
  {
   "cell_type": "markdown",
   "id": "0bdf0cde",
   "metadata": {},
   "source": [
    "### Анализ"
   ]
  },
  {
   "cell_type": "code",
   "execution_count": 11,
   "id": "0911d24c",
   "metadata": {},
   "outputs": [
    {
     "name": "stdout",
     "output_type": "stream",
     "text": [
      "<class 'pandas.core.frame.DataFrame'>\n",
      "RangeIndex: 118 entries, 0 to 117\n",
      "Data columns (total 25 columns):\n",
      " #   Column               Non-Null Count  Dtype  \n",
      "---  ------               --------------  -----  \n",
      " 0   flight_id            118 non-null    int64  \n",
      " 1   flight_no            118 non-null    object \n",
      " 2   scheduled_departure  118 non-null    object \n",
      " 3   scheduled_arrival    118 non-null    object \n",
      " 4   departure_airport    118 non-null    object \n",
      " 5   city_out             118 non-null    object \n",
      " 6   longitude_out        118 non-null    float64\n",
      " 7   latitude_out         118 non-null    float64\n",
      " 8   arrival_airport      118 non-null    object \n",
      " 9   city_in              118 non-null    object \n",
      " 10  longitude_in         118 non-null    float64\n",
      " 11  latitude_in          118 non-null    float64\n",
      " 12  status               118 non-null    object \n",
      " 13  aircraft_code        118 non-null    object \n",
      " 14  model                118 non-null    object \n",
      " 15  count_seat           118 non-null    int64  \n",
      " 16  seat_economy         118 non-null    int64  \n",
      " 17  seat_business        118 non-null    int64  \n",
      " 18  actual_departure     118 non-null    object \n",
      " 19  actual_arrival       118 non-null    object \n",
      " 20  time_flight          118 non-null    float64\n",
      " 21  total_amount         118 non-null    float64\n",
      " 22  count_pass           118 non-null    int64  \n",
      " 23  economy_pass         118 non-null    int64  \n",
      " 24  business_pass        118 non-null    int64  \n",
      "dtypes: float64(6), int64(7), object(12)\n",
      "memory usage: 23.2+ KB\n"
     ]
    }
   ],
   "source": [
    "df.info()"
   ]
  },
  {
   "cell_type": "markdown",
   "id": "c4a0ece3",
   "metadata": {},
   "source": [
    "Нет пустых строк"
   ]
  },
  {
   "cell_type": "markdown",
   "id": "03093f09",
   "metadata": {},
   "source": [
    "### Смена формата переменных"
   ]
  },
  {
   "cell_type": "code",
   "execution_count": 12,
   "id": "4f69e5e4",
   "metadata": {},
   "outputs": [],
   "source": [
    "df.scheduled_departure = pd.to_datetime(df.scheduled_departure)\n",
    "df.scheduled_arrival = pd.to_datetime(df.scheduled_arrival)\n",
    "df.actual_departure = pd.to_datetime(df.actual_departure)\n",
    "df.actual_arrival = pd.to_datetime(df.actual_arrival)"
   ]
  },
  {
   "cell_type": "markdown",
   "id": "dc10b328",
   "metadata": {},
   "source": [
    "### Создание новых переменных"
   ]
  },
  {
   "cell_type": "markdown",
   "id": "8d2af616",
   "metadata": {},
   "source": [
    "#### Месяц полёта"
   ]
  },
  {
   "cell_type": "code",
   "execution_count": 13,
   "id": "d9b2bbc3",
   "metadata": {},
   "outputs": [],
   "source": [
    "df['month'] = df.actual_departure.apply(lambda x: x.month)"
   ]
  },
  {
   "cell_type": "markdown",
   "id": "6290a5a5",
   "metadata": {},
   "source": [
    "#### День недели полёта полёта"
   ]
  },
  {
   "cell_type": "code",
   "execution_count": 14,
   "id": "54fd86be",
   "metadata": {},
   "outputs": [],
   "source": [
    "df['dayofweek'] = df.scheduled_departure.dt.dayofweek"
   ]
  },
  {
   "cell_type": "markdown",
   "id": "3255bd64",
   "metadata": {},
   "source": [
    "#### Цена на топливо"
   ]
  },
  {
   "cell_type": "code",
   "execution_count": 15,
   "id": "0c0e4b30",
   "metadata": {},
   "outputs": [],
   "source": [
    "df['fuel_price'] = df.month.apply(lambda x: fuel_price(x))"
   ]
  },
  {
   "cell_type": "markdown",
   "id": "8c1b02c4",
   "metadata": {},
   "source": [
    "#### Расход топлива за полёт, т"
   ]
  },
  {
   "cell_type": "code",
   "execution_count": 16,
   "id": "8eef2eea",
   "metadata": {},
   "outputs": [],
   "source": [
    "df['fuel_consumption'] = round(df.apply(lambda x: fuel_consumption(x.model, x.time_flight), axis=1),2)"
   ]
  },
  {
   "cell_type": "markdown",
   "id": "b123de4c",
   "metadata": {},
   "source": [
    "#### Расходы на топливо"
   ]
  },
  {
   "cell_type": "code",
   "execution_count": 17,
   "id": "7a2eaa2d",
   "metadata": {},
   "outputs": [],
   "source": [
    "df['fuel_costs'] = round(df.fuel_price*df.fuel_consumption, 2)"
   ]
  },
  {
   "cell_type": "markdown",
   "id": "848dbfb6",
   "metadata": {},
   "source": [
    "#### Разница между расходами на топливо и выручкой от продажи билетов"
   ]
  },
  {
   "cell_type": "code",
   "execution_count": 18,
   "id": "bb3890d9",
   "metadata": {},
   "outputs": [],
   "source": [
    "df['profit'] = round(df.total_amount - df.fuel_costs, 2)"
   ]
  },
  {
   "cell_type": "markdown",
   "id": "6655e464",
   "metadata": {},
   "source": [
    "#### Наполняемость салона (%)"
   ]
  },
  {
   "cell_type": "code",
   "execution_count": 19,
   "id": "dc3eda82",
   "metadata": {},
   "outputs": [],
   "source": [
    "df['occupancy'] = round(df.count_pass/df.count_seat, 2)"
   ]
  },
  {
   "cell_type": "markdown",
   "id": "8672b980",
   "metadata": {},
   "source": [
    "#### Процент занятия мест эконом-класса (%)"
   ]
  },
  {
   "cell_type": "code",
   "execution_count": 20,
   "id": "14923210",
   "metadata": {},
   "outputs": [],
   "source": [
    "df['occupancy_class_e'] = round(df.economy_pass/df.seat_economy, 2)"
   ]
  },
  {
   "cell_type": "markdown",
   "id": "eba05d7c",
   "metadata": {},
   "source": [
    "#### Процент занятия мест бизнесс-класса (%)"
   ]
  },
  {
   "cell_type": "code",
   "execution_count": 21,
   "id": "865ef2e3",
   "metadata": {},
   "outputs": [],
   "source": [
    "df['occupancy_class_b'] = round(df.business_pass/df.seat_business, 2)"
   ]
  },
  {
   "cell_type": "markdown",
   "id": "5c12e7f5",
   "metadata": {},
   "source": [
    "#### Условная окупаемость\n",
    "Доля выручки от продажи билетов в затратах на топливо"
   ]
  },
  {
   "cell_type": "code",
   "execution_count": 22,
   "id": "860bb68b",
   "metadata": {},
   "outputs": [],
   "source": [
    "df['payback'] = round(df.profit/df.fuel_costs, 2)"
   ]
  },
  {
   "cell_type": "code",
   "execution_count": 23,
   "id": "c0f9155b",
   "metadata": {},
   "outputs": [
    {
     "name": "stdout",
     "output_type": "stream",
     "text": [
      "<class 'pandas.core.frame.DataFrame'>\n",
      "RangeIndex: 118 entries, 0 to 117\n",
      "Data columns (total 35 columns):\n",
      " #   Column               Non-Null Count  Dtype              \n",
      "---  ------               --------------  -----              \n",
      " 0   flight_id            118 non-null    int64              \n",
      " 1   flight_no            118 non-null    object             \n",
      " 2   scheduled_departure  118 non-null    datetime64[ns, UTC]\n",
      " 3   scheduled_arrival    118 non-null    datetime64[ns, UTC]\n",
      " 4   departure_airport    118 non-null    object             \n",
      " 5   city_out             118 non-null    object             \n",
      " 6   longitude_out        118 non-null    float64            \n",
      " 7   latitude_out         118 non-null    float64            \n",
      " 8   arrival_airport      118 non-null    object             \n",
      " 9   city_in              118 non-null    object             \n",
      " 10  longitude_in         118 non-null    float64            \n",
      " 11  latitude_in          118 non-null    float64            \n",
      " 12  status               118 non-null    object             \n",
      " 13  aircraft_code        118 non-null    object             \n",
      " 14  model                118 non-null    object             \n",
      " 15  count_seat           118 non-null    int64              \n",
      " 16  seat_economy         118 non-null    int64              \n",
      " 17  seat_business        118 non-null    int64              \n",
      " 18  actual_departure     118 non-null    datetime64[ns, UTC]\n",
      " 19  actual_arrival       118 non-null    datetime64[ns, UTC]\n",
      " 20  time_flight          118 non-null    float64            \n",
      " 21  total_amount         118 non-null    float64            \n",
      " 22  count_pass           118 non-null    int64              \n",
      " 23  economy_pass         118 non-null    int64              \n",
      " 24  business_pass        118 non-null    int64              \n",
      " 25  month                118 non-null    int64              \n",
      " 26  dayofweek            118 non-null    int64              \n",
      " 27  fuel_price           118 non-null    int64              \n",
      " 28  fuel_consumption     118 non-null    float64            \n",
      " 29  fuel_costs           118 non-null    float64            \n",
      " 30  profit               118 non-null    float64            \n",
      " 31  occupancy            118 non-null    float64            \n",
      " 32  occupancy_class_e    118 non-null    float64            \n",
      " 33  occupancy_class_b    118 non-null    float64            \n",
      " 34  payback              118 non-null    float64            \n",
      "dtypes: datetime64[ns, UTC](4), float64(13), int64(10), object(8)\n",
      "memory usage: 32.4+ KB\n"
     ]
    }
   ],
   "source": [
    "df.info()"
   ]
  },
  {
   "cell_type": "markdown",
   "id": "f9748292",
   "metadata": {},
   "source": [
    "Пустых строк нет"
   ]
  },
  {
   "cell_type": "code",
   "execution_count": 24,
   "id": "9dc65e80",
   "metadata": {},
   "outputs": [
    {
     "data": {
      "image/png": "[encoded data removed]",
      "text/plain": [
       "<Figure size 720x3600 with 23 Axes>"
      ]
     },
     "metadata": {
      "needs_background": "light"
     },
     "output_type": "display_data"
    }
   ],
   "source": [
    "graph_out(['int64','float64'])"
   ]
  },
  {
   "cell_type": "markdown",
   "id": "26c5d804",
   "metadata": {},
   "source": [
    "Данные почти не содержат выбросов, но нуждаются в нормализации."
   ]
  },
  {
   "cell_type": "markdown",
   "id": "3dc3f18a",
   "metadata": {},
   "source": [
    "#### Информация о времени вылета и прилёта"
   ]
  },
  {
   "cell_type": "code",
   "execution_count": 25,
   "id": "26f6755e",
   "metadata": {
    "scrolled": true
   },
   "outputs": [
    {
     "data": {
      "text/plain": [
       "Arrived    118\n",
       "Name: status, dtype: int64"
      ]
     },
     "execution_count": 25,
     "metadata": {},
     "output_type": "execute_result"
    }
   ],
   "source": [
    "df.status.value_counts()"
   ]
  },
  {
   "cell_type": "markdown",
   "id": "42c7205b",
   "metadata": {},
   "source": [
    "выборка содержит информацию только о совершённых рейсах"
   ]
  },
  {
   "cell_type": "code",
   "execution_count": 26,
   "id": "67b4c08d",
   "metadata": {},
   "outputs": [
    {
     "data": {
      "text/plain": [
       "9     59\n",
       "10    59\n",
       "Name: scheduled_departure, dtype: int64"
      ]
     },
     "execution_count": 26,
     "metadata": {},
     "output_type": "execute_result"
    }
   ],
   "source": [
    "df.scheduled_departure.dt.hour.value_counts()"
   ]
  },
  {
   "cell_type": "markdown",
   "id": "fd6d5674",
   "metadata": {},
   "source": [
    "Все рейся летают в одно время суток"
   ]
  },
  {
   "cell_type": "code",
   "execution_count": 27,
   "id": "942e4ed8",
   "metadata": {},
   "outputs": [
    {
     "data": {
      "text/plain": [
       "0    18\n",
       "1    18\n",
       "6    18\n",
       "2    16\n",
       "3    16\n",
       "4    16\n",
       "5    16\n",
       "Name: dayofweek, dtype: int64"
      ]
     },
     "execution_count": 27,
     "metadata": {},
     "output_type": "execute_result"
    }
   ],
   "source": [
    "df.dayofweek.value_counts()"
   ]
  },
  {
   "cell_type": "markdown",
   "id": "91186c15",
   "metadata": {},
   "source": [
    "Все рейсы распределены по неделе равномерно. В понедельник, вторник и субботу рейсов не значительно больше."
   ]
  },
  {
   "cell_type": "markdown",
   "id": "0591309f",
   "metadata": {},
   "source": [
    "#### Информация о задержке рейса"
   ]
  },
  {
   "cell_type": "code",
   "execution_count": 28,
   "id": "c99a701e",
   "metadata": {},
   "outputs": [
    {
     "data": {
      "text/plain": [
       "3.0      31\n",
       "2.0      24\n",
       "1.0      17\n",
       "4.0      14\n",
       "5.0      11\n",
       "0.0       6\n",
       "6.0       5\n",
       "7.0       4\n",
       "8.0       3\n",
       "207.0     1\n",
       "162.0     1\n",
       "197.0     1\n",
       "dtype: int64"
      ]
     },
     "execution_count": 28,
     "metadata": {},
     "output_type": "execute_result"
    }
   ],
   "source": [
    "(df.actual_departure - df.scheduled_departure).astype('timedelta64[m]').value_counts()"
   ]
  },
  {
   "cell_type": "code",
   "execution_count": 29,
   "id": "248d0ea9",
   "metadata": {},
   "outputs": [
    {
     "data": {
      "text/plain": [
       " 3.0      25\n",
       " 2.0      25\n",
       " 4.0      18\n",
       " 1.0      17\n",
       " 0.0       7\n",
       " 6.0       7\n",
       " 7.0       6\n",
       " 5.0       5\n",
       " 8.0       3\n",
       "-1.0       2\n",
       " 207.0     1\n",
       " 162.0     1\n",
       " 198.0     1\n",
       "dtype: int64"
      ]
     },
     "execution_count": 29,
     "metadata": {},
     "output_type": "execute_result"
    }
   ],
   "source": [
    "(df.actual_arrival - df.scheduled_arrival).astype('timedelta64[m]').value_counts()"
   ]
  },
  {
   "cell_type": "code",
   "execution_count": 30,
   "id": "59bc0fc3",
   "metadata": {},
   "outputs": [
    {
     "data": {
      "text/html": [
       "<div>\n",
       "<style scoped>\n",
       "    .dataframe tbody tr th:only-of-type {\n",
       "        vertical-align: middle;\n",
       "    }\n",
       "\n",
       "    .dataframe tbody tr th {\n",
       "        vertical-align: top;\n",
       "    }\n",
       "\n",
       "    .dataframe thead th {\n",
       "        text-align: right;\n",
       "    }\n",
       "</style>\n",
       "<table border=\"1\" class=\"dataframe\">\n",
       "  <thead>\n",
       "    <tr style=\"text-align: right;\">\n",
       "      <th></th>\n",
       "      <th>flight_id</th>\n",
       "      <th>flight_no</th>\n",
       "      <th>scheduled_departure</th>\n",
       "      <th>scheduled_arrival</th>\n",
       "      <th>departure_airport</th>\n",
       "      <th>city_out</th>\n",
       "      <th>longitude_out</th>\n",
       "      <th>latitude_out</th>\n",
       "      <th>arrival_airport</th>\n",
       "      <th>city_in</th>\n",
       "      <th>...</th>\n",
       "      <th>month</th>\n",
       "      <th>dayofweek</th>\n",
       "      <th>fuel_price</th>\n",
       "      <th>fuel_consumption</th>\n",
       "      <th>fuel_costs</th>\n",
       "      <th>profit</th>\n",
       "      <th>occupancy</th>\n",
       "      <th>occupancy_class_e</th>\n",
       "      <th>occupancy_class_b</th>\n",
       "      <th>payback</th>\n",
       "    </tr>\n",
       "  </thead>\n",
       "  <tbody>\n",
       "    <tr>\n",
       "      <th>35</th>\n",
       "      <td>136345</td>\n",
       "      <td>PG0252</td>\n",
       "      <td>2017-01-24 10:05:00+00:00</td>\n",
       "      <td>2017-01-24 11:45:00+00:00</td>\n",
       "      <td>AAQ</td>\n",
       "      <td>Anapa</td>\n",
       "      <td>37.347301</td>\n",
       "      <td>45.002102</td>\n",
       "      <td>SVO</td>\n",
       "      <td>Moscow</td>\n",
       "      <td>...</td>\n",
       "      <td>1</td>\n",
       "      <td>1</td>\n",
       "      <td>41435</td>\n",
       "      <td>4.33</td>\n",
       "      <td>179413.55</td>\n",
       "      <td>1338186.45</td>\n",
       "      <td>0.83</td>\n",
       "      <td>0.85</td>\n",
       "      <td>0.67</td>\n",
       "      <td>7.46</td>\n",
       "    </tr>\n",
       "    <tr>\n",
       "      <th>67</th>\n",
       "      <td>136632</td>\n",
       "      <td>PG0480</td>\n",
       "      <td>2017-01-07 09:25:00+00:00</td>\n",
       "      <td>2017-01-07 10:15:00+00:00</td>\n",
       "      <td>AAQ</td>\n",
       "      <td>Anapa</td>\n",
       "      <td>37.347301</td>\n",
       "      <td>45.002102</td>\n",
       "      <td>EGO</td>\n",
       "      <td>Belgorod</td>\n",
       "      <td>...</td>\n",
       "      <td>1</td>\n",
       "      <td>5</td>\n",
       "      <td>41435</td>\n",
       "      <td>1.53</td>\n",
       "      <td>63395.55</td>\n",
       "      <td>650904.45</td>\n",
       "      <td>0.94</td>\n",
       "      <td>0.94</td>\n",
       "      <td>0.92</td>\n",
       "      <td>10.27</td>\n",
       "    </tr>\n",
       "    <tr>\n",
       "      <th>101</th>\n",
       "      <td>136855</td>\n",
       "      <td>PG0480</td>\n",
       "      <td>2017-01-11 09:25:00+00:00</td>\n",
       "      <td>2017-01-11 10:15:00+00:00</td>\n",
       "      <td>AAQ</td>\n",
       "      <td>Anapa</td>\n",
       "      <td>37.347301</td>\n",
       "      <td>45.002102</td>\n",
       "      <td>EGO</td>\n",
       "      <td>Belgorod</td>\n",
       "      <td>...</td>\n",
       "      <td>1</td>\n",
       "      <td>2</td>\n",
       "      <td>41435</td>\n",
       "      <td>1.50</td>\n",
       "      <td>62152.50</td>\n",
       "      <td>640147.50</td>\n",
       "      <td>0.90</td>\n",
       "      <td>0.88</td>\n",
       "      <td>1.00</td>\n",
       "      <td>10.30</td>\n",
       "    </tr>\n",
       "  </tbody>\n",
       "</table>\n",
       "<p>3 rows × 35 columns</p>\n",
       "</div>"
      ],
      "text/plain": [
       "     flight_id flight_no       scheduled_departure         scheduled_arrival  \\\n",
       "35      136345    PG0252 2017-01-24 10:05:00+00:00 2017-01-24 11:45:00+00:00   \n",
       "67      136632    PG0480 2017-01-07 09:25:00+00:00 2017-01-07 10:15:00+00:00   \n",
       "101     136855    PG0480 2017-01-11 09:25:00+00:00 2017-01-11 10:15:00+00:00   \n",
       "\n",
       "    departure_airport city_out  longitude_out  latitude_out arrival_airport  \\\n",
       "35                AAQ    Anapa      37.347301     45.002102             SVO   \n",
       "67                AAQ    Anapa      37.347301     45.002102             EGO   \n",
       "101               AAQ    Anapa      37.347301     45.002102             EGO   \n",
       "\n",
       "      city_in  ...  month  dayofweek fuel_price fuel_consumption fuel_costs  \\\n",
       "35     Moscow  ...      1          1      41435             4.33  179413.55   \n",
       "67   Belgorod  ...      1          5      41435             1.53   63395.55   \n",
       "101  Belgorod  ...      1          2      41435             1.50   62152.50   \n",
       "\n",
       "         profit  occupancy  occupancy_class_e occupancy_class_b payback  \n",
       "35   1338186.45       0.83               0.85              0.67    7.46  \n",
       "67    650904.45       0.94               0.94              0.92   10.27  \n",
       "101   640147.50       0.90               0.88              1.00   10.30  \n",
       "\n",
       "[3 rows x 35 columns]"
      ]
     },
     "execution_count": 30,
     "metadata": {},
     "output_type": "execute_result"
    }
   ],
   "source": [
    "df[((df.actual_arrival-df.scheduled_arrival).astype('timedelta64[m]') > 100)]"
   ]
  },
  {
   "cell_type": "raw",
   "id": "47b332e1",
   "metadata": {},
   "source": [
    "Рейсы обычно следуют по расписанию. Исключением за 2017 год являются три рейса в январе, каждый из которых был отложены в среднем на 3 часа."
   ]
  },
  {
   "cell_type": "markdown",
   "id": "050b8d0b",
   "metadata": {},
   "source": [
    "#### Информация о направлениях"
   ]
  },
  {
   "cell_type": "code",
   "execution_count": 31,
   "id": "9d9f106c",
   "metadata": {},
   "outputs": [
    {
     "data": {
      "text/plain": [
       "Belgorod    59\n",
       "Moscow      59\n",
       "Name: city_in, dtype: int64"
      ]
     },
     "execution_count": 31,
     "metadata": {},
     "output_type": "execute_result"
    }
   ],
   "source": [
    "df.city_in.value_counts()"
   ]
  },
  {
   "cell_type": "markdown",
   "id": "7b182ff1",
   "metadata": {},
   "source": [
    "Авиаперелёты реализуются два направления - в Москву и в Белгород"
   ]
  },
  {
   "cell_type": "code",
   "execution_count": 32,
   "id": "38f222f1",
   "metadata": {},
   "outputs": [
    {
     "data": {
      "text/plain": [
       "Sukhoi Superjet-100    59\n",
       "Boeing 737-300         59\n",
       "Name: model, dtype: int64"
      ]
     },
     "execution_count": 32,
     "metadata": {},
     "output_type": "execute_result"
    }
   ],
   "source": [
    "df.model.value_counts()"
   ]
  },
  {
   "cell_type": "markdown",
   "id": "65c03657",
   "metadata": {},
   "source": [
    "Авиапарк компании представлен двумя моделями, Boeing 737-300 и Sukhoi Superjet-100, в равных количествах."
   ]
  },
  {
   "cell_type": "markdown",
   "id": "8560eed5",
   "metadata": {},
   "source": [
    "#### Сравнение средних параметров"
   ]
  },
  {
   "cell_type": "code",
   "execution_count": 33,
   "id": "743ccfd8",
   "metadata": {
    "scrolled": false
   },
   "outputs": [
    {
     "data": {
      "text/html": [
       "<div>\n",
       "<style scoped>\n",
       "    .dataframe tbody tr th:only-of-type {\n",
       "        vertical-align: middle;\n",
       "    }\n",
       "\n",
       "    .dataframe tbody tr th {\n",
       "        vertical-align: top;\n",
       "    }\n",
       "\n",
       "    .dataframe thead th {\n",
       "        text-align: right;\n",
       "    }\n",
       "</style>\n",
       "<table border=\"1\" class=\"dataframe\">\n",
       "  <thead>\n",
       "    <tr style=\"text-align: right;\">\n",
       "      <th></th>\n",
       "      <th></th>\n",
       "      <th>count_seat</th>\n",
       "      <th>seat_economy</th>\n",
       "      <th>seat_business</th>\n",
       "      <th>count_pass</th>\n",
       "      <th>economy_pass</th>\n",
       "      <th>business_pass</th>\n",
       "      <th>occupancy</th>\n",
       "      <th>occupancy_class_e</th>\n",
       "      <th>occupancy_class_b</th>\n",
       "      <th>total_amount</th>\n",
       "      <th>fuel_costs</th>\n",
       "      <th>profit</th>\n",
       "      <th>payback</th>\n",
       "    </tr>\n",
       "    <tr>\n",
       "      <th>model</th>\n",
       "      <th>city_in</th>\n",
       "      <th></th>\n",
       "      <th></th>\n",
       "      <th></th>\n",
       "      <th></th>\n",
       "      <th></th>\n",
       "      <th></th>\n",
       "      <th></th>\n",
       "      <th></th>\n",
       "      <th></th>\n",
       "      <th></th>\n",
       "      <th></th>\n",
       "      <th></th>\n",
       "      <th></th>\n",
       "    </tr>\n",
       "  </thead>\n",
       "  <tbody>\n",
       "    <tr>\n",
       "      <th>Boeing 737-300</th>\n",
       "      <th>Moscow</th>\n",
       "      <td>130.0</td>\n",
       "      <td>118.0</td>\n",
       "      <td>12.0</td>\n",
       "      <td>113.118644</td>\n",
       "      <td>102.610169</td>\n",
       "      <td>10.508475</td>\n",
       "      <td>0.870000</td>\n",
       "      <td>0.869661</td>\n",
       "      <td>0.876441</td>\n",
       "      <td>1.642576e+06</td>\n",
       "      <td>175341.897966</td>\n",
       "      <td>1.467234e+06</td>\n",
       "      <td>8.374746</td>\n",
       "    </tr>\n",
       "    <tr>\n",
       "      <th>Sukhoi Superjet-100</th>\n",
       "      <th>Belgorod</th>\n",
       "      <td>97.0</td>\n",
       "      <td>85.0</td>\n",
       "      <td>12.0</td>\n",
       "      <td>90.186441</td>\n",
       "      <td>79.118644</td>\n",
       "      <td>11.067797</td>\n",
       "      <td>0.930339</td>\n",
       "      <td>0.931356</td>\n",
       "      <td>0.922373</td>\n",
       "      <td>7.104356e+05</td>\n",
       "      <td>60916.200508</td>\n",
       "      <td>6.495194e+05</td>\n",
       "      <td>10.666949</td>\n",
       "    </tr>\n",
       "  </tbody>\n",
       "</table>\n",
       "</div>"
      ],
      "text/plain": [
       "                              count_seat  seat_economy  seat_business  \\\n",
       "model               city_in                                             \n",
       "Boeing 737-300      Moscow         130.0         118.0           12.0   \n",
       "Sukhoi Superjet-100 Belgorod        97.0          85.0           12.0   \n",
       "\n",
       "                              count_pass  economy_pass  business_pass  \\\n",
       "model               city_in                                             \n",
       "Boeing 737-300      Moscow    113.118644    102.610169      10.508475   \n",
       "Sukhoi Superjet-100 Belgorod   90.186441     79.118644      11.067797   \n",
       "\n",
       "                              occupancy  occupancy_class_e  occupancy_class_b  \\\n",
       "model               city_in                                                     \n",
       "Boeing 737-300      Moscow     0.870000           0.869661           0.876441   \n",
       "Sukhoi Superjet-100 Belgorod   0.930339           0.931356           0.922373   \n",
       "\n",
       "                              total_amount     fuel_costs        profit  \\\n",
       "model               city_in                                               \n",
       "Boeing 737-300      Moscow    1.642576e+06  175341.897966  1.467234e+06   \n",
       "Sukhoi Superjet-100 Belgorod  7.104356e+05   60916.200508  6.495194e+05   \n",
       "\n",
       "                                payback  \n",
       "model               city_in              \n",
       "Boeing 737-300      Moscow     8.374746  \n",
       "Sukhoi Superjet-100 Belgorod  10.666949  "
      ]
     },
     "execution_count": 33,
     "metadata": {},
     "output_type": "execute_result"
    }
   ],
   "source": [
    "df.groupby(['model', 'city_in'])[['count_seat', 'seat_economy', 'seat_business',\n",
    "                                  'count_pass', 'economy_pass', 'business_pass',\n",
    "                                  'occupancy', 'occupancy_class_e', 'occupancy_class_b',\n",
    "                                  'total_amount', 'fuel_costs', 'profit', 'payback']].mean()"
   ]
  },
  {
   "cell_type": "markdown",
   "id": "67ddb826",
   "metadata": {},
   "source": [
    "#### Сравнение суммовых значений"
   ]
  },
  {
   "cell_type": "code",
   "execution_count": 34,
   "id": "bf765ef4",
   "metadata": {},
   "outputs": [
    {
     "data": {
      "text/html": [
       "<div>\n",
       "<style scoped>\n",
       "    .dataframe tbody tr th:only-of-type {\n",
       "        vertical-align: middle;\n",
       "    }\n",
       "\n",
       "    .dataframe tbody tr th {\n",
       "        vertical-align: top;\n",
       "    }\n",
       "\n",
       "    .dataframe thead th {\n",
       "        text-align: right;\n",
       "    }\n",
       "</style>\n",
       "<table border=\"1\" class=\"dataframe\">\n",
       "  <thead>\n",
       "    <tr style=\"text-align: right;\">\n",
       "      <th></th>\n",
       "      <th>time_flight</th>\n",
       "      <th>fuel_consumption</th>\n",
       "      <th>occupancy</th>\n",
       "      <th>occupancy_class_e</th>\n",
       "      <th>occupancy_class_b</th>\n",
       "      <th>payback</th>\n",
       "    </tr>\n",
       "    <tr>\n",
       "      <th>city_in</th>\n",
       "      <th></th>\n",
       "      <th></th>\n",
       "      <th></th>\n",
       "      <th></th>\n",
       "      <th></th>\n",
       "      <th></th>\n",
       "    </tr>\n",
       "  </thead>\n",
       "  <tbody>\n",
       "    <tr>\n",
       "      <th>Belgorod</th>\n",
       "      <td>49.250000</td>\n",
       "      <td>88.65</td>\n",
       "      <td>0.93</td>\n",
       "      <td>0.93</td>\n",
       "      <td>0.92</td>\n",
       "      <td>10.66</td>\n",
       "    </tr>\n",
       "    <tr>\n",
       "      <th>Moscow</th>\n",
       "      <td>98.166667</td>\n",
       "      <td>255.18</td>\n",
       "      <td>0.87</td>\n",
       "      <td>0.87</td>\n",
       "      <td>0.88</td>\n",
       "      <td>8.37</td>\n",
       "    </tr>\n",
       "  </tbody>\n",
       "</table>\n",
       "</div>"
      ],
      "text/plain": [
       "          time_flight  fuel_consumption  occupancy  occupancy_class_e  \\\n",
       "city_in                                                                 \n",
       "Belgorod    49.250000             88.65       0.93               0.93   \n",
       "Moscow      98.166667            255.18       0.87               0.87   \n",
       "\n",
       "          occupancy_class_b  payback  \n",
       "city_in                               \n",
       "Belgorod               0.92    10.66  \n",
       "Moscow                 0.88     8.37  "
      ]
     },
     "execution_count": 34,
     "metadata": {},
     "output_type": "execute_result"
    }
   ],
   "source": [
    "data_table_ring = df.groupby(['city_in'])[['count_pass', 'count_seat',\n",
    "                                           'economy_pass', 'seat_economy',\n",
    "                                           'business_pass', 'seat_business',\n",
    "                                           'time_flight', 'fuel_consumption',\n",
    "                                           'profit', 'fuel_costs']].sum()\n",
    "\n",
    "data_table_ring['occupancy'] = round(data_table_ring.count_pass/data_table_ring.count_seat, 2)\n",
    "data_table_ring['occupancy_class_e'] = round(data_table_ring.economy_pass/data_table_ring.seat_economy, 2)\n",
    "data_table_ring['occupancy_class_b'] = round(data_table_ring.business_pass/data_table_ring.seat_business, 2)\n",
    "data_table_ring['payback'] = round(data_table_ring.profit/data_table_ring.fuel_costs, 2)\n",
    "\n",
    "data_table_ring = data_table_ring.drop(columns=['count_pass', 'count_seat',\n",
    "                                                'economy_pass', 'seat_economy',\n",
    "                                                'business_pass', 'seat_business',\n",
    "                                                'profit', 'fuel_costs'])\n",
    "data_table_ring"
   ]
  },
  {
   "cell_type": "code",
   "execution_count": 35,
   "id": "4b83efcb",
   "metadata": {},
   "outputs": [
    {
     "data": {
      "image/png": "[encoded data removed]",
      "text/plain": [
       "<Figure size 432x288 with 1 Axes>"
      ]
     },
     "metadata": {},
     "output_type": "display_data"
    },
    {
     "data": {
      "image/png": "[encoded data removed]",
      "text/plain": [
       "<Figure size 432x288 with 1 Axes>"
      ]
     },
     "metadata": {},
     "output_type": "display_data"
    }
   ],
   "source": [
    "grath_ring(data_table_ring)"
   ]
  },
  {
   "cell_type": "code",
   "execution_count": 36,
   "id": "7d492325",
   "metadata": {},
   "outputs": [
    {
     "data": {
      "text/html": [
       "<div>\n",
       "<style scoped>\n",
       "    .dataframe tbody tr th:only-of-type {\n",
       "        vertical-align: middle;\n",
       "    }\n",
       "\n",
       "    .dataframe tbody tr th {\n",
       "        vertical-align: top;\n",
       "    }\n",
       "\n",
       "    .dataframe thead th {\n",
       "        text-align: right;\n",
       "    }\n",
       "</style>\n",
       "<table border=\"1\" class=\"dataframe\">\n",
       "  <thead>\n",
       "    <tr style=\"text-align: right;\">\n",
       "      <th>city_in</th>\n",
       "      <th>Belgorod</th>\n",
       "      <th>Moscow</th>\n",
       "    </tr>\n",
       "  </thead>\n",
       "  <tbody>\n",
       "    <tr>\n",
       "      <th>count_seat</th>\n",
       "      <td>97</td>\n",
       "      <td>130</td>\n",
       "    </tr>\n",
       "    <tr>\n",
       "      <th>seat_business</th>\n",
       "      <td>12</td>\n",
       "      <td>12</td>\n",
       "    </tr>\n",
       "    <tr>\n",
       "      <th>seat_economy</th>\n",
       "      <td>85</td>\n",
       "      <td>118</td>\n",
       "    </tr>\n",
       "  </tbody>\n",
       "</table>\n",
       "</div>"
      ],
      "text/plain": [
       "city_in        Belgorod  Moscow\n",
       "count_seat           97     130\n",
       "seat_business        12      12\n",
       "seat_economy         85     118"
      ]
     },
     "execution_count": 36,
     "metadata": {},
     "output_type": "execute_result"
    }
   ],
   "source": [
    "data_image_1 = df.pivot_table(index=['city_in'],\n",
    "                              values=['count_seat',\n",
    "                                      'seat_economy',\n",
    "                                      'seat_business'],\n",
    "                              aggfunc='mean').T\n",
    "data_image_1"
   ]
  },
  {
   "cell_type": "code",
   "execution_count": 37,
   "id": "222098c0",
   "metadata": {},
   "outputs": [
    {
     "data": {
      "image/png": "[encoded data removed]",
      "text/plain": [
       "<Figure size 432x288 with 1 Axes>"
      ]
     },
     "metadata": {
      "needs_background": "light"
     },
     "output_type": "display_data"
    }
   ],
   "source": [
    "grath_aircraft(data_image_1)"
   ]
  },
  {
   "cell_type": "code",
   "execution_count": 38,
   "id": "93d3082f",
   "metadata": {},
   "outputs": [
    {
     "data": {
      "text/html": [
       "<div>\n",
       "<style scoped>\n",
       "    .dataframe tbody tr th:only-of-type {\n",
       "        vertical-align: middle;\n",
       "    }\n",
       "\n",
       "    .dataframe tbody tr th {\n",
       "        vertical-align: top;\n",
       "    }\n",
       "\n",
       "    .dataframe thead th {\n",
       "        text-align: right;\n",
       "    }\n",
       "</style>\n",
       "<table border=\"1\" class=\"dataframe\">\n",
       "  <thead>\n",
       "    <tr style=\"text-align: right;\">\n",
       "      <th>city_in</th>\n",
       "      <th>Belgorod</th>\n",
       "      <th>Moscow</th>\n",
       "    </tr>\n",
       "  </thead>\n",
       "  <tbody>\n",
       "    <tr>\n",
       "      <th>business_pass</th>\n",
       "      <td>653</td>\n",
       "      <td>620</td>\n",
       "    </tr>\n",
       "    <tr>\n",
       "      <th>count_pass</th>\n",
       "      <td>5321</td>\n",
       "      <td>6674</td>\n",
       "    </tr>\n",
       "    <tr>\n",
       "      <th>economy_pass</th>\n",
       "      <td>4668</td>\n",
       "      <td>6054</td>\n",
       "    </tr>\n",
       "  </tbody>\n",
       "</table>\n",
       "</div>"
      ],
      "text/plain": [
       "city_in        Belgorod  Moscow\n",
       "business_pass       653     620\n",
       "count_pass         5321    6674\n",
       "economy_pass       4668    6054"
      ]
     },
     "execution_count": 38,
     "metadata": {},
     "output_type": "execute_result"
    }
   ],
   "source": [
    "data_image_2 = df.pivot_table(index=['city_in'],\n",
    "                              values=['count_pass',\n",
    "                                      'economy_pass',\n",
    "                                      'business_pass'],\n",
    "                              aggfunc='sum').T\n",
    "data_image_2"
   ]
  },
  {
   "cell_type": "code",
   "execution_count": 39,
   "id": "31b17415",
   "metadata": {},
   "outputs": [
    {
     "data": {
      "image/png": "[encoded data removed]",
      "text/plain": [
       "<Figure size 432x288 with 1 Axes>"
      ]
     },
     "metadata": {
      "needs_background": "light"
     },
     "output_type": "display_data"
    }
   ],
   "source": [
    "grath_passengers(data_image_2)"
   ]
  },
  {
   "cell_type": "code",
   "execution_count": 40,
   "id": "0535b360",
   "metadata": {},
   "outputs": [
    {
     "data": {
      "text/html": [
       "<div>\n",
       "<style scoped>\n",
       "    .dataframe tbody tr th:only-of-type {\n",
       "        vertical-align: middle;\n",
       "    }\n",
       "\n",
       "    .dataframe tbody tr th {\n",
       "        vertical-align: top;\n",
       "    }\n",
       "\n",
       "    .dataframe thead th {\n",
       "        text-align: right;\n",
       "    }\n",
       "</style>\n",
       "<table border=\"1\" class=\"dataframe\">\n",
       "  <thead>\n",
       "    <tr style=\"text-align: right;\">\n",
       "      <th>city_in</th>\n",
       "      <th>Belgorod</th>\n",
       "      <th>Moscow</th>\n",
       "    </tr>\n",
       "  </thead>\n",
       "  <tbody>\n",
       "    <tr>\n",
       "      <th>fuel_costs</th>\n",
       "      <td>3594055.83</td>\n",
       "      <td>10345171.98</td>\n",
       "    </tr>\n",
       "    <tr>\n",
       "      <th>profit</th>\n",
       "      <td>38321644.17</td>\n",
       "      <td>86566828.02</td>\n",
       "    </tr>\n",
       "    <tr>\n",
       "      <th>total_amount</th>\n",
       "      <td>41915700.00</td>\n",
       "      <td>96912000.00</td>\n",
       "    </tr>\n",
       "  </tbody>\n",
       "</table>\n",
       "</div>"
      ],
      "text/plain": [
       "city_in          Belgorod       Moscow\n",
       "fuel_costs     3594055.83  10345171.98\n",
       "profit        38321644.17  86566828.02\n",
       "total_amount  41915700.00  96912000.00"
      ]
     },
     "execution_count": 40,
     "metadata": {},
     "output_type": "execute_result"
    }
   ],
   "source": [
    "data_image_3 = df.pivot_table(index=['city_in'],\n",
    "                              values=['total_amount',\n",
    "                                      'fuel_costs',\n",
    "                                      'profit'],\n",
    "                              aggfunc='sum').T\n",
    "data_image_3"
   ]
  },
  {
   "cell_type": "code",
   "execution_count": 41,
   "id": "dfda76b3",
   "metadata": {},
   "outputs": [
    {
     "data": {
      "image/png": "[encoded data removed]",
      "text/plain": [
       "<Figure size 432x288 with 1 Axes>"
      ]
     },
     "metadata": {
      "needs_background": "light"
     },
     "output_type": "display_data"
    }
   ],
   "source": [
    "grath_money(data_image_3)"
   ]
  },
  {
   "cell_type": "code",
   "execution_count": 42,
   "id": "ef42089b",
   "metadata": {},
   "outputs": [
    {
     "data": {
      "text/plain": [
       "'Доходы от продажи билетов = 138.83 млн.руб.'"
      ]
     },
     "metadata": {},
     "output_type": "display_data"
    },
    {
     "data": {
      "text/plain": [
       "'Затраты на топливо = 13.94 млн.руб.'"
      ]
     },
     "metadata": {},
     "output_type": "display_data"
    },
    {
     "data": {
      "text/plain": [
       "'Условная прибыль = 124.89 млн.руб.'"
      ]
     },
     "metadata": {},
     "output_type": "display_data"
    }
   ],
   "source": [
    "display(f\"Доходы от продажи билетов = {round(df.total_amount.sum()/1000000,2)} млн.руб.\")\n",
    "display(f\"Затраты на топливо = {round(df.fuel_costs.sum()/1000000,2)} млн.руб.\")\n",
    "display(f\"Условная прибыль = {round(df.profit.sum()/1000000,2)} млн.руб.\")"
   ]
  },
  {
   "cell_type": "markdown",
   "id": "c918482d",
   "metadata": {},
   "source": [
    "Boeing летает в Москву, SSJet - в Белгород. У Boeing салон большей вместимости, чем у SSJet, однако у последего заполняемость салона выше как в целом, так и в разрезе эконом и бизнесс класса.\n",
    "Как прибыль, так и затраты на приобритение авиагсм для Boeing выше, чем у SSJet, что объясняется его большими размерами, которые являются причиной большой вместимости салона и высокой нормы расхода топлива.\n",
    "Большая заполняемость салона SSJet и низкий расход топлива приводят к более высокой окупаемости рейсов SSJet (в Белгород) по сравнению с рейсами Boeing (в Москву)."
   ]
  },
  {
   "cell_type": "markdown",
   "id": "729eb18d",
   "metadata": {},
   "source": [
    "#### Окупаемость зимних рейсов по выборке"
   ]
  },
  {
   "cell_type": "code",
   "execution_count": 43,
   "id": "91cecd08",
   "metadata": {
    "scrolled": false
   },
   "outputs": [
    {
     "data": {
      "text/plain": [
       "'Средняя прибыль зимнего рейса = 1058376.88 руб.'"
      ]
     },
     "metadata": {},
     "output_type": "display_data"
    },
    {
     "data": {
      "text/plain": [
       "'Средняя заполняемость салона = 0.9'"
      ]
     },
     "metadata": {},
     "output_type": "display_data"
    },
    {
     "data": {
      "text/plain": [
       "'Прибыль от всех зимних рейсов = 124.89 млн.руб.'"
      ]
     },
     "metadata": {},
     "output_type": "display_data"
    },
    {
     "data": {
      "text/plain": [
       "'Окупаемость зимних рейсов по выборке = 8.96'"
      ]
     },
     "metadata": {},
     "output_type": "display_data"
    }
   ],
   "source": [
    "display(f\"Средняя прибыль зимнего рейса = {round(df.profit.mean(),2)} руб.\")\n",
    "display(f\"Средняя заполняемость салона = {round(df.occupancy.mean(),2)}\")\n",
    "display(f\"Прибыль от всех зимних рейсов = {round(df.profit.sum()/1000000,2)} млн.руб.\")\n",
    "display(f\"Окупаемость зимних рейсов по выборке = {round(df.profit.sum()/df.fuel_costs.sum(),2)}\")"
   ]
  },
  {
   "cell_type": "markdown",
   "id": "3d70a430",
   "metadata": {},
   "source": [
    "### Преложения повышения условной окупаемости"
   ]
  },
  {
   "cell_type": "code",
   "execution_count": 44,
   "id": "4a7f4e45",
   "metadata": {},
   "outputs": [],
   "source": [
    "data = df.drop(['flight_id', 'longitude_out', 'latitude_out',\n",
    "               'longitude_in', 'latitude_in', 'seat_business'], axis=1)"
   ]
  },
  {
   "cell_type": "code",
   "execution_count": 45,
   "id": "2e8fc4e4",
   "metadata": {},
   "outputs": [
    {
     "data": {
      "text/html": [
       "<div>\n",
       "<style scoped>\n",
       "    .dataframe tbody tr th:only-of-type {\n",
       "        vertical-align: middle;\n",
       "    }\n",
       "\n",
       "    .dataframe tbody tr th {\n",
       "        vertical-align: top;\n",
       "    }\n",
       "\n",
       "    .dataframe thead th {\n",
       "        text-align: right;\n",
       "    }\n",
       "</style>\n",
       "<table border=\"1\" class=\"dataframe\">\n",
       "  <thead>\n",
       "    <tr style=\"text-align: right;\">\n",
       "      <th></th>\n",
       "      <th>payback</th>\n",
       "    </tr>\n",
       "  </thead>\n",
       "  <tbody>\n",
       "    <tr>\n",
       "      <th>payback</th>\n",
       "      <td>1.00</td>\n",
       "    </tr>\n",
       "    <tr>\n",
       "      <th>occupancy</th>\n",
       "      <td>0.84</td>\n",
       "    </tr>\n",
       "    <tr>\n",
       "      <th>occupancy_class_e</th>\n",
       "      <td>0.83</td>\n",
       "    </tr>\n",
       "    <tr>\n",
       "      <th>business_pass</th>\n",
       "      <td>0.65</td>\n",
       "    </tr>\n",
       "    <tr>\n",
       "      <th>occupancy_class_b</th>\n",
       "      <td>0.65</td>\n",
       "    </tr>\n",
       "    <tr>\n",
       "      <th>month</th>\n",
       "      <td>0.13</td>\n",
       "    </tr>\n",
       "    <tr>\n",
       "      <th>dayofweek</th>\n",
       "      <td>-0.02</td>\n",
       "    </tr>\n",
       "    <tr>\n",
       "      <th>fuel_price</th>\n",
       "      <td>-0.13</td>\n",
       "    </tr>\n",
       "    <tr>\n",
       "      <th>count_pass</th>\n",
       "      <td>-0.27</td>\n",
       "    </tr>\n",
       "    <tr>\n",
       "      <th>economy_pass</th>\n",
       "      <td>-0.34</td>\n",
       "    </tr>\n",
       "    <tr>\n",
       "      <th>profit</th>\n",
       "      <td>-0.61</td>\n",
       "    </tr>\n",
       "    <tr>\n",
       "      <th>total_amount</th>\n",
       "      <td>-0.63</td>\n",
       "    </tr>\n",
       "    <tr>\n",
       "      <th>seat_economy</th>\n",
       "      <td>-0.77</td>\n",
       "    </tr>\n",
       "    <tr>\n",
       "      <th>count_seat</th>\n",
       "      <td>-0.77</td>\n",
       "    </tr>\n",
       "    <tr>\n",
       "      <th>fuel_consumption</th>\n",
       "      <td>-0.77</td>\n",
       "    </tr>\n",
       "    <tr>\n",
       "      <th>time_flight</th>\n",
       "      <td>-0.77</td>\n",
       "    </tr>\n",
       "    <tr>\n",
       "      <th>fuel_costs</th>\n",
       "      <td>-0.78</td>\n",
       "    </tr>\n",
       "  </tbody>\n",
       "</table>\n",
       "</div>"
      ],
      "text/plain": [
       "                   payback\n",
       "payback               1.00\n",
       "occupancy             0.84\n",
       "occupancy_class_e     0.83\n",
       "business_pass         0.65\n",
       "occupancy_class_b     0.65\n",
       "month                 0.13\n",
       "dayofweek            -0.02\n",
       "fuel_price           -0.13\n",
       "count_pass           -0.27\n",
       "economy_pass         -0.34\n",
       "profit               -0.61\n",
       "total_amount         -0.63\n",
       "seat_economy         -0.77\n",
       "count_seat           -0.77\n",
       "fuel_consumption     -0.77\n",
       "time_flight          -0.77\n",
       "fuel_costs           -0.78"
      ]
     },
     "execution_count": 45,
     "metadata": {},
     "output_type": "execute_result"
    }
   ],
   "source": [
    "correlation = data.corr()\n",
    "round(correlation[['payback']].sort_values(by='payback', ascending=False), 2)"
   ]
  },
  {
   "cell_type": "markdown",
   "id": "ef80d5ef",
   "metadata": {},
   "source": [
    "Основным фактором, влияющим на условную окупаемость, является процент заполняемости салона."
   ]
  },
  {
   "cell_type": "markdown",
   "id": "7f2df382",
   "metadata": {},
   "source": [
    "#### Рейсы с низкой условной прибылью и меньшей наполняемостью салона"
   ]
  },
  {
   "cell_type": "markdown",
   "id": "ed73d304",
   "metadata": {},
   "source": [
    "#### Москва"
   ]
  },
  {
   "cell_type": "code",
   "execution_count": 46,
   "id": "1ebdfb7b",
   "metadata": {},
   "outputs": [
    {
     "data": {
      "text/html": [
       "<div>\n",
       "<style scoped>\n",
       "    .dataframe tbody tr th:only-of-type {\n",
       "        vertical-align: middle;\n",
       "    }\n",
       "\n",
       "    .dataframe tbody tr th {\n",
       "        vertical-align: top;\n",
       "    }\n",
       "\n",
       "    .dataframe thead th {\n",
       "        text-align: right;\n",
       "    }\n",
       "</style>\n",
       "<table border=\"1\" class=\"dataframe\">\n",
       "  <thead>\n",
       "    <tr style=\"text-align: right;\">\n",
       "      <th></th>\n",
       "      <th>flight_id</th>\n",
       "      <th>scheduled_departure</th>\n",
       "      <th>occupancy</th>\n",
       "      <th>payback</th>\n",
       "    </tr>\n",
       "  </thead>\n",
       "  <tbody>\n",
       "    <tr>\n",
       "      <th>54</th>\n",
       "      <td>136464</td>\n",
       "      <td>2017-01-09 10:05:00+00:00</td>\n",
       "      <td>0.77</td>\n",
       "      <td>6.79</td>\n",
       "    </tr>\n",
       "    <tr>\n",
       "      <th>2</th>\n",
       "      <td>136122</td>\n",
       "      <td>2017-01-08 10:05:00+00:00</td>\n",
       "      <td>0.75</td>\n",
       "      <td>6.98</td>\n",
       "    </tr>\n",
       "    <tr>\n",
       "      <th>12</th>\n",
       "      <td>136178</td>\n",
       "      <td>2017-01-29 10:05:00+00:00</td>\n",
       "      <td>0.76</td>\n",
       "      <td>7.07</td>\n",
       "    </tr>\n",
       "    <tr>\n",
       "      <th>21</th>\n",
       "      <td>136250</td>\n",
       "      <td>2017-02-08 10:05:00+00:00</td>\n",
       "      <td>0.76</td>\n",
       "      <td>7.13</td>\n",
       "    </tr>\n",
       "    <tr>\n",
       "      <th>40</th>\n",
       "      <td>136383</td>\n",
       "      <td>2017-01-25 10:05:00+00:00</td>\n",
       "      <td>0.82</td>\n",
       "      <td>7.15</td>\n",
       "    </tr>\n",
       "  </tbody>\n",
       "</table>\n",
       "</div>"
      ],
      "text/plain": [
       "    flight_id       scheduled_departure  occupancy  payback\n",
       "54     136464 2017-01-09 10:05:00+00:00       0.77     6.79\n",
       "2      136122 2017-01-08 10:05:00+00:00       0.75     6.98\n",
       "12     136178 2017-01-29 10:05:00+00:00       0.76     7.07\n",
       "21     136250 2017-02-08 10:05:00+00:00       0.76     7.13\n",
       "40     136383 2017-01-25 10:05:00+00:00       0.82     7.15"
      ]
     },
     "execution_count": 46,
     "metadata": {},
     "output_type": "execute_result"
    }
   ],
   "source": [
    "df[(df.city_in == 'Moscow')][['flight_id', 'scheduled_departure',\n",
    "                              'occupancy', 'payback']].sort_values(['payback']).head(5)"
   ]
  },
  {
   "cell_type": "code",
   "execution_count": 47,
   "id": "a550c85f",
   "metadata": {},
   "outputs": [
    {
     "data": {
      "text/html": [
       "<div>\n",
       "<style scoped>\n",
       "    .dataframe tbody tr th:only-of-type {\n",
       "        vertical-align: middle;\n",
       "    }\n",
       "\n",
       "    .dataframe tbody tr th {\n",
       "        vertical-align: top;\n",
       "    }\n",
       "\n",
       "    .dataframe thead th {\n",
       "        text-align: right;\n",
       "    }\n",
       "</style>\n",
       "<table border=\"1\" class=\"dataframe\">\n",
       "  <thead>\n",
       "    <tr style=\"text-align: right;\">\n",
       "      <th></th>\n",
       "      <th>flight_id</th>\n",
       "      <th>scheduled_departure</th>\n",
       "      <th>occupancy</th>\n",
       "      <th>payback</th>\n",
       "    </tr>\n",
       "  </thead>\n",
       "  <tbody>\n",
       "    <tr>\n",
       "      <th>2</th>\n",
       "      <td>136122</td>\n",
       "      <td>2017-01-08 10:05:00+00:00</td>\n",
       "      <td>0.75</td>\n",
       "      <td>6.98</td>\n",
       "    </tr>\n",
       "    <tr>\n",
       "      <th>38</th>\n",
       "      <td>136360</td>\n",
       "      <td>2017-02-05 10:05:00+00:00</td>\n",
       "      <td>0.75</td>\n",
       "      <td>7.50</td>\n",
       "    </tr>\n",
       "    <tr>\n",
       "      <th>21</th>\n",
       "      <td>136250</td>\n",
       "      <td>2017-02-08 10:05:00+00:00</td>\n",
       "      <td>0.76</td>\n",
       "      <td>7.13</td>\n",
       "    </tr>\n",
       "    <tr>\n",
       "      <th>12</th>\n",
       "      <td>136178</td>\n",
       "      <td>2017-01-29 10:05:00+00:00</td>\n",
       "      <td>0.76</td>\n",
       "      <td>7.07</td>\n",
       "    </tr>\n",
       "    <tr>\n",
       "      <th>54</th>\n",
       "      <td>136464</td>\n",
       "      <td>2017-01-09 10:05:00+00:00</td>\n",
       "      <td>0.77</td>\n",
       "      <td>6.79</td>\n",
       "    </tr>\n",
       "  </tbody>\n",
       "</table>\n",
       "</div>"
      ],
      "text/plain": [
       "    flight_id       scheduled_departure  occupancy  payback\n",
       "2      136122 2017-01-08 10:05:00+00:00       0.75     6.98\n",
       "38     136360 2017-02-05 10:05:00+00:00       0.75     7.50\n",
       "21     136250 2017-02-08 10:05:00+00:00       0.76     7.13\n",
       "12     136178 2017-01-29 10:05:00+00:00       0.76     7.07\n",
       "54     136464 2017-01-09 10:05:00+00:00       0.77     6.79"
      ]
     },
     "execution_count": 47,
     "metadata": {},
     "output_type": "execute_result"
    }
   ],
   "source": [
    "df[(df.city_in == 'Moscow')][['flight_id', 'scheduled_departure',\n",
    "                              'occupancy', 'payback']].sort_values(['occupancy']).head(5)"
   ]
  },
  {
   "cell_type": "markdown",
   "id": "da544239",
   "metadata": {},
   "source": [
    "#### Белгород"
   ]
  },
  {
   "cell_type": "code",
   "execution_count": 48,
   "id": "6f6bc684",
   "metadata": {},
   "outputs": [
    {
     "data": {
      "text/html": [
       "<div>\n",
       "<style scoped>\n",
       "    .dataframe tbody tr th:only-of-type {\n",
       "        vertical-align: middle;\n",
       "    }\n",
       "\n",
       "    .dataframe tbody tr th {\n",
       "        vertical-align: top;\n",
       "    }\n",
       "\n",
       "    .dataframe thead th {\n",
       "        text-align: right;\n",
       "    }\n",
       "</style>\n",
       "<table border=\"1\" class=\"dataframe\">\n",
       "  <thead>\n",
       "    <tr style=\"text-align: right;\">\n",
       "      <th></th>\n",
       "      <th>flight_id</th>\n",
       "      <th>scheduled_departure</th>\n",
       "      <th>occupancy</th>\n",
       "      <th>payback</th>\n",
       "    </tr>\n",
       "  </thead>\n",
       "  <tbody>\n",
       "    <tr>\n",
       "      <th>68</th>\n",
       "      <td>136642</td>\n",
       "      <td>2017-01-30 09:25:00+00:00</td>\n",
       "      <td>0.66</td>\n",
       "      <td>7.72</td>\n",
       "    </tr>\n",
       "    <tr>\n",
       "      <th>93</th>\n",
       "      <td>136807</td>\n",
       "      <td>2017-02-23 09:25:00+00:00</td>\n",
       "      <td>0.70</td>\n",
       "      <td>7.95</td>\n",
       "    </tr>\n",
       "    <tr>\n",
       "      <th>100</th>\n",
       "      <td>136844</td>\n",
       "      <td>2017-02-28 09:25:00+00:00</td>\n",
       "      <td>0.81</td>\n",
       "      <td>8.69</td>\n",
       "    </tr>\n",
       "    <tr>\n",
       "      <th>107</th>\n",
       "      <td>136887</td>\n",
       "      <td>2017-01-20 09:25:00+00:00</td>\n",
       "      <td>0.80</td>\n",
       "      <td>8.77</td>\n",
       "    </tr>\n",
       "    <tr>\n",
       "      <th>69</th>\n",
       "      <td>136645</td>\n",
       "      <td>2017-01-05 09:25:00+00:00</td>\n",
       "      <td>0.85</td>\n",
       "      <td>8.98</td>\n",
       "    </tr>\n",
       "  </tbody>\n",
       "</table>\n",
       "</div>"
      ],
      "text/plain": [
       "     flight_id       scheduled_departure  occupancy  payback\n",
       "68      136642 2017-01-30 09:25:00+00:00       0.66     7.72\n",
       "93      136807 2017-02-23 09:25:00+00:00       0.70     7.95\n",
       "100     136844 2017-02-28 09:25:00+00:00       0.81     8.69\n",
       "107     136887 2017-01-20 09:25:00+00:00       0.80     8.77\n",
       "69      136645 2017-01-05 09:25:00+00:00       0.85     8.98"
      ]
     },
     "execution_count": 48,
     "metadata": {},
     "output_type": "execute_result"
    }
   ],
   "source": [
    "df[(df.city_in == 'Belgorod')][['flight_id', 'scheduled_departure',\n",
    "                                'occupancy', 'payback']].sort_values(['payback']).head(5)"
   ]
  },
  {
   "cell_type": "code",
   "execution_count": 49,
   "id": "22fd9cf7",
   "metadata": {},
   "outputs": [
    {
     "data": {
      "text/html": [
       "<div>\n",
       "<style scoped>\n",
       "    .dataframe tbody tr th:only-of-type {\n",
       "        vertical-align: middle;\n",
       "    }\n",
       "\n",
       "    .dataframe tbody tr th {\n",
       "        vertical-align: top;\n",
       "    }\n",
       "\n",
       "    .dataframe thead th {\n",
       "        text-align: right;\n",
       "    }\n",
       "</style>\n",
       "<table border=\"1\" class=\"dataframe\">\n",
       "  <thead>\n",
       "    <tr style=\"text-align: right;\">\n",
       "      <th></th>\n",
       "      <th>flight_id</th>\n",
       "      <th>scheduled_departure</th>\n",
       "      <th>occupancy</th>\n",
       "      <th>payback</th>\n",
       "    </tr>\n",
       "  </thead>\n",
       "  <tbody>\n",
       "    <tr>\n",
       "      <th>68</th>\n",
       "      <td>136642</td>\n",
       "      <td>2017-01-30 09:25:00+00:00</td>\n",
       "      <td>0.66</td>\n",
       "      <td>7.72</td>\n",
       "    </tr>\n",
       "    <tr>\n",
       "      <th>93</th>\n",
       "      <td>136807</td>\n",
       "      <td>2017-02-23 09:25:00+00:00</td>\n",
       "      <td>0.70</td>\n",
       "      <td>7.95</td>\n",
       "    </tr>\n",
       "    <tr>\n",
       "      <th>111</th>\n",
       "      <td>136922</td>\n",
       "      <td>2017-02-11 09:25:00+00:00</td>\n",
       "      <td>0.78</td>\n",
       "      <td>9.24</td>\n",
       "    </tr>\n",
       "    <tr>\n",
       "      <th>107</th>\n",
       "      <td>136887</td>\n",
       "      <td>2017-01-20 09:25:00+00:00</td>\n",
       "      <td>0.80</td>\n",
       "      <td>8.77</td>\n",
       "    </tr>\n",
       "    <tr>\n",
       "      <th>96</th>\n",
       "      <td>136823</td>\n",
       "      <td>2017-02-05 09:25:00+00:00</td>\n",
       "      <td>0.80</td>\n",
       "      <td>9.25</td>\n",
       "    </tr>\n",
       "  </tbody>\n",
       "</table>\n",
       "</div>"
      ],
      "text/plain": [
       "     flight_id       scheduled_departure  occupancy  payback\n",
       "68      136642 2017-01-30 09:25:00+00:00       0.66     7.72\n",
       "93      136807 2017-02-23 09:25:00+00:00       0.70     7.95\n",
       "111     136922 2017-02-11 09:25:00+00:00       0.78     9.24\n",
       "107     136887 2017-01-20 09:25:00+00:00       0.80     8.77\n",
       "96      136823 2017-02-05 09:25:00+00:00       0.80     9.25"
      ]
     },
     "execution_count": 49,
     "metadata": {},
     "output_type": "execute_result"
    }
   ],
   "source": [
    "df[(df.city_in == 'Belgorod')][['flight_id', 'scheduled_departure',\n",
    "                                'occupancy', 'payback']].sort_values(['occupancy']).head(5)"
   ]
  },
  {
   "cell_type": "code",
   "execution_count": 50,
   "id": "72163798",
   "metadata": {},
   "outputs": [],
   "source": [
    "df_sort_m = df[(df.city_in == 'Moscow')].sort_values(['scheduled_departure'])\n",
    "df_sort_b = df[(df.city_in == 'Belgorod')].sort_values(['scheduled_departure'])"
   ]
  },
  {
   "cell_type": "code",
   "execution_count": 51,
   "id": "a8a30858",
   "metadata": {},
   "outputs": [
    {
     "data": {
      "image/png": "[encoded data removed]",
      "text/plain": [
       "<Figure size 1440x360 with 1 Axes>"
      ]
     },
     "metadata": {
      "needs_background": "light"
     },
     "output_type": "display_data"
    }
   ],
   "source": [
    "money_intime(df_sort_m,df_sort_b)"
   ]
  },
  {
   "cell_type": "markdown",
   "id": "c6018c25",
   "metadata": {},
   "source": [
    "Окупаемость рейсов Анапа-Белгород выше, чем рейсов Анапа - Москва, но нельзя отказываться от большого количеств рейсов в столицу. Это может дать эффект только в краткосрочном периоде, поэтому следует попробовать сократить перелёты на обоих направлениях.  На основании отношения расходов на ГСМ к общему поступлению от продажи билетов и заполняемости салона можно предложить откзаться от пяти рейсов в Москву, которые совершаются 8,9,29 января, 5,8 февраля и двух рейсов в Белгород 30 января и 23 февраля. График доказывает наибольшее снижение общей прибыли в эти дни."
   ]
  },
  {
   "cell_type": "markdown",
   "id": "7272debc",
   "metadata": {},
   "source": [
    "#### Отказ от предложеных рейсов"
   ]
  },
  {
   "cell_type": "markdown",
   "id": "fae7a3bd",
   "metadata": {},
   "source": [
    "#### flight_id рейсов, предложенных для отказа, и их прибыль"
   ]
  },
  {
   "cell_type": "code",
   "execution_count": 52,
   "id": "574a05d8",
   "metadata": {},
   "outputs": [
    {
     "data": {
      "text/html": [
       "<div>\n",
       "<style scoped>\n",
       "    .dataframe tbody tr th:only-of-type {\n",
       "        vertical-align: middle;\n",
       "    }\n",
       "\n",
       "    .dataframe tbody tr th {\n",
       "        vertical-align: top;\n",
       "    }\n",
       "\n",
       "    .dataframe thead th {\n",
       "        text-align: right;\n",
       "    }\n",
       "</style>\n",
       "<table border=\"1\" class=\"dataframe\">\n",
       "  <thead>\n",
       "    <tr style=\"text-align: right;\">\n",
       "      <th></th>\n",
       "      <th>flight_id</th>\n",
       "      <th>profit</th>\n",
       "    </tr>\n",
       "  </thead>\n",
       "  <tbody>\n",
       "    <tr>\n",
       "      <th>2</th>\n",
       "      <td>136122</td>\n",
       "      <td>1251586.45</td>\n",
       "    </tr>\n",
       "    <tr>\n",
       "      <th>12</th>\n",
       "      <td>136178</td>\n",
       "      <td>1256843.85</td>\n",
       "    </tr>\n",
       "    <tr>\n",
       "      <th>21</th>\n",
       "      <td>136250</td>\n",
       "      <td>1234557.86</td>\n",
       "    </tr>\n",
       "    <tr>\n",
       "      <th>38</th>\n",
       "      <td>136360</td>\n",
       "      <td>1284135.51</td>\n",
       "    </tr>\n",
       "    <tr>\n",
       "      <th>54</th>\n",
       "      <td>136464</td>\n",
       "      <td>1218586.45</td>\n",
       "    </tr>\n",
       "    <tr>\n",
       "      <th>68</th>\n",
       "      <td>136642</td>\n",
       "      <td>470090.55</td>\n",
       "    </tr>\n",
       "    <tr>\n",
       "      <th>93</th>\n",
       "      <td>136807</td>\n",
       "      <td>471670.50</td>\n",
       "    </tr>\n",
       "  </tbody>\n",
       "</table>\n",
       "</div>"
      ],
      "text/plain": [
       "    flight_id      profit\n",
       "2      136122  1251586.45\n",
       "12     136178  1256843.85\n",
       "21     136250  1234557.86\n",
       "38     136360  1284135.51\n",
       "54     136464  1218586.45\n",
       "68     136642   470090.55\n",
       "93     136807   471670.50"
      ]
     },
     "execution_count": 52,
     "metadata": {},
     "output_type": "execute_result"
    }
   ],
   "source": [
    "df[['flight_id', 'profit']].loc[df.index.isin([2, 12, 21, 38, 54, 68, 93])]"
   ]
  },
  {
   "cell_type": "markdown",
   "id": "a3f8f082",
   "metadata": {},
   "source": [
    "#### Окупаемость зимних рейсов после рекомендуемых исключений"
   ]
  },
  {
   "cell_type": "code",
   "execution_count": 53,
   "id": "991bc231",
   "metadata": {},
   "outputs": [
    {
     "data": {
      "text/plain": [
       "'Средняя прибыль зимнего рейса = 1060369.38 руб.'"
      ]
     },
     "metadata": {},
     "output_type": "display_data"
    },
    {
     "data": {
      "text/plain": [
       "'Средняя заполняемость салона = 0.91'"
      ]
     },
     "metadata": {},
     "output_type": "display_data"
    },
    {
     "data": {
      "text/plain": [
       "'Прибыль всех рейсов = 117.7 млн.руб.'"
      ]
     },
     "metadata": {},
     "output_type": "display_data"
    },
    {
     "data": {
      "text/plain": [
       "'Окупаемость зимних рейсов по выборке = 9.1'"
      ]
     },
     "metadata": {},
     "output_type": "display_data"
    }
   ],
   "source": [
    "df2 = df.drop(df.index[[2, 12, 21, 38, 54, 68, 93]])\n",
    "display(f\"Средняя прибыль зимнего рейса = {round(df2.profit.mean(),2)} руб.\")\n",
    "display(f\"Средняя заполняемость салона = {round(df2.occupancy.mean(),2)}\")\n",
    "display(f\"Прибыль всех рейсов = {round(df2.profit.sum()/1000000,2)} млн.руб.\")\n",
    "display(f\"Окупаемость зимних рейсов по выборке = {round(df2.profit.sum()/df2.fuel_costs.sum(),2)}\")"
   ]
  },
  {
   "cell_type": "markdown",
   "id": "64237df7",
   "metadata": {},
   "source": [
    "После исключения увеличилась средняя прибыль зимнего рейса, средняя наполняемость и средняя условная окупаемость "
   ]
  },
  {
   "cell_type": "code",
   "execution_count": null,
   "id": "c83ec789",
   "metadata": {},
   "outputs": [],
   "source": []
  }
 ],
 "metadata": {
  "kernelspec": {
   "display_name": "Python 3",
   "language": "python",
   "name": "python3"
  },
  "language_info": {
   "codemirror_mode": {
    "name": "ipython",
    "version": 3
   },
   "file_extension": ".py",
   "mimetype": "text/x-python",
   "name": "python",
   "nbconvert_exporter": "python",
   "pygments_lexer": "ipython3",
   "version": "3.8.8"
  }
 },
 "nbformat": 4,
 "nbformat_minor": 5
}
